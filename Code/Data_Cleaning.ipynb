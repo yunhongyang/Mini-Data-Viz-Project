{
 "cells": [
  {
   "attachments": {},
   "cell_type": "markdown",
   "metadata": {},
   "source": [
    "## Load Data"
   ]
  },
  {
   "cell_type": "code",
   "execution_count": 1,
   "metadata": {},
   "outputs": [
    {
     "name": "stdout",
     "output_type": "stream",
     "text": [
      "Number of files read:  38\n",
      "Number of files read:  47\n",
      "                                        jobs_results  \\\n",
      "0  [{'title': 'Ethereum Blockchain Developer (Rem...   \n",
      "1  [{'title': 'Assistant Research Professor - Mac...   \n",
      "2  [{'title': 'Lead Software Engineer, Cloud and ...   \n",
      "3  [{'title': 'Data Analyst', 'company_name': 'Bo...   \n",
      "4  [{'title': 'Principal AI/Machine Learning Engi...   \n",
      "\n",
      "                                               chips  \\\n",
      "0  [{'type': 'Title', 'param': 'job_family_1', 'o...   \n",
      "1  [{'type': 'Title', 'param': 'job_family_1', 'o...   \n",
      "2  [{'type': 'Title', 'param': 'job_family_1', 'o...   \n",
      "3  [{'type': 'Title', 'param': 'job_family_1', 'o...   \n",
      "4  [{'type': 'Title', 'param': 'job_family_1', 'o...   \n",
      "\n",
      "         search_metadata.id search_metadata.status  \\\n",
      "0  643dbb4e437af26fd64ee0cd                Success   \n",
      "1  643dbb5cc504e9fed36c02d6                Success   \n",
      "2  643dbb202d5b128f8c14a6d4                Success   \n",
      "3  643dbb03ada54b610238d4a5                Success   \n",
      "4  643dbb261e803f001a6f5ada                Success   \n",
      "\n",
      "                       search_metadata.json_endpoint  \\\n",
      "0  https://serpapi.com/searches/bf72feb29111c1c5/...   \n",
      "1  https://serpapi.com/searches/1b2b6dcfe58569ef/...   \n",
      "2  https://serpapi.com/searches/c6a166137ef76a89/...   \n",
      "3  https://serpapi.com/searches/b3d17d8e7f628efc/...   \n",
      "4  https://serpapi.com/searches/db09513125909b5c/...   \n",
      "\n",
      "  search_metadata.created_at search_metadata.processed_at  \\\n",
      "0    2023-04-17 21:34:06 UTC      2023-04-17 21:34:06 UTC   \n",
      "1    2023-04-17 21:34:20 UTC      2023-04-17 21:34:20 UTC   \n",
      "2    2023-04-17 21:33:20 UTC      2023-04-17 21:33:20 UTC   \n",
      "3    2023-04-17 21:32:51 UTC      2023-04-17 21:32:51 UTC   \n",
      "4    2023-04-17 21:33:26 UTC      2023-04-17 21:33:26 UTC   \n",
      "\n",
      "                     search_metadata.google_jobs_url  \\\n",
      "0  https://www.google.com/search?q=block+chain&ib...   \n",
      "1  https://www.google.com/search?q=natural+langua...   \n",
      "2  https://www.google.com/search?q=big+data+and+c...   \n",
      "3  https://www.google.com/search?q=data+analyst&i...   \n",
      "4  https://www.google.com/search?q=machine+learni...   \n",
      "\n",
      "                       search_metadata.raw_html_file  \\\n",
      "0  https://serpapi.com/searches/bf72feb29111c1c5/...   \n",
      "1  https://serpapi.com/searches/1b2b6dcfe58569ef/...   \n",
      "2  https://serpapi.com/searches/c6a166137ef76a89/...   \n",
      "3  https://serpapi.com/searches/b3d17d8e7f628efc/...   \n",
      "4  https://serpapi.com/searches/db09513125909b5c/...   \n",
      "\n",
      "   search_metadata.total_time_taken           search_parameters.q  \\\n",
      "0                              2.33                   block chain   \n",
      "1                              2.20   natural language processing   \n",
      "2                              5.76  big data and cloud computing   \n",
      "3                              3.04                  data analyst   \n",
      "4                              1.34              machine learning   \n",
      "\n",
      "  search_parameters.engine        search_parameters.uule  \\\n",
      "0              google_jobs  w+CAIQICINV2FzaGluZ3RvbiBEQw   \n",
      "1              google_jobs  w+CAIQICINV2FzaGluZ3RvbiBEQw   \n",
      "2              google_jobs  w+CAIQICINV2FzaGluZ3RvbiBEQw   \n",
      "3              google_jobs  w+CAIQICINV2FzaGluZ3RvbiBEQw   \n",
      "4              google_jobs  w+CAIQICINV2FzaGluZ3RvbiBEQw   \n",
      "\n",
      "  search_parameters.google_domain search_parameters.hl search_parameters.gl  \\\n",
      "0                      google.com                   en                   us   \n",
      "1                      google.com                   en                   us   \n",
      "2                      google.com                   en                   us   \n",
      "3                      google.com                   en                   us   \n",
      "4                      google.com                   en                   us   \n",
      "\n",
      "   search_parameters.start error search_information.jobs_results_state  \n",
      "0                       10   NaN                                   NaN  \n",
      "1                       10   NaN                                   NaN  \n",
      "2                       30   NaN                                   NaN  \n",
      "3                        0   NaN                                   NaN  \n",
      "4                        0   NaN                                   NaN  \n",
      "                                        jobs_results  \\\n",
      "0  [{'title': 'Senior Blockchain Software Enginee...   \n",
      "1  [{'title': 'Sr. Data Scientist (NLP)', 'compan...   \n",
      "2  [{'title': 'Data Scientist - Natural Language ...   \n",
      "3  [{'title': 'Staff Machine Learning Software En...   \n",
      "4  [{'title': 'we need an expert to consult on th...   \n",
      "\n",
      "                                               chips  \\\n",
      "0  [{'type': 'Title', 'param': 'job_family_1', 'o...   \n",
      "1  [{'type': 'Title', 'param': 'job_family_1', 'o...   \n",
      "2  [{'type': 'Title', 'param': 'job_family_1', 'o...   \n",
      "3  [{'type': 'Title', 'param': 'job_family_1', 'o...   \n",
      "4  [{'type': 'Title', 'param': 'job_family_1', 'o...   \n",
      "\n",
      "         search_metadata.id search_metadata.status  \\\n",
      "0  643db9ec224db12213cd421b                Success   \n",
      "1  643db97e5fc493f4ef82a469                Success   \n",
      "2  643db9f96073930b48d5359a                Success   \n",
      "3  643db9ce58762b07c185c1b1                Success   \n",
      "4  643db99ab7b1cc54dd45c12f                Success   \n",
      "\n",
      "                       search_metadata.json_endpoint  \\\n",
      "0  https://serpapi.com/searches/a7e3d320a9075f00/...   \n",
      "1  https://serpapi.com/searches/a980517c7e93b15a/...   \n",
      "2  https://serpapi.com/searches/6806a6ad5db11221/...   \n",
      "3  https://serpapi.com/searches/4355f1f2ab30af9b/...   \n",
      "4  https://serpapi.com/searches/1260623261e4e9be/...   \n",
      "\n",
      "  search_metadata.created_at search_metadata.processed_at  \\\n",
      "0    2023-04-17 21:28:12 UTC      2023-04-17 21:28:12 UTC   \n",
      "1    2023-04-17 21:26:22 UTC      2023-04-17 21:26:22 UTC   \n",
      "2    2023-04-17 21:28:25 UTC      2023-04-17 21:28:25 UTC   \n",
      "3    2023-04-17 21:27:42 UTC      2023-04-17 21:27:42 UTC   \n",
      "4    2023-04-17 21:26:50 UTC      2023-04-17 21:26:50 UTC   \n",
      "\n",
      "                     search_metadata.google_jobs_url  \\\n",
      "0  https://www.google.com/search?q=block+chain&ib...   \n",
      "1  https://www.google.com/search?q=data+scientist...   \n",
      "2  https://www.google.com/search?q=natural+langua...   \n",
      "3  https://www.google.com/search?q=reinforcement+...   \n",
      "4  https://www.google.com/search?q=neural+network...   \n",
      "\n",
      "                       search_metadata.raw_html_file  \\\n",
      "0  https://serpapi.com/searches/a7e3d320a9075f00/...   \n",
      "1  https://serpapi.com/searches/a980517c7e93b15a/...   \n",
      "2  https://serpapi.com/searches/6806a6ad5db11221/...   \n",
      "3  https://serpapi.com/searches/4355f1f2ab30af9b/...   \n",
      "4  https://serpapi.com/searches/1260623261e4e9be/...   \n",
      "\n",
      "   search_metadata.total_time_taken          search_parameters.q  \\\n",
      "0                              4.09                  block chain   \n",
      "1                              1.84               data scientist   \n",
      "2                              2.50  natural language processing   \n",
      "3                              2.69       reinforcement learning   \n",
      "4                              0.69              neural networks   \n",
      "\n",
      "  search_parameters.engine        search_parameters.uule  \\\n",
      "0              google_jobs  w+CAIQICINVW5pdGVkIFN0YXRlcw   \n",
      "1              google_jobs  w+CAIQICINVW5pdGVkIFN0YXRlcw   \n",
      "2              google_jobs  w+CAIQICINVW5pdGVkIFN0YXRlcw   \n",
      "3              google_jobs  w+CAIQICINVW5pdGVkIFN0YXRlcw   \n",
      "4              google_jobs  w+CAIQICINVW5pdGVkIFN0YXRlcw   \n",
      "\n",
      "  search_parameters.google_domain search_parameters.hl search_parameters.gl  \\\n",
      "0                      google.com                   en                   us   \n",
      "1                      google.com                   en                   us   \n",
      "2                      google.com                   en                   us   \n",
      "3                      google.com                   en                   us   \n",
      "4                      google.com                   en                   us   \n",
      "\n",
      "   search_parameters.start error search_information.jobs_results_state  \n",
      "0                       10   NaN                                   NaN  \n",
      "1                       40   NaN                                   NaN  \n",
      "2                       10   NaN                                   NaN  \n",
      "3                       40   NaN                                   NaN  \n",
      "4                       40   NaN                                   NaN  \n"
     ]
    }
   ],
   "source": [
    "import os\n",
    "import json\n",
    "import pandas as pd\n",
    "\n",
    "# Set the path to the data directory\n",
    "json_dir_DC = '../2023-04-14-job-search/2023-04-14-job-search-location-DC'\n",
    "json_dir_USA = '../2023-04-14-job-search/2023-04-14-job-search-location-USA'\n",
    "\n",
    "# initialize empty list to store data\n",
    "data_DC = []\n",
    "data_USA = []\n",
    "\n",
    "# Loop through each json file in the directory\n",
    "for filename in os.listdir(json_dir_DC):\n",
    "    if filename.endswith(\".json\"): \n",
    "        with open(os.path.join(json_dir_DC, filename)) as json_file:\n",
    "            data_DC.append(json.load(json_file))\n",
    "\n",
    "for filename in os.listdir(json_dir_USA):\n",
    "    if filename.endswith(\".json\"): \n",
    "        with open(os.path.join(json_dir_USA, filename)) as json_file:\n",
    "            data_USA.append(json.load(json_file))\n",
    "\n",
    "# Print the number of files read\n",
    "print(\"Number of files read: \", len(data_DC))\n",
    "print(\"Number of files read: \", len(data_USA))\n",
    "\n",
    "df_DC = pd.json_normalize(data_DC)\n",
    "df_USA = pd.json_normalize(data_USA)\n",
    "\n",
    "# Print head of data frame\n",
    "print(df_DC.head())\n",
    "print(df_USA.head())"
   ]
  },
  {
   "attachments": {},
   "cell_type": "markdown",
   "metadata": {},
   "source": [
    "## See first example"
   ]
  },
  {
   "attachments": {},
   "cell_type": "markdown",
   "metadata": {},
   "source": [
    "### see first row of data_DC as an example\n"
   ]
  },
  {
   "cell_type": "code",
   "execution_count": 2,
   "metadata": {},
   "outputs": [
    {
     "name": "stdout",
     "output_type": "stream",
     "text": [
      "first row of data_DC as an example:\n",
      "jobs_results                             [{'title': 'Ethereum Blockchain Developer (Rem...\n",
      "chips                                    [{'type': 'Title', 'param': 'job_family_1', 'o...\n",
      "search_metadata.id                                                643dbb4e437af26fd64ee0cd\n",
      "search_metadata.status                                                             Success\n",
      "search_metadata.json_endpoint            https://serpapi.com/searches/bf72feb29111c1c5/...\n",
      "search_metadata.created_at                                         2023-04-17 21:34:06 UTC\n",
      "search_metadata.processed_at                                       2023-04-17 21:34:06 UTC\n",
      "search_metadata.google_jobs_url          https://www.google.com/search?q=block+chain&ib...\n",
      "search_metadata.raw_html_file            https://serpapi.com/searches/bf72feb29111c1c5/...\n",
      "search_metadata.total_time_taken                                                      2.33\n",
      "search_parameters.q                                                            block chain\n",
      "search_parameters.engine                                                       google_jobs\n",
      "search_parameters.uule                                        w+CAIQICINV2FzaGluZ3RvbiBEQw\n",
      "search_parameters.google_domain                                                 google.com\n",
      "search_parameters.hl                                                                    en\n",
      "search_parameters.gl                                                                    us\n",
      "search_parameters.start                                                                 10\n",
      "error                                                                                  NaN\n",
      "search_information.jobs_results_state                                                  NaN\n",
      "Name: 0, dtype: object\n"
     ]
    }
   ],
   "source": [
    "exapmle = df_DC.iloc[0]\n",
    "print(\"first row of data_DC as an example:\")\n",
    "print(exapmle)"
   ]
  },
  {
   "attachments": {},
   "cell_type": "markdown",
   "metadata": {},
   "source": [
    "### expand jobs_results column"
   ]
  },
  {
   "cell_type": "code",
   "execution_count": 3,
   "metadata": {},
   "outputs": [
    {
     "name": "stdout",
     "output_type": "stream",
     "text": [
      "expand jobs_results column:\n",
      "                                               title  \\\n",
      "0             Ethereum Blockchain Developer (Remote)   \n",
      "1                                Blockchain Engineer   \n",
      "2                       Blockchain Course Instructor   \n",
      "3  Python based - Blockchain developer to join ex...   \n",
      "4                Blockchain DevOps Engineer (Remote)   \n",
      "\n",
      "                         company_name            location               via  \\\n",
      "0                          Ex Populus           Anywhere       via Built In   \n",
      "1                               21.co     New York, NY       via Greenhouse   \n",
      "2  Blockchain Institute of Technology           Anywhere       via LinkedIn   \n",
      "3                              Upwork           Anywhere         via Upwork   \n",
      "4                              Telnyx    United States     via Startup Jobs   \n",
      "\n",
      "                                         description  \\\n",
      "0  Company Overview:\\nEx Populus is a cutting-edg...   \n",
      "1  We are seeking a highly motivated and skilled ...   \n",
      "2  Are you a blockchain, cryptocurrency, NFT, Met...   \n",
      "3  Need someone to join our existing team to spee...   \n",
      "4  About Telnyx\\n\\nAt Telnyx, we’re architecting ...   \n",
      "\n",
      "                                      job_highlights  \\\n",
      "0  [{'title': 'Qualifications', 'items': ['2-3 ye...   \n",
      "1  [{'title': 'Qualifications', 'items': ['Bachel...   \n",
      "2  [{'title': 'Qualifications', 'items': ['3+ yea...   \n",
      "3  [{'title': 'Qualifications', 'items': ['Candid...   \n",
      "4  [{'title': 'Qualifications', 'items': ['You ar...   \n",
      "\n",
      "                                       related_links  \\\n",
      "0  [{'link': 'https://www.google.com/search?hl=en...   \n",
      "1  [{'link': 'https://www.google.com/search?hl=en...   \n",
      "2  [{'link': 'https://www.google.com/search?hl=en...   \n",
      "3  [{'link': 'http://www.elance.com/', 'text': 'e...   \n",
      "4  [{'link': 'http://telnyx.com/', 'text': 'telny...   \n",
      "\n",
      "                                          extensions  \\\n",
      "0   [Work from home, Full-time, No degree mentioned]   \n",
      "1                                        [Full-time]   \n",
      "2  [24 hours ago, Work from home, Contractor, No ...   \n",
      "3  [2 days ago, 10–30 an hour, Work from home, Co...   \n",
      "4       [4 days ago, Full-time, No degree mentioned]   \n",
      "\n",
      "                                              job_id  \\\n",
      "0  eyJqb2JfdGl0bGUiOiJFdGhlcmV1bSBCbG9ja2NoYWluIE...   \n",
      "1  eyJqb2JfdGl0bGUiOiJCbG9ja2NoYWluIEVuZ2luZWVyIi...   \n",
      "2  eyJqb2JfdGl0bGUiOiJCbG9ja2NoYWluIENvdXJzZSBJbn...   \n",
      "3  eyJqb2JfdGl0bGUiOiJQeXRob24gYmFzZWQgLSBCbG9ja2...   \n",
      "4  eyJqb2JfdGl0bGUiOiJCbG9ja2NoYWluIERldk9wcyBFbm...   \n",
      "\n",
      "  detected_extensions.schedule_type detected_extensions.work_from_home  \\\n",
      "0                         Full-time                               True   \n",
      "1                         Full-time                                NaN   \n",
      "2                        Contractor                               True   \n",
      "3                        Contractor                               True   \n",
      "4                         Full-time                                NaN   \n",
      "\n",
      "  detected_extensions.posted_at detected_extensions.salary  \n",
      "0                           NaN                        NaN  \n",
      "1                           NaN                        NaN  \n",
      "2                  24 hours ago                        NaN  \n",
      "3                    2 days ago              10–30 an hour  \n",
      "4                    4 days ago                        NaN  \n"
     ]
    }
   ],
   "source": [
    "example_job = pd.json_normalize(exapmle['jobs_results'])\n",
    "print(\"expand jobs_results column:\")\n",
    "print(example_job.head())"
   ]
  },
  {
   "attachments": {},
   "cell_type": "markdown",
   "metadata": {},
   "source": [
    "#### details in jobs_results column"
   ]
  },
  {
   "cell_type": "code",
   "execution_count": 4,
   "metadata": {},
   "outputs": [
    {
     "data": {
      "text/plain": [
       "(title                                            Ethereum Blockchain Developer (Remote)\n",
       " company_name                                                                 Ex Populus\n",
       " location                                                                      Anywhere \n",
       " via                                                                        via Built In\n",
       " description                           Company Overview:\\nEx Populus is a cutting-edg...\n",
       " job_highlights                        [{'title': 'Qualifications', 'items': ['2-3 ye...\n",
       " related_links                         [{'link': 'https://www.google.com/search?hl=en...\n",
       " extensions                             [Work from home, Full-time, No degree mentioned]\n",
       " job_id                                eyJqb2JfdGl0bGUiOiJFdGhlcmV1bSBCbG9ja2NoYWluIE...\n",
       " detected_extensions.schedule_type                                             Full-time\n",
       " detected_extensions.work_from_home                                                 True\n",
       " detected_extensions.posted_at                                                       NaN\n",
       " detected_extensions.salary                                                          NaN\n",
       " Name: 0, dtype: object,\n",
       " [{'title': 'Qualifications',\n",
       "   'items': ['2-3 years of Software Development experience',\n",
       "    '1+ years of Solidity experience',\n",
       "    'Experience designing and developing for large, horizontally scalable, high-transaction volume systems',\n",
       "    'Excellent problem solving and intuitive debugging skills',\n",
       "    'Knowledge of ethers.js',\n",
       "    'Hard Hat experience (Optional)']},\n",
       "  {'title': 'Responsibilities',\n",
       "   'items': ['Design, maintain and deploy smart contracts for video games and the Ex Populus game marketplace',\n",
       "    'Focus on security and best practices for contract development',\n",
       "    'Configure and deploy nodes in a network',\n",
       "    'Maintain stored and processed data on the blockchain Develop higher-level APIs on top of blockchain primitives',\n",
       "    'Manage implications of data on the blockchain and associate costs due to complications Staying current with the latest blockchain developments']}],\n",
       " ['Work from home', 'Full-time', 'No degree mentioned'])"
      ]
     },
     "execution_count": 4,
     "metadata": {},
     "output_type": "execute_result"
    }
   ],
   "source": [
    "example_job.iloc[0], example_job.iloc[0]['job_highlights'], example_job.iloc[0]['extensions']"
   ]
  },
  {
   "attachments": {},
   "cell_type": "markdown",
   "metadata": {},
   "source": [
    "### expand chips column"
   ]
  },
  {
   "cell_type": "code",
   "execution_count": 5,
   "metadata": {},
   "outputs": [
    {
     "name": "stdout",
     "output_type": "stream",
     "text": [
      "expand chips column:\n",
      "           type             param  \\\n",
      "0         Title      job_family_1   \n",
      "1      Location              city   \n",
      "2   Date posted       date_posted   \n",
      "3  Requirements      requirements   \n",
      "4          Type   employment_type   \n",
      "5  Company type       industry.id   \n",
      "6      Employer  organization_mid   \n",
      "\n",
      "                                             options  \n",
      "0  [{'text': 'All'}, {'text': 'Senior', 'value': ...  \n",
      "1  [{'text': 'All'}, {'text': 'New York, NY', 'va...  \n",
      "2  [{'text': 'All'}, {'text': 'Past day', 'value'...  \n",
      "3  [{'text': 'All'}, {'text': 'No degree', 'value...  \n",
      "4  [{'text': 'All'}, {'text': 'Full-time', 'value...  \n",
      "5  [{'text': 'All'}, {'text': 'Consulting', 'valu...  \n",
      "6  [{'text': 'All'}, {'text': 'Deloitte', 'value'...  \n"
     ]
    }
   ],
   "source": [
    "print(\"expand chips column:\")\n",
    "example_chips = pd.json_normalize(exapmle['chips'])\n",
    "print(example_chips)"
   ]
  },
  {
   "attachments": {},
   "cell_type": "markdown",
   "metadata": {},
   "source": [
    "#### details in chips column"
   ]
  },
  {
   "cell_type": "code",
   "execution_count": 6,
   "metadata": {},
   "outputs": [
    {
     "data": {
      "text/plain": [
       "(type                                                   Title\n",
       " param                                           job_family_1\n",
       " options    [{'text': 'All'}, {'text': 'Senior', 'value': ...\n",
       " Name: 0, dtype: object,\n",
       " [{'text': 'All'},\n",
       "  {'text': 'Senior', 'value': 'senior'},\n",
       "  {'text': 'Engineer', 'value': 'engineer'},\n",
       "  {'text': 'Manager', 'value': 'manager'},\n",
       "  {'text': 'Senior manager', 'value': 'senior manager'},\n",
       "  {'text': 'Tax senior', 'value': 'tax senior'},\n",
       "  {'text': 'Tax manager', 'value': 'tax manager'},\n",
       "  {'text': 'Software engineer', 'value': 'software engineer'},\n",
       "  {'text': 'Analyst', 'value': 'analyst'},\n",
       "  {'text': 'Architect', 'value': 'architect'},\n",
       "  {'text': 'Tax consultant', 'value': 'tax consultant'},\n",
       "  {'text': 'Consultant', 'value': 'consultant'},\n",
       "  {'text': 'Infrastructure engineer', 'value': 'infrastructure engineer'},\n",
       "  {'text': 'Product manager', 'value': 'product manager'},\n",
       "  {'text': 'Security engineer', 'value': 'security engineer'},\n",
       "  {'text': 'Specialist', 'value': 'specialist'},\n",
       "  {'text': 'Systems engineer', 'value': 'systems engineer'},\n",
       "  {'text': 'Writer', 'value': 'writer'},\n",
       "  {'text': 'Advisor', 'value': 'advisor'},\n",
       "  {'text': 'Attorney', 'value': 'attorney'},\n",
       "  {'text': 'Audit', 'value': 'audit'},\n",
       "  {'text': 'Builder', 'value': 'builder'},\n",
       "  {'text': 'Business', 'value': 'business'},\n",
       "  {'text': 'Community manager', 'value': 'community manager'},\n",
       "  {'text': 'Counsel', 'value': 'counsel'},\n",
       "  {'text': 'Data engineer', 'value': 'data engineer'},\n",
       "  {'text': 'Development engineer', 'value': 'development engineer'},\n",
       "  {'text': 'Development manager', 'value': 'development manager'},\n",
       "  {'text': 'Devops engineer', 'value': 'devops engineer'},\n",
       "  {'text': 'Engineering manager', 'value': 'engineering manager'},\n",
       "  {'text': 'Financial officer', 'value': 'financial officer'},\n",
       "  {'text': 'Instructor', 'value': 'instructor'},\n",
       "  {'text': 'Investigator', 'value': 'investigator'},\n",
       "  {'text': 'Investment manager', 'value': 'investment manager'},\n",
       "  {'text': 'Marketing specialist', 'value': 'marketing specialist'},\n",
       "  {'text': 'Media marketing', 'value': 'media marketing'},\n",
       "  {'text': 'Operations', 'value': 'operations'},\n",
       "  {'text': 'Ops engineer', 'value': 'ops engineer'},\n",
       "  {'text': 'Platform engineer', 'value': 'platform engineer'},\n",
       "  {'text': 'Relations manager', 'value': 'relations manager'},\n",
       "  {'text': 'Research analyst', 'value': 'research analyst'},\n",
       "  {'text': 'Research engineer', 'value': 'research engineer'},\n",
       "  {'text': 'Researcher', 'value': 'researcher'},\n",
       "  {'text': 'Senior principal', 'value': 'senior principal'},\n",
       "  {'text': 'Technical architect', 'value': 'technical architect'},\n",
       "  {'text': 'Technical officer', 'value': 'technical officer'},\n",
       "  {'text': 'Technology instructor', 'value': 'technology instructor'},\n",
       "  {'text': 'Tutor', 'value': 'tutor'},\n",
       "  {'text': 'Ux/ui designer', 'value': 'ux/ui designer'}])"
      ]
     },
     "execution_count": 6,
     "metadata": {},
     "output_type": "execute_result"
    }
   ],
   "source": [
    "example_chips.iloc[0], example_chips.iloc[0]['options']"
   ]
  },
  {
   "attachments": {},
   "cell_type": "markdown",
   "metadata": {},
   "source": [
    "## Brief Overview of Data(DC)"
   ]
  },
  {
   "cell_type": "code",
   "execution_count": 7,
   "metadata": {},
   "outputs": [
    {
     "name": "stdout",
     "output_type": "stream",
     "text": [
      "search_parameters.q:\n",
      "block chain                     4\n",
      "natural language processing     4\n",
      "big data and cloud computing    4\n",
      "data analyst                    4\n",
      "machine learning                4\n",
      "reinforcement learning          4\n",
      "neural networks                 4\n",
      "deep learning                   4\n",
      "data scientist                  4\n",
      "time series                     2\n",
      "Name: search_parameters.q, dtype: int64\n",
      "search_metadata.status:\n",
      "Success    38\n",
      "Name: search_metadata.status, dtype: int64\n",
      "search_parameters.engine:\n",
      "google_jobs    38\n",
      "Name: search_parameters.engine, dtype: int64\n",
      "search_parameters.hl:\n",
      "en    38\n",
      "Name: search_parameters.hl, dtype: int64\n",
      "search_parameters.gl:\n",
      "us    38\n",
      "Name: search_parameters.gl, dtype: int64\n",
      "search_parameters.start:\n",
      "10    10\n",
      "0     10\n",
      "30     9\n",
      "20     9\n",
      "Name: search_parameters.start, dtype: int64\n",
      "error:\n",
      "Google hasn't returned any results for this query.    1\n",
      "Name: error, dtype: int64\n",
      "search_information.jobs_results_state:\n",
      "Fully empty    1\n",
      "Name: search_information.jobs_results_state, dtype: int64\n"
     ]
    }
   ],
   "source": [
    "# count search_parameters.q, search_metadata.status, search_parameters.engine, search_parameters.hl, search_parameters.gl, search_parameters.start, error, search_information.jobs_results_state\n",
    "print(\"search_parameters.q:\")\n",
    "print(df_DC['search_parameters.q'].value_counts())\n",
    "print(\"search_metadata.status:\")\n",
    "print(df_DC['search_metadata.status'].value_counts())\n",
    "print(\"search_parameters.engine:\")\n",
    "print(df_DC['search_parameters.engine'].value_counts())\n",
    "print(\"search_parameters.hl:\")\n",
    "print(df_DC['search_parameters.hl'].value_counts())\n",
    "print(\"search_parameters.gl:\")\n",
    "print(df_DC['search_parameters.gl'].value_counts())\n",
    "print(\"search_parameters.start:\")\n",
    "print(df_DC['search_parameters.start'].value_counts())\n",
    "print(\"error:\")\n",
    "print(df_DC['error'].value_counts())\n",
    "print(\"search_information.jobs_results_state:\")\n",
    "print(df_DC['search_information.jobs_results_state'].value_counts())"
   ]
  },
  {
   "attachments": {},
   "cell_type": "markdown",
   "metadata": {},
   "source": [
    "## Clean Data(DC)"
   ]
  },
  {
   "cell_type": "code",
   "execution_count": 8,
   "metadata": {},
   "outputs": [],
   "source": [
    "# Remove the nan values from the data frame\n",
    "df_DC = df_DC.dropna(subset=['jobs_results'])"
   ]
  },
  {
   "cell_type": "code",
   "execution_count": 9,
   "metadata": {},
   "outputs": [
    {
     "name": "stdout",
     "output_type": "stream",
     "text": [
      "                                        jobs_results  \\\n",
      "0  [{'title': 'Ethereum Blockchain Developer (Rem...   \n",
      "1  [{'title': 'Assistant Research Professor - Mac...   \n",
      "2  [{'title': 'Lead Software Engineer, Cloud and ...   \n",
      "3  [{'title': 'Data Analyst', 'company_name': 'Bo...   \n",
      "4  [{'title': 'Principal AI/Machine Learning Engi...   \n",
      "\n",
      "            search_parameters.q  \n",
      "0                   block chain  \n",
      "1   natural language processing  \n",
      "2  big data and cloud computing  \n",
      "3                  data analyst  \n",
      "4              machine learning  \n"
     ]
    }
   ],
   "source": [
    "# Select the columns we want to keep\n",
    "final_DC = df_DC[[\"jobs_results\", \"search_parameters.q\"]]\n",
    "\n",
    "# Print the head of the final data frame\n",
    "print(final_DC.head())"
   ]
  },
  {
   "cell_type": "code",
   "execution_count": 10,
   "metadata": {},
   "outputs": [
    {
     "name": "stdout",
     "output_type": "stream",
     "text": [
      "                                               title  \\\n",
      "0             Ethereum Blockchain Developer (Remote)   \n",
      "1                                Blockchain Engineer   \n",
      "2                       Blockchain Course Instructor   \n",
      "3  Python based - Blockchain developer to join ex...   \n",
      "4                Blockchain DevOps Engineer (Remote)   \n",
      "\n",
      "                         company_name            location               via  \\\n",
      "0                          Ex Populus           Anywhere       via Built In   \n",
      "1                               21.co     New York, NY       via Greenhouse   \n",
      "2  Blockchain Institute of Technology           Anywhere       via LinkedIn   \n",
      "3                              Upwork           Anywhere         via Upwork   \n",
      "4                              Telnyx    United States     via Startup Jobs   \n",
      "\n",
      "                                         description  \\\n",
      "0  Company Overview:\\nEx Populus is a cutting-edg...   \n",
      "1  We are seeking a highly motivated and skilled ...   \n",
      "2  Are you a blockchain, cryptocurrency, NFT, Met...   \n",
      "3  Need someone to join our existing team to spee...   \n",
      "4  About Telnyx\\n\\nAt Telnyx, we’re architecting ...   \n",
      "\n",
      "                                      job_highlights  \\\n",
      "0  [{'title': 'Qualifications', 'items': ['2-3 ye...   \n",
      "1  [{'title': 'Qualifications', 'items': ['Bachel...   \n",
      "2  [{'title': 'Qualifications', 'items': ['3+ yea...   \n",
      "3  [{'title': 'Qualifications', 'items': ['Candid...   \n",
      "4  [{'title': 'Qualifications', 'items': ['You ar...   \n",
      "\n",
      "                                       related_links  \\\n",
      "0  [{'link': 'https://www.google.com/search?hl=en...   \n",
      "1  [{'link': 'https://www.google.com/search?hl=en...   \n",
      "2  [{'link': 'https://www.google.com/search?hl=en...   \n",
      "3  [{'link': 'http://www.elance.com/', 'text': 'e...   \n",
      "4  [{'link': 'http://telnyx.com/', 'text': 'telny...   \n",
      "\n",
      "                                          extensions  \\\n",
      "0   [Work from home, Full-time, No degree mentioned]   \n",
      "1                                        [Full-time]   \n",
      "2  [24 hours ago, Work from home, Contractor, No ...   \n",
      "3  [2 days ago, 10–30 an hour, Work from home, Co...   \n",
      "4       [4 days ago, Full-time, No degree mentioned]   \n",
      "\n",
      "                                              job_id  \\\n",
      "0  eyJqb2JfdGl0bGUiOiJFdGhlcmV1bSBCbG9ja2NoYWluIE...   \n",
      "1  eyJqb2JfdGl0bGUiOiJCbG9ja2NoYWluIEVuZ2luZWVyIi...   \n",
      "2  eyJqb2JfdGl0bGUiOiJCbG9ja2NoYWluIENvdXJzZSBJbn...   \n",
      "3  eyJqb2JfdGl0bGUiOiJQeXRob24gYmFzZWQgLSBCbG9ja2...   \n",
      "4  eyJqb2JfdGl0bGUiOiJCbG9ja2NoYWluIERldk9wcyBFbm...   \n",
      "\n",
      "  detected_extensions.schedule_type detected_extensions.work_from_home  \\\n",
      "0                         Full-time                               True   \n",
      "1                         Full-time                                NaN   \n",
      "2                        Contractor                               True   \n",
      "3                        Contractor                               True   \n",
      "4                         Full-time                                NaN   \n",
      "\n",
      "  detected_extensions.posted_at detected_extensions.salary  \\\n",
      "0                           NaN                        NaN   \n",
      "1                           NaN                        NaN   \n",
      "2                  24 hours ago                        NaN   \n",
      "3                    2 days ago              10–30 an hour   \n",
      "4                    4 days ago                        NaN   \n",
      "\n",
      "  search_parameters.q detected_extensions.commute_time  \\\n",
      "0         block chain                              NaN   \n",
      "1         block chain                              NaN   \n",
      "2         block chain                              NaN   \n",
      "3         block chain                              NaN   \n",
      "4         block chain                              NaN   \n",
      "\n",
      "                                      Qualifications  \\\n",
      "0  [2-3 years of Software Development experience,...   \n",
      "1  [Bachelor's or Master's degree in Computer Sci...   \n",
      "2  [3+ years of experience in blockchain, cryptoc...   \n",
      "3  [Candidates must be willing to sign, non-discl...   \n",
      "4  [You are a highly motivated and experienced Bl...   \n",
      "\n",
      "                                    Responsibilities  \\\n",
      "0  [Design, maintain and deploy smart contracts f...   \n",
      "1  [As a Blockchain Engineer, you will be respons...   \n",
      "2  [Our expert technical team will provide the su...   \n",
      "3  [Will discuss details with the selected candid...   \n",
      "4  [To build a best-in-class Filecoin (FIL) Minin...   \n",
      "\n",
      "                                            Benefits  \n",
      "0                                                NaN  \n",
      "1  [(NYC only) Pursuant to Section 8-102 of title...  \n",
      "2                                                NaN  \n",
      "3                                                NaN  \n",
      "4                                                NaN  \n"
     ]
    }
   ],
   "source": [
    "# Creat an empty data frame\n",
    "combined_data_DC = pd.DataFrame()\n",
    "\n",
    "# expand the jobs_results column\n",
    "for i in range(len(final_DC)):\n",
    "    df_temp = pd.json_normalize(final_DC.iloc[i]['jobs_results'])\n",
    "    df_temp['search_parameters.q'] = final_DC.iloc[i]['search_parameters.q']\n",
    "    combined_data_DC = pd.concat([combined_data_DC, df_temp], ignore_index=True)\n",
    "\n",
    "# expand job_highlights column\n",
    "job_highlights = combined_data_DC['job_highlights'].apply(pd.Series)\n",
    "# rename columns: Qualifications, Responsibilities, Benefits\n",
    "job_highlights.columns = ['Qualifications', 'Responsibilities', 'Benefits']\n",
    "# select items in each row\n",
    "for i in range(0, len(job_highlights)):\n",
    "    try:\n",
    "        job_highlights['Qualifications'].values[i] = job_highlights['Qualifications'].values[i]['items']\n",
    "        job_highlights['Responsibilities'].values[i] = job_highlights['Responsibilities'].values[i]['items']\n",
    "        job_highlights['Benefits'].values[i] = job_highlights['Benefits'].values[i]['items']\n",
    "    except:\n",
    "        pass\n",
    "\n",
    "# combine the expanded columns with the original data frame\n",
    "combined_data_DC = pd.concat([combined_data_DC, job_highlights], axis=1)\n",
    "\n",
    "# Print the head of the final data frame\n",
    "print(combined_data_DC.head())"
   ]
  },
  {
   "cell_type": "code",
   "execution_count": 11,
   "metadata": {},
   "outputs": [],
   "source": [
    "# Remove Columns in combined_data_DC\n",
    "combined_data_DC = combined_data_DC.drop(columns=[\"job_highlights\", \"related_links\", \"extensions\"])"
   ]
  },
  {
   "cell_type": "code",
   "execution_count": 12,
   "metadata": {},
   "outputs": [
    {
     "name": "stdout",
     "output_type": "stream",
     "text": [
      "                                               title  \\\n",
      "0             Ethereum Blockchain Developer (Remote)   \n",
      "1                                Blockchain Engineer   \n",
      "2                       Blockchain Course Instructor   \n",
      "3  Python based - Blockchain developer to join ex...   \n",
      "4                Blockchain DevOps Engineer (Remote)   \n",
      "\n",
      "                         company_name            location               via  \\\n",
      "0                          Ex Populus           Anywhere       via Built In   \n",
      "1                               21.co     New York, NY       via Greenhouse   \n",
      "2  Blockchain Institute of Technology           Anywhere       via LinkedIn   \n",
      "3                              Upwork           Anywhere         via Upwork   \n",
      "4                              Telnyx    United States     via Startup Jobs   \n",
      "\n",
      "                                         description  \\\n",
      "0  Company Overview:\\nEx Populus is a cutting-edg...   \n",
      "1  We are seeking a highly motivated and skilled ...   \n",
      "2  Are you a blockchain, cryptocurrency, NFT, Met...   \n",
      "3  Need someone to join our existing team to spee...   \n",
      "4  About Telnyx\\n\\nAt Telnyx, we’re architecting ...   \n",
      "\n",
      "                                              job_id  \\\n",
      "0  eyJqb2JfdGl0bGUiOiJFdGhlcmV1bSBCbG9ja2NoYWluIE...   \n",
      "1  eyJqb2JfdGl0bGUiOiJCbG9ja2NoYWluIEVuZ2luZWVyIi...   \n",
      "2  eyJqb2JfdGl0bGUiOiJCbG9ja2NoYWluIENvdXJzZSBJbn...   \n",
      "3  eyJqb2JfdGl0bGUiOiJQeXRob24gYmFzZWQgLSBCbG9ja2...   \n",
      "4  eyJqb2JfdGl0bGUiOiJCbG9ja2NoYWluIERldk9wcyBFbm...   \n",
      "\n",
      "  detected_extensions.schedule_type detected_extensions.work_from_home  \\\n",
      "0                         Full-time                               True   \n",
      "1                         Full-time                                NaN   \n",
      "2                        Contractor                               True   \n",
      "3                        Contractor                               True   \n",
      "4                         Full-time                                NaN   \n",
      "\n",
      "  detected_extensions.posted_at detected_extensions.salary  \\\n",
      "0                           NaN                        NaN   \n",
      "1                           NaN                        NaN   \n",
      "2                  24 hours ago                        NaN   \n",
      "3                    2 days ago              10–30 an hour   \n",
      "4                    4 days ago                        NaN   \n",
      "\n",
      "  search_parameters.q detected_extensions.commute_time  \\\n",
      "0         block chain                              NaN   \n",
      "1         block chain                              NaN   \n",
      "2         block chain                              NaN   \n",
      "3         block chain                              NaN   \n",
      "4         block chain                              NaN   \n",
      "\n",
      "                                      Qualifications  \\\n",
      "0  2-3 years of Software Development experience,1...   \n",
      "1  Bachelor's or Master's degree in Computer Scie...   \n",
      "2  3+ years of experience in blockchain, cryptocu...   \n",
      "3  Candidates must be willing to sign, non-disclo...   \n",
      "4  You are a highly motivated and experienced Blo...   \n",
      "\n",
      "                                    Responsibilities  \\\n",
      "0  Design, maintain and deploy smart contracts fo...   \n",
      "1  As a Blockchain Engineer, you will be responsi...   \n",
      "2  Our expert technical team will provide the sup...   \n",
      "3  Will discuss details with the selected candidates   \n",
      "4  To build a best-in-class Filecoin (FIL) Mining...   \n",
      "\n",
      "                                            Benefits  \n",
      "0                                                     \n",
      "1  (NYC only) Pursuant to Section 8-102 of title ...  \n",
      "2                                                     \n",
      "3                                                     \n",
      "4                                                     \n"
     ]
    }
   ],
   "source": [
    "# change list to string in Qualifications, Responsibilities, Benefits\n",
    "for i in range(0, len(combined_data_DC)):\n",
    "    combined_data_DC['Qualifications'].values[i] = ','.join(combined_data_DC['Qualifications'].values[i])\n",
    "    try:\n",
    "        combined_data_DC['Responsibilities'].values[i] = ','.join(map(str, combined_data_DC['Responsibilities'].values[i]))\n",
    "    except:\n",
    "        combined_data_DC['Responsibilities'].values[i] = ''\n",
    "    try:\n",
    "        combined_data_DC['Benefits'].values[i] = ','.join(combined_data_DC['Benefits'].values[i])\n",
    "    except:\n",
    "        combined_data_DC['Benefits'].values[i] = ''\n",
    "\n",
    "# Print the head of the final data frame\n",
    "print(combined_data_DC.head())"
   ]
  },
  {
   "cell_type": "code",
   "execution_count": 13,
   "metadata": {},
   "outputs": [
    {
     "name": "stdout",
     "output_type": "stream",
     "text": [
      "False    366\n",
      "Name: job_id, dtype: int64\n"
     ]
    }
   ],
   "source": [
    "# check duplicates in job_id\n",
    "print(combined_data_DC['job_id'].duplicated().value_counts())"
   ]
  },
  {
   "cell_type": "code",
   "execution_count": 14,
   "metadata": {},
   "outputs": [
    {
     "name": "stdout",
     "output_type": "stream",
     "text": [
      "title                                   0\n",
      "company_name                            0\n",
      "location                                0\n",
      "via                                     0\n",
      "description                             0\n",
      "job_id                                  0\n",
      "detected_extensions.schedule_type       0\n",
      "detected_extensions.work_from_home    297\n",
      "detected_extensions.posted_at         145\n",
      "detected_extensions.salary            312\n",
      "search_parameters.q                     0\n",
      "detected_extensions.commute_time      365\n",
      "Qualifications                          0\n",
      "Responsibilities                        0\n",
      "Benefits                                0\n",
      "dtype: int64\n"
     ]
    }
   ],
   "source": [
    "# check nan values in all columns\n",
    "print(combined_data_DC.isnull().sum())"
   ]
  },
  {
   "cell_type": "code",
   "execution_count": 15,
   "metadata": {},
   "outputs": [],
   "source": [
    "# drop detexted_extensions.commute_time\n",
    "combined_data_DC = combined_data_DC.drop(columns=[\"detected_extensions.commute_time\"])"
   ]
  },
  {
   "cell_type": "code",
   "execution_count": 29,
   "metadata": {},
   "outputs": [],
   "source": [
    "# export the data frame to csv file\n",
    "#combined_data_DC.to_csv('combined_data_DC.csv', index=False)"
   ]
  },
  {
   "attachments": {},
   "cell_type": "markdown",
   "metadata": {},
   "source": [
    "## Brief Overview of Data(USA)"
   ]
  },
  {
   "cell_type": "code",
   "execution_count": 17,
   "metadata": {},
   "outputs": [
    {
     "name": "stdout",
     "output_type": "stream",
     "text": [
      "search_parameters.q:\n",
      "block chain                     5\n",
      "data scientist                  5\n",
      "natural language processing     5\n",
      "reinforcement learning          5\n",
      "neural networks                 5\n",
      "big data and cloud computing    5\n",
      "data analyst                    5\n",
      "machine learning                5\n",
      "deep learning                   5\n",
      "time series analysis            2\n",
      "Name: search_parameters.q, dtype: int64\n",
      "search_metadata.status:\n",
      "Success    47\n",
      "Name: search_metadata.status, dtype: int64\n",
      "search_parameters.engine:\n",
      "google_jobs    47\n",
      "Name: search_parameters.engine, dtype: int64\n",
      "search_parameters.hl:\n",
      "en    47\n",
      "Name: search_parameters.hl, dtype: int64\n",
      "search_parameters.gl:\n",
      "us    47\n",
      "Name: search_parameters.gl, dtype: int64\n",
      "search_parameters.start:\n",
      "10    10\n",
      "0     10\n",
      "40     9\n",
      "30     9\n",
      "20     9\n",
      "Name: search_parameters.start, dtype: int64\n",
      "error:\n",
      "Google hasn't returned any results for this query.    1\n",
      "Name: error, dtype: int64\n",
      "search_information.jobs_results_state:\n",
      "Fully empty    1\n",
      "Name: search_information.jobs_results_state, dtype: int64\n"
     ]
    }
   ],
   "source": [
    "# count search_parameters.q, search_metadata.status, search_parameters.engine, search_parameters.hl, search_parameters.gl, search_parameters.start, error, search_information.jobs_results_state\n",
    "print(\"search_parameters.q:\")\n",
    "print(df_USA['search_parameters.q'].value_counts())\n",
    "print(\"search_metadata.status:\")\n",
    "print(df_USA['search_metadata.status'].value_counts())\n",
    "print(\"search_parameters.engine:\")\n",
    "print(df_USA['search_parameters.engine'].value_counts())\n",
    "print(\"search_parameters.hl:\")\n",
    "print(df_USA['search_parameters.hl'].value_counts())\n",
    "print(\"search_parameters.gl:\")\n",
    "print(df_USA['search_parameters.gl'].value_counts())\n",
    "print(\"search_parameters.start:\")\n",
    "print(df_USA['search_parameters.start'].value_counts())\n",
    "print(\"error:\")\n",
    "print(df_USA['error'].value_counts())\n",
    "print(\"search_information.jobs_results_state:\")\n",
    "print(df_USA['search_information.jobs_results_state'].value_counts())"
   ]
  },
  {
   "attachments": {},
   "cell_type": "markdown",
   "metadata": {},
   "source": [
    "## Clean Data(USA)"
   ]
  },
  {
   "cell_type": "code",
   "execution_count": 18,
   "metadata": {},
   "outputs": [
    {
     "name": "stdout",
     "output_type": "stream",
     "text": [
      "jobs_results                              1\n",
      "chips                                     1\n",
      "search_metadata.id                        0\n",
      "search_metadata.status                    0\n",
      "search_metadata.json_endpoint             0\n",
      "search_metadata.created_at                0\n",
      "search_metadata.processed_at              0\n",
      "search_metadata.google_jobs_url           0\n",
      "search_metadata.raw_html_file             0\n",
      "search_metadata.total_time_taken          0\n",
      "search_parameters.q                       0\n",
      "search_parameters.engine                  0\n",
      "search_parameters.uule                    0\n",
      "search_parameters.google_domain           0\n",
      "search_parameters.hl                      0\n",
      "search_parameters.gl                      0\n",
      "search_parameters.start                   0\n",
      "error                                    46\n",
      "search_information.jobs_results_state    46\n",
      "dtype: int64\n"
     ]
    }
   ],
   "source": [
    "# check nan values in all columns\n",
    "print(df_USA.isnull().sum())"
   ]
  },
  {
   "cell_type": "code",
   "execution_count": 19,
   "metadata": {},
   "outputs": [],
   "source": [
    "# remove the nan values from the data frame\n",
    "df_USA = df_USA.dropna(subset=['jobs_results'])"
   ]
  },
  {
   "cell_type": "code",
   "execution_count": 20,
   "metadata": {},
   "outputs": [
    {
     "name": "stdout",
     "output_type": "stream",
     "text": [
      "                                        jobs_results  \\\n",
      "0  [{'title': 'Senior Blockchain Software Enginee...   \n",
      "1  [{'title': 'Sr. Data Scientist (NLP)', 'compan...   \n",
      "2  [{'title': 'Data Scientist - Natural Language ...   \n",
      "3  [{'title': 'Staff Machine Learning Software En...   \n",
      "4  [{'title': 'we need an expert to consult on th...   \n",
      "\n",
      "           search_parameters.q  \n",
      "0                  block chain  \n",
      "1               data scientist  \n",
      "2  natural language processing  \n",
      "3       reinforcement learning  \n",
      "4              neural networks  \n"
     ]
    }
   ],
   "source": [
    "# select the columns we want to keep\n",
    "final_USA = df_USA[[\"jobs_results\", \"search_parameters.q\"]]\n",
    "\n",
    "# Print the head of the final data frame\n",
    "print(final_USA.head())"
   ]
  },
  {
   "cell_type": "code",
   "execution_count": 21,
   "metadata": {},
   "outputs": [
    {
     "name": "stdout",
     "output_type": "stream",
     "text": [
      "                                               title company_name  \\\n",
      "0                Senior Blockchain Software Engineer       Truist   \n",
      "1  Get twitter accounts that are tied to blockcha...       Upwork   \n",
      "2                                 Blockchain Analyst       Allium   \n",
      "3                     Full Stack Blockchain Engineer       geojam   \n",
      "4  Blockchain Engineer - Apps Platform at Exodus ...       Exodus   \n",
      "\n",
      "               location                        via  \\\n",
      "0             Anywhere            via ZipRecruiter   \n",
      "1             Anywhere                  via Upwork   \n",
      "2       New York, NY                      via Jobs   \n",
      "3    Los Angeles, CA                 via AngelList   \n",
      "4      Livermore, CA     via Livermore, CA - Geebo   \n",
      "\n",
      "                                         description  \\\n",
      "0  The position is described below. If you want t...   \n",
      "1  I am looking for a list of blockchain addresse...   \n",
      "2  About the role\\n• Sherlock & Enola Holmes leve...   \n",
      "3  Who We Are\\n\\nLaunched in 2020, Geojam is a so...   \n",
      "4  Exodus is looking for a detail-orientated Bloc...   \n",
      "\n",
      "                                      job_highlights  \\\n",
      "0  [{'title': 'Qualifications', 'items': ['Langua...   \n",
      "1  [{'items': ['I am looking for a list of blockc...   \n",
      "2  [{'title': 'Qualifications', 'items': ['Abilit...   \n",
      "3  [{'title': 'Qualifications', 'items': ['We’re ...   \n",
      "4  [{'items': ['Exodus is looking for a detail-or...   \n",
      "\n",
      "                                       related_links  \\\n",
      "0  [{'link': 'http://www.truist.com/', 'text': 't...   \n",
      "1  [{'link': 'http://www.elance.com/', 'text': 'e...   \n",
      "2  [{'link': 'https://www.google.com/search?ucbcb...   \n",
      "3  [{'link': 'https://www.google.com/search?ucbcb...   \n",
      "4  [{'link': 'https://www.google.com/search?ucbcb...   \n",
      "\n",
      "                                          extensions  \\\n",
      "0  [7 days ago, Work from home, Full-time, Health...   \n",
      "1           [4 days ago, Work from home, Contractor]   \n",
      "2  [Full-time, No degree mentioned, Health insura...   \n",
      "3  [Full-time, No degree mentioned, Health insura...   \n",
      "4  [2 days ago, 20–28 an hour, Full-time, No degr...   \n",
      "\n",
      "                                              job_id  \\\n",
      "0  eyJqb2JfdGl0bGUiOiJTZW5pb3IgQmxvY2tjaGFpbiBTb2...   \n",
      "1  eyJqb2JfdGl0bGUiOiJHZXQgdHdpdHRlciBhY2NvdW50cy...   \n",
      "2  eyJqb2JfdGl0bGUiOiJCbG9ja2NoYWluIEFuYWx5c3QiLC...   \n",
      "3  eyJqb2JfdGl0bGUiOiJGdWxsIFN0YWNrIEJsb2NrY2hhaW...   \n",
      "4  eyJqb2JfdGl0bGUiOiJCbG9ja2NoYWluIEVuZ2luZWVyIC...   \n",
      "\n",
      "  detected_extensions.posted_at detected_extensions.schedule_type  \\\n",
      "0                    7 days ago                         Full-time   \n",
      "1                    4 days ago                        Contractor   \n",
      "2                           NaN                         Full-time   \n",
      "3                           NaN                         Full-time   \n",
      "4                    2 days ago                         Full-time   \n",
      "\n",
      "  detected_extensions.work_from_home detected_extensions.salary  \\\n",
      "0                               True                        NaN   \n",
      "1                               True                        NaN   \n",
      "2                                NaN                        NaN   \n",
      "3                                NaN                        NaN   \n",
      "4                                NaN              20–28 an hour   \n",
      "\n",
      "  search_parameters.q                                     Qualifications  \\\n",
      "0         block chain  [Language Fluency: English (Required), The req...   \n",
      "1         block chain  [I am looking for a list of blockchain address...   \n",
      "2         block chain  [Ability to parse and understand EVM (and/or S...   \n",
      "3         block chain  [We’re looking for a capable generalist engine...   \n",
      "4         block chain  [Exodus is looking for a detail-orientated Blo...   \n",
      "\n",
      "                                    Responsibilities  \\\n",
      "0  [Deliver highly complex solutions with signifi...   \n",
      "1                                                NaN   \n",
      "2  [Tackling interesting problems - we are ingest...   \n",
      "3  [You will be designing and building our core s...   \n",
      "4                                                NaN   \n",
      "\n",
      "                                            Benefits  \n",
      "0  [General Description of Available Benefits for...  \n",
      "1                                                NaN  \n",
      "2  [An accelerated growth trajectory - you will h...  \n",
      "3  [We’re wrapping up our presale for $JAM, so yo...  \n",
      "4                                                NaN  \n"
     ]
    }
   ],
   "source": [
    "# Creat an empty data frame\n",
    "combined_data_USA = pd.DataFrame()\n",
    "\n",
    "# expand the jobs_results column\n",
    "for i in range(len(final_USA)):\n",
    "    df_temp = pd.json_normalize(final_USA.iloc[i]['jobs_results'])\n",
    "    df_temp['search_parameters.q'] = final_USA.iloc[i]['search_parameters.q']\n",
    "    combined_data_USA = pd.concat([combined_data_USA, df_temp], ignore_index=True)\n",
    "\n",
    "# expand job_highlights column\n",
    "job_highlights = combined_data_USA['job_highlights'].apply(pd.Series)\n",
    "# rename columns: Qualifications, Responsibilities, Benefits\n",
    "job_highlights.columns = ['Qualifications', 'Responsibilities', 'Benefits']\n",
    "# select items in each row\n",
    "for i in range(0, len(job_highlights)):\n",
    "    try:\n",
    "        job_highlights['Qualifications'].values[i] = job_highlights['Qualifications'].values[i]['items']\n",
    "        job_highlights['Responsibilities'].values[i] = job_highlights['Responsibilities'].values[i]['items']\n",
    "        job_highlights['Benefits'].values[i] = job_highlights['Benefits'].values[i]['items']\n",
    "    except:\n",
    "        pass\n",
    "\n",
    "# combine the expanded columns with the original data frame\n",
    "combined_data_USA = pd.concat([combined_data_USA, job_highlights], axis=1)\n",
    "\n",
    "# Print the head of the final data frame\n",
    "print(combined_data_USA.head())"
   ]
  },
  {
   "cell_type": "code",
   "execution_count": 22,
   "metadata": {},
   "outputs": [],
   "source": [
    "# Remove Columns in combined_data_USA\n",
    "combined_data_USA = combined_data_USA.drop(columns=[\"job_highlights\", \"related_links\", \"extensions\"])"
   ]
  },
  {
   "cell_type": "code",
   "execution_count": 23,
   "metadata": {},
   "outputs": [
    {
     "name": "stdout",
     "output_type": "stream",
     "text": [
      "                                               title company_name  \\\n",
      "0                Senior Blockchain Software Engineer       Truist   \n",
      "1  Get twitter accounts that are tied to blockcha...       Upwork   \n",
      "2                                 Blockchain Analyst       Allium   \n",
      "3                     Full Stack Blockchain Engineer       geojam   \n",
      "4  Blockchain Engineer - Apps Platform at Exodus ...       Exodus   \n",
      "\n",
      "               location                        via  \\\n",
      "0             Anywhere            via ZipRecruiter   \n",
      "1             Anywhere                  via Upwork   \n",
      "2       New York, NY                      via Jobs   \n",
      "3    Los Angeles, CA                 via AngelList   \n",
      "4      Livermore, CA     via Livermore, CA - Geebo   \n",
      "\n",
      "                                         description  \\\n",
      "0  The position is described below. If you want t...   \n",
      "1  I am looking for a list of blockchain addresse...   \n",
      "2  About the role\\n• Sherlock & Enola Holmes leve...   \n",
      "3  Who We Are\\n\\nLaunched in 2020, Geojam is a so...   \n",
      "4  Exodus is looking for a detail-orientated Bloc...   \n",
      "\n",
      "                                              job_id  \\\n",
      "0  eyJqb2JfdGl0bGUiOiJTZW5pb3IgQmxvY2tjaGFpbiBTb2...   \n",
      "1  eyJqb2JfdGl0bGUiOiJHZXQgdHdpdHRlciBhY2NvdW50cy...   \n",
      "2  eyJqb2JfdGl0bGUiOiJCbG9ja2NoYWluIEFuYWx5c3QiLC...   \n",
      "3  eyJqb2JfdGl0bGUiOiJGdWxsIFN0YWNrIEJsb2NrY2hhaW...   \n",
      "4  eyJqb2JfdGl0bGUiOiJCbG9ja2NoYWluIEVuZ2luZWVyIC...   \n",
      "\n",
      "  detected_extensions.posted_at detected_extensions.schedule_type  \\\n",
      "0                    7 days ago                         Full-time   \n",
      "1                    4 days ago                        Contractor   \n",
      "2                           NaN                         Full-time   \n",
      "3                           NaN                         Full-time   \n",
      "4                    2 days ago                         Full-time   \n",
      "\n",
      "  detected_extensions.work_from_home detected_extensions.salary  \\\n",
      "0                               True                        NaN   \n",
      "1                               True                        NaN   \n",
      "2                                NaN                        NaN   \n",
      "3                                NaN                        NaN   \n",
      "4                                NaN              20–28 an hour   \n",
      "\n",
      "  search_parameters.q                                     Qualifications  \\\n",
      "0         block chain  Language Fluency: English (Required),The requi...   \n",
      "1         block chain  I am looking for a list of blockchain addresse...   \n",
      "2         block chain  Ability to parse and understand EVM (and/or So...   \n",
      "3         block chain  We’re looking for a capable generalist enginee...   \n",
      "4         block chain  Exodus is looking for a detail-orientated Bloc...   \n",
      "\n",
      "                                    Responsibilities  \\\n",
      "0  Deliver highly complex solutions with signific...   \n",
      "1                                                      \n",
      "2  Tackling interesting problems - we are ingesti...   \n",
      "3  You will be designing and building our core so...   \n",
      "4                                                      \n",
      "\n",
      "                                            Benefits  \n",
      "0  General Description of Available Benefits for ...  \n",
      "1                                                     \n",
      "2  An accelerated growth trajectory - you will ha...  \n",
      "3  We’re wrapping up our presale for $JAM, so you...  \n",
      "4                                                     \n"
     ]
    }
   ],
   "source": [
    "# change list to string in Qualifications, Responsibilities, Benefits\n",
    "for i in range(0, len(combined_data_USA)):\n",
    "    combined_data_USA['Qualifications'].values[i] = ','.join(combined_data_USA['Qualifications'].values[i])\n",
    "    try:\n",
    "        combined_data_USA['Responsibilities'].values[i] = ','.join(map(str, combined_data_USA['Responsibilities'].values[i]))\n",
    "    except:\n",
    "        combined_data_USA['Responsibilities'].values[i] = ''\n",
    "    try:\n",
    "        combined_data_USA['Benefits'].values[i] = ','.join(combined_data_USA['Benefits'].values[i])\n",
    "    except:\n",
    "        combined_data_USA['Benefits'].values[i] = ''\n",
    "\n",
    "# Print the head of the final data frame\n",
    "print(combined_data_USA.head())"
   ]
  },
  {
   "cell_type": "code",
   "execution_count": 24,
   "metadata": {},
   "outputs": [
    {
     "name": "stdout",
     "output_type": "stream",
     "text": [
      "False    457\n",
      "Name: job_id, dtype: int64\n"
     ]
    }
   ],
   "source": [
    "# check duplicates in job_id\n",
    "print(combined_data_USA['job_id'].duplicated().value_counts())"
   ]
  },
  {
   "cell_type": "code",
   "execution_count": 25,
   "metadata": {},
   "outputs": [
    {
     "name": "stdout",
     "output_type": "stream",
     "text": [
      "title                                   0\n",
      "company_name                            0\n",
      "location                                0\n",
      "via                                     0\n",
      "description                             0\n",
      "job_id                                  0\n",
      "detected_extensions.posted_at         148\n",
      "detected_extensions.schedule_type       1\n",
      "detected_extensions.work_from_home    349\n",
      "detected_extensions.salary            378\n",
      "search_parameters.q                     0\n",
      "Qualifications                          0\n",
      "Responsibilities                        0\n",
      "Benefits                                0\n",
      "dtype: int64\n"
     ]
    }
   ],
   "source": [
    "# check nan values in all columns\n",
    "print(combined_data_USA.isnull().sum())"
   ]
  },
  {
   "cell_type": "code",
   "execution_count": 30,
   "metadata": {},
   "outputs": [],
   "source": [
    "# export the data frame to csv file\n",
    "#combined_data_USA.to_csv('combined_data_USA.csv', index=False)"
   ]
  },
  {
   "attachments": {},
   "cell_type": "markdown",
   "metadata": {},
   "source": [
    "## Combine Data(DC, USA)"
   ]
  },
  {
   "cell_type": "code",
   "execution_count": 80,
   "metadata": {},
   "outputs": [
    {
     "name": "stdout",
     "output_type": "stream",
     "text": [
      "                                               title  \\\n",
      "0             Ethereum Blockchain Developer (Remote)   \n",
      "1                                Blockchain Engineer   \n",
      "2                       Blockchain Course Instructor   \n",
      "3  Python based - Blockchain developer to join ex...   \n",
      "4                Blockchain DevOps Engineer (Remote)   \n",
      "\n",
      "                         company_name            location               via  \\\n",
      "0                          Ex Populus           Anywhere       via Built In   \n",
      "1                               21.co     New York, NY       via Greenhouse   \n",
      "2  Blockchain Institute of Technology           Anywhere       via LinkedIn   \n",
      "3                              Upwork           Anywhere         via Upwork   \n",
      "4                              Telnyx    United States     via Startup Jobs   \n",
      "\n",
      "                                         description  \\\n",
      "0  Company Overview:\\nEx Populus is a cutting-edg...   \n",
      "1  We are seeking a highly motivated and skilled ...   \n",
      "2  Are you a blockchain, cryptocurrency, NFT, Met...   \n",
      "3  Need someone to join our existing team to spee...   \n",
      "4  About Telnyx\\n\\nAt Telnyx, we’re architecting ...   \n",
      "\n",
      "                                              job_id  \\\n",
      "0  eyJqb2JfdGl0bGUiOiJFdGhlcmV1bSBCbG9ja2NoYWluIE...   \n",
      "1  eyJqb2JfdGl0bGUiOiJCbG9ja2NoYWluIEVuZ2luZWVyIi...   \n",
      "2  eyJqb2JfdGl0bGUiOiJCbG9ja2NoYWluIENvdXJzZSBJbn...   \n",
      "3  eyJqb2JfdGl0bGUiOiJQeXRob24gYmFzZWQgLSBCbG9ja2...   \n",
      "4  eyJqb2JfdGl0bGUiOiJCbG9ja2NoYWluIERldk9wcyBFbm...   \n",
      "\n",
      "  detected_extensions.schedule_type detected_extensions.work_from_home  \\\n",
      "0                         Full-time                               True   \n",
      "1                         Full-time                                NaN   \n",
      "2                        Contractor                               True   \n",
      "3                        Contractor                               True   \n",
      "4                         Full-time                                NaN   \n",
      "\n",
      "  detected_extensions.posted_at detected_extensions.salary  \\\n",
      "0                           NaN                        NaN   \n",
      "1                           NaN                        NaN   \n",
      "2                  24 hours ago                        NaN   \n",
      "3                    2 days ago              10–30 an hour   \n",
      "4                    4 days ago                        NaN   \n",
      "\n",
      "  search_parameters.q                                     Qualifications  \\\n",
      "0         block chain  2-3 years of Software Development experience,1...   \n",
      "1         block chain  Bachelor's or Master's degree in Computer Scie...   \n",
      "2         block chain  3+ years of experience in blockchain, cryptocu...   \n",
      "3         block chain  Candidates must be willing to sign, non-disclo...   \n",
      "4         block chain  You are a highly motivated and experienced Blo...   \n",
      "\n",
      "                                    Responsibilities  \\\n",
      "0  Design, maintain and deploy smart contracts fo...   \n",
      "1  As a Blockchain Engineer, you will be responsi...   \n",
      "2  Our expert technical team will provide the sup...   \n",
      "3  Will discuss details with the selected candidates   \n",
      "4  To build a best-in-class Filecoin (FIL) Mining...   \n",
      "\n",
      "                                            Benefits  \n",
      "0                                                     \n",
      "1  (NYC only) Pursuant to Section 8-102 of title ...  \n",
      "2                                                     \n",
      "3                                                     \n",
      "4                                                     \n"
     ]
    }
   ],
   "source": [
    "# Combine the data frames\n",
    "combined_data = pd.concat([combined_data_DC, combined_data_USA], ignore_index=True)\n",
    "\n",
    "# Print the head of the final data frame\n",
    "print(combined_data.head())"
   ]
  },
  {
   "cell_type": "code",
   "execution_count": 87,
   "metadata": {},
   "outputs": [],
   "source": [
    "# drop job_id \n",
    "combined_data_final = combined_data.drop(columns=[\"job_id\"])"
   ]
  },
  {
   "cell_type": "code",
   "execution_count": 88,
   "metadata": {},
   "outputs": [
    {
     "data": {
      "text/plain": [
       "(626, 13)"
      ]
     },
     "execution_count": 88,
     "metadata": {},
     "output_type": "execute_result"
    }
   ],
   "source": [
    "# drop duplicates\n",
    "combined_data_final = combined_data_final.drop_duplicates()\n",
    "combined_data_final.shape"
   ]
  },
  {
   "cell_type": "code",
   "execution_count": 89,
   "metadata": {},
   "outputs": [
    {
     "name": "stdout",
     "output_type": "stream",
     "text": [
      "title                                   0\n",
      "company_name                            0\n",
      "location                                0\n",
      "via                                     0\n",
      "description                             0\n",
      "detected_extensions.schedule_type       1\n",
      "detected_extensions.work_from_home    496\n",
      "detected_extensions.posted_at         212\n",
      "detected_extensions.salary            525\n",
      "search_parameters.q                     0\n",
      "Qualifications                          0\n",
      "Responsibilities                        0\n",
      "Benefits                                0\n",
      "dtype: int64\n"
     ]
    }
   ],
   "source": [
    "# check nan values in all columns\n",
    "print(combined_data_final.isnull().sum())"
   ]
  },
  {
   "cell_type": "code",
   "execution_count": 90,
   "metadata": {},
   "outputs": [
    {
     "data": {
      "text/plain": [
       "data analyst                    82\n",
       "data scientist                  81\n",
       "machine learning                76\n",
       "deep learning                   72\n",
       "block chain                     65\n",
       "reinforcement learning          64\n",
       "natural language processing     61\n",
       "big data and cloud computing    59\n",
       "neural networks                 53\n",
       "time series analysis             7\n",
       "time series                      6\n",
       "Name: search_parameters.q, dtype: int64"
      ]
     },
     "execution_count": 90,
     "metadata": {},
     "output_type": "execute_result"
    }
   ],
   "source": [
    "combined_data_final[\"search_parameters.q\"].value_counts()"
   ]
  },
  {
   "cell_type": "code",
   "execution_count": 91,
   "metadata": {},
   "outputs": [
    {
     "data": {
      "text/plain": [
       "data analyst                    82\n",
       "data scientist                  81\n",
       "machine learning                76\n",
       "deep learning                   72\n",
       "block chain                     65\n",
       "reinforcement learning          64\n",
       "natural language processing     61\n",
       "big data and cloud computing    59\n",
       "neural networks                 53\n",
       "time series analysis            13\n",
       "Name: search_parameters.q, dtype: int64"
      ]
     },
     "execution_count": 91,
     "metadata": {},
     "output_type": "execute_result"
    }
   ],
   "source": [
    "# combine time series and time series analysis in search_parameters.q\n",
    "combined_data_final['search_parameters.q'] = combined_data_final['search_parameters.q'].replace('time series', 'time series analysis')\n",
    "combined_data_final['search_parameters.q'].value_counts()"
   ]
  },
  {
   "cell_type": "code",
   "execution_count": 92,
   "metadata": {},
   "outputs": [],
   "source": [
    "# export the data frame to csv file\n",
    "# combined_data_final.to_csv('combined_data_final.csv', index=False)"
   ]
  }
 ],
 "metadata": {
  "kernelspec": {
   "display_name": "anly503",
   "language": "python",
   "name": "python3"
  },
  "language_info": {
   "codemirror_mode": {
    "name": "ipython",
    "version": 3
   },
   "file_extension": ".py",
   "mimetype": "text/x-python",
   "name": "python",
   "nbconvert_exporter": "python",
   "pygments_lexer": "ipython3",
   "version": "3.10.8"
  },
  "orig_nbformat": 4
 },
 "nbformat": 4,
 "nbformat_minor": 2
}
