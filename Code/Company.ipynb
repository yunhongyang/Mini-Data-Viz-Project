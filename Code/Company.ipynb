{
 "cells": [
  {
   "attachments": {},
   "cell_type": "markdown",
   "metadata": {},
   "source": [
    "# Analysis of Company"
   ]
  },
  {
   "cell_type": "code",
   "execution_count": 1,
   "metadata": {},
   "outputs": [
    {
     "data": {
      "text/html": [
       "<div>\n",
       "<style scoped>\n",
       "    .dataframe tbody tr th:only-of-type {\n",
       "        vertical-align: middle;\n",
       "    }\n",
       "\n",
       "    .dataframe tbody tr th {\n",
       "        vertical-align: top;\n",
       "    }\n",
       "\n",
       "    .dataframe thead th {\n",
       "        text-align: right;\n",
       "    }\n",
       "</style>\n",
       "<table border=\"1\" class=\"dataframe\">\n",
       "  <thead>\n",
       "    <tr style=\"text-align: right;\">\n",
       "      <th></th>\n",
       "      <th>title</th>\n",
       "      <th>company_name</th>\n",
       "      <th>location</th>\n",
       "      <th>via</th>\n",
       "      <th>description</th>\n",
       "      <th>detected_extensions.schedule_type</th>\n",
       "      <th>detected_extensions.work_from_home</th>\n",
       "      <th>detected_extensions.posted_at</th>\n",
       "      <th>detected_extensions.salary</th>\n",
       "      <th>search_parameters.q</th>\n",
       "      <th>Qualifications</th>\n",
       "      <th>Responsibilities</th>\n",
       "      <th>Benefits</th>\n",
       "    </tr>\n",
       "  </thead>\n",
       "  <tbody>\n",
       "    <tr>\n",
       "      <th>0</th>\n",
       "      <td>Ethereum Blockchain Developer (Remote)</td>\n",
       "      <td>Ex Populus</td>\n",
       "      <td>Anywhere</td>\n",
       "      <td>via Built In</td>\n",
       "      <td>Company Overview:\\nEx Populus is a cutting-edg...</td>\n",
       "      <td>Full-time</td>\n",
       "      <td>True</td>\n",
       "      <td>NaN</td>\n",
       "      <td>NaN</td>\n",
       "      <td>block chain</td>\n",
       "      <td>2-3 years of Software Development experience,1...</td>\n",
       "      <td>Design, maintain and deploy smart contracts fo...</td>\n",
       "      <td>NaN</td>\n",
       "    </tr>\n",
       "    <tr>\n",
       "      <th>1</th>\n",
       "      <td>Blockchain Engineer</td>\n",
       "      <td>21.co</td>\n",
       "      <td>New York, NY</td>\n",
       "      <td>via Greenhouse</td>\n",
       "      <td>We are seeking a highly motivated and skilled ...</td>\n",
       "      <td>Full-time</td>\n",
       "      <td>NaN</td>\n",
       "      <td>NaN</td>\n",
       "      <td>NaN</td>\n",
       "      <td>block chain</td>\n",
       "      <td>Bachelor's or Master's degree in Computer Scie...</td>\n",
       "      <td>As a Blockchain Engineer, you will be responsi...</td>\n",
       "      <td>(NYC only) Pursuant to Section 8-102 of title ...</td>\n",
       "    </tr>\n",
       "    <tr>\n",
       "      <th>2</th>\n",
       "      <td>Blockchain Course Instructor</td>\n",
       "      <td>Blockchain Institute of Technology</td>\n",
       "      <td>Anywhere</td>\n",
       "      <td>via LinkedIn</td>\n",
       "      <td>Are you a blockchain, cryptocurrency, NFT, Met...</td>\n",
       "      <td>Contractor</td>\n",
       "      <td>True</td>\n",
       "      <td>24 hours ago</td>\n",
       "      <td>NaN</td>\n",
       "      <td>block chain</td>\n",
       "      <td>3+ years of experience in blockchain, cryptocu...</td>\n",
       "      <td>Our expert technical team will provide the sup...</td>\n",
       "      <td>NaN</td>\n",
       "    </tr>\n",
       "    <tr>\n",
       "      <th>3</th>\n",
       "      <td>Python based - Blockchain developer to join ex...</td>\n",
       "      <td>Upwork</td>\n",
       "      <td>Anywhere</td>\n",
       "      <td>via Upwork</td>\n",
       "      <td>Need someone to join our existing team to spee...</td>\n",
       "      <td>Contractor</td>\n",
       "      <td>True</td>\n",
       "      <td>2 days ago</td>\n",
       "      <td>10–30 an hour</td>\n",
       "      <td>block chain</td>\n",
       "      <td>Candidates must be willing to sign, non-disclo...</td>\n",
       "      <td>Will discuss details with the selected candidates</td>\n",
       "      <td>NaN</td>\n",
       "    </tr>\n",
       "    <tr>\n",
       "      <th>4</th>\n",
       "      <td>Blockchain DevOps Engineer (Remote)</td>\n",
       "      <td>Telnyx</td>\n",
       "      <td>United States</td>\n",
       "      <td>via Startup Jobs</td>\n",
       "      <td>About Telnyx\\n\\nAt Telnyx, we’re architecting ...</td>\n",
       "      <td>Full-time</td>\n",
       "      <td>NaN</td>\n",
       "      <td>4 days ago</td>\n",
       "      <td>NaN</td>\n",
       "      <td>block chain</td>\n",
       "      <td>You are a highly motivated and experienced Blo...</td>\n",
       "      <td>To build a best-in-class Filecoin (FIL) Mining...</td>\n",
       "      <td>NaN</td>\n",
       "    </tr>\n",
       "  </tbody>\n",
       "</table>\n",
       "</div>"
      ],
      "text/plain": [
       "                                               title  \\\n",
       "0             Ethereum Blockchain Developer (Remote)   \n",
       "1                                Blockchain Engineer   \n",
       "2                       Blockchain Course Instructor   \n",
       "3  Python based - Blockchain developer to join ex...   \n",
       "4                Blockchain DevOps Engineer (Remote)   \n",
       "\n",
       "                         company_name            location               via  \\\n",
       "0                          Ex Populus           Anywhere       via Built In   \n",
       "1                               21.co     New York, NY       via Greenhouse   \n",
       "2  Blockchain Institute of Technology           Anywhere       via LinkedIn   \n",
       "3                              Upwork           Anywhere         via Upwork   \n",
       "4                              Telnyx    United States     via Startup Jobs   \n",
       "\n",
       "                                         description  \\\n",
       "0  Company Overview:\\nEx Populus is a cutting-edg...   \n",
       "1  We are seeking a highly motivated and skilled ...   \n",
       "2  Are you a blockchain, cryptocurrency, NFT, Met...   \n",
       "3  Need someone to join our existing team to spee...   \n",
       "4  About Telnyx\\n\\nAt Telnyx, we’re architecting ...   \n",
       "\n",
       "  detected_extensions.schedule_type detected_extensions.work_from_home  \\\n",
       "0                         Full-time                               True   \n",
       "1                         Full-time                                NaN   \n",
       "2                        Contractor                               True   \n",
       "3                        Contractor                               True   \n",
       "4                         Full-time                                NaN   \n",
       "\n",
       "  detected_extensions.posted_at detected_extensions.salary  \\\n",
       "0                           NaN                        NaN   \n",
       "1                           NaN                        NaN   \n",
       "2                  24 hours ago                        NaN   \n",
       "3                    2 days ago              10–30 an hour   \n",
       "4                    4 days ago                        NaN   \n",
       "\n",
       "  search_parameters.q                                     Qualifications  \\\n",
       "0         block chain  2-3 years of Software Development experience,1...   \n",
       "1         block chain  Bachelor's or Master's degree in Computer Scie...   \n",
       "2         block chain  3+ years of experience in blockchain, cryptocu...   \n",
       "3         block chain  Candidates must be willing to sign, non-disclo...   \n",
       "4         block chain  You are a highly motivated and experienced Blo...   \n",
       "\n",
       "                                    Responsibilities  \\\n",
       "0  Design, maintain and deploy smart contracts fo...   \n",
       "1  As a Blockchain Engineer, you will be responsi...   \n",
       "2  Our expert technical team will provide the sup...   \n",
       "3  Will discuss details with the selected candidates   \n",
       "4  To build a best-in-class Filecoin (FIL) Mining...   \n",
       "\n",
       "                                            Benefits  \n",
       "0                                                NaN  \n",
       "1  (NYC only) Pursuant to Section 8-102 of title ...  \n",
       "2                                                NaN  \n",
       "3                                                NaN  \n",
       "4                                                NaN  "
      ]
     },
     "execution_count": 1,
     "metadata": {},
     "output_type": "execute_result"
    }
   ],
   "source": [
    "# import data and libraries\n",
    "import pandas as pd\n",
    "\n",
    "# read in data\n",
    "df = pd.read_csv('../2023-04-14-job-search/Clean_Data/combined_data_final.csv')\n",
    "\n",
    "df.head()"
   ]
  },
  {
   "cell_type": "code",
   "execution_count": 2,
   "metadata": {},
   "outputs": [],
   "source": [
    "import plotly.express as px\n",
    "import plotly.graph_objects as go\n",
    "import plotly.io as pio\n",
    "pio.renderers.default = \"plotly_mimetype+notebook_connected\""
   ]
  },
  {
   "attachments": {},
   "cell_type": "markdown",
   "metadata": {},
   "source": [
    "## Live Bubble for Company"
   ]
  },
  {
   "cell_type": "code",
   "execution_count": 3,
   "metadata": {},
   "outputs": [
    {
     "data": {
      "text/plain": [
       "Upwork                      38\n",
       "Booz Allen Hamilton         12\n",
       "Deloitte                    10\n",
       "Apple                       10\n",
       "Lockheed Martin              7\n",
       "                            ..\n",
       "Matroid                      1\n",
       "Generally Intelligent        1\n",
       "Microsoft Corporation        1\n",
       "Samson Rose                  1\n",
       "Brain Technologies, Inc.     1\n",
       "Name: company_name, Length: 425, dtype: int64"
      ]
     },
     "execution_count": 3,
     "metadata": {},
     "output_type": "execute_result"
    }
   ],
   "source": [
    "df[\"company_name\"].value_counts()"
   ]
  },
  {
   "cell_type": "code",
   "execution_count": 10,
   "metadata": {},
   "outputs": [
    {
     "data": {
      "text/html": [
       "<div>\n",
       "<style scoped>\n",
       "    .dataframe tbody tr th:only-of-type {\n",
       "        vertical-align: middle;\n",
       "    }\n",
       "\n",
       "    .dataframe tbody tr th {\n",
       "        vertical-align: top;\n",
       "    }\n",
       "\n",
       "    .dataframe thead th {\n",
       "        text-align: right;\n",
       "    }\n",
       "</style>\n",
       "<table border=\"1\" class=\"dataframe\">\n",
       "  <thead>\n",
       "    <tr style=\"text-align: right;\">\n",
       "      <th></th>\n",
       "      <th>title</th>\n",
       "      <th>company_name</th>\n",
       "      <th>location</th>\n",
       "      <th>via</th>\n",
       "      <th>description</th>\n",
       "      <th>detected_extensions.schedule_type</th>\n",
       "      <th>detected_extensions.work_from_home</th>\n",
       "      <th>detected_extensions.posted_at</th>\n",
       "      <th>detected_extensions.salary</th>\n",
       "      <th>search_parameters.q</th>\n",
       "      <th>Qualifications</th>\n",
       "      <th>Responsibilities</th>\n",
       "      <th>Benefits</th>\n",
       "      <th>company_name_count</th>\n",
       "    </tr>\n",
       "  </thead>\n",
       "  <tbody>\n",
       "    <tr>\n",
       "      <th>0</th>\n",
       "      <td>Ethereum Blockchain Developer (Remote)</td>\n",
       "      <td>Ex Populus</td>\n",
       "      <td>Anywhere</td>\n",
       "      <td>via Built In</td>\n",
       "      <td>Company Overview:\\nEx Populus is a cutting-edg...</td>\n",
       "      <td>Full-time</td>\n",
       "      <td>True</td>\n",
       "      <td>NaN</td>\n",
       "      <td>NaN</td>\n",
       "      <td>block chain</td>\n",
       "      <td>2-3 years of Software Development experience,1...</td>\n",
       "      <td>Design, maintain and deploy smart contracts fo...</td>\n",
       "      <td>NaN</td>\n",
       "      <td>1</td>\n",
       "    </tr>\n",
       "    <tr>\n",
       "      <th>1</th>\n",
       "      <td>Blockchain Engineer</td>\n",
       "      <td>21.co</td>\n",
       "      <td>New York, NY</td>\n",
       "      <td>via Greenhouse</td>\n",
       "      <td>We are seeking a highly motivated and skilled ...</td>\n",
       "      <td>Full-time</td>\n",
       "      <td>NaN</td>\n",
       "      <td>NaN</td>\n",
       "      <td>NaN</td>\n",
       "      <td>block chain</td>\n",
       "      <td>Bachelor's or Master's degree in Computer Scie...</td>\n",
       "      <td>As a Blockchain Engineer, you will be responsi...</td>\n",
       "      <td>(NYC only) Pursuant to Section 8-102 of title ...</td>\n",
       "      <td>2</td>\n",
       "    </tr>\n",
       "    <tr>\n",
       "      <th>2</th>\n",
       "      <td>Blockchain Course Instructor</td>\n",
       "      <td>Blockchain Institute of Technology</td>\n",
       "      <td>Anywhere</td>\n",
       "      <td>via LinkedIn</td>\n",
       "      <td>Are you a blockchain, cryptocurrency, NFT, Met...</td>\n",
       "      <td>Contractor</td>\n",
       "      <td>True</td>\n",
       "      <td>24 hours ago</td>\n",
       "      <td>NaN</td>\n",
       "      <td>block chain</td>\n",
       "      <td>3+ years of experience in blockchain, cryptocu...</td>\n",
       "      <td>Our expert technical team will provide the sup...</td>\n",
       "      <td>NaN</td>\n",
       "      <td>2</td>\n",
       "    </tr>\n",
       "    <tr>\n",
       "      <th>3</th>\n",
       "      <td>Python based - Blockchain developer to join ex...</td>\n",
       "      <td>Upwork</td>\n",
       "      <td>Anywhere</td>\n",
       "      <td>via Upwork</td>\n",
       "      <td>Need someone to join our existing team to spee...</td>\n",
       "      <td>Contractor</td>\n",
       "      <td>True</td>\n",
       "      <td>2 days ago</td>\n",
       "      <td>10–30 an hour</td>\n",
       "      <td>block chain</td>\n",
       "      <td>Candidates must be willing to sign, non-disclo...</td>\n",
       "      <td>Will discuss details with the selected candidates</td>\n",
       "      <td>NaN</td>\n",
       "      <td>38</td>\n",
       "    </tr>\n",
       "    <tr>\n",
       "      <th>4</th>\n",
       "      <td>Blockchain DevOps Engineer (Remote)</td>\n",
       "      <td>Telnyx</td>\n",
       "      <td>United States</td>\n",
       "      <td>via Startup Jobs</td>\n",
       "      <td>About Telnyx\\n\\nAt Telnyx, we’re architecting ...</td>\n",
       "      <td>Full-time</td>\n",
       "      <td>NaN</td>\n",
       "      <td>4 days ago</td>\n",
       "      <td>NaN</td>\n",
       "      <td>block chain</td>\n",
       "      <td>You are a highly motivated and experienced Blo...</td>\n",
       "      <td>To build a best-in-class Filecoin (FIL) Mining...</td>\n",
       "      <td>NaN</td>\n",
       "      <td>1</td>\n",
       "    </tr>\n",
       "    <tr>\n",
       "      <th>...</th>\n",
       "      <td>...</td>\n",
       "      <td>...</td>\n",
       "      <td>...</td>\n",
       "      <td>...</td>\n",
       "      <td>...</td>\n",
       "      <td>...</td>\n",
       "      <td>...</td>\n",
       "      <td>...</td>\n",
       "      <td>...</td>\n",
       "      <td>...</td>\n",
       "      <td>...</td>\n",
       "      <td>...</td>\n",
       "      <td>...</td>\n",
       "      <td>...</td>\n",
       "    </tr>\n",
       "    <tr>\n",
       "      <th>621</th>\n",
       "      <td>Blockchain Operations - Technical Analyst</td>\n",
       "      <td>Chainlink Labs</td>\n",
       "      <td>Anywhere</td>\n",
       "      <td>via LinkedIn</td>\n",
       "      <td>As a Blockchain Operations - Technical Analyst...</td>\n",
       "      <td>Contractor</td>\n",
       "      <td>True</td>\n",
       "      <td>4 days ago</td>\n",
       "      <td>NaN</td>\n",
       "      <td>block chain</td>\n",
       "      <td>Have comfort and familiarity with complex engi...</td>\n",
       "      <td>As a Blockchain Operations - Technical Analyst...</td>\n",
       "      <td>NaN</td>\n",
       "      <td>1</td>\n",
       "    </tr>\n",
       "    <tr>\n",
       "      <th>622</th>\n",
       "      <td>Natural Language Processing Engineer</td>\n",
       "      <td>Brain Technologies, Inc.</td>\n",
       "      <td>San Mateo, CA</td>\n",
       "      <td>via Karkidi</td>\n",
       "      <td>Responsibilities:\\n• Learning from user intera...</td>\n",
       "      <td>Full-time</td>\n",
       "      <td>NaN</td>\n",
       "      <td>NaN</td>\n",
       "      <td>160K–250K a year</td>\n",
       "      <td>natural language processing</td>\n",
       "      <td>Job entails working with and requires Master’s...</td>\n",
       "      <td>Learning from user interactions with our NLP s...</td>\n",
       "      <td>NaN</td>\n",
       "      <td>1</td>\n",
       "    </tr>\n",
       "    <tr>\n",
       "      <th>623</th>\n",
       "      <td>Machine Learning Engineer/ Data Scientist- NLP...</td>\n",
       "      <td>Supportiv</td>\n",
       "      <td>San Jose, CA</td>\n",
       "      <td>via WDHN Jobs</td>\n",
       "      <td>First, The Data!\\n• Over 1 million unique chat...</td>\n",
       "      <td>Internship</td>\n",
       "      <td>NaN</td>\n",
       "      <td>4 days ago</td>\n",
       "      <td>NaN</td>\n",
       "      <td>natural language processing</td>\n",
       "      <td>[1 day] Take-home programming challenge,[60 mi...</td>\n",
       "      <td>The role will serve as a core member within th...</td>\n",
       "      <td>NaN</td>\n",
       "      <td>5</td>\n",
       "    </tr>\n",
       "    <tr>\n",
       "      <th>624</th>\n",
       "      <td>Machine Learning Engineer/ Data Scientist- NLP...</td>\n",
       "      <td>Supportiv</td>\n",
       "      <td>Chicago, IL</td>\n",
       "      <td>via KLFY Jobs</td>\n",
       "      <td>First, The Data!\\n• Over 1 million unique chat...</td>\n",
       "      <td>Internship</td>\n",
       "      <td>NaN</td>\n",
       "      <td>4 days ago</td>\n",
       "      <td>NaN</td>\n",
       "      <td>natural language processing</td>\n",
       "      <td>[1 day] Take-home programming challenge,[60 mi...</td>\n",
       "      <td>The role will serve as a core member within th...</td>\n",
       "      <td>NaN</td>\n",
       "      <td>5</td>\n",
       "    </tr>\n",
       "    <tr>\n",
       "      <th>625</th>\n",
       "      <td>Technical Leader - Natural Language Processing...</td>\n",
       "      <td>Kitware</td>\n",
       "      <td>Minneapolis, MN</td>\n",
       "      <td>via ZipRecruiter</td>\n",
       "      <td>Team Description:\\n\\nOur computer vision team ...</td>\n",
       "      <td>Full-time</td>\n",
       "      <td>NaN</td>\n",
       "      <td>NaN</td>\n",
       "      <td>NaN</td>\n",
       "      <td>natural language processing</td>\n",
       "      <td>PhD in Computer Science or related field with ...</td>\n",
       "      <td>Lead proposals for new funding from government...</td>\n",
       "      <td>Besides a great work environment, our comprehe...</td>\n",
       "      <td>4</td>\n",
       "    </tr>\n",
       "  </tbody>\n",
       "</table>\n",
       "<p>626 rows × 14 columns</p>\n",
       "</div>"
      ],
      "text/plain": [
       "                                                 title  \\\n",
       "0               Ethereum Blockchain Developer (Remote)   \n",
       "1                                  Blockchain Engineer   \n",
       "2                         Blockchain Course Instructor   \n",
       "3    Python based - Blockchain developer to join ex...   \n",
       "4                  Blockchain DevOps Engineer (Remote)   \n",
       "..                                                 ...   \n",
       "621          Blockchain Operations - Technical Analyst   \n",
       "622               Natural Language Processing Engineer   \n",
       "623  Machine Learning Engineer/ Data Scientist- NLP...   \n",
       "624  Machine Learning Engineer/ Data Scientist- NLP...   \n",
       "625  Technical Leader - Natural Language Processing...   \n",
       "\n",
       "                           company_name              location  \\\n",
       "0                            Ex Populus             Anywhere    \n",
       "1                                 21.co       New York, NY      \n",
       "2    Blockchain Institute of Technology             Anywhere    \n",
       "3                                Upwork             Anywhere    \n",
       "4                                Telnyx      United States      \n",
       "..                                  ...                   ...   \n",
       "621                      Chainlink Labs             Anywhere    \n",
       "622            Brain Technologies, Inc.      San Mateo, CA      \n",
       "623                           Supportiv       San Jose, CA      \n",
       "624                           Supportiv        Chicago, IL      \n",
       "625                             Kitware    Minneapolis, MN      \n",
       "\n",
       "                  via                                        description  \\\n",
       "0        via Built In  Company Overview:\\nEx Populus is a cutting-edg...   \n",
       "1      via Greenhouse  We are seeking a highly motivated and skilled ...   \n",
       "2        via LinkedIn  Are you a blockchain, cryptocurrency, NFT, Met...   \n",
       "3          via Upwork  Need someone to join our existing team to spee...   \n",
       "4    via Startup Jobs  About Telnyx\\n\\nAt Telnyx, we’re architecting ...   \n",
       "..                ...                                                ...   \n",
       "621      via LinkedIn  As a Blockchain Operations - Technical Analyst...   \n",
       "622       via Karkidi  Responsibilities:\\n• Learning from user intera...   \n",
       "623     via WDHN Jobs  First, The Data!\\n• Over 1 million unique chat...   \n",
       "624     via KLFY Jobs  First, The Data!\\n• Over 1 million unique chat...   \n",
       "625  via ZipRecruiter  Team Description:\\n\\nOur computer vision team ...   \n",
       "\n",
       "    detected_extensions.schedule_type detected_extensions.work_from_home  \\\n",
       "0                           Full-time                               True   \n",
       "1                           Full-time                                NaN   \n",
       "2                          Contractor                               True   \n",
       "3                          Contractor                               True   \n",
       "4                           Full-time                                NaN   \n",
       "..                                ...                                ...   \n",
       "621                        Contractor                               True   \n",
       "622                         Full-time                                NaN   \n",
       "623                        Internship                                NaN   \n",
       "624                        Internship                                NaN   \n",
       "625                         Full-time                                NaN   \n",
       "\n",
       "    detected_extensions.posted_at detected_extensions.salary  \\\n",
       "0                             NaN                        NaN   \n",
       "1                             NaN                        NaN   \n",
       "2                    24 hours ago                        NaN   \n",
       "3                      2 days ago              10–30 an hour   \n",
       "4                      4 days ago                        NaN   \n",
       "..                            ...                        ...   \n",
       "621                    4 days ago                        NaN   \n",
       "622                           NaN           160K–250K a year   \n",
       "623                    4 days ago                        NaN   \n",
       "624                    4 days ago                        NaN   \n",
       "625                           NaN                        NaN   \n",
       "\n",
       "             search_parameters.q  \\\n",
       "0                    block chain   \n",
       "1                    block chain   \n",
       "2                    block chain   \n",
       "3                    block chain   \n",
       "4                    block chain   \n",
       "..                           ...   \n",
       "621                  block chain   \n",
       "622  natural language processing   \n",
       "623  natural language processing   \n",
       "624  natural language processing   \n",
       "625  natural language processing   \n",
       "\n",
       "                                        Qualifications  \\\n",
       "0    2-3 years of Software Development experience,1...   \n",
       "1    Bachelor's or Master's degree in Computer Scie...   \n",
       "2    3+ years of experience in blockchain, cryptocu...   \n",
       "3    Candidates must be willing to sign, non-disclo...   \n",
       "4    You are a highly motivated and experienced Blo...   \n",
       "..                                                 ...   \n",
       "621  Have comfort and familiarity with complex engi...   \n",
       "622  Job entails working with and requires Master’s...   \n",
       "623  [1 day] Take-home programming challenge,[60 mi...   \n",
       "624  [1 day] Take-home programming challenge,[60 mi...   \n",
       "625  PhD in Computer Science or related field with ...   \n",
       "\n",
       "                                      Responsibilities  \\\n",
       "0    Design, maintain and deploy smart contracts fo...   \n",
       "1    As a Blockchain Engineer, you will be responsi...   \n",
       "2    Our expert technical team will provide the sup...   \n",
       "3    Will discuss details with the selected candidates   \n",
       "4    To build a best-in-class Filecoin (FIL) Mining...   \n",
       "..                                                 ...   \n",
       "621  As a Blockchain Operations - Technical Analyst...   \n",
       "622  Learning from user interactions with our NLP s...   \n",
       "623  The role will serve as a core member within th...   \n",
       "624  The role will serve as a core member within th...   \n",
       "625  Lead proposals for new funding from government...   \n",
       "\n",
       "                                              Benefits  company_name_count  \n",
       "0                                                  NaN                   1  \n",
       "1    (NYC only) Pursuant to Section 8-102 of title ...                   2  \n",
       "2                                                  NaN                   2  \n",
       "3                                                  NaN                  38  \n",
       "4                                                  NaN                   1  \n",
       "..                                                 ...                 ...  \n",
       "621                                                NaN                   1  \n",
       "622                                                NaN                   1  \n",
       "623                                                NaN                   5  \n",
       "624                                                NaN                   5  \n",
       "625  Besides a great work environment, our comprehe...                   4  \n",
       "\n",
       "[626 rows x 14 columns]"
      ]
     },
     "execution_count": 10,
     "metadata": {},
     "output_type": "execute_result"
    }
   ],
   "source": [
    "# add a new coloumn company name count to data frame\n",
    "df_company = df.copy()\n",
    "df_company['company_name_count'] = df_company.groupby('company_name')['company_name'].transform('count')\n",
    "df_company"
   ]
  },
  {
   "cell_type": "code",
   "execution_count": 11,
   "metadata": {},
   "outputs": [
    {
     "data": {
      "text/html": [
       "        <script type=\"text/javascript\">\n",
       "        window.PlotlyConfig = {MathJaxConfig: 'local'};\n",
       "        if (window.MathJax && window.MathJax.Hub && window.MathJax.Hub.Config) {window.MathJax.Hub.Config({SVG: {font: \"STIX-Web\"}});}\n",
       "        if (typeof require !== 'undefined') {\n",
       "        require.undef(\"plotly\");\n",
       "        requirejs.config({\n",
       "            paths: {\n",
       "                'plotly': ['https://cdn.plot.ly/plotly-2.12.1.min']\n",
       "            }\n",
       "        });\n",
       "        require(['plotly'], function(Plotly) {\n",
       "            window._Plotly = Plotly;\n",
       "        });\n",
       "        }\n",
       "        </script>\n",
       "        "
      ]
     },
     "metadata": {},
     "output_type": "display_data"
    },
    {
     "data": {
      "application/vnd.plotly.v1+json": {
       "config": {
        "plotlyServerURL": "https://plot.ly"
       },
       "data": [
        {
         "hovertemplate": "company_name=%{x}<br>company_name_count=%{marker.size}<extra></extra>",
         "legendgroup": "Ex Populus",
         "marker": {
          "color": "#636efa",
          "size": [
           1
          ],
          "sizemode": "area",
          "sizeref": 0.095,
          "symbol": "circle"
         },
         "mode": "markers",
         "name": "Ex Populus",
         "orientation": "v",
         "showlegend": true,
         "type": "scatter",
         "x": [
          "Ex Populus"
         ],
         "xaxis": "x",
         "y": [
          1
         ],
         "yaxis": "y"
        },
        {
         "hovertemplate": "company_name=%{x}<br>company_name_count=%{marker.size}<extra></extra>",
         "legendgroup": "21.co",
         "marker": {
          "color": "#EF553B",
          "size": [
           2,
           2
          ],
          "sizemode": "area",
          "sizeref": 0.095,
          "symbol": "circle"
         },
         "mode": "markers",
         "name": "21.co",
         "orientation": "v",
         "showlegend": true,
         "type": "scatter",
         "x": [
          "21.co",
          "21.co"
         ],
         "xaxis": "x",
         "y": [
          2,
          2
         ],
         "yaxis": "y"
        },
        {
         "hovertemplate": "company_name=%{x}<br>company_name_count=%{marker.size}<extra></extra>",
         "legendgroup": "Blockchain Institute of Technology",
         "marker": {
          "color": "#00cc96",
          "size": [
           2,
           2
          ],
          "sizemode": "area",
          "sizeref": 0.095,
          "symbol": "circle"
         },
         "mode": "markers",
         "name": "Blockchain Institute of Technology",
         "orientation": "v",
         "showlegend": true,
         "type": "scatter",
         "x": [
          "Blockchain Institute of Technology",
          "Blockchain Institute of Technology"
         ],
         "xaxis": "x",
         "y": [
          2,
          2
         ],
         "yaxis": "y"
        },
        {
         "hovertemplate": "company_name=%{x}<br>company_name_count=%{marker.size}<extra></extra>",
         "legendgroup": "Upwork",
         "marker": {
          "color": "#ab63fa",
          "size": [
           38,
           38,
           38,
           38,
           38,
           38,
           38,
           38,
           38,
           38,
           38,
           38,
           38,
           38,
           38,
           38,
           38,
           38,
           38,
           38,
           38,
           38,
           38,
           38,
           38,
           38,
           38,
           38,
           38,
           38,
           38,
           38,
           38,
           38,
           38,
           38,
           38,
           38
          ],
          "sizemode": "area",
          "sizeref": 0.095,
          "symbol": "circle"
         },
         "mode": "markers",
         "name": "Upwork",
         "orientation": "v",
         "showlegend": true,
         "type": "scatter",
         "x": [
          "Upwork",
          "Upwork",
          "Upwork",
          "Upwork",
          "Upwork",
          "Upwork",
          "Upwork",
          "Upwork",
          "Upwork",
          "Upwork",
          "Upwork",
          "Upwork",
          "Upwork",
          "Upwork",
          "Upwork",
          "Upwork",
          "Upwork",
          "Upwork",
          "Upwork",
          "Upwork",
          "Upwork",
          "Upwork",
          "Upwork",
          "Upwork",
          "Upwork",
          "Upwork",
          "Upwork",
          "Upwork",
          "Upwork",
          "Upwork",
          "Upwork",
          "Upwork",
          "Upwork",
          "Upwork",
          "Upwork",
          "Upwork",
          "Upwork",
          "Upwork"
         ],
         "xaxis": "x",
         "y": [
          38,
          38,
          38,
          38,
          38,
          38,
          38,
          38,
          38,
          38,
          38,
          38,
          38,
          38,
          38,
          38,
          38,
          38,
          38,
          38,
          38,
          38,
          38,
          38,
          38,
          38,
          38,
          38,
          38,
          38,
          38,
          38,
          38,
          38,
          38,
          38,
          38,
          38
         ],
         "yaxis": "y"
        },
        {
         "hovertemplate": "company_name=%{x}<br>company_name_count=%{marker.size}<extra></extra>",
         "legendgroup": "Telnyx",
         "marker": {
          "color": "#FFA15A",
          "size": [
           1
          ],
          "sizemode": "area",
          "sizeref": 0.095,
          "symbol": "circle"
         },
         "mode": "markers",
         "name": "Telnyx",
         "orientation": "v",
         "showlegend": true,
         "type": "scatter",
         "x": [
          "Telnyx"
         ],
         "xaxis": "x",
         "y": [
          1
         ],
         "yaxis": "y"
        },
        {
         "hovertemplate": "company_name=%{x}<br>company_name_count=%{marker.size}<extra></extra>",
         "legendgroup": "Turnblock.io",
         "marker": {
          "color": "#19d3f3",
          "size": [
           1
          ],
          "sizemode": "area",
          "sizeref": 0.095,
          "symbol": "circle"
         },
         "mode": "markers",
         "name": "Turnblock.io",
         "orientation": "v",
         "showlegend": true,
         "type": "scatter",
         "x": [
          "Turnblock.io"
         ],
         "xaxis": "x",
         "y": [
          1
         ],
         "yaxis": "y"
        },
        {
         "hovertemplate": "company_name=%{x}<br>company_name_count=%{marker.size}<extra></extra>",
         "legendgroup": "Bitquery",
         "marker": {
          "color": "#FF6692",
          "size": [
           1
          ],
          "sizemode": "area",
          "sizeref": 0.095,
          "symbol": "circle"
         },
         "mode": "markers",
         "name": "Bitquery",
         "orientation": "v",
         "showlegend": true,
         "type": "scatter",
         "x": [
          "Bitquery"
         ],
         "xaxis": "x",
         "y": [
          1
         ],
         "yaxis": "y"
        },
        {
         "hovertemplate": "company_name=%{x}<br>company_name_count=%{marker.size}<extra></extra>",
         "legendgroup": "Jobot",
         "marker": {
          "color": "#B6E880",
          "size": [
           4,
           4,
           4,
           4
          ],
          "sizemode": "area",
          "sizeref": 0.095,
          "symbol": "circle"
         },
         "mode": "markers",
         "name": "Jobot",
         "orientation": "v",
         "showlegend": true,
         "type": "scatter",
         "x": [
          "Jobot",
          "Jobot",
          "Jobot",
          "Jobot"
         ],
         "xaxis": "x",
         "y": [
          4,
          4,
          4,
          4
         ],
         "yaxis": "y"
        },
        {
         "hovertemplate": "company_name=%{x}<br>company_name_count=%{marker.size}<extra></extra>",
         "legendgroup": "Atechstar",
         "marker": {
          "color": "#FF97FF",
          "size": [
           1
          ],
          "sizemode": "area",
          "sizeref": 0.095,
          "symbol": "circle"
         },
         "mode": "markers",
         "name": "Atechstar",
         "orientation": "v",
         "showlegend": true,
         "type": "scatter",
         "x": [
          "Atechstar"
         ],
         "xaxis": "x",
         "y": [
          1
         ],
         "yaxis": "y"
        },
        {
         "hovertemplate": "company_name=%{x}<br>company_name_count=%{marker.size}<extra></extra>",
         "legendgroup": "Cryptops Exchange",
         "marker": {
          "color": "#FECB52",
          "size": [
           1
          ],
          "sizemode": "area",
          "sizeref": 0.095,
          "symbol": "circle"
         },
         "mode": "markers",
         "name": "Cryptops Exchange",
         "orientation": "v",
         "showlegend": true,
         "type": "scatter",
         "x": [
          "Cryptops Exchange"
         ],
         "xaxis": "x",
         "y": [
          1
         ],
         "yaxis": "y"
        },
        {
         "hovertemplate": "company_name=%{x}<br>company_name_count=%{marker.size}<extra></extra>",
         "legendgroup": "Johns Hopkins University",
         "marker": {
          "color": "#636efa",
          "size": [
           1
          ],
          "sizemode": "area",
          "sizeref": 0.095,
          "symbol": "circle"
         },
         "mode": "markers",
         "name": "Johns Hopkins University",
         "orientation": "v",
         "showlegend": true,
         "type": "scatter",
         "x": [
          "Johns Hopkins University"
         ],
         "xaxis": "x",
         "y": [
          1
         ],
         "yaxis": "y"
        },
        {
         "hovertemplate": "company_name=%{x}<br>company_name_count=%{marker.size}<extra></extra>",
         "legendgroup": "Leidos",
         "marker": {
          "color": "#EF553B",
          "size": [
           5,
           5,
           5,
           5,
           5
          ],
          "sizemode": "area",
          "sizeref": 0.095,
          "symbol": "circle"
         },
         "mode": "markers",
         "name": "Leidos",
         "orientation": "v",
         "showlegend": true,
         "type": "scatter",
         "x": [
          "Leidos",
          "Leidos",
          "Leidos",
          "Leidos",
          "Leidos"
         ],
         "xaxis": "x",
         "y": [
          5,
          5,
          5,
          5,
          5
         ],
         "yaxis": "y"
        },
        {
         "hovertemplate": "company_name=%{x}<br>company_name_count=%{marker.size}<extra></extra>",
         "legendgroup": "CEDENT",
         "marker": {
          "color": "#00cc96",
          "size": [
           1
          ],
          "sizemode": "area",
          "sizeref": 0.095,
          "symbol": "circle"
         },
         "mode": "markers",
         "name": "CEDENT",
         "orientation": "v",
         "showlegend": true,
         "type": "scatter",
         "x": [
          "CEDENT"
         ],
         "xaxis": "x",
         "y": [
          1
         ],
         "yaxis": "y"
        },
        {
         "hovertemplate": "company_name=%{x}<br>company_name_count=%{marker.size}<extra></extra>",
         "legendgroup": "MultiPlan Inc.",
         "marker": {
          "color": "#ab63fa",
          "size": [
           1
          ],
          "sizemode": "area",
          "sizeref": 0.095,
          "symbol": "circle"
         },
         "mode": "markers",
         "name": "MultiPlan Inc.",
         "orientation": "v",
         "showlegend": true,
         "type": "scatter",
         "x": [
          "MultiPlan Inc."
         ],
         "xaxis": "x",
         "y": [
          1
         ],
         "yaxis": "y"
        },
        {
         "hovertemplate": "company_name=%{x}<br>company_name_count=%{marker.size}<extra></extra>",
         "legendgroup": "MetaMetrics Inc",
         "marker": {
          "color": "#FFA15A",
          "size": [
           1
          ],
          "sizemode": "area",
          "sizeref": 0.095,
          "symbol": "circle"
         },
         "mode": "markers",
         "name": "MetaMetrics Inc",
         "orientation": "v",
         "showlegend": true,
         "type": "scatter",
         "x": [
          "MetaMetrics Inc"
         ],
         "xaxis": "x",
         "y": [
          1
         ],
         "yaxis": "y"
        },
        {
         "hovertemplate": "company_name=%{x}<br>company_name_count=%{marker.size}<extra></extra>",
         "legendgroup": "Leidos Inc",
         "marker": {
          "color": "#19d3f3",
          "size": [
           1
          ],
          "sizemode": "area",
          "sizeref": 0.095,
          "symbol": "circle"
         },
         "mode": "markers",
         "name": "Leidos Inc",
         "orientation": "v",
         "showlegend": true,
         "type": "scatter",
         "x": [
          "Leidos Inc"
         ],
         "xaxis": "x",
         "y": [
          1
         ],
         "yaxis": "y"
        },
        {
         "hovertemplate": "company_name=%{x}<br>company_name_count=%{marker.size}<extra></extra>",
         "legendgroup": "Oak Ridge National Laboratory",
         "marker": {
          "color": "#FF6692",
          "size": [
           4,
           4,
           4,
           4
          ],
          "sizemode": "area",
          "sizeref": 0.095,
          "symbol": "circle"
         },
         "mode": "markers",
         "name": "Oak Ridge National Laboratory",
         "orientation": "v",
         "showlegend": true,
         "type": "scatter",
         "x": [
          "Oak Ridge National Laboratory",
          "Oak Ridge National Laboratory",
          "Oak Ridge National Laboratory",
          "Oak Ridge National Laboratory"
         ],
         "xaxis": "x",
         "y": [
          4,
          4,
          4,
          4
         ],
         "yaxis": "y"
        },
        {
         "hovertemplate": "company_name=%{x}<br>company_name_count=%{marker.size}<extra></extra>",
         "legendgroup": "Agolo",
         "marker": {
          "color": "#B6E880",
          "size": [
           1
          ],
          "sizemode": "area",
          "sizeref": 0.095,
          "symbol": "circle"
         },
         "mode": "markers",
         "name": "Agolo",
         "orientation": "v",
         "showlegend": true,
         "type": "scatter",
         "x": [
          "Agolo"
         ],
         "xaxis": "x",
         "y": [
          1
         ],
         "yaxis": "y"
        },
        {
         "hovertemplate": "company_name=%{x}<br>company_name_count=%{marker.size}<extra></extra>",
         "legendgroup": "TalentBurst",
         "marker": {
          "color": "#FF97FF",
          "size": [
           1
          ],
          "sizemode": "area",
          "sizeref": 0.095,
          "symbol": "circle"
         },
         "mode": "markers",
         "name": "TalentBurst",
         "orientation": "v",
         "showlegend": true,
         "type": "scatter",
         "x": [
          "TalentBurst"
         ],
         "xaxis": "x",
         "y": [
          1
         ],
         "yaxis": "y"
        },
        {
         "hovertemplate": "company_name=%{x}<br>company_name_count=%{marker.size}<extra></extra>",
         "legendgroup": "JPMorgan Chase",
         "marker": {
          "color": "#FECB52",
          "size": [
           3,
           3,
           3
          ],
          "sizemode": "area",
          "sizeref": 0.095,
          "symbol": "circle"
         },
         "mode": "markers",
         "name": "JPMorgan Chase",
         "orientation": "v",
         "showlegend": true,
         "type": "scatter",
         "x": [
          "JPMorgan Chase",
          "JPMorgan Chase",
          "JPMorgan Chase"
         ],
         "xaxis": "x",
         "y": [
          3,
          3,
          3
         ],
         "yaxis": "y"
        },
        {
         "hovertemplate": "company_name=%{x}<br>company_name_count=%{marker.size}<extra></extra>",
         "legendgroup": "Base-2 Solutions",
         "marker": {
          "color": "#636efa",
          "size": [
           2,
           2
          ],
          "sizemode": "area",
          "sizeref": 0.095,
          "symbol": "circle"
         },
         "mode": "markers",
         "name": "Base-2 Solutions",
         "orientation": "v",
         "showlegend": true,
         "type": "scatter",
         "x": [
          "Base-2 Solutions",
          "Base-2 Solutions"
         ],
         "xaxis": "x",
         "y": [
          2,
          2
         ],
         "yaxis": "y"
        },
        {
         "hovertemplate": "company_name=%{x}<br>company_name_count=%{marker.size}<extra></extra>",
         "legendgroup": "Tephra Inc.",
         "marker": {
          "color": "#EF553B",
          "size": [
           1
          ],
          "sizemode": "area",
          "sizeref": 0.095,
          "symbol": "circle"
         },
         "mode": "markers",
         "name": "Tephra Inc.",
         "orientation": "v",
         "showlegend": true,
         "type": "scatter",
         "x": [
          "Tephra Inc."
         ],
         "xaxis": "x",
         "y": [
          1
         ],
         "yaxis": "y"
        },
        {
         "hovertemplate": "company_name=%{x}<br>company_name_count=%{marker.size}<extra></extra>",
         "legendgroup": "Triumph Tech",
         "marker": {
          "color": "#00cc96",
          "size": [
           1
          ],
          "sizemode": "area",
          "sizeref": 0.095,
          "symbol": "circle"
         },
         "mode": "markers",
         "name": "Triumph Tech",
         "orientation": "v",
         "showlegend": true,
         "type": "scatter",
         "x": [
          "Triumph Tech"
         ],
         "xaxis": "x",
         "y": [
          1
         ],
         "yaxis": "y"
        },
        {
         "hovertemplate": "company_name=%{x}<br>company_name_count=%{marker.size}<extra></extra>",
         "legendgroup": "Full Stack Resources",
         "marker": {
          "color": "#ab63fa",
          "size": [
           1
          ],
          "sizemode": "area",
          "sizeref": 0.095,
          "symbol": "circle"
         },
         "mode": "markers",
         "name": "Full Stack Resources",
         "orientation": "v",
         "showlegend": true,
         "type": "scatter",
         "x": [
          "Full Stack Resources"
         ],
         "xaxis": "x",
         "y": [
          1
         ],
         "yaxis": "y"
        },
        {
         "hovertemplate": "company_name=%{x}<br>company_name_count=%{marker.size}<extra></extra>",
         "legendgroup": "Erias Ventures, LLC",
         "marker": {
          "color": "#FFA15A",
          "size": [
           2,
           2
          ],
          "sizemode": "area",
          "sizeref": 0.095,
          "symbol": "circle"
         },
         "mode": "markers",
         "name": "Erias Ventures, LLC",
         "orientation": "v",
         "showlegend": true,
         "type": "scatter",
         "x": [
          "Erias Ventures, LLC",
          "Erias Ventures, LLC"
         ],
         "xaxis": "x",
         "y": [
          2,
          2
         ],
         "yaxis": "y"
        },
        {
         "hovertemplate": "company_name=%{x}<br>company_name_count=%{marker.size}<extra></extra>",
         "legendgroup": "ARSIEM Corporation",
         "marker": {
          "color": "#19d3f3",
          "size": [
           1
          ],
          "sizemode": "area",
          "sizeref": 0.095,
          "symbol": "circle"
         },
         "mode": "markers",
         "name": "ARSIEM Corporation",
         "orientation": "v",
         "showlegend": true,
         "type": "scatter",
         "x": [
          "ARSIEM Corporation"
         ],
         "xaxis": "x",
         "y": [
          1
         ],
         "yaxis": "y"
        },
        {
         "hovertemplate": "company_name=%{x}<br>company_name_count=%{marker.size}<extra></extra>",
         "legendgroup": "Novetta",
         "marker": {
          "color": "#FF6692",
          "size": [
           2,
           2
          ],
          "sizemode": "area",
          "sizeref": 0.095,
          "symbol": "circle"
         },
         "mode": "markers",
         "name": "Novetta",
         "orientation": "v",
         "showlegend": true,
         "type": "scatter",
         "x": [
          "Novetta",
          "Novetta"
         ],
         "xaxis": "x",
         "y": [
          2,
          2
         ],
         "yaxis": "y"
        },
        {
         "hovertemplate": "company_name=%{x}<br>company_name_count=%{marker.size}<extra></extra>",
         "legendgroup": "NiSUS Technologies Corporation",
         "marker": {
          "color": "#B6E880",
          "size": [
           1
          ],
          "sizemode": "area",
          "sizeref": 0.095,
          "symbol": "circle"
         },
         "mode": "markers",
         "name": "NiSUS Technologies Corporation",
         "orientation": "v",
         "showlegend": true,
         "type": "scatter",
         "x": [
          "NiSUS Technologies Corporation"
         ],
         "xaxis": "x",
         "y": [
          1
         ],
         "yaxis": "y"
        },
        {
         "hovertemplate": "company_name=%{x}<br>company_name_count=%{marker.size}<extra></extra>",
         "legendgroup": "Farfield Systems",
         "marker": {
          "color": "#FF97FF",
          "size": [
           1
          ],
          "sizemode": "area",
          "sizeref": 0.095,
          "symbol": "circle"
         },
         "mode": "markers",
         "name": "Farfield Systems",
         "orientation": "v",
         "showlegend": true,
         "type": "scatter",
         "x": [
          "Farfield Systems"
         ],
         "xaxis": "x",
         "y": [
          1
         ],
         "yaxis": "y"
        },
        {
         "hovertemplate": "company_name=%{x}<br>company_name_count=%{marker.size}<extra></extra>",
         "legendgroup": "Booz Allen Hamilton",
         "marker": {
          "color": "#FECB52",
          "size": [
           12,
           12,
           12,
           12,
           12,
           12,
           12,
           12,
           12,
           12,
           12,
           12
          ],
          "sizemode": "area",
          "sizeref": 0.095,
          "symbol": "circle"
         },
         "mode": "markers",
         "name": "Booz Allen Hamilton",
         "orientation": "v",
         "showlegend": true,
         "type": "scatter",
         "x": [
          "Booz Allen Hamilton",
          "Booz Allen Hamilton",
          "Booz Allen Hamilton",
          "Booz Allen Hamilton",
          "Booz Allen Hamilton",
          "Booz Allen Hamilton",
          "Booz Allen Hamilton",
          "Booz Allen Hamilton",
          "Booz Allen Hamilton",
          "Booz Allen Hamilton",
          "Booz Allen Hamilton",
          "Booz Allen Hamilton"
         ],
         "xaxis": "x",
         "y": [
          12,
          12,
          12,
          12,
          12,
          12,
          12,
          12,
          12,
          12,
          12,
          12
         ],
         "yaxis": "y"
        },
        {
         "hovertemplate": "company_name=%{x}<br>company_name_count=%{marker.size}<extra></extra>",
         "legendgroup": "Potomac Management Solutions, LLC",
         "marker": {
          "color": "#636efa",
          "size": [
           1
          ],
          "sizemode": "area",
          "sizeref": 0.095,
          "symbol": "circle"
         },
         "mode": "markers",
         "name": "Potomac Management Solutions, LLC",
         "orientation": "v",
         "showlegend": true,
         "type": "scatter",
         "x": [
          "Potomac Management Solutions, LLC"
         ],
         "xaxis": "x",
         "y": [
          1
         ],
         "yaxis": "y"
        },
        {
         "hovertemplate": "company_name=%{x}<br>company_name_count=%{marker.size}<extra></extra>",
         "legendgroup": "INTECON",
         "marker": {
          "color": "#EF553B",
          "size": [
           1
          ],
          "sizemode": "area",
          "sizeref": 0.095,
          "symbol": "circle"
         },
         "mode": "markers",
         "name": "INTECON",
         "orientation": "v",
         "showlegend": true,
         "type": "scatter",
         "x": [
          "INTECON"
         ],
         "xaxis": "x",
         "y": [
          1
         ],
         "yaxis": "y"
        },
        {
         "hovertemplate": "company_name=%{x}<br>company_name_count=%{marker.size}<extra></extra>",
         "legendgroup": "General Dynamics Information Technology",
         "marker": {
          "color": "#00cc96",
          "size": [
           5,
           5,
           5,
           5,
           5
          ],
          "sizemode": "area",
          "sizeref": 0.095,
          "symbol": "circle"
         },
         "mode": "markers",
         "name": "General Dynamics Information Technology",
         "orientation": "v",
         "showlegend": true,
         "type": "scatter",
         "x": [
          "General Dynamics Information Technology",
          "General Dynamics Information Technology",
          "General Dynamics Information Technology",
          "General Dynamics Information Technology",
          "General Dynamics Information Technology"
         ],
         "xaxis": "x",
         "y": [
          5,
          5,
          5,
          5,
          5
         ],
         "yaxis": "y"
        },
        {
         "hovertemplate": "company_name=%{x}<br>company_name_count=%{marker.size}<extra></extra>",
         "legendgroup": "Gentis Solutions",
         "marker": {
          "color": "#ab63fa",
          "size": [
           1
          ],
          "sizemode": "area",
          "sizeref": 0.095,
          "symbol": "circle"
         },
         "mode": "markers",
         "name": "Gentis Solutions",
         "orientation": "v",
         "showlegend": true,
         "type": "scatter",
         "x": [
          "Gentis Solutions"
         ],
         "xaxis": "x",
         "y": [
          1
         ],
         "yaxis": "y"
        },
        {
         "hovertemplate": "company_name=%{x}<br>company_name_count=%{marker.size}<extra></extra>",
         "legendgroup": "Tiber Creek Consulting",
         "marker": {
          "color": "#FFA15A",
          "size": [
           1
          ],
          "sizemode": "area",
          "sizeref": 0.095,
          "symbol": "circle"
         },
         "mode": "markers",
         "name": "Tiber Creek Consulting",
         "orientation": "v",
         "showlegend": true,
         "type": "scatter",
         "x": [
          "Tiber Creek Consulting"
         ],
         "xaxis": "x",
         "y": [
          1
         ],
         "yaxis": "y"
        },
        {
         "hovertemplate": "company_name=%{x}<br>company_name_count=%{marker.size}<extra></extra>",
         "legendgroup": "Cydecor, Inc",
         "marker": {
          "color": "#19d3f3",
          "size": [
           1
          ],
          "sizemode": "area",
          "sizeref": 0.095,
          "symbol": "circle"
         },
         "mode": "markers",
         "name": "Cydecor, Inc",
         "orientation": "v",
         "showlegend": true,
         "type": "scatter",
         "x": [
          "Cydecor, Inc"
         ],
         "xaxis": "x",
         "y": [
          1
         ],
         "yaxis": "y"
        },
        {
         "hovertemplate": "company_name=%{x}<br>company_name_count=%{marker.size}<extra></extra>",
         "legendgroup": "Dice",
         "marker": {
          "color": "#FF6692",
          "size": [
           1
          ],
          "sizemode": "area",
          "sizeref": 0.095,
          "symbol": "circle"
         },
         "mode": "markers",
         "name": "Dice",
         "orientation": "v",
         "showlegend": true,
         "type": "scatter",
         "x": [
          "Dice"
         ],
         "xaxis": "x",
         "y": [
          1
         ],
         "yaxis": "y"
        },
        {
         "hovertemplate": "company_name=%{x}<br>company_name_count=%{marker.size}<extra></extra>",
         "legendgroup": "Lockheed Martin",
         "marker": {
          "color": "#B6E880",
          "size": [
           7,
           7,
           7,
           7,
           7,
           7,
           7
          ],
          "sizemode": "area",
          "sizeref": 0.095,
          "symbol": "circle"
         },
         "mode": "markers",
         "name": "Lockheed Martin",
         "orientation": "v",
         "showlegend": true,
         "type": "scatter",
         "x": [
          "Lockheed Martin",
          "Lockheed Martin",
          "Lockheed Martin",
          "Lockheed Martin",
          "Lockheed Martin",
          "Lockheed Martin",
          "Lockheed Martin"
         ],
         "xaxis": "x",
         "y": [
          7,
          7,
          7,
          7,
          7,
          7,
          7
         ],
         "yaxis": "y"
        },
        {
         "hovertemplate": "company_name=%{x}<br>company_name_count=%{marker.size}<extra></extra>",
         "legendgroup": "Cyrad Solutions LLC",
         "marker": {
          "color": "#FF97FF",
          "size": [
           3,
           3,
           3
          ],
          "sizemode": "area",
          "sizeref": 0.095,
          "symbol": "circle"
         },
         "mode": "markers",
         "name": "Cyrad Solutions LLC",
         "orientation": "v",
         "showlegend": true,
         "type": "scatter",
         "x": [
          "Cyrad Solutions LLC",
          "Cyrad Solutions LLC",
          "Cyrad Solutions LLC"
         ],
         "xaxis": "x",
         "y": [
          3,
          3,
          3
         ],
         "yaxis": "y"
        },
        {
         "hovertemplate": "company_name=%{x}<br>company_name_count=%{marker.size}<extra></extra>",
         "legendgroup": "Booking.com",
         "marker": {
          "color": "#FECB52",
          "size": [
           2,
           2
          ],
          "sizemode": "area",
          "sizeref": 0.095,
          "symbol": "circle"
         },
         "mode": "markers",
         "name": "Booking.com",
         "orientation": "v",
         "showlegend": true,
         "type": "scatter",
         "x": [
          "Booking.com",
          "Booking.com"
         ],
         "xaxis": "x",
         "y": [
          2,
          2
         ],
         "yaxis": "y"
        },
        {
         "hovertemplate": "company_name=%{x}<br>company_name_count=%{marker.size}<extra></extra>",
         "legendgroup": "Two Six Technologies",
         "marker": {
          "color": "#636efa",
          "size": [
           1
          ],
          "sizemode": "area",
          "sizeref": 0.095,
          "symbol": "circle"
         },
         "mode": "markers",
         "name": "Two Six Technologies",
         "orientation": "v",
         "showlegend": true,
         "type": "scatter",
         "x": [
          "Two Six Technologies"
         ],
         "xaxis": "x",
         "y": [
          1
         ],
         "yaxis": "y"
        },
        {
         "hovertemplate": "company_name=%{x}<br>company_name_count=%{marker.size}<extra></extra>",
         "legendgroup": "Peraton",
         "marker": {
          "color": "#EF553B",
          "size": [
           5,
           5,
           5,
           5,
           5
          ],
          "sizemode": "area",
          "sizeref": 0.095,
          "symbol": "circle"
         },
         "mode": "markers",
         "name": "Peraton",
         "orientation": "v",
         "showlegend": true,
         "type": "scatter",
         "x": [
          "Peraton",
          "Peraton",
          "Peraton",
          "Peraton",
          "Peraton"
         ],
         "xaxis": "x",
         "y": [
          5,
          5,
          5,
          5,
          5
         ],
         "yaxis": "y"
        },
        {
         "hovertemplate": "company_name=%{x}<br>company_name_count=%{marker.size}<extra></extra>",
         "legendgroup": "Capital One",
         "marker": {
          "color": "#00cc96",
          "size": [
           3,
           3,
           3
          ],
          "sizemode": "area",
          "sizeref": 0.095,
          "symbol": "circle"
         },
         "mode": "markers",
         "name": "Capital One",
         "orientation": "v",
         "showlegend": true,
         "type": "scatter",
         "x": [
          "Capital One",
          "Capital One",
          "Capital One"
         ],
         "xaxis": "x",
         "y": [
          3,
          3,
          3
         ],
         "yaxis": "y"
        },
        {
         "hovertemplate": "company_name=%{x}<br>company_name_count=%{marker.size}<extra></extra>",
         "legendgroup": "Scale AI",
         "marker": {
          "color": "#ab63fa",
          "size": [
           3,
           3,
           3
          ],
          "sizemode": "area",
          "sizeref": 0.095,
          "symbol": "circle"
         },
         "mode": "markers",
         "name": "Scale AI",
         "orientation": "v",
         "showlegend": true,
         "type": "scatter",
         "x": [
          "Scale AI",
          "Scale AI",
          "Scale AI"
         ],
         "xaxis": "x",
         "y": [
          3,
          3,
          3
         ],
         "yaxis": "y"
        },
        {
         "hovertemplate": "company_name=%{x}<br>company_name_count=%{marker.size}<extra></extra>",
         "legendgroup": "Deloitte",
         "marker": {
          "color": "#FFA15A",
          "size": [
           10,
           10,
           10,
           10,
           10,
           10,
           10,
           10,
           10,
           10
          ],
          "sizemode": "area",
          "sizeref": 0.095,
          "symbol": "circle"
         },
         "mode": "markers",
         "name": "Deloitte",
         "orientation": "v",
         "showlegend": true,
         "type": "scatter",
         "x": [
          "Deloitte",
          "Deloitte",
          "Deloitte",
          "Deloitte",
          "Deloitte",
          "Deloitte",
          "Deloitte",
          "Deloitte",
          "Deloitte",
          "Deloitte"
         ],
         "xaxis": "x",
         "y": [
          10,
          10,
          10,
          10,
          10,
          10,
          10,
          10,
          10,
          10
         ],
         "yaxis": "y"
        },
        {
         "hovertemplate": "company_name=%{x}<br>company_name_count=%{marker.size}<extra></extra>",
         "legendgroup": "Comcast",
         "marker": {
          "color": "#19d3f3",
          "size": [
           1
          ],
          "sizemode": "area",
          "sizeref": 0.095,
          "symbol": "circle"
         },
         "mode": "markers",
         "name": "Comcast",
         "orientation": "v",
         "showlegend": true,
         "type": "scatter",
         "x": [
          "Comcast"
         ],
         "xaxis": "x",
         "y": [
          1
         ],
         "yaxis": "y"
        },
        {
         "hovertemplate": "company_name=%{x}<br>company_name_count=%{marker.size}<extra></extra>",
         "legendgroup": "Accenture Federal Services",
         "marker": {
          "color": "#FF6692",
          "size": [
           1
          ],
          "sizemode": "area",
          "sizeref": 0.095,
          "symbol": "circle"
         },
         "mode": "markers",
         "name": "Accenture Federal Services",
         "orientation": "v",
         "showlegend": true,
         "type": "scatter",
         "x": [
          "Accenture Federal Services"
         ],
         "xaxis": "x",
         "y": [
          1
         ],
         "yaxis": "y"
        },
        {
         "hovertemplate": "company_name=%{x}<br>company_name_count=%{marker.size}<extra></extra>",
         "legendgroup": "Ellumen, Inc",
         "marker": {
          "color": "#B6E880",
          "size": [
           1
          ],
          "sizemode": "area",
          "sizeref": 0.095,
          "symbol": "circle"
         },
         "mode": "markers",
         "name": "Ellumen, Inc",
         "orientation": "v",
         "showlegend": true,
         "type": "scatter",
         "x": [
          "Ellumen, Inc"
         ],
         "xaxis": "x",
         "y": [
          1
         ],
         "yaxis": "y"
        },
        {
         "hovertemplate": "company_name=%{x}<br>company_name_count=%{marker.size}<extra></extra>",
         "legendgroup": "Capital One Financial Corporation",
         "marker": {
          "color": "#FF97FF",
          "size": [
           1
          ],
          "sizemode": "area",
          "sizeref": 0.095,
          "symbol": "circle"
         },
         "mode": "markers",
         "name": "Capital One Financial Corporation",
         "orientation": "v",
         "showlegend": true,
         "type": "scatter",
         "x": [
          "Capital One Financial Corporation"
         ],
         "xaxis": "x",
         "y": [
          1
         ],
         "yaxis": "y"
        },
        {
         "hovertemplate": "company_name=%{x}<br>company_name_count=%{marker.size}<extra></extra>",
         "legendgroup": "Johns Hopkins Applied Physics Laboratory",
         "marker": {
          "color": "#FECB52",
          "size": [
           3,
           3,
           3
          ],
          "sizemode": "area",
          "sizeref": 0.095,
          "symbol": "circle"
         },
         "mode": "markers",
         "name": "Johns Hopkins Applied Physics Laboratory",
         "orientation": "v",
         "showlegend": true,
         "type": "scatter",
         "x": [
          "Johns Hopkins Applied Physics Laboratory",
          "Johns Hopkins Applied Physics Laboratory",
          "Johns Hopkins Applied Physics Laboratory"
         ],
         "xaxis": "x",
         "y": [
          3,
          3,
          3
         ],
         "yaxis": "y"
        },
        {
         "hovertemplate": "company_name=%{x}<br>company_name_count=%{marker.size}<extra></extra>",
         "legendgroup": "Amentum",
         "marker": {
          "color": "#636efa",
          "size": [
           1
          ],
          "sizemode": "area",
          "sizeref": 0.095,
          "symbol": "circle"
         },
         "mode": "markers",
         "name": "Amentum",
         "orientation": "v",
         "showlegend": true,
         "type": "scatter",
         "x": [
          "Amentum"
         ],
         "xaxis": "x",
         "y": [
          1
         ],
         "yaxis": "y"
        },
        {
         "hovertemplate": "company_name=%{x}<br>company_name_count=%{marker.size}<extra></extra>",
         "legendgroup": "Expedition Technology Inc.",
         "marker": {
          "color": "#EF553B",
          "size": [
           2,
           2
          ],
          "sizemode": "area",
          "sizeref": 0.095,
          "symbol": "circle"
         },
         "mode": "markers",
         "name": "Expedition Technology Inc.",
         "orientation": "v",
         "showlegend": true,
         "type": "scatter",
         "x": [
          "Expedition Technology Inc.",
          "Expedition Technology Inc."
         ],
         "xaxis": "x",
         "y": [
          2,
          2
         ],
         "yaxis": "y"
        },
        {
         "hovertemplate": "company_name=%{x}<br>company_name_count=%{marker.size}<extra></extra>",
         "legendgroup": "Snap Inc.",
         "marker": {
          "color": "#00cc96",
          "size": [
           5,
           5,
           5,
           5,
           5
          ],
          "sizemode": "area",
          "sizeref": 0.095,
          "symbol": "circle"
         },
         "mode": "markers",
         "name": "Snap Inc.",
         "orientation": "v",
         "showlegend": true,
         "type": "scatter",
         "x": [
          "Snap Inc.",
          "Snap Inc.",
          "Snap Inc.",
          "Snap Inc.",
          "Snap Inc."
         ],
         "xaxis": "x",
         "y": [
          5,
          5,
          5,
          5,
          5
         ],
         "yaxis": "y"
        },
        {
         "hovertemplate": "company_name=%{x}<br>company_name_count=%{marker.size}<extra></extra>",
         "legendgroup": "Heartland Consulting",
         "marker": {
          "color": "#ab63fa",
          "size": [
           1
          ],
          "sizemode": "area",
          "sizeref": 0.095,
          "symbol": "circle"
         },
         "mode": "markers",
         "name": "Heartland Consulting",
         "orientation": "v",
         "showlegend": true,
         "type": "scatter",
         "x": [
          "Heartland Consulting"
         ],
         "xaxis": "x",
         "y": [
          1
         ],
         "yaxis": "y"
        },
        {
         "hovertemplate": "company_name=%{x}<br>company_name_count=%{marker.size}<extra></extra>",
         "legendgroup": "Latitude, Inc.",
         "marker": {
          "color": "#FFA15A",
          "size": [
           1
          ],
          "sizemode": "area",
          "sizeref": 0.095,
          "symbol": "circle"
         },
         "mode": "markers",
         "name": "Latitude, Inc.",
         "orientation": "v",
         "showlegend": true,
         "type": "scatter",
         "x": [
          "Latitude, Inc."
         ],
         "xaxis": "x",
         "y": [
          1
         ],
         "yaxis": "y"
        },
        {
         "hovertemplate": "company_name=%{x}<br>company_name_count=%{marker.size}<extra></extra>",
         "legendgroup": "Howard Hughes Medical Institute (HHMI)",
         "marker": {
          "color": "#19d3f3",
          "size": [
           1
          ],
          "sizemode": "area",
          "sizeref": 0.095,
          "symbol": "circle"
         },
         "mode": "markers",
         "name": "Howard Hughes Medical Institute (HHMI)",
         "orientation": "v",
         "showlegend": true,
         "type": "scatter",
         "x": [
          "Howard Hughes Medical Institute (HHMI)"
         ],
         "xaxis": "x",
         "y": [
          1
         ],
         "yaxis": "y"
        },
        {
         "hovertemplate": "company_name=%{x}<br>company_name_count=%{marker.size}<extra></extra>",
         "legendgroup": "Liberty Personnel Services, Inc",
         "marker": {
          "color": "#FF6692",
          "size": [
           3,
           3,
           3
          ],
          "sizemode": "area",
          "sizeref": 0.095,
          "symbol": "circle"
         },
         "mode": "markers",
         "name": "Liberty Personnel Services, Inc",
         "orientation": "v",
         "showlegend": true,
         "type": "scatter",
         "x": [
          "Liberty Personnel Services, Inc",
          "Liberty Personnel Services, Inc",
          "Liberty Personnel Services, Inc"
         ],
         "xaxis": "x",
         "y": [
          3,
          3,
          3
         ],
         "yaxis": "y"
        },
        {
         "hovertemplate": "company_name=%{x}<br>company_name_count=%{marker.size}<extra></extra>",
         "legendgroup": "NTT DATA  Services",
         "marker": {
          "color": "#B6E880",
          "size": [
           1
          ],
          "sizemode": "area",
          "sizeref": 0.095,
          "symbol": "circle"
         },
         "mode": "markers",
         "name": "NTT DATA  Services",
         "orientation": "v",
         "showlegend": true,
         "type": "scatter",
         "x": [
          "NTT DATA  Services"
         ],
         "xaxis": "x",
         "y": [
          1
         ],
         "yaxis": "y"
        },
        {
         "hovertemplate": "company_name=%{x}<br>company_name_count=%{marker.size}<extra></extra>",
         "legendgroup": "CAVA",
         "marker": {
          "color": "#FF97FF",
          "size": [
           1
          ],
          "sizemode": "area",
          "sizeref": 0.095,
          "symbol": "circle"
         },
         "mode": "markers",
         "name": "CAVA",
         "orientation": "v",
         "showlegend": true,
         "type": "scatter",
         "x": [
          "CAVA"
         ],
         "xaxis": "x",
         "y": [
          1
         ],
         "yaxis": "y"
        },
        {
         "hovertemplate": "company_name=%{x}<br>company_name_count=%{marker.size}<extra></extra>",
         "legendgroup": "Toffler Associates, Inc.",
         "marker": {
          "color": "#FECB52",
          "size": [
           1
          ],
          "sizemode": "area",
          "sizeref": 0.095,
          "symbol": "circle"
         },
         "mode": "markers",
         "name": "Toffler Associates, Inc.",
         "orientation": "v",
         "showlegend": true,
         "type": "scatter",
         "x": [
          "Toffler Associates, Inc."
         ],
         "xaxis": "x",
         "y": [
          1
         ],
         "yaxis": "y"
        },
        {
         "hovertemplate": "company_name=%{x}<br>company_name_count=%{marker.size}<extra></extra>",
         "legendgroup": "Delta Solutions & Strategies",
         "marker": {
          "color": "#636efa",
          "size": [
           1
          ],
          "sizemode": "area",
          "sizeref": 0.095,
          "symbol": "circle"
         },
         "mode": "markers",
         "name": "Delta Solutions & Strategies",
         "orientation": "v",
         "showlegend": true,
         "type": "scatter",
         "x": [
          "Delta Solutions & Strategies"
         ],
         "xaxis": "x",
         "y": [
          1
         ],
         "yaxis": "y"
        },
        {
         "hovertemplate": "company_name=%{x}<br>company_name_count=%{marker.size}<extra></extra>",
         "legendgroup": "Cherokee Federal",
         "marker": {
          "color": "#EF553B",
          "size": [
           1
          ],
          "sizemode": "area",
          "sizeref": 0.095,
          "symbol": "circle"
         },
         "mode": "markers",
         "name": "Cherokee Federal",
         "orientation": "v",
         "showlegend": true,
         "type": "scatter",
         "x": [
          "Cherokee Federal"
         ],
         "xaxis": "x",
         "y": [
          1
         ],
         "yaxis": "y"
        },
        {
         "hovertemplate": "company_name=%{x}<br>company_name_count=%{marker.size}<extra></extra>",
         "legendgroup": "Avid Technology Professionals, LLC",
         "marker": {
          "color": "#00cc96",
          "size": [
           1
          ],
          "sizemode": "area",
          "sizeref": 0.095,
          "symbol": "circle"
         },
         "mode": "markers",
         "name": "Avid Technology Professionals, LLC",
         "orientation": "v",
         "showlegend": true,
         "type": "scatter",
         "x": [
          "Avid Technology Professionals, LLC"
         ],
         "xaxis": "x",
         "y": [
          1
         ],
         "yaxis": "y"
        },
        {
         "hovertemplate": "company_name=%{x}<br>company_name_count=%{marker.size}<extra></extra>",
         "legendgroup": "Google",
         "marker": {
          "color": "#ab63fa",
          "size": [
           5,
           5,
           5,
           5,
           5
          ],
          "sizemode": "area",
          "sizeref": 0.095,
          "symbol": "circle"
         },
         "mode": "markers",
         "name": "Google",
         "orientation": "v",
         "showlegend": true,
         "type": "scatter",
         "x": [
          "Google",
          "Google",
          "Google",
          "Google",
          "Google"
         ],
         "xaxis": "x",
         "y": [
          5,
          5,
          5,
          5,
          5
         ],
         "yaxis": "y"
        },
        {
         "hovertemplate": "company_name=%{x}<br>company_name_count=%{marker.size}<extra></extra>",
         "legendgroup": "BrainTrust Holdings",
         "marker": {
          "color": "#FFA15A",
          "size": [
           1
          ],
          "sizemode": "area",
          "sizeref": 0.095,
          "symbol": "circle"
         },
         "mode": "markers",
         "name": "BrainTrust Holdings",
         "orientation": "v",
         "showlegend": true,
         "type": "scatter",
         "x": [
          "BrainTrust Holdings"
         ],
         "xaxis": "x",
         "y": [
          1
         ],
         "yaxis": "y"
        },
        {
         "hovertemplate": "company_name=%{x}<br>company_name_count=%{marker.size}<extra></extra>",
         "legendgroup": "ARSIEM",
         "marker": {
          "color": "#19d3f3",
          "size": [
           2,
           2
          ],
          "sizemode": "area",
          "sizeref": 0.095,
          "symbol": "circle"
         },
         "mode": "markers",
         "name": "ARSIEM",
         "orientation": "v",
         "showlegend": true,
         "type": "scatter",
         "x": [
          "ARSIEM",
          "ARSIEM"
         ],
         "xaxis": "x",
         "y": [
          2,
          2
         ],
         "yaxis": "y"
        },
        {
         "hovertemplate": "company_name=%{x}<br>company_name_count=%{marker.size}<extra></extra>",
         "legendgroup": "Amazon Web Services, Inc.",
         "marker": {
          "color": "#FF6692",
          "size": [
           6,
           6,
           6,
           6,
           6,
           6
          ],
          "sizemode": "area",
          "sizeref": 0.095,
          "symbol": "circle"
         },
         "mode": "markers",
         "name": "Amazon Web Services, Inc.",
         "orientation": "v",
         "showlegend": true,
         "type": "scatter",
         "x": [
          "Amazon Web Services, Inc.",
          "Amazon Web Services, Inc.",
          "Amazon Web Services, Inc.",
          "Amazon Web Services, Inc.",
          "Amazon Web Services, Inc.",
          "Amazon Web Services, Inc."
         ],
         "xaxis": "x",
         "y": [
          6,
          6,
          6,
          6,
          6,
          6
         ],
         "yaxis": "y"
        },
        {
         "hovertemplate": "company_name=%{x}<br>company_name_count=%{marker.size}<extra></extra>",
         "legendgroup": "Rakuten USA, Inc.",
         "marker": {
          "color": "#B6E880",
          "size": [
           1
          ],
          "sizemode": "area",
          "sizeref": 0.095,
          "symbol": "circle"
         },
         "mode": "markers",
         "name": "Rakuten USA, Inc.",
         "orientation": "v",
         "showlegend": true,
         "type": "scatter",
         "x": [
          "Rakuten USA, Inc."
         ],
         "xaxis": "x",
         "y": [
          1
         ],
         "yaxis": "y"
        },
        {
         "hovertemplate": "company_name=%{x}<br>company_name_count=%{marker.size}<extra></extra>",
         "legendgroup": "IntelliGenesis LLC",
         "marker": {
          "color": "#FF97FF",
          "size": [
           2,
           2
          ],
          "sizemode": "area",
          "sizeref": 0.095,
          "symbol": "circle"
         },
         "mode": "markers",
         "name": "IntelliGenesis LLC",
         "orientation": "v",
         "showlegend": true,
         "type": "scatter",
         "x": [
          "IntelliGenesis LLC",
          "IntelliGenesis LLC"
         ],
         "xaxis": "x",
         "y": [
          2,
          2
         ],
         "yaxis": "y"
        },
        {
         "hovertemplate": "company_name=%{x}<br>company_name_count=%{marker.size}<extra></extra>",
         "legendgroup": "Arsiem Corporation",
         "marker": {
          "color": "#FECB52",
          "size": [
           3,
           3,
           3
          ],
          "sizemode": "area",
          "sizeref": 0.095,
          "symbol": "circle"
         },
         "mode": "markers",
         "name": "Arsiem Corporation",
         "orientation": "v",
         "showlegend": true,
         "type": "scatter",
         "x": [
          "Arsiem Corporation",
          "Arsiem Corporation",
          "Arsiem Corporation"
         ],
         "xaxis": "x",
         "y": [
          3,
          3,
          3
         ],
         "yaxis": "y"
        },
        {
         "hovertemplate": "company_name=%{x}<br>company_name_count=%{marker.size}<extra></extra>",
         "legendgroup": "Castaway Research",
         "marker": {
          "color": "#636efa",
          "size": [
           1
          ],
          "sizemode": "area",
          "sizeref": 0.095,
          "symbol": "circle"
         },
         "mode": "markers",
         "name": "Castaway Research",
         "orientation": "v",
         "showlegend": true,
         "type": "scatter",
         "x": [
          "Castaway Research"
         ],
         "xaxis": "x",
         "y": [
          1
         ],
         "yaxis": "y"
        },
        {
         "hovertemplate": "company_name=%{x}<br>company_name_count=%{marker.size}<extra></extra>",
         "legendgroup": "Government Employees Insurance Company - GEICO",
         "marker": {
          "color": "#EF553B",
          "size": [
           1
          ],
          "sizemode": "area",
          "sizeref": 0.095,
          "symbol": "circle"
         },
         "mode": "markers",
         "name": "Government Employees Insurance Company - GEICO",
         "orientation": "v",
         "showlegend": true,
         "type": "scatter",
         "x": [
          "Government Employees Insurance Company - GEICO"
         ],
         "xaxis": "x",
         "y": [
          1
         ],
         "yaxis": "y"
        },
        {
         "hovertemplate": "company_name=%{x}<br>company_name_count=%{marker.size}<extra></extra>",
         "legendgroup": "Morfologica",
         "marker": {
          "color": "#00cc96",
          "size": [
           1
          ],
          "sizemode": "area",
          "sizeref": 0.095,
          "symbol": "circle"
         },
         "mode": "markers",
         "name": "Morfologica",
         "orientation": "v",
         "showlegend": true,
         "type": "scatter",
         "x": [
          "Morfologica"
         ],
         "xaxis": "x",
         "y": [
          1
         ],
         "yaxis": "y"
        },
        {
         "hovertemplate": "company_name=%{x}<br>company_name_count=%{marker.size}<extra></extra>",
         "legendgroup": "TeacherOn",
         "marker": {
          "color": "#ab63fa",
          "size": [
           1
          ],
          "sizemode": "area",
          "sizeref": 0.095,
          "symbol": "circle"
         },
         "mode": "markers",
         "name": "TeacherOn",
         "orientation": "v",
         "showlegend": true,
         "type": "scatter",
         "x": [
          "TeacherOn"
         ],
         "xaxis": "x",
         "y": [
          1
         ],
         "yaxis": "y"
        },
        {
         "hovertemplate": "company_name=%{x}<br>company_name_count=%{marker.size}<extra></extra>",
         "legendgroup": "National Library of Medicine",
         "marker": {
          "color": "#FFA15A",
          "size": [
           1
          ],
          "sizemode": "area",
          "sizeref": 0.095,
          "symbol": "circle"
         },
         "mode": "markers",
         "name": "National Library of Medicine",
         "orientation": "v",
         "showlegend": true,
         "type": "scatter",
         "x": [
          "National Library of Medicine"
         ],
         "xaxis": "x",
         "y": [
          1
         ],
         "yaxis": "y"
        },
        {
         "hovertemplate": "company_name=%{x}<br>company_name_count=%{marker.size}<extra></extra>",
         "legendgroup": "Neuro Systems",
         "marker": {
          "color": "#19d3f3",
          "size": [
           1
          ],
          "sizemode": "area",
          "sizeref": 0.095,
          "symbol": "circle"
         },
         "mode": "markers",
         "name": "Neuro Systems",
         "orientation": "v",
         "showlegend": true,
         "type": "scatter",
         "x": [
          "Neuro Systems"
         ],
         "xaxis": "x",
         "y": [
          1
         ],
         "yaxis": "y"
        },
        {
         "hovertemplate": "company_name=%{x}<br>company_name_count=%{marker.size}<extra></extra>",
         "legendgroup": "Supportiv",
         "marker": {
          "color": "#FF6692",
          "size": [
           5,
           5,
           5,
           5,
           5
          ],
          "sizemode": "area",
          "sizeref": 0.095,
          "symbol": "circle"
         },
         "mode": "markers",
         "name": "Supportiv",
         "orientation": "v",
         "showlegend": true,
         "type": "scatter",
         "x": [
          "Supportiv",
          "Supportiv",
          "Supportiv",
          "Supportiv",
          "Supportiv"
         ],
         "xaxis": "x",
         "y": [
          5,
          5,
          5,
          5,
          5
         ],
         "yaxis": "y"
        },
        {
         "hovertemplate": "company_name=%{x}<br>company_name_count=%{marker.size}<extra></extra>",
         "legendgroup": "Amazon.com, Inc",
         "marker": {
          "color": "#B6E880",
          "size": [
           1
          ],
          "sizemode": "area",
          "sizeref": 0.095,
          "symbol": "circle"
         },
         "mode": "markers",
         "name": "Amazon.com, Inc",
         "orientation": "v",
         "showlegend": true,
         "type": "scatter",
         "x": [
          "Amazon.com, Inc"
         ],
         "xaxis": "x",
         "y": [
          1
         ],
         "yaxis": "y"
        },
        {
         "hovertemplate": "company_name=%{x}<br>company_name_count=%{marker.size}<extra></extra>",
         "legendgroup": "Amazon.com Services LLC",
         "marker": {
          "color": "#FF97FF",
          "size": [
           3,
           3,
           3
          ],
          "sizemode": "area",
          "sizeref": 0.095,
          "symbol": "circle"
         },
         "mode": "markers",
         "name": "Amazon.com Services LLC",
         "orientation": "v",
         "showlegend": true,
         "type": "scatter",
         "x": [
          "Amazon.com Services LLC",
          "Amazon.com Services LLC",
          "Amazon.com Services LLC"
         ],
         "xaxis": "x",
         "y": [
          3,
          3,
          3
         ],
         "yaxis": "y"
        },
        {
         "hovertemplate": "company_name=%{x}<br>company_name_count=%{marker.size}<extra></extra>",
         "legendgroup": "Swift",
         "marker": {
          "color": "#FECB52",
          "size": [
           1
          ],
          "sizemode": "area",
          "sizeref": 0.095,
          "symbol": "circle"
         },
         "mode": "markers",
         "name": "Swift",
         "orientation": "v",
         "showlegend": true,
         "type": "scatter",
         "x": [
          "Swift"
         ],
         "xaxis": "x",
         "y": [
          1
         ],
         "yaxis": "y"
        },
        {
         "hovertemplate": "company_name=%{x}<br>company_name_count=%{marker.size}<extra></extra>",
         "legendgroup": "CGI Group, Inc.",
         "marker": {
          "color": "#636efa",
          "size": [
           1
          ],
          "sizemode": "area",
          "sizeref": 0.095,
          "symbol": "circle"
         },
         "mode": "markers",
         "name": "CGI Group, Inc.",
         "orientation": "v",
         "showlegend": true,
         "type": "scatter",
         "x": [
          "CGI Group, Inc."
         ],
         "xaxis": "x",
         "y": [
          1
         ],
         "yaxis": "y"
        },
        {
         "hovertemplate": "company_name=%{x}<br>company_name_count=%{marker.size}<extra></extra>",
         "legendgroup": "Flow Blockchain",
         "marker": {
          "color": "#EF553B",
          "size": [
           1
          ],
          "sizemode": "area",
          "sizeref": 0.095,
          "symbol": "circle"
         },
         "mode": "markers",
         "name": "Flow Blockchain",
         "orientation": "v",
         "showlegend": true,
         "type": "scatter",
         "x": [
          "Flow Blockchain"
         ],
         "xaxis": "x",
         "y": [
          1
         ],
         "yaxis": "y"
        },
        {
         "hovertemplate": "company_name=%{x}<br>company_name_count=%{marker.size}<extra></extra>",
         "legendgroup": "Dapper Labs",
         "marker": {
          "color": "#00cc96",
          "size": [
           1
          ],
          "sizemode": "area",
          "sizeref": 0.095,
          "symbol": "circle"
         },
         "mode": "markers",
         "name": "Dapper Labs",
         "orientation": "v",
         "showlegend": true,
         "type": "scatter",
         "x": [
          "Dapper Labs"
         ],
         "xaxis": "x",
         "y": [
          1
         ],
         "yaxis": "y"
        },
        {
         "hovertemplate": "company_name=%{x}<br>company_name_count=%{marker.size}<extra></extra>",
         "legendgroup": "Axelar",
         "marker": {
          "color": "#ab63fa",
          "size": [
           1
          ],
          "sizemode": "area",
          "sizeref": 0.095,
          "symbol": "circle"
         },
         "mode": "markers",
         "name": "Axelar",
         "orientation": "v",
         "showlegend": true,
         "type": "scatter",
         "x": [
          "Axelar"
         ],
         "xaxis": "x",
         "y": [
          1
         ],
         "yaxis": "y"
        },
        {
         "hovertemplate": "company_name=%{x}<br>company_name_count=%{marker.size}<extra></extra>",
         "legendgroup": "Content Machine",
         "marker": {
          "color": "#FFA15A",
          "size": [
           1
          ],
          "sizemode": "area",
          "sizeref": 0.095,
          "symbol": "circle"
         },
         "mode": "markers",
         "name": "Content Machine",
         "orientation": "v",
         "showlegend": true,
         "type": "scatter",
         "x": [
          "Content Machine"
         ],
         "xaxis": "x",
         "y": [
          1
         ],
         "yaxis": "y"
        },
        {
         "hovertemplate": "company_name=%{x}<br>company_name_count=%{marker.size}<extra></extra>",
         "legendgroup": "Microsoft",
         "marker": {
          "color": "#19d3f3",
          "size": [
           6,
           6,
           6,
           6,
           6,
           6
          ],
          "sizemode": "area",
          "sizeref": 0.095,
          "symbol": "circle"
         },
         "mode": "markers",
         "name": "Microsoft",
         "orientation": "v",
         "showlegend": true,
         "type": "scatter",
         "x": [
          "Microsoft",
          "Microsoft",
          "Microsoft",
          "Microsoft",
          "Microsoft",
          "Microsoft"
         ],
         "xaxis": "x",
         "y": [
          6,
          6,
          6,
          6,
          6,
          6
         ],
         "yaxis": "y"
        },
        {
         "hovertemplate": "company_name=%{x}<br>company_name_count=%{marker.size}<extra></extra>",
         "legendgroup": "JPMC Candidate Experience page",
         "marker": {
          "color": "#FF6692",
          "size": [
           1
          ],
          "sizemode": "area",
          "sizeref": 0.095,
          "symbol": "circle"
         },
         "mode": "markers",
         "name": "JPMC Candidate Experience page",
         "orientation": "v",
         "showlegend": true,
         "type": "scatter",
         "x": [
          "JPMC Candidate Experience page"
         ],
         "xaxis": "x",
         "y": [
          1
         ],
         "yaxis": "y"
        },
        {
         "hovertemplate": "company_name=%{x}<br>company_name_count=%{marker.size}<extra></extra>",
         "legendgroup": "Apple",
         "marker": {
          "color": "#B6E880",
          "size": [
           10,
           10,
           10,
           10,
           10,
           10,
           10,
           10,
           10,
           10
          ],
          "sizemode": "area",
          "sizeref": 0.095,
          "symbol": "circle"
         },
         "mode": "markers",
         "name": "Apple",
         "orientation": "v",
         "showlegend": true,
         "type": "scatter",
         "x": [
          "Apple",
          "Apple",
          "Apple",
          "Apple",
          "Apple",
          "Apple",
          "Apple",
          "Apple",
          "Apple",
          "Apple"
         ],
         "xaxis": "x",
         "y": [
          10,
          10,
          10,
          10,
          10,
          10,
          10,
          10,
          10,
          10
         ],
         "yaxis": "y"
        },
        {
         "hovertemplate": "company_name=%{x}<br>company_name_count=%{marker.size}<extra></extra>",
         "legendgroup": "Quora",
         "marker": {
          "color": "#FF97FF",
          "size": [
           1
          ],
          "sizemode": "area",
          "sizeref": 0.095,
          "symbol": "circle"
         },
         "mode": "markers",
         "name": "Quora",
         "orientation": "v",
         "showlegend": true,
         "type": "scatter",
         "x": [
          "Quora"
         ],
         "xaxis": "x",
         "y": [
          1
         ],
         "yaxis": "y"
        },
        {
         "hovertemplate": "company_name=%{x}<br>company_name_count=%{marker.size}<extra></extra>",
         "legendgroup": "InstaDeep Ltd",
         "marker": {
          "color": "#FECB52",
          "size": [
           1
          ],
          "sizemode": "area",
          "sizeref": 0.095,
          "symbol": "circle"
         },
         "mode": "markers",
         "name": "InstaDeep Ltd",
         "orientation": "v",
         "showlegend": true,
         "type": "scatter",
         "x": [
          "InstaDeep Ltd"
         ],
         "xaxis": "x",
         "y": [
          1
         ],
         "yaxis": "y"
        },
        {
         "hovertemplate": "company_name=%{x}<br>company_name_count=%{marker.size}<extra></extra>",
         "legendgroup": "OpenAI",
         "marker": {
          "color": "#636efa",
          "size": [
           2,
           2
          ],
          "sizemode": "area",
          "sizeref": 0.095,
          "symbol": "circle"
         },
         "mode": "markers",
         "name": "OpenAI",
         "orientation": "v",
         "showlegend": true,
         "type": "scatter",
         "x": [
          "OpenAI",
          "OpenAI"
         ],
         "xaxis": "x",
         "y": [
          2,
          2
         ],
         "yaxis": "y"
        },
        {
         "hovertemplate": "company_name=%{x}<br>company_name_count=%{marker.size}<extra></extra>",
         "legendgroup": "STR",
         "marker": {
          "color": "#EF553B",
          "size": [
           4,
           4,
           4,
           4
          ],
          "sizemode": "area",
          "sizeref": 0.095,
          "symbol": "circle"
         },
         "mode": "markers",
         "name": "STR",
         "orientation": "v",
         "showlegend": true,
         "type": "scatter",
         "x": [
          "STR",
          "STR",
          "STR",
          "STR"
         ],
         "xaxis": "x",
         "y": [
          4,
          4,
          4,
          4
         ],
         "yaxis": "y"
        },
        {
         "hovertemplate": "company_name=%{x}<br>company_name_count=%{marker.size}<extra></extra>",
         "legendgroup": "Aurora Innovation",
         "marker": {
          "color": "#00cc96",
          "size": [
           1
          ],
          "sizemode": "area",
          "sizeref": 0.095,
          "symbol": "circle"
         },
         "mode": "markers",
         "name": "Aurora Innovation",
         "orientation": "v",
         "showlegend": true,
         "type": "scatter",
         "x": [
          "Aurora Innovation"
         ],
         "xaxis": "x",
         "y": [
          1
         ],
         "yaxis": "y"
        },
        {
         "hovertemplate": "company_name=%{x}<br>company_name_count=%{marker.size}<extra></extra>",
         "legendgroup": "Netflix",
         "marker": {
          "color": "#ab63fa",
          "size": [
           2,
           2
          ],
          "sizemode": "area",
          "sizeref": 0.095,
          "symbol": "circle"
         },
         "mode": "markers",
         "name": "Netflix",
         "orientation": "v",
         "showlegend": true,
         "type": "scatter",
         "x": [
          "Netflix",
          "Netflix"
         ],
         "xaxis": "x",
         "y": [
          2,
          2
         ],
         "yaxis": "y"
        },
        {
         "hovertemplate": "company_name=%{x}<br>company_name_count=%{marker.size}<extra></extra>",
         "legendgroup": "Braintrust",
         "marker": {
          "color": "#FFA15A",
          "size": [
           2,
           2
          ],
          "sizemode": "area",
          "sizeref": 0.095,
          "symbol": "circle"
         },
         "mode": "markers",
         "name": "Braintrust",
         "orientation": "v",
         "showlegend": true,
         "type": "scatter",
         "x": [
          "Braintrust",
          "Braintrust"
         ],
         "xaxis": "x",
         "y": [
          2,
          2
         ],
         "yaxis": "y"
        },
        {
         "hovertemplate": "company_name=%{x}<br>company_name_count=%{marker.size}<extra></extra>",
         "legendgroup": "Grand Canyon University",
         "marker": {
          "color": "#19d3f3",
          "size": [
           1
          ],
          "sizemode": "area",
          "sizeref": 0.095,
          "symbol": "circle"
         },
         "mode": "markers",
         "name": "Grand Canyon University",
         "orientation": "v",
         "showlegend": true,
         "type": "scatter",
         "x": [
          "Grand Canyon University"
         ],
         "xaxis": "x",
         "y": [
          1
         ],
         "yaxis": "y"
        },
        {
         "hovertemplate": "company_name=%{x}<br>company_name_count=%{marker.size}<extra></extra>",
         "legendgroup": "Neural Magic",
         "marker": {
          "color": "#FF6692",
          "size": [
           3,
           3,
           3
          ],
          "sizemode": "area",
          "sizeref": 0.095,
          "symbol": "circle"
         },
         "mode": "markers",
         "name": "Neural Magic",
         "orientation": "v",
         "showlegend": true,
         "type": "scatter",
         "x": [
          "Neural Magic",
          "Neural Magic",
          "Neural Magic"
         ],
         "xaxis": "x",
         "y": [
          3,
          3,
          3
         ],
         "yaxis": "y"
        },
        {
         "hovertemplate": "company_name=%{x}<br>company_name_count=%{marker.size}<extra></extra>",
         "legendgroup": "Harsco Corporation",
         "marker": {
          "color": "#B6E880",
          "size": [
           1
          ],
          "sizemode": "area",
          "sizeref": 0.095,
          "symbol": "circle"
         },
         "mode": "markers",
         "name": "Harsco Corporation",
         "orientation": "v",
         "showlegend": true,
         "type": "scatter",
         "x": [
          "Harsco Corporation"
         ],
         "xaxis": "x",
         "y": [
          1
         ],
         "yaxis": "y"
        },
        {
         "hovertemplate": "company_name=%{x}<br>company_name_count=%{marker.size}<extra></extra>",
         "legendgroup": "Owl Autonomous Imaging",
         "marker": {
          "color": "#FF97FF",
          "size": [
           1
          ],
          "sizemode": "area",
          "sizeref": 0.095,
          "symbol": "circle"
         },
         "mode": "markers",
         "name": "Owl Autonomous Imaging",
         "orientation": "v",
         "showlegend": true,
         "type": "scatter",
         "x": [
          "Owl Autonomous Imaging"
         ],
         "xaxis": "x",
         "y": [
          1
         ],
         "yaxis": "y"
        },
        {
         "hovertemplate": "company_name=%{x}<br>company_name_count=%{marker.size}<extra></extra>",
         "legendgroup": "Riccione Resources",
         "marker": {
          "color": "#FECB52",
          "size": [
           1
          ],
          "sizemode": "area",
          "sizeref": 0.095,
          "symbol": "circle"
         },
         "mode": "markers",
         "name": "Riccione Resources",
         "orientation": "v",
         "showlegend": true,
         "type": "scatter",
         "x": [
          "Riccione Resources"
         ],
         "xaxis": "x",
         "y": [
          1
         ],
         "yaxis": "y"
        },
        {
         "hovertemplate": "company_name=%{x}<br>company_name_count=%{marker.size}<extra></extra>",
         "legendgroup": "Tesla",
         "marker": {
          "color": "#636efa",
          "size": [
           2,
           2
          ],
          "sizemode": "area",
          "sizeref": 0.095,
          "symbol": "circle"
         },
         "mode": "markers",
         "name": "Tesla",
         "orientation": "v",
         "showlegend": true,
         "type": "scatter",
         "x": [
          "Tesla",
          "Tesla"
         ],
         "xaxis": "x",
         "y": [
          2,
          2
         ],
         "yaxis": "y"
        },
        {
         "hovertemplate": "company_name=%{x}<br>company_name_count=%{marker.size}<extra></extra>",
         "legendgroup": "Certified Employment Group",
         "marker": {
          "color": "#EF553B",
          "size": [
           1
          ],
          "sizemode": "area",
          "sizeref": 0.095,
          "symbol": "circle"
         },
         "mode": "markers",
         "name": "Certified Employment Group",
         "orientation": "v",
         "showlegend": true,
         "type": "scatter",
         "x": [
          "Certified Employment Group"
         ],
         "xaxis": "x",
         "y": [
          1
         ],
         "yaxis": "y"
        },
        {
         "hovertemplate": "company_name=%{x}<br>company_name_count=%{marker.size}<extra></extra>",
         "legendgroup": "BU_IS, Raytheon Technologies",
         "marker": {
          "color": "#00cc96",
          "size": [
           1
          ],
          "sizemode": "area",
          "sizeref": 0.095,
          "symbol": "circle"
         },
         "mode": "markers",
         "name": "BU_IS, Raytheon Technologies",
         "orientation": "v",
         "showlegend": true,
         "type": "scatter",
         "x": [
          "BU_IS, Raytheon Technologies"
         ],
         "xaxis": "x",
         "y": [
          1
         ],
         "yaxis": "y"
        },
        {
         "hovertemplate": "company_name=%{x}<br>company_name_count=%{marker.size}<extra></extra>",
         "legendgroup": "Gryphon Scientific",
         "marker": {
          "color": "#ab63fa",
          "size": [
           1
          ],
          "sizemode": "area",
          "sizeref": 0.095,
          "symbol": "circle"
         },
         "mode": "markers",
         "name": "Gryphon Scientific",
         "orientation": "v",
         "showlegend": true,
         "type": "scatter",
         "x": [
          "Gryphon Scientific"
         ],
         "xaxis": "x",
         "y": [
          1
         ],
         "yaxis": "y"
        },
        {
         "hovertemplate": "company_name=%{x}<br>company_name_count=%{marker.size}<extra></extra>",
         "legendgroup": "Guidehouse",
         "marker": {
          "color": "#FFA15A",
          "size": [
           1
          ],
          "sizemode": "area",
          "sizeref": 0.095,
          "symbol": "circle"
         },
         "mode": "markers",
         "name": "Guidehouse",
         "orientation": "v",
         "showlegend": true,
         "type": "scatter",
         "x": [
          "Guidehouse"
         ],
         "xaxis": "x",
         "y": [
          1
         ],
         "yaxis": "y"
        },
        {
         "hovertemplate": "company_name=%{x}<br>company_name_count=%{marker.size}<extra></extra>",
         "legendgroup": "ManTech International",
         "marker": {
          "color": "#19d3f3",
          "size": [
           3,
           3,
           3
          ],
          "sizemode": "area",
          "sizeref": 0.095,
          "symbol": "circle"
         },
         "mode": "markers",
         "name": "ManTech International",
         "orientation": "v",
         "showlegend": true,
         "type": "scatter",
         "x": [
          "ManTech International",
          "ManTech International",
          "ManTech International"
         ],
         "xaxis": "x",
         "y": [
          3,
          3,
          3
         ],
         "yaxis": "y"
        },
        {
         "hovertemplate": "company_name=%{x}<br>company_name_count=%{marker.size}<extra></extra>",
         "legendgroup": "ENS Solutions",
         "marker": {
          "color": "#FF6692",
          "size": [
           1
          ],
          "sizemode": "area",
          "sizeref": 0.095,
          "symbol": "circle"
         },
         "mode": "markers",
         "name": "ENS Solutions",
         "orientation": "v",
         "showlegend": true,
         "type": "scatter",
         "x": [
          "ENS Solutions"
         ],
         "xaxis": "x",
         "y": [
          1
         ],
         "yaxis": "y"
        },
        {
         "hovertemplate": "company_name=%{x}<br>company_name_count=%{marker.size}<extra></extra>",
         "legendgroup": "cBEYONData",
         "marker": {
          "color": "#B6E880",
          "size": [
           1
          ],
          "sizemode": "area",
          "sizeref": 0.095,
          "symbol": "circle"
         },
         "mode": "markers",
         "name": "cBEYONData",
         "orientation": "v",
         "showlegend": true,
         "type": "scatter",
         "x": [
          "cBEYONData"
         ],
         "xaxis": "x",
         "y": [
          1
         ],
         "yaxis": "y"
        },
        {
         "hovertemplate": "company_name=%{x}<br>company_name_count=%{marker.size}<extra></extra>",
         "legendgroup": "GovCIO",
         "marker": {
          "color": "#FF97FF",
          "size": [
           1
          ],
          "sizemode": "area",
          "sizeref": 0.095,
          "symbol": "circle"
         },
         "mode": "markers",
         "name": "GovCIO",
         "orientation": "v",
         "showlegend": true,
         "type": "scatter",
         "x": [
          "GovCIO"
         ],
         "xaxis": "x",
         "y": [
          1
         ],
         "yaxis": "y"
        },
        {
         "hovertemplate": "company_name=%{x}<br>company_name_count=%{marker.size}<extra></extra>",
         "legendgroup": "Blend360",
         "marker": {
          "color": "#FECB52",
          "size": [
           1
          ],
          "sizemode": "area",
          "sizeref": 0.095,
          "symbol": "circle"
         },
         "mode": "markers",
         "name": "Blend360",
         "orientation": "v",
         "showlegend": true,
         "type": "scatter",
         "x": [
          "Blend360"
         ],
         "xaxis": "x",
         "y": [
          1
         ],
         "yaxis": "y"
        },
        {
         "hovertemplate": "company_name=%{x}<br>company_name_count=%{marker.size}<extra></extra>",
         "legendgroup": "ICF",
         "marker": {
          "color": "#636efa",
          "size": [
           2,
           2
          ],
          "sizemode": "area",
          "sizeref": 0.095,
          "symbol": "circle"
         },
         "mode": "markers",
         "name": "ICF",
         "orientation": "v",
         "showlegend": true,
         "type": "scatter",
         "x": [
          "ICF",
          "ICF"
         ],
         "xaxis": "x",
         "y": [
          2,
          2
         ],
         "yaxis": "y"
        },
        {
         "hovertemplate": "company_name=%{x}<br>company_name_count=%{marker.size}<extra></extra>",
         "legendgroup": "SRI International",
         "marker": {
          "color": "#EF553B",
          "size": [
           3,
           3,
           3
          ],
          "sizemode": "area",
          "sizeref": 0.095,
          "symbol": "circle"
         },
         "mode": "markers",
         "name": "SRI International",
         "orientation": "v",
         "showlegend": true,
         "type": "scatter",
         "x": [
          "SRI International",
          "SRI International",
          "SRI International"
         ],
         "xaxis": "x",
         "y": [
          3,
          3,
          3
         ],
         "yaxis": "y"
        },
        {
         "hovertemplate": "company_name=%{x}<br>company_name_count=%{marker.size}<extra></extra>",
         "legendgroup": "Cogent Security Consulting",
         "marker": {
          "color": "#00cc96",
          "size": [
           1
          ],
          "sizemode": "area",
          "sizeref": 0.095,
          "symbol": "circle"
         },
         "mode": "markers",
         "name": "Cogent Security Consulting",
         "orientation": "v",
         "showlegend": true,
         "type": "scatter",
         "x": [
          "Cogent Security Consulting"
         ],
         "xaxis": "x",
         "y": [
          1
         ],
         "yaxis": "y"
        },
        {
         "hovertemplate": "company_name=%{x}<br>company_name_count=%{marker.size}<extra></extra>",
         "legendgroup": "SAIC",
         "marker": {
          "color": "#ab63fa",
          "size": [
           1
          ],
          "sizemode": "area",
          "sizeref": 0.095,
          "symbol": "circle"
         },
         "mode": "markers",
         "name": "SAIC",
         "orientation": "v",
         "showlegend": true,
         "type": "scatter",
         "x": [
          "SAIC"
         ],
         "xaxis": "x",
         "y": [
          1
         ],
         "yaxis": "y"
        },
        {
         "hovertemplate": "company_name=%{x}<br>company_name_count=%{marker.size}<extra></extra>",
         "legendgroup": "ClearanceJobs",
         "marker": {
          "color": "#FFA15A",
          "size": [
           1
          ],
          "sizemode": "area",
          "sizeref": 0.095,
          "symbol": "circle"
         },
         "mode": "markers",
         "name": "ClearanceJobs",
         "orientation": "v",
         "showlegend": true,
         "type": "scatter",
         "x": [
          "ClearanceJobs"
         ],
         "xaxis": "x",
         "y": [
          1
         ],
         "yaxis": "y"
        },
        {
         "hovertemplate": "company_name=%{x}<br>company_name_count=%{marker.size}<extra></extra>",
         "legendgroup": "INDEX ANALYTICS LLC",
         "marker": {
          "color": "#19d3f3",
          "size": [
           1
          ],
          "sizemode": "area",
          "sizeref": 0.095,
          "symbol": "circle"
         },
         "mode": "markers",
         "name": "INDEX ANALYTICS LLC",
         "orientation": "v",
         "showlegend": true,
         "type": "scatter",
         "x": [
          "INDEX ANALYTICS LLC"
         ],
         "xaxis": "x",
         "y": [
          1
         ],
         "yaxis": "y"
        },
        {
         "hovertemplate": "company_name=%{x}<br>company_name_count=%{marker.size}<extra></extra>",
         "legendgroup": "Trident Systems Inc",
         "marker": {
          "color": "#FF6692",
          "size": [
           1
          ],
          "sizemode": "area",
          "sizeref": 0.095,
          "symbol": "circle"
         },
         "mode": "markers",
         "name": "Trident Systems Inc",
         "orientation": "v",
         "showlegend": true,
         "type": "scatter",
         "x": [
          "Trident Systems Inc"
         ],
         "xaxis": "x",
         "y": [
          1
         ],
         "yaxis": "y"
        },
        {
         "hovertemplate": "company_name=%{x}<br>company_name_count=%{marker.size}<extra></extra>",
         "legendgroup": "Trilogy Innovations Inc",
         "marker": {
          "color": "#B6E880",
          "size": [
           2,
           2
          ],
          "sizemode": "area",
          "sizeref": 0.095,
          "symbol": "circle"
         },
         "mode": "markers",
         "name": "Trilogy Innovations Inc",
         "orientation": "v",
         "showlegend": true,
         "type": "scatter",
         "x": [
          "Trilogy Innovations Inc",
          "Trilogy Innovations Inc"
         ],
         "xaxis": "x",
         "y": [
          2,
          2
         ],
         "yaxis": "y"
        },
        {
         "hovertemplate": "company_name=%{x}<br>company_name_count=%{marker.size}<extra></extra>",
         "legendgroup": "Curai",
         "marker": {
          "color": "#FF97FF",
          "size": [
           2,
           2
          ],
          "sizemode": "area",
          "sizeref": 0.095,
          "symbol": "circle"
         },
         "mode": "markers",
         "name": "Curai",
         "orientation": "v",
         "showlegend": true,
         "type": "scatter",
         "x": [
          "Curai",
          "Curai"
         ],
         "xaxis": "x",
         "y": [
          2,
          2
         ],
         "yaxis": "y"
        },
        {
         "hovertemplate": "company_name=%{x}<br>company_name_count=%{marker.size}<extra></extra>",
         "legendgroup": "Motional",
         "marker": {
          "color": "#FECB52",
          "size": [
           1
          ],
          "sizemode": "area",
          "sizeref": 0.095,
          "symbol": "circle"
         },
         "mode": "markers",
         "name": "Motional",
         "orientation": "v",
         "showlegend": true,
         "type": "scatter",
         "x": [
          "Motional"
         ],
         "xaxis": "x",
         "y": [
          1
         ],
         "yaxis": "y"
        },
        {
         "hovertemplate": "company_name=%{x}<br>company_name_count=%{marker.size}<extra></extra>",
         "legendgroup": "Workarise",
         "marker": {
          "color": "#636efa",
          "size": [
           1
          ],
          "sizemode": "area",
          "sizeref": 0.095,
          "symbol": "circle"
         },
         "mode": "markers",
         "name": "Workarise",
         "orientation": "v",
         "showlegend": true,
         "type": "scatter",
         "x": [
          "Workarise"
         ],
         "xaxis": "x",
         "y": [
          1
         ],
         "yaxis": "y"
        },
        {
         "hovertemplate": "company_name=%{x}<br>company_name_count=%{marker.size}<extra></extra>",
         "legendgroup": "2100 NVIDIA USA",
         "marker": {
          "color": "#EF553B",
          "size": [
           3,
           3,
           3
          ],
          "sizemode": "area",
          "sizeref": 0.095,
          "symbol": "circle"
         },
         "mode": "markers",
         "name": "2100 NVIDIA USA",
         "orientation": "v",
         "showlegend": true,
         "type": "scatter",
         "x": [
          "2100 NVIDIA USA",
          "2100 NVIDIA USA",
          "2100 NVIDIA USA"
         ],
         "xaxis": "x",
         "y": [
          3,
          3,
          3
         ],
         "yaxis": "y"
        },
        {
         "hovertemplate": "company_name=%{x}<br>company_name_count=%{marker.size}<extra></extra>",
         "legendgroup": "Covera Health",
         "marker": {
          "color": "#00cc96",
          "size": [
           2,
           2
          ],
          "sizemode": "area",
          "sizeref": 0.095,
          "symbol": "circle"
         },
         "mode": "markers",
         "name": "Covera Health",
         "orientation": "v",
         "showlegend": true,
         "type": "scatter",
         "x": [
          "Covera Health",
          "Covera Health"
         ],
         "xaxis": "x",
         "y": [
          2,
          2
         ],
         "yaxis": "y"
        },
        {
         "hovertemplate": "company_name=%{x}<br>company_name_count=%{marker.size}<extra></extra>",
         "legendgroup": "Facebook",
         "marker": {
          "color": "#ab63fa",
          "size": [
           3,
           3,
           3
          ],
          "sizemode": "area",
          "sizeref": 0.095,
          "symbol": "circle"
         },
         "mode": "markers",
         "name": "Facebook",
         "orientation": "v",
         "showlegend": true,
         "type": "scatter",
         "x": [
          "Facebook",
          "Facebook",
          "Facebook"
         ],
         "xaxis": "x",
         "y": [
          3,
          3,
          3
         ],
         "yaxis": "y"
        },
        {
         "hovertemplate": "company_name=%{x}<br>company_name_count=%{marker.size}<extra></extra>",
         "legendgroup": "Bosch Group LLC",
         "marker": {
          "color": "#FFA15A",
          "size": [
           2,
           2
          ],
          "sizemode": "area",
          "sizeref": 0.095,
          "symbol": "circle"
         },
         "mode": "markers",
         "name": "Bosch Group LLC",
         "orientation": "v",
         "showlegend": true,
         "type": "scatter",
         "x": [
          "Bosch Group LLC",
          "Bosch Group LLC"
         ],
         "xaxis": "x",
         "y": [
          2,
          2
         ],
         "yaxis": "y"
        },
        {
         "hovertemplate": "company_name=%{x}<br>company_name_count=%{marker.size}<extra></extra>",
         "legendgroup": "Robinhood",
         "marker": {
          "color": "#19d3f3",
          "size": [
           1
          ],
          "sizemode": "area",
          "sizeref": 0.095,
          "symbol": "circle"
         },
         "mode": "markers",
         "name": "Robinhood",
         "orientation": "v",
         "showlegend": true,
         "type": "scatter",
         "x": [
          "Robinhood"
         ],
         "xaxis": "x",
         "y": [
          1
         ],
         "yaxis": "y"
        },
        {
         "hovertemplate": "company_name=%{x}<br>company_name_count=%{marker.size}<extra></extra>",
         "legendgroup": "Keyo",
         "marker": {
          "color": "#FF6692",
          "size": [
           1
          ],
          "sizemode": "area",
          "sizeref": 0.095,
          "symbol": "circle"
         },
         "mode": "markers",
         "name": "Keyo",
         "orientation": "v",
         "showlegend": true,
         "type": "scatter",
         "x": [
          "Keyo"
         ],
         "xaxis": "x",
         "y": [
          1
         ],
         "yaxis": "y"
        },
        {
         "hovertemplate": "company_name=%{x}<br>company_name_count=%{marker.size}<extra></extra>",
         "legendgroup": "Forethought",
         "marker": {
          "color": "#B6E880",
          "size": [
           1
          ],
          "sizemode": "area",
          "sizeref": 0.095,
          "symbol": "circle"
         },
         "mode": "markers",
         "name": "Forethought",
         "orientation": "v",
         "showlegend": true,
         "type": "scatter",
         "x": [
          "Forethought"
         ],
         "xaxis": "x",
         "y": [
          1
         ],
         "yaxis": "y"
        },
        {
         "hovertemplate": "company_name=%{x}<br>company_name_count=%{marker.size}<extra></extra>",
         "legendgroup": "InstaDeep",
         "marker": {
          "color": "#FF97FF",
          "size": [
           1
          ],
          "sizemode": "area",
          "sizeref": 0.095,
          "symbol": "circle"
         },
         "mode": "markers",
         "name": "InstaDeep",
         "orientation": "v",
         "showlegend": true,
         "type": "scatter",
         "x": [
          "InstaDeep"
         ],
         "xaxis": "x",
         "y": [
          1
         ],
         "yaxis": "y"
        },
        {
         "hovertemplate": "company_name=%{x}<br>company_name_count=%{marker.size}<extra></extra>",
         "legendgroup": "1014 United States of America, Convatec",
         "marker": {
          "color": "#FECB52",
          "size": [
           1
          ],
          "sizemode": "area",
          "sizeref": 0.095,
          "symbol": "circle"
         },
         "mode": "markers",
         "name": "1014 United States of America, Convatec",
         "orientation": "v",
         "showlegend": true,
         "type": "scatter",
         "x": [
          "1014 United States of America, Convatec"
         ],
         "xaxis": "x",
         "y": [
          1
         ],
         "yaxis": "y"
        },
        {
         "hovertemplate": "company_name=%{x}<br>company_name_count=%{marker.size}<extra></extra>",
         "legendgroup": "Arena AI",
         "marker": {
          "color": "#636efa",
          "size": [
           1
          ],
          "sizemode": "area",
          "sizeref": 0.095,
          "symbol": "circle"
         },
         "mode": "markers",
         "name": "Arena AI",
         "orientation": "v",
         "showlegend": true,
         "type": "scatter",
         "x": [
          "Arena AI"
         ],
         "xaxis": "x",
         "y": [
          1
         ],
         "yaxis": "y"
        },
        {
         "hovertemplate": "company_name=%{x}<br>company_name_count=%{marker.size}<extra></extra>",
         "legendgroup": "Unify Consulting",
         "marker": {
          "color": "#EF553B",
          "size": [
           2,
           2
          ],
          "sizemode": "area",
          "sizeref": 0.095,
          "symbol": "circle"
         },
         "mode": "markers",
         "name": "Unify Consulting",
         "orientation": "v",
         "showlegend": true,
         "type": "scatter",
         "x": [
          "Unify Consulting",
          "Unify Consulting"
         ],
         "xaxis": "x",
         "y": [
          2,
          2
         ],
         "yaxis": "y"
        },
        {
         "hovertemplate": "company_name=%{x}<br>company_name_count=%{marker.size}<extra></extra>",
         "legendgroup": "MathWorks",
         "marker": {
          "color": "#00cc96",
          "size": [
           4,
           4,
           4,
           4
          ],
          "sizemode": "area",
          "sizeref": 0.095,
          "symbol": "circle"
         },
         "mode": "markers",
         "name": "MathWorks",
         "orientation": "v",
         "showlegend": true,
         "type": "scatter",
         "x": [
          "MathWorks",
          "MathWorks",
          "MathWorks",
          "MathWorks"
         ],
         "xaxis": "x",
         "y": [
          4,
          4,
          4,
          4
         ],
         "yaxis": "y"
        },
        {
         "hovertemplate": "company_name=%{x}<br>company_name_count=%{marker.size}<extra></extra>",
         "legendgroup": "10001252 - AI Science Specialist",
         "marker": {
          "color": "#ab63fa",
          "size": [
           1
          ],
          "sizemode": "area",
          "sizeref": 0.095,
          "symbol": "circle"
         },
         "mode": "markers",
         "name": "10001252 - AI Science Specialist",
         "orientation": "v",
         "showlegend": true,
         "type": "scatter",
         "x": [
          "10001252 - AI Science Specialist"
         ],
         "xaxis": "x",
         "y": [
          1
         ],
         "yaxis": "y"
        },
        {
         "hovertemplate": "company_name=%{x}<br>company_name_count=%{marker.size}<extra></extra>",
         "legendgroup": "Anyscale",
         "marker": {
          "color": "#FFA15A",
          "size": [
           1
          ],
          "sizemode": "area",
          "sizeref": 0.095,
          "symbol": "circle"
         },
         "mode": "markers",
         "name": "Anyscale",
         "orientation": "v",
         "showlegend": true,
         "type": "scatter",
         "x": [
          "Anyscale"
         ],
         "xaxis": "x",
         "y": [
          1
         ],
         "yaxis": "y"
        },
        {
         "hovertemplate": "company_name=%{x}<br>company_name_count=%{marker.size}<extra></extra>",
         "legendgroup": "jpmc/CX_1001",
         "marker": {
          "color": "#19d3f3",
          "size": [
           1
          ],
          "sizemode": "area",
          "sizeref": 0.095,
          "symbol": "circle"
         },
         "mode": "markers",
         "name": "jpmc/CX_1001",
         "orientation": "v",
         "showlegend": true,
         "type": "scatter",
         "x": [
          "jpmc/CX_1001"
         ],
         "xaxis": "x",
         "y": [
          1
         ],
         "yaxis": "y"
        },
        {
         "hovertemplate": "company_name=%{x}<br>company_name_count=%{marker.size}<extra></extra>",
         "legendgroup": "OriGen.AI",
         "marker": {
          "color": "#FF6692",
          "size": [
           1
          ],
          "sizemode": "area",
          "sizeref": 0.095,
          "symbol": "circle"
         },
         "mode": "markers",
         "name": "OriGen.AI",
         "orientation": "v",
         "showlegend": true,
         "type": "scatter",
         "x": [
          "OriGen.AI"
         ],
         "xaxis": "x",
         "y": [
          1
         ],
         "yaxis": "y"
        },
        {
         "hovertemplate": "company_name=%{x}<br>company_name_count=%{marker.size}<extra></extra>",
         "legendgroup": "Wolfram",
         "marker": {
          "color": "#B6E880",
          "size": [
           2,
           2
          ],
          "sizemode": "area",
          "sizeref": 0.095,
          "symbol": "circle"
         },
         "mode": "markers",
         "name": "Wolfram",
         "orientation": "v",
         "showlegend": true,
         "type": "scatter",
         "x": [
          "Wolfram",
          "Wolfram"
         ],
         "xaxis": "x",
         "y": [
          2,
          2
         ],
         "yaxis": "y"
        },
        {
         "hovertemplate": "company_name=%{x}<br>company_name_count=%{marker.size}<extra></extra>",
         "legendgroup": "DATA FUSION & NEURAL NETWORKS",
         "marker": {
          "color": "#FF97FF",
          "size": [
           1
          ],
          "sizemode": "area",
          "sizeref": 0.095,
          "symbol": "circle"
         },
         "mode": "markers",
         "name": "DATA FUSION & NEURAL NETWORKS",
         "orientation": "v",
         "showlegend": true,
         "type": "scatter",
         "x": [
          "DATA FUSION & NEURAL NETWORKS"
         ],
         "xaxis": "x",
         "y": [
          1
         ],
         "yaxis": "y"
        },
        {
         "hovertemplate": "company_name=%{x}<br>company_name_count=%{marker.size}<extra></extra>",
         "legendgroup": "Comcast Corporation",
         "marker": {
          "color": "#FECB52",
          "size": [
           1
          ],
          "sizemode": "area",
          "sizeref": 0.095,
          "symbol": "circle"
         },
         "mode": "markers",
         "name": "Comcast Corporation",
         "orientation": "v",
         "showlegend": true,
         "type": "scatter",
         "x": [
          "Comcast Corporation"
         ],
         "xaxis": "x",
         "y": [
          1
         ],
         "yaxis": "y"
        },
        {
         "hovertemplate": "company_name=%{x}<br>company_name_count=%{marker.size}<extra></extra>",
         "legendgroup": "Elajika Inc",
         "marker": {
          "color": "#636efa",
          "size": [
           1
          ],
          "sizemode": "area",
          "sizeref": 0.095,
          "symbol": "circle"
         },
         "mode": "markers",
         "name": "Elajika Inc",
         "orientation": "v",
         "showlegend": true,
         "type": "scatter",
         "x": [
          "Elajika Inc"
         ],
         "xaxis": "x",
         "y": [
          1
         ],
         "yaxis": "y"
        },
        {
         "hovertemplate": "company_name=%{x}<br>company_name_count=%{marker.size}<extra></extra>",
         "legendgroup": "Prescient Edge",
         "marker": {
          "color": "#EF553B",
          "size": [
           1
          ],
          "sizemode": "area",
          "sizeref": 0.095,
          "symbol": "circle"
         },
         "mode": "markers",
         "name": "Prescient Edge",
         "orientation": "v",
         "showlegend": true,
         "type": "scatter",
         "x": [
          "Prescient Edge"
         ],
         "xaxis": "x",
         "y": [
          1
         ],
         "yaxis": "y"
        },
        {
         "hovertemplate": "company_name=%{x}<br>company_name_count=%{marker.size}<extra></extra>",
         "legendgroup": "Planet Pharma",
         "marker": {
          "color": "#00cc96",
          "size": [
           2,
           2
          ],
          "sizemode": "area",
          "sizeref": 0.095,
          "symbol": "circle"
         },
         "mode": "markers",
         "name": "Planet Pharma",
         "orientation": "v",
         "showlegend": true,
         "type": "scatter",
         "x": [
          "Planet Pharma",
          "Planet Pharma"
         ],
         "xaxis": "x",
         "y": [
          2,
          2
         ],
         "yaxis": "y"
        },
        {
         "hovertemplate": "company_name=%{x}<br>company_name_count=%{marker.size}<extra></extra>",
         "legendgroup": "Shelf Engine",
         "marker": {
          "color": "#ab63fa",
          "size": [
           1
          ],
          "sizemode": "area",
          "sizeref": 0.095,
          "symbol": "circle"
         },
         "mode": "markers",
         "name": "Shelf Engine",
         "orientation": "v",
         "showlegend": true,
         "type": "scatter",
         "x": [
          "Shelf Engine"
         ],
         "xaxis": "x",
         "y": [
          1
         ],
         "yaxis": "y"
        },
        {
         "hovertemplate": "company_name=%{x}<br>company_name_count=%{marker.size}<extra></extra>",
         "legendgroup": "SOS International LLC",
         "marker": {
          "color": "#FFA15A",
          "size": [
           1
          ],
          "sizemode": "area",
          "sizeref": 0.095,
          "symbol": "circle"
         },
         "mode": "markers",
         "name": "SOS International LLC",
         "orientation": "v",
         "showlegend": true,
         "type": "scatter",
         "x": [
          "SOS International LLC"
         ],
         "xaxis": "x",
         "y": [
          1
         ],
         "yaxis": "y"
        },
        {
         "hovertemplate": "company_name=%{x}<br>company_name_count=%{marker.size}<extra></extra>",
         "legendgroup": "Chenega Corporation",
         "marker": {
          "color": "#19d3f3",
          "size": [
           1
          ],
          "sizemode": "area",
          "sizeref": 0.095,
          "symbol": "circle"
         },
         "mode": "markers",
         "name": "Chenega Corporation",
         "orientation": "v",
         "showlegend": true,
         "type": "scatter",
         "x": [
          "Chenega Corporation"
         ],
         "xaxis": "x",
         "y": [
          1
         ],
         "yaxis": "y"
        },
        {
         "hovertemplate": "company_name=%{x}<br>company_name_count=%{marker.size}<extra></extra>",
         "legendgroup": "USAJOBS",
         "marker": {
          "color": "#FF6692",
          "size": [
           1
          ],
          "sizemode": "area",
          "sizeref": 0.095,
          "symbol": "circle"
         },
         "mode": "markers",
         "name": "USAJOBS",
         "orientation": "v",
         "showlegend": true,
         "type": "scatter",
         "x": [
          "USAJOBS"
         ],
         "xaxis": "x",
         "y": [
          1
         ],
         "yaxis": "y"
        },
        {
         "hovertemplate": "company_name=%{x}<br>company_name_count=%{marker.size}<extra></extra>",
         "legendgroup": "Cross Screen Media",
         "marker": {
          "color": "#B6E880",
          "size": [
           1
          ],
          "sizemode": "area",
          "sizeref": 0.095,
          "symbol": "circle"
         },
         "mode": "markers",
         "name": "Cross Screen Media",
         "orientation": "v",
         "showlegend": true,
         "type": "scatter",
         "x": [
          "Cross Screen Media"
         ],
         "xaxis": "x",
         "y": [
          1
         ],
         "yaxis": "y"
        },
        {
         "hovertemplate": "company_name=%{x}<br>company_name_count=%{marker.size}<extra></extra>",
         "legendgroup": "Mathematica Policy Research",
         "marker": {
          "color": "#FF97FF",
          "size": [
           1
          ],
          "sizemode": "area",
          "sizeref": 0.095,
          "symbol": "circle"
         },
         "mode": "markers",
         "name": "Mathematica Policy Research",
         "orientation": "v",
         "showlegend": true,
         "type": "scatter",
         "x": [
          "Mathematica Policy Research"
         ],
         "xaxis": "x",
         "y": [
          1
         ],
         "yaxis": "y"
        },
        {
         "hovertemplate": "company_name=%{x}<br>company_name_count=%{marker.size}<extra></extra>",
         "legendgroup": "Diverse Lynx",
         "marker": {
          "color": "#FECB52",
          "size": [
           1
          ],
          "sizemode": "area",
          "sizeref": 0.095,
          "symbol": "circle"
         },
         "mode": "markers",
         "name": "Diverse Lynx",
         "orientation": "v",
         "showlegend": true,
         "type": "scatter",
         "x": [
          "Diverse Lynx"
         ],
         "xaxis": "x",
         "y": [
          1
         ],
         "yaxis": "y"
        },
        {
         "hovertemplate": "company_name=%{x}<br>company_name_count=%{marker.size}<extra></extra>",
         "legendgroup": "Apple, Inc.",
         "marker": {
          "color": "#636efa",
          "size": [
           1
          ],
          "sizemode": "area",
          "sizeref": 0.095,
          "symbol": "circle"
         },
         "mode": "markers",
         "name": "Apple, Inc.",
         "orientation": "v",
         "showlegend": true,
         "type": "scatter",
         "x": [
          "Apple, Inc."
         ],
         "xaxis": "x",
         "y": [
          1
         ],
         "yaxis": "y"
        },
        {
         "hovertemplate": "company_name=%{x}<br>company_name_count=%{marker.size}<extra></extra>",
         "legendgroup": "Topaz Labs",
         "marker": {
          "color": "#EF553B",
          "size": [
           1
          ],
          "sizemode": "area",
          "sizeref": 0.095,
          "symbol": "circle"
         },
         "mode": "markers",
         "name": "Topaz Labs",
         "orientation": "v",
         "showlegend": true,
         "type": "scatter",
         "x": [
          "Topaz Labs"
         ],
         "xaxis": "x",
         "y": [
          1
         ],
         "yaxis": "y"
        },
        {
         "hovertemplate": "company_name=%{x}<br>company_name_count=%{marker.size}<extra></extra>",
         "legendgroup": "Bronson Technical Search",
         "marker": {
          "color": "#00cc96",
          "size": [
           1
          ],
          "sizemode": "area",
          "sizeref": 0.095,
          "symbol": "circle"
         },
         "mode": "markers",
         "name": "Bronson Technical Search",
         "orientation": "v",
         "showlegend": true,
         "type": "scatter",
         "x": [
          "Bronson Technical Search"
         ],
         "xaxis": "x",
         "y": [
          1
         ],
         "yaxis": "y"
        },
        {
         "hovertemplate": "company_name=%{x}<br>company_name_count=%{marker.size}<extra></extra>",
         "legendgroup": "OPPO US Research Center",
         "marker": {
          "color": "#ab63fa",
          "size": [
           1
          ],
          "sizemode": "area",
          "sizeref": 0.095,
          "symbol": "circle"
         },
         "mode": "markers",
         "name": "OPPO US Research Center",
         "orientation": "v",
         "showlegend": true,
         "type": "scatter",
         "x": [
          "OPPO US Research Center"
         ],
         "xaxis": "x",
         "y": [
          1
         ],
         "yaxis": "y"
        },
        {
         "hovertemplate": "company_name=%{x}<br>company_name_count=%{marker.size}<extra></extra>",
         "legendgroup": "Genentech",
         "marker": {
          "color": "#FFA15A",
          "size": [
           3,
           3,
           3
          ],
          "sizemode": "area",
          "sizeref": 0.095,
          "symbol": "circle"
         },
         "mode": "markers",
         "name": "Genentech",
         "orientation": "v",
         "showlegend": true,
         "type": "scatter",
         "x": [
          "Genentech",
          "Genentech",
          "Genentech"
         ],
         "xaxis": "x",
         "y": [
          3,
          3,
          3
         ],
         "yaxis": "y"
        },
        {
         "hovertemplate": "company_name=%{x}<br>company_name_count=%{marker.size}<extra></extra>",
         "legendgroup": "Indotronix International Corporation",
         "marker": {
          "color": "#19d3f3",
          "size": [
           1
          ],
          "sizemode": "area",
          "sizeref": 0.095,
          "symbol": "circle"
         },
         "mode": "markers",
         "name": "Indotronix International Corporation",
         "orientation": "v",
         "showlegend": true,
         "type": "scatter",
         "x": [
          "Indotronix International Corporation"
         ],
         "xaxis": "x",
         "y": [
          1
         ],
         "yaxis": "y"
        },
        {
         "hovertemplate": "company_name=%{x}<br>company_name_count=%{marker.size}<extra></extra>",
         "legendgroup": "Abnormal Security",
         "marker": {
          "color": "#FF6692",
          "size": [
           1
          ],
          "sizemode": "area",
          "sizeref": 0.095,
          "symbol": "circle"
         },
         "mode": "markers",
         "name": "Abnormal Security",
         "orientation": "v",
         "showlegend": true,
         "type": "scatter",
         "x": [
          "Abnormal Security"
         ],
         "xaxis": "x",
         "y": [
          1
         ],
         "yaxis": "y"
        },
        {
         "hovertemplate": "company_name=%{x}<br>company_name_count=%{marker.size}<extra></extra>",
         "legendgroup": "Intel Corporation",
         "marker": {
          "color": "#B6E880",
          "size": [
           1
          ],
          "sizemode": "area",
          "sizeref": 0.095,
          "symbol": "circle"
         },
         "mode": "markers",
         "name": "Intel Corporation",
         "orientation": "v",
         "showlegend": true,
         "type": "scatter",
         "x": [
          "Intel Corporation"
         ],
         "xaxis": "x",
         "y": [
          1
         ],
         "yaxis": "y"
        },
        {
         "hovertemplate": "company_name=%{x}<br>company_name_count=%{marker.size}<extra></extra>",
         "legendgroup": "LLNL",
         "marker": {
          "color": "#FF97FF",
          "size": [
           3,
           3,
           3
          ],
          "sizemode": "area",
          "sizeref": 0.095,
          "symbol": "circle"
         },
         "mode": "markers",
         "name": "LLNL",
         "orientation": "v",
         "showlegend": true,
         "type": "scatter",
         "x": [
          "LLNL",
          "LLNL",
          "LLNL"
         ],
         "xaxis": "x",
         "y": [
          3,
          3,
          3
         ],
         "yaxis": "y"
        },
        {
         "hovertemplate": "company_name=%{x}<br>company_name_count=%{marker.size}<extra></extra>",
         "legendgroup": "GSK",
         "marker": {
          "color": "#FECB52",
          "size": [
           2,
           2
          ],
          "sizemode": "area",
          "sizeref": 0.095,
          "symbol": "circle"
         },
         "mode": "markers",
         "name": "GSK",
         "orientation": "v",
         "showlegend": true,
         "type": "scatter",
         "x": [
          "GSK",
          "GSK"
         ],
         "xaxis": "x",
         "y": [
          2,
          2
         ],
         "yaxis": "y"
        },
        {
         "hovertemplate": "company_name=%{x}<br>company_name_count=%{marker.size}<extra></extra>",
         "legendgroup": "Cyberjin",
         "marker": {
          "color": "#636efa",
          "size": [
           1
          ],
          "sizemode": "area",
          "sizeref": 0.095,
          "symbol": "circle"
         },
         "mode": "markers",
         "name": "Cyberjin",
         "orientation": "v",
         "showlegend": true,
         "type": "scatter",
         "x": [
          "Cyberjin"
         ],
         "xaxis": "x",
         "y": [
          1
         ],
         "yaxis": "y"
        },
        {
         "hovertemplate": "company_name=%{x}<br>company_name_count=%{marker.size}<extra></extra>",
         "legendgroup": "Deeproute.ai",
         "marker": {
          "color": "#EF553B",
          "size": [
           1
          ],
          "sizemode": "area",
          "sizeref": 0.095,
          "symbol": "circle"
         },
         "mode": "markers",
         "name": "Deeproute.ai",
         "orientation": "v",
         "showlegend": true,
         "type": "scatter",
         "x": [
          "Deeproute.ai"
         ],
         "xaxis": "x",
         "y": [
          1
         ],
         "yaxis": "y"
        },
        {
         "hovertemplate": "company_name=%{x}<br>company_name_count=%{marker.size}<extra></extra>",
         "legendgroup": "RIOS Intelligent Machines",
         "marker": {
          "color": "#00cc96",
          "size": [
           2,
           2
          ],
          "sizemode": "area",
          "sizeref": 0.095,
          "symbol": "circle"
         },
         "mode": "markers",
         "name": "RIOS Intelligent Machines",
         "orientation": "v",
         "showlegend": true,
         "type": "scatter",
         "x": [
          "RIOS Intelligent Machines",
          "RIOS Intelligent Machines"
         ],
         "xaxis": "x",
         "y": [
          2,
          2
         ],
         "yaxis": "y"
        },
        {
         "hovertemplate": "company_name=%{x}<br>company_name_count=%{marker.size}<extra></extra>",
         "legendgroup": "Kitware",
         "marker": {
          "color": "#ab63fa",
          "size": [
           4,
           4,
           4,
           4
          ],
          "sizemode": "area",
          "sizeref": 0.095,
          "symbol": "circle"
         },
         "mode": "markers",
         "name": "Kitware",
         "orientation": "v",
         "showlegend": true,
         "type": "scatter",
         "x": [
          "Kitware",
          "Kitware",
          "Kitware",
          "Kitware"
         ],
         "xaxis": "x",
         "y": [
          4,
          4,
          4,
          4
         ],
         "yaxis": "y"
        },
        {
         "hovertemplate": "company_name=%{x}<br>company_name_count=%{marker.size}<extra></extra>",
         "legendgroup": "Azimuth Corporation",
         "marker": {
          "color": "#FFA15A",
          "size": [
           1
          ],
          "sizemode": "area",
          "sizeref": 0.095,
          "symbol": "circle"
         },
         "mode": "markers",
         "name": "Azimuth Corporation",
         "orientation": "v",
         "showlegend": true,
         "type": "scatter",
         "x": [
          "Azimuth Corporation"
         ],
         "xaxis": "x",
         "y": [
          1
         ],
         "yaxis": "y"
        },
        {
         "hovertemplate": "company_name=%{x}<br>company_name_count=%{marker.size}<extra></extra>",
         "legendgroup": "BitRelish Corporation",
         "marker": {
          "color": "#19d3f3",
          "size": [
           1
          ],
          "sizemode": "area",
          "sizeref": 0.095,
          "symbol": "circle"
         },
         "mode": "markers",
         "name": "BitRelish Corporation",
         "orientation": "v",
         "showlegend": true,
         "type": "scatter",
         "x": [
          "BitRelish Corporation"
         ],
         "xaxis": "x",
         "y": [
          1
         ],
         "yaxis": "y"
        },
        {
         "hovertemplate": "company_name=%{x}<br>company_name_count=%{marker.size}<extra></extra>",
         "legendgroup": "Agricultural Research Service",
         "marker": {
          "color": "#FF6692",
          "size": [
           1
          ],
          "sizemode": "area",
          "sizeref": 0.095,
          "symbol": "circle"
         },
         "mode": "markers",
         "name": "Agricultural Research Service",
         "orientation": "v",
         "showlegend": true,
         "type": "scatter",
         "x": [
          "Agricultural Research Service"
         ],
         "xaxis": "x",
         "y": [
          1
         ],
         "yaxis": "y"
        },
        {
         "hovertemplate": "company_name=%{x}<br>company_name_count=%{marker.size}<extra></extra>",
         "legendgroup": "Hilton",
         "marker": {
          "color": "#B6E880",
          "size": [
           1
          ],
          "sizemode": "area",
          "sizeref": 0.095,
          "symbol": "circle"
         },
         "mode": "markers",
         "name": "Hilton",
         "orientation": "v",
         "showlegend": true,
         "type": "scatter",
         "x": [
          "Hilton"
         ],
         "xaxis": "x",
         "y": [
          1
         ],
         "yaxis": "y"
        },
        {
         "hovertemplate": "company_name=%{x}<br>company_name_count=%{marker.size}<extra></extra>",
         "legendgroup": "Celestar Corporation",
         "marker": {
          "color": "#FF97FF",
          "size": [
           1
          ],
          "sizemode": "area",
          "sizeref": 0.095,
          "symbol": "circle"
         },
         "mode": "markers",
         "name": "Celestar Corporation",
         "orientation": "v",
         "showlegend": true,
         "type": "scatter",
         "x": [
          "Celestar Corporation"
         ],
         "xaxis": "x",
         "y": [
          1
         ],
         "yaxis": "y"
        },
        {
         "hovertemplate": "company_name=%{x}<br>company_name_count=%{marker.size}<extra></extra>",
         "legendgroup": "The Home Depot",
         "marker": {
          "color": "#FECB52",
          "size": [
           1
          ],
          "sizemode": "area",
          "sizeref": 0.095,
          "symbol": "circle"
         },
         "mode": "markers",
         "name": "The Home Depot",
         "orientation": "v",
         "showlegend": true,
         "type": "scatter",
         "x": [
          "The Home Depot"
         ],
         "xaxis": "x",
         "y": [
          1
         ],
         "yaxis": "y"
        },
        {
         "hovertemplate": "company_name=%{x}<br>company_name_count=%{marker.size}<extra></extra>",
         "legendgroup": "Primordial Labs",
         "marker": {
          "color": "#636efa",
          "size": [
           1
          ],
          "sizemode": "area",
          "sizeref": 0.095,
          "symbol": "circle"
         },
         "mode": "markers",
         "name": "Primordial Labs",
         "orientation": "v",
         "showlegend": true,
         "type": "scatter",
         "x": [
          "Primordial Labs"
         ],
         "xaxis": "x",
         "y": [
          1
         ],
         "yaxis": "y"
        },
        {
         "hovertemplate": "company_name=%{x}<br>company_name_count=%{marker.size}<extra></extra>",
         "legendgroup": "Samson Rose",
         "marker": {
          "color": "#EF553B",
          "size": [
           1
          ],
          "sizemode": "area",
          "sizeref": 0.095,
          "symbol": "circle"
         },
         "mode": "markers",
         "name": "Samson Rose",
         "orientation": "v",
         "showlegend": true,
         "type": "scatter",
         "x": [
          "Samson Rose"
         ],
         "xaxis": "x",
         "y": [
          1
         ],
         "yaxis": "y"
        },
        {
         "hovertemplate": "company_name=%{x}<br>company_name_count=%{marker.size}<extra></extra>",
         "legendgroup": "MultiPlan",
         "marker": {
          "color": "#00cc96",
          "size": [
           3,
           3,
           3
          ],
          "sizemode": "area",
          "sizeref": 0.095,
          "symbol": "circle"
         },
         "mode": "markers",
         "name": "MultiPlan",
         "orientation": "v",
         "showlegend": true,
         "type": "scatter",
         "x": [
          "MultiPlan",
          "MultiPlan",
          "MultiPlan"
         ],
         "xaxis": "x",
         "y": [
          3,
          3,
          3
         ],
         "yaxis": "y"
        },
        {
         "hovertemplate": "company_name=%{x}<br>company_name_count=%{marker.size}<extra></extra>",
         "legendgroup": "Microsoft Corporation",
         "marker": {
          "color": "#ab63fa",
          "size": [
           1
          ],
          "sizemode": "area",
          "sizeref": 0.095,
          "symbol": "circle"
         },
         "mode": "markers",
         "name": "Microsoft Corporation",
         "orientation": "v",
         "showlegend": true,
         "type": "scatter",
         "x": [
          "Microsoft Corporation"
         ],
         "xaxis": "x",
         "y": [
          1
         ],
         "yaxis": "y"
        },
        {
         "hovertemplate": "company_name=%{x}<br>company_name_count=%{marker.size}<extra></extra>",
         "legendgroup": "Generally Intelligent",
         "marker": {
          "color": "#FFA15A",
          "size": [
           1
          ],
          "sizemode": "area",
          "sizeref": 0.095,
          "symbol": "circle"
         },
         "mode": "markers",
         "name": "Generally Intelligent",
         "orientation": "v",
         "showlegend": true,
         "type": "scatter",
         "x": [
          "Generally Intelligent"
         ],
         "xaxis": "x",
         "y": [
          1
         ],
         "yaxis": "y"
        },
        {
         "hovertemplate": "company_name=%{x}<br>company_name_count=%{marker.size}<extra></extra>",
         "legendgroup": "Matroid",
         "marker": {
          "color": "#19d3f3",
          "size": [
           1
          ],
          "sizemode": "area",
          "sizeref": 0.095,
          "symbol": "circle"
         },
         "mode": "markers",
         "name": "Matroid",
         "orientation": "v",
         "showlegend": true,
         "type": "scatter",
         "x": [
          "Matroid"
         ],
         "xaxis": "x",
         "y": [
          1
         ],
         "yaxis": "y"
        },
        {
         "hovertemplate": "company_name=%{x}<br>company_name_count=%{marker.size}<extra></extra>",
         "legendgroup": "Cadence Design Systems",
         "marker": {
          "color": "#FF6692",
          "size": [
           1
          ],
          "sizemode": "area",
          "sizeref": 0.095,
          "symbol": "circle"
         },
         "mode": "markers",
         "name": "Cadence Design Systems",
         "orientation": "v",
         "showlegend": true,
         "type": "scatter",
         "x": [
          "Cadence Design Systems"
         ],
         "xaxis": "x",
         "y": [
          1
         ],
         "yaxis": "y"
        },
        {
         "hovertemplate": "company_name=%{x}<br>company_name_count=%{marker.size}<extra></extra>",
         "legendgroup": "UCLA Health Systems",
         "marker": {
          "color": "#B6E880",
          "size": [
           1
          ],
          "sizemode": "area",
          "sizeref": 0.095,
          "symbol": "circle"
         },
         "mode": "markers",
         "name": "UCLA Health Systems",
         "orientation": "v",
         "showlegend": true,
         "type": "scatter",
         "x": [
          "UCLA Health Systems"
         ],
         "xaxis": "x",
         "y": [
          1
         ],
         "yaxis": "y"
        },
        {
         "hovertemplate": "company_name=%{x}<br>company_name_count=%{marker.size}<extra></extra>",
         "legendgroup": "Gen Nine, Inc.",
         "marker": {
          "color": "#FF97FF",
          "size": [
           1
          ],
          "sizemode": "area",
          "sizeref": 0.095,
          "symbol": "circle"
         },
         "mode": "markers",
         "name": "Gen Nine, Inc.",
         "orientation": "v",
         "showlegend": true,
         "type": "scatter",
         "x": [
          "Gen Nine, Inc."
         ],
         "xaxis": "x",
         "y": [
          1
         ],
         "yaxis": "y"
        },
        {
         "hovertemplate": "company_name=%{x}<br>company_name_count=%{marker.size}<extra></extra>",
         "legendgroup": "Qualcomm",
         "marker": {
          "color": "#FECB52",
          "size": [
           1
          ],
          "sizemode": "area",
          "sizeref": 0.095,
          "symbol": "circle"
         },
         "mode": "markers",
         "name": "Qualcomm",
         "orientation": "v",
         "showlegend": true,
         "type": "scatter",
         "x": [
          "Qualcomm"
         ],
         "xaxis": "x",
         "y": [
          1
         ],
         "yaxis": "y"
        },
        {
         "hovertemplate": "company_name=%{x}<br>company_name_count=%{marker.size}<extra></extra>",
         "legendgroup": "Netra",
         "marker": {
          "color": "#636efa",
          "size": [
           1
          ],
          "sizemode": "area",
          "sizeref": 0.095,
          "symbol": "circle"
         },
         "mode": "markers",
         "name": "Netra",
         "orientation": "v",
         "showlegend": true,
         "type": "scatter",
         "x": [
          "Netra"
         ],
         "xaxis": "x",
         "y": [
          1
         ],
         "yaxis": "y"
        },
        {
         "hovertemplate": "company_name=%{x}<br>company_name_count=%{marker.size}<extra></extra>",
         "legendgroup": "Université d'Artois / LGI2A",
         "marker": {
          "color": "#EF553B",
          "size": [
           1
          ],
          "sizemode": "area",
          "sizeref": 0.095,
          "symbol": "circle"
         },
         "mode": "markers",
         "name": "Université d'Artois / LGI2A",
         "orientation": "v",
         "showlegend": true,
         "type": "scatter",
         "x": [
          "Université d'Artois / LGI2A"
         ],
         "xaxis": "x",
         "y": [
          1
         ],
         "yaxis": "y"
        },
        {
         "hovertemplate": "company_name=%{x}<br>company_name_count=%{marker.size}<extra></extra>",
         "legendgroup": "Recruiting from Scratch",
         "marker": {
          "color": "#00cc96",
          "size": [
           1
          ],
          "sizemode": "area",
          "sizeref": 0.095,
          "symbol": "circle"
         },
         "mode": "markers",
         "name": "Recruiting from Scratch",
         "orientation": "v",
         "showlegend": true,
         "type": "scatter",
         "x": [
          "Recruiting from Scratch"
         ],
         "xaxis": "x",
         "y": [
          1
         ],
         "yaxis": "y"
        },
        {
         "hovertemplate": "company_name=%{x}<br>company_name_count=%{marker.size}<extra></extra>",
         "legendgroup": "Robert Bosch",
         "marker": {
          "color": "#ab63fa",
          "size": [
           1
          ],
          "sizemode": "area",
          "sizeref": 0.095,
          "symbol": "circle"
         },
         "mode": "markers",
         "name": "Robert Bosch",
         "orientation": "v",
         "showlegend": true,
         "type": "scatter",
         "x": [
          "Robert Bosch"
         ],
         "xaxis": "x",
         "y": [
          1
         ],
         "yaxis": "y"
        },
        {
         "hovertemplate": "company_name=%{x}<br>company_name_count=%{marker.size}<extra></extra>",
         "legendgroup": "IBM Corporation",
         "marker": {
          "color": "#FFA15A",
          "size": [
           1
          ],
          "sizemode": "area",
          "sizeref": 0.095,
          "symbol": "circle"
         },
         "mode": "markers",
         "name": "IBM Corporation",
         "orientation": "v",
         "showlegend": true,
         "type": "scatter",
         "x": [
          "IBM Corporation"
         ],
         "xaxis": "x",
         "y": [
          1
         ],
         "yaxis": "y"
        },
        {
         "hovertemplate": "company_name=%{x}<br>company_name_count=%{marker.size}<extra></extra>",
         "legendgroup": "Innova Solutions",
         "marker": {
          "color": "#19d3f3",
          "size": [
           1
          ],
          "sizemode": "area",
          "sizeref": 0.095,
          "symbol": "circle"
         },
         "mode": "markers",
         "name": "Innova Solutions",
         "orientation": "v",
         "showlegend": true,
         "type": "scatter",
         "x": [
          "Innova Solutions"
         ],
         "xaxis": "x",
         "y": [
          1
         ],
         "yaxis": "y"
        },
        {
         "hovertemplate": "company_name=%{x}<br>company_name_count=%{marker.size}<extra></extra>",
         "legendgroup": "Authenticx",
         "marker": {
          "color": "#FF6692",
          "size": [
           1
          ],
          "sizemode": "area",
          "sizeref": 0.095,
          "symbol": "circle"
         },
         "mode": "markers",
         "name": "Authenticx",
         "orientation": "v",
         "showlegend": true,
         "type": "scatter",
         "x": [
          "Authenticx"
         ],
         "xaxis": "x",
         "y": [
          1
         ],
         "yaxis": "y"
        },
        {
         "hovertemplate": "company_name=%{x}<br>company_name_count=%{marker.size}<extra></extra>",
         "legendgroup": "Multiplan",
         "marker": {
          "color": "#B6E880",
          "size": [
           1
          ],
          "sizemode": "area",
          "sizeref": 0.095,
          "symbol": "circle"
         },
         "mode": "markers",
         "name": "Multiplan",
         "orientation": "v",
         "showlegend": true,
         "type": "scatter",
         "x": [
          "Multiplan"
         ],
         "xaxis": "x",
         "y": [
          1
         ],
         "yaxis": "y"
        },
        {
         "hovertemplate": "company_name=%{x}<br>company_name_count=%{marker.size}<extra></extra>",
         "legendgroup": "Fusemachines",
         "marker": {
          "color": "#FF97FF",
          "size": [
           1
          ],
          "sizemode": "area",
          "sizeref": 0.095,
          "symbol": "circle"
         },
         "mode": "markers",
         "name": "Fusemachines",
         "orientation": "v",
         "showlegend": true,
         "type": "scatter",
         "x": [
          "Fusemachines"
         ],
         "xaxis": "x",
         "y": [
          1
         ],
         "yaxis": "y"
        },
        {
         "hovertemplate": "company_name=%{x}<br>company_name_count=%{marker.size}<extra></extra>",
         "legendgroup": "Amun Tokens",
         "marker": {
          "color": "#FECB52",
          "size": [
           1
          ],
          "sizemode": "area",
          "sizeref": 0.095,
          "symbol": "circle"
         },
         "mode": "markers",
         "name": "Amun Tokens",
         "orientation": "v",
         "showlegend": true,
         "type": "scatter",
         "x": [
          "Amun Tokens"
         ],
         "xaxis": "x",
         "y": [
          1
         ],
         "yaxis": "y"
        },
        {
         "hovertemplate": "company_name=%{x}<br>company_name_count=%{marker.size}<extra></extra>",
         "legendgroup": "BNY Mellon",
         "marker": {
          "color": "#636efa",
          "size": [
           2,
           2
          ],
          "sizemode": "area",
          "sizeref": 0.095,
          "symbol": "circle"
         },
         "mode": "markers",
         "name": "BNY Mellon",
         "orientation": "v",
         "showlegend": true,
         "type": "scatter",
         "x": [
          "BNY Mellon",
          "BNY Mellon"
         ],
         "xaxis": "x",
         "y": [
          2,
          2
         ],
         "yaxis": "y"
        },
        {
         "hovertemplate": "company_name=%{x}<br>company_name_count=%{marker.size}<extra></extra>",
         "legendgroup": "Jump Crypto",
         "marker": {
          "color": "#EF553B",
          "size": [
           1
          ],
          "sizemode": "area",
          "sizeref": 0.095,
          "symbol": "circle"
         },
         "mode": "markers",
         "name": "Jump Crypto",
         "orientation": "v",
         "showlegend": true,
         "type": "scatter",
         "x": [
          "Jump Crypto"
         ],
         "xaxis": "x",
         "y": [
          1
         ],
         "yaxis": "y"
        },
        {
         "hovertemplate": "company_name=%{x}<br>company_name_count=%{marker.size}<extra></extra>",
         "legendgroup": "Snickerdoodle Labs",
         "marker": {
          "color": "#00cc96",
          "size": [
           1
          ],
          "sizemode": "area",
          "sizeref": 0.095,
          "symbol": "circle"
         },
         "mode": "markers",
         "name": "Snickerdoodle Labs",
         "orientation": "v",
         "showlegend": true,
         "type": "scatter",
         "x": [
          "Snickerdoodle Labs"
         ],
         "xaxis": "x",
         "y": [
          1
         ],
         "yaxis": "y"
        },
        {
         "hovertemplate": "company_name=%{x}<br>company_name_count=%{marker.size}<extra></extra>",
         "legendgroup": "Allium",
         "marker": {
          "color": "#ab63fa",
          "size": [
           1
          ],
          "sizemode": "area",
          "sizeref": 0.095,
          "symbol": "circle"
         },
         "mode": "markers",
         "name": "Allium",
         "orientation": "v",
         "showlegend": true,
         "type": "scatter",
         "x": [
          "Allium"
         ],
         "xaxis": "x",
         "y": [
          1
         ],
         "yaxis": "y"
        },
        {
         "hovertemplate": "company_name=%{x}<br>company_name_count=%{marker.size}<extra></extra>",
         "legendgroup": "Analog",
         "marker": {
          "color": "#FFA15A",
          "size": [
           1
          ],
          "sizemode": "area",
          "sizeref": 0.095,
          "symbol": "circle"
         },
         "mode": "markers",
         "name": "Analog",
         "orientation": "v",
         "showlegend": true,
         "type": "scatter",
         "x": [
          "Analog"
         ],
         "xaxis": "x",
         "y": [
          1
         ],
         "yaxis": "y"
        },
        {
         "hovertemplate": "company_name=%{x}<br>company_name_count=%{marker.size}<extra></extra>",
         "legendgroup": "Fintech Recruiters",
         "marker": {
          "color": "#19d3f3",
          "size": [
           1
          ],
          "sizemode": "area",
          "sizeref": 0.095,
          "symbol": "circle"
         },
         "mode": "markers",
         "name": "Fintech Recruiters",
         "orientation": "v",
         "showlegend": true,
         "type": "scatter",
         "x": [
          "Fintech Recruiters"
         ],
         "xaxis": "x",
         "y": [
          1
         ],
         "yaxis": "y"
        },
        {
         "hovertemplate": "company_name=%{x}<br>company_name_count=%{marker.size}<extra></extra>",
         "legendgroup": "ZetaChain",
         "marker": {
          "color": "#FF6692",
          "size": [
           1
          ],
          "sizemode": "area",
          "sizeref": 0.095,
          "symbol": "circle"
         },
         "mode": "markers",
         "name": "ZetaChain",
         "orientation": "v",
         "showlegend": true,
         "type": "scatter",
         "x": [
          "ZetaChain"
         ],
         "xaxis": "x",
         "y": [
          1
         ],
         "yaxis": "y"
        },
        {
         "hovertemplate": "company_name=%{x}<br>company_name_count=%{marker.size}<extra></extra>",
         "legendgroup": "Provenance Blockchain Foundation",
         "marker": {
          "color": "#B6E880",
          "size": [
           1
          ],
          "sizemode": "area",
          "sizeref": 0.095,
          "symbol": "circle"
         },
         "mode": "markers",
         "name": "Provenance Blockchain Foundation",
         "orientation": "v",
         "showlegend": true,
         "type": "scatter",
         "x": [
          "Provenance Blockchain Foundation"
         ],
         "xaxis": "x",
         "y": [
          1
         ],
         "yaxis": "y"
        },
        {
         "hovertemplate": "company_name=%{x}<br>company_name_count=%{marker.size}<extra></extra>",
         "legendgroup": "Tala",
         "marker": {
          "color": "#FF97FF",
          "size": [
           1
          ],
          "sizemode": "area",
          "sizeref": 0.095,
          "symbol": "circle"
         },
         "mode": "markers",
         "name": "Tala",
         "orientation": "v",
         "showlegend": true,
         "type": "scatter",
         "x": [
          "Tala"
         ],
         "xaxis": "x",
         "y": [
          1
         ],
         "yaxis": "y"
        },
        {
         "hovertemplate": "company_name=%{x}<br>company_name_count=%{marker.size}<extra></extra>",
         "legendgroup": "Meetup",
         "marker": {
          "color": "#FECB52",
          "size": [
           1
          ],
          "sizemode": "area",
          "sizeref": 0.095,
          "symbol": "circle"
         },
         "mode": "markers",
         "name": "Meetup",
         "orientation": "v",
         "showlegend": true,
         "type": "scatter",
         "x": [
          "Meetup"
         ],
         "xaxis": "x",
         "y": [
          1
         ],
         "yaxis": "y"
        },
        {
         "hovertemplate": "company_name=%{x}<br>company_name_count=%{marker.size}<extra></extra>",
         "legendgroup": "Docugami",
         "marker": {
          "color": "#636efa",
          "size": [
           1
          ],
          "sizemode": "area",
          "sizeref": 0.095,
          "symbol": "circle"
         },
         "mode": "markers",
         "name": "Docugami",
         "orientation": "v",
         "showlegend": true,
         "type": "scatter",
         "x": [
          "Docugami"
         ],
         "xaxis": "x",
         "y": [
          1
         ],
         "yaxis": "y"
        },
        {
         "hovertemplate": "company_name=%{x}<br>company_name_count=%{marker.size}<extra></extra>",
         "legendgroup": "Warner Bros. Discovery",
         "marker": {
          "color": "#EF553B",
          "size": [
           1
          ],
          "sizemode": "area",
          "sizeref": 0.095,
          "symbol": "circle"
         },
         "mode": "markers",
         "name": "Warner Bros. Discovery",
         "orientation": "v",
         "showlegend": true,
         "type": "scatter",
         "x": [
          "Warner Bros. Discovery"
         ],
         "xaxis": "x",
         "y": [
          1
         ],
         "yaxis": "y"
        },
        {
         "hovertemplate": "company_name=%{x}<br>company_name_count=%{marker.size}<extra></extra>",
         "legendgroup": "Hopper",
         "marker": {
          "color": "#00cc96",
          "size": [
           1
          ],
          "sizemode": "area",
          "sizeref": 0.095,
          "symbol": "circle"
         },
         "mode": "markers",
         "name": "Hopper",
         "orientation": "v",
         "showlegend": true,
         "type": "scatter",
         "x": [
          "Hopper"
         ],
         "xaxis": "x",
         "y": [
          1
         ],
         "yaxis": "y"
        },
        {
         "hovertemplate": "company_name=%{x}<br>company_name_count=%{marker.size}<extra></extra>",
         "legendgroup": "L3Harris",
         "marker": {
          "color": "#ab63fa",
          "size": [
           1
          ],
          "sizemode": "area",
          "sizeref": 0.095,
          "symbol": "circle"
         },
         "mode": "markers",
         "name": "L3Harris",
         "orientation": "v",
         "showlegend": true,
         "type": "scatter",
         "x": [
          "L3Harris"
         ],
         "xaxis": "x",
         "y": [
          1
         ],
         "yaxis": "y"
        },
        {
         "hovertemplate": "company_name=%{x}<br>company_name_count=%{marker.size}<extra></extra>",
         "legendgroup": "Lafayette Federal Credit Union",
         "marker": {
          "color": "#FFA15A",
          "size": [
           1
          ],
          "sizemode": "area",
          "sizeref": 0.095,
          "symbol": "circle"
         },
         "mode": "markers",
         "name": "Lafayette Federal Credit Union",
         "orientation": "v",
         "showlegend": true,
         "type": "scatter",
         "x": [
          "Lafayette Federal Credit Union"
         ],
         "xaxis": "x",
         "y": [
          1
         ],
         "yaxis": "y"
        },
        {
         "hovertemplate": "company_name=%{x}<br>company_name_count=%{marker.size}<extra></extra>",
         "legendgroup": "The Lancet",
         "marker": {
          "color": "#19d3f3",
          "size": [
           1
          ],
          "sizemode": "area",
          "sizeref": 0.095,
          "symbol": "circle"
         },
         "mode": "markers",
         "name": "The Lancet",
         "orientation": "v",
         "showlegend": true,
         "type": "scatter",
         "x": [
          "The Lancet"
         ],
         "xaxis": "x",
         "y": [
          1
         ],
         "yaxis": "y"
        },
        {
         "hovertemplate": "company_name=%{x}<br>company_name_count=%{marker.size}<extra></extra>",
         "legendgroup": "Cinteot",
         "marker": {
          "color": "#FF6692",
          "size": [
           1
          ],
          "sizemode": "area",
          "sizeref": 0.095,
          "symbol": "circle"
         },
         "mode": "markers",
         "name": "Cinteot",
         "orientation": "v",
         "showlegend": true,
         "type": "scatter",
         "x": [
          "Cinteot"
         ],
         "xaxis": "x",
         "y": [
          1
         ],
         "yaxis": "y"
        },
        {
         "hovertemplate": "company_name=%{x}<br>company_name_count=%{marker.size}<extra></extra>",
         "legendgroup": "Apex Systems",
         "marker": {
          "color": "#B6E880",
          "size": [
           1
          ],
          "sizemode": "area",
          "sizeref": 0.095,
          "symbol": "circle"
         },
         "mode": "markers",
         "name": "Apex Systems",
         "orientation": "v",
         "showlegend": true,
         "type": "scatter",
         "x": [
          "Apex Systems"
         ],
         "xaxis": "x",
         "y": [
          1
         ],
         "yaxis": "y"
        },
        {
         "hovertemplate": "company_name=%{x}<br>company_name_count=%{marker.size}<extra></extra>",
         "legendgroup": "Bering Straits Native Corporation (BSNC)",
         "marker": {
          "color": "#FF97FF",
          "size": [
           1
          ],
          "sizemode": "area",
          "sizeref": 0.095,
          "symbol": "circle"
         },
         "mode": "markers",
         "name": "Bering Straits Native Corporation (BSNC)",
         "orientation": "v",
         "showlegend": true,
         "type": "scatter",
         "x": [
          "Bering Straits Native Corporation (BSNC)"
         ],
         "xaxis": "x",
         "y": [
          1
         ],
         "yaxis": "y"
        },
        {
         "hovertemplate": "company_name=%{x}<br>company_name_count=%{marker.size}<extra></extra>",
         "legendgroup": "International Logic Systems, Inc.",
         "marker": {
          "color": "#FECB52",
          "size": [
           1
          ],
          "sizemode": "area",
          "sizeref": 0.095,
          "symbol": "circle"
         },
         "mode": "markers",
         "name": "International Logic Systems, Inc.",
         "orientation": "v",
         "showlegend": true,
         "type": "scatter",
         "x": [
          "International Logic Systems, Inc."
         ],
         "xaxis": "x",
         "y": [
          1
         ],
         "yaxis": "y"
        },
        {
         "hovertemplate": "company_name=%{x}<br>company_name_count=%{marker.size}<extra></extra>",
         "legendgroup": "CACI",
         "marker": {
          "color": "#636efa",
          "size": [
           2,
           2
          ],
          "sizemode": "area",
          "sizeref": 0.095,
          "symbol": "circle"
         },
         "mode": "markers",
         "name": "CACI",
         "orientation": "v",
         "showlegend": true,
         "type": "scatter",
         "x": [
          "CACI",
          "CACI"
         ],
         "xaxis": "x",
         "y": [
          2,
          2
         ],
         "yaxis": "y"
        },
        {
         "hovertemplate": "company_name=%{x}<br>company_name_count=%{marker.size}<extra></extra>",
         "legendgroup": "Limitless Talent Solutions",
         "marker": {
          "color": "#EF553B",
          "size": [
           1
          ],
          "sizemode": "area",
          "sizeref": 0.095,
          "symbol": "circle"
         },
         "mode": "markers",
         "name": "Limitless Talent Solutions",
         "orientation": "v",
         "showlegend": true,
         "type": "scatter",
         "x": [
          "Limitless Talent Solutions"
         ],
         "xaxis": "x",
         "y": [
          1
         ],
         "yaxis": "y"
        },
        {
         "hovertemplate": "company_name=%{x}<br>company_name_count=%{marker.size}<extra></extra>",
         "legendgroup": "Raytheon Technologies",
         "marker": {
          "color": "#00cc96",
          "size": [
           2,
           2
          ],
          "sizemode": "area",
          "sizeref": 0.095,
          "symbol": "circle"
         },
         "mode": "markers",
         "name": "Raytheon Technologies",
         "orientation": "v",
         "showlegend": true,
         "type": "scatter",
         "x": [
          "Raytheon Technologies",
          "Raytheon Technologies"
         ],
         "xaxis": "x",
         "y": [
          2,
          2
         ],
         "yaxis": "y"
        },
        {
         "hovertemplate": "company_name=%{x}<br>company_name_count=%{marker.size}<extra></extra>",
         "legendgroup": "The DarkStar Group",
         "marker": {
          "color": "#ab63fa",
          "size": [
           1
          ],
          "sizemode": "area",
          "sizeref": 0.095,
          "symbol": "circle"
         },
         "mode": "markers",
         "name": "The DarkStar Group",
         "orientation": "v",
         "showlegend": true,
         "type": "scatter",
         "x": [
          "The DarkStar Group"
         ],
         "xaxis": "x",
         "y": [
          1
         ],
         "yaxis": "y"
        },
        {
         "hovertemplate": "company_name=%{x}<br>company_name_count=%{marker.size}<extra></extra>",
         "legendgroup": "360 IT Professionals",
         "marker": {
          "color": "#FFA15A",
          "size": [
           1
          ],
          "sizemode": "area",
          "sizeref": 0.095,
          "symbol": "circle"
         },
         "mode": "markers",
         "name": "360 IT Professionals",
         "orientation": "v",
         "showlegend": true,
         "type": "scatter",
         "x": [
          "360 IT Professionals"
         ],
         "xaxis": "x",
         "y": [
          1
         ],
         "yaxis": "y"
        },
        {
         "hovertemplate": "company_name=%{x}<br>company_name_count=%{marker.size}<extra></extra>",
         "legendgroup": "Johnson Technology Systems Inc.",
         "marker": {
          "color": "#19d3f3",
          "size": [
           1
          ],
          "sizemode": "area",
          "sizeref": 0.095,
          "symbol": "circle"
         },
         "mode": "markers",
         "name": "Johnson Technology Systems Inc.",
         "orientation": "v",
         "showlegend": true,
         "type": "scatter",
         "x": [
          "Johnson Technology Systems Inc."
         ],
         "xaxis": "x",
         "y": [
          1
         ],
         "yaxis": "y"
        },
        {
         "hovertemplate": "company_name=%{x}<br>company_name_count=%{marker.size}<extra></extra>",
         "legendgroup": "Applied Information Sciences",
         "marker": {
          "color": "#FF6692",
          "size": [
           1
          ],
          "sizemode": "area",
          "sizeref": 0.095,
          "symbol": "circle"
         },
         "mode": "markers",
         "name": "Applied Information Sciences",
         "orientation": "v",
         "showlegend": true,
         "type": "scatter",
         "x": [
          "Applied Information Sciences"
         ],
         "xaxis": "x",
         "y": [
          1
         ],
         "yaxis": "y"
        },
        {
         "hovertemplate": "company_name=%{x}<br>company_name_count=%{marker.size}<extra></extra>",
         "legendgroup": "inforeliance",
         "marker": {
          "color": "#B6E880",
          "size": [
           1
          ],
          "sizemode": "area",
          "sizeref": 0.095,
          "symbol": "circle"
         },
         "mode": "markers",
         "name": "inforeliance",
         "orientation": "v",
         "showlegend": true,
         "type": "scatter",
         "x": [
          "inforeliance"
         ],
         "xaxis": "x",
         "y": [
          1
         ],
         "yaxis": "y"
        },
        {
         "hovertemplate": "company_name=%{x}<br>company_name_count=%{marker.size}<extra></extra>",
         "legendgroup": "WayUp",
         "marker": {
          "color": "#FF97FF",
          "size": [
           2,
           2
          ],
          "sizemode": "area",
          "sizeref": 0.095,
          "symbol": "circle"
         },
         "mode": "markers",
         "name": "WayUp",
         "orientation": "v",
         "showlegend": true,
         "type": "scatter",
         "x": [
          "WayUp",
          "WayUp"
         ],
         "xaxis": "x",
         "y": [
          2,
          2
         ],
         "yaxis": "y"
        },
        {
         "hovertemplate": "company_name=%{x}<br>company_name_count=%{marker.size}<extra></extra>",
         "legendgroup": "PerunHR",
         "marker": {
          "color": "#FECB52",
          "size": [
           1
          ],
          "sizemode": "area",
          "sizeref": 0.095,
          "symbol": "circle"
         },
         "mode": "markers",
         "name": "PerunHR",
         "orientation": "v",
         "showlegend": true,
         "type": "scatter",
         "x": [
          "PerunHR"
         ],
         "xaxis": "x",
         "y": [
          1
         ],
         "yaxis": "y"
        },
        {
         "hovertemplate": "company_name=%{x}<br>company_name_count=%{marker.size}<extra></extra>",
         "legendgroup": "Genesis10",
         "marker": {
          "color": "#636efa",
          "size": [
           1
          ],
          "sizemode": "area",
          "sizeref": 0.095,
          "symbol": "circle"
         },
         "mode": "markers",
         "name": "Genesis10",
         "orientation": "v",
         "showlegend": true,
         "type": "scatter",
         "x": [
          "Genesis10"
         ],
         "xaxis": "x",
         "y": [
          1
         ],
         "yaxis": "y"
        },
        {
         "hovertemplate": "company_name=%{x}<br>company_name_count=%{marker.size}<extra></extra>",
         "legendgroup": "Serco North America",
         "marker": {
          "color": "#EF553B",
          "size": [
           1
          ],
          "sizemode": "area",
          "sizeref": 0.095,
          "symbol": "circle"
         },
         "mode": "markers",
         "name": "Serco North America",
         "orientation": "v",
         "showlegend": true,
         "type": "scatter",
         "x": [
          "Serco North America"
         ],
         "xaxis": "x",
         "y": [
          1
         ],
         "yaxis": "y"
        },
        {
         "hovertemplate": "company_name=%{x}<br>company_name_count=%{marker.size}<extra></extra>",
         "legendgroup": "Datalab USA",
         "marker": {
          "color": "#00cc96",
          "size": [
           1
          ],
          "sizemode": "area",
          "sizeref": 0.095,
          "symbol": "circle"
         },
         "mode": "markers",
         "name": "Datalab USA",
         "orientation": "v",
         "showlegend": true,
         "type": "scatter",
         "x": [
          "Datalab USA"
         ],
         "xaxis": "x",
         "y": [
          1
         ],
         "yaxis": "y"
        },
        {
         "hovertemplate": "company_name=%{x}<br>company_name_count=%{marker.size}<extra></extra>",
         "legendgroup": "Beacon Building Products",
         "marker": {
          "color": "#ab63fa",
          "size": [
           1
          ],
          "sizemode": "area",
          "sizeref": 0.095,
          "symbol": "circle"
         },
         "mode": "markers",
         "name": "Beacon Building Products",
         "orientation": "v",
         "showlegend": true,
         "type": "scatter",
         "x": [
          "Beacon Building Products"
         ],
         "xaxis": "x",
         "y": [
          1
         ],
         "yaxis": "y"
        },
        {
         "hovertemplate": "company_name=%{x}<br>company_name_count=%{marker.size}<extra></extra>",
         "legendgroup": "LMI",
         "marker": {
          "color": "#FFA15A",
          "size": [
           1
          ],
          "sizemode": "area",
          "sizeref": 0.095,
          "symbol": "circle"
         },
         "mode": "markers",
         "name": "LMI",
         "orientation": "v",
         "showlegend": true,
         "type": "scatter",
         "x": [
          "LMI"
         ],
         "xaxis": "x",
         "y": [
          1
         ],
         "yaxis": "y"
        },
        {
         "hovertemplate": "company_name=%{x}<br>company_name_count=%{marker.size}<extra></extra>",
         "legendgroup": "ASHLIN Management Group, Inc.",
         "marker": {
          "color": "#19d3f3",
          "size": [
           1
          ],
          "sizemode": "area",
          "sizeref": 0.095,
          "symbol": "circle"
         },
         "mode": "markers",
         "name": "ASHLIN Management Group, Inc.",
         "orientation": "v",
         "showlegend": true,
         "type": "scatter",
         "x": [
          "ASHLIN Management Group, Inc."
         ],
         "xaxis": "x",
         "y": [
          1
         ],
         "yaxis": "y"
        },
        {
         "hovertemplate": "company_name=%{x}<br>company_name_count=%{marker.size}<extra></extra>",
         "legendgroup": "K12 Inc",
         "marker": {
          "color": "#FF6692",
          "size": [
           1
          ],
          "sizemode": "area",
          "sizeref": 0.095,
          "symbol": "circle"
         },
         "mode": "markers",
         "name": "K12 Inc",
         "orientation": "v",
         "showlegend": true,
         "type": "scatter",
         "x": [
          "K12 Inc"
         ],
         "xaxis": "x",
         "y": [
          1
         ],
         "yaxis": "y"
        },
        {
         "hovertemplate": "company_name=%{x}<br>company_name_count=%{marker.size}<extra></extra>",
         "legendgroup": "Simplebet",
         "marker": {
          "color": "#B6E880",
          "size": [
           1
          ],
          "sizemode": "area",
          "sizeref": 0.095,
          "symbol": "circle"
         },
         "mode": "markers",
         "name": "Simplebet",
         "orientation": "v",
         "showlegend": true,
         "type": "scatter",
         "x": [
          "Simplebet"
         ],
         "xaxis": "x",
         "y": [
          1
         ],
         "yaxis": "y"
        },
        {
         "hovertemplate": "company_name=%{x}<br>company_name_count=%{marker.size}<extra></extra>",
         "legendgroup": "Iterative Health",
         "marker": {
          "color": "#FF97FF",
          "size": [
           4,
           4,
           4,
           4
          ],
          "sizemode": "area",
          "sizeref": 0.095,
          "symbol": "circle"
         },
         "mode": "markers",
         "name": "Iterative Health",
         "orientation": "v",
         "showlegend": true,
         "type": "scatter",
         "x": [
          "Iterative Health",
          "Iterative Health",
          "Iterative Health",
          "Iterative Health"
         ],
         "xaxis": "x",
         "y": [
          4,
          4,
          4,
          4
         ],
         "yaxis": "y"
        },
        {
         "hovertemplate": "company_name=%{x}<br>company_name_count=%{marker.size}<extra></extra>",
         "legendgroup": "Fable",
         "marker": {
          "color": "#FECB52",
          "size": [
           1
          ],
          "sizemode": "area",
          "sizeref": 0.095,
          "symbol": "circle"
         },
         "mode": "markers",
         "name": "Fable",
         "orientation": "v",
         "showlegend": true,
         "type": "scatter",
         "x": [
          "Fable"
         ],
         "xaxis": "x",
         "y": [
          1
         ],
         "yaxis": "y"
        },
        {
         "hovertemplate": "company_name=%{x}<br>company_name_count=%{marker.size}<extra></extra>",
         "legendgroup": "Chime",
         "marker": {
          "color": "#636efa",
          "size": [
           1
          ],
          "sizemode": "area",
          "sizeref": 0.095,
          "symbol": "circle"
         },
         "mode": "markers",
         "name": "Chime",
         "orientation": "v",
         "showlegend": true,
         "type": "scatter",
         "x": [
          "Chime"
         ],
         "xaxis": "x",
         "y": [
          1
         ],
         "yaxis": "y"
        },
        {
         "hovertemplate": "company_name=%{x}<br>company_name_count=%{marker.size}<extra></extra>",
         "legendgroup": "DoorDash",
         "marker": {
          "color": "#EF553B",
          "size": [
           1
          ],
          "sizemode": "area",
          "sizeref": 0.095,
          "symbol": "circle"
         },
         "mode": "markers",
         "name": "DoorDash",
         "orientation": "v",
         "showlegend": true,
         "type": "scatter",
         "x": [
          "DoorDash"
         ],
         "xaxis": "x",
         "y": [
          1
         ],
         "yaxis": "y"
        },
        {
         "hovertemplate": "company_name=%{x}<br>company_name_count=%{marker.size}<extra></extra>",
         "legendgroup": "Protochain Research",
         "marker": {
          "color": "#00cc96",
          "size": [
           1
          ],
          "sizemode": "area",
          "sizeref": 0.095,
          "symbol": "circle"
         },
         "mode": "markers",
         "name": "Protochain Research",
         "orientation": "v",
         "showlegend": true,
         "type": "scatter",
         "x": [
          "Protochain Research"
         ],
         "xaxis": "x",
         "y": [
          1
         ],
         "yaxis": "y"
        },
        {
         "hovertemplate": "company_name=%{x}<br>company_name_count=%{marker.size}<extra></extra>",
         "legendgroup": "DoraHacks",
         "marker": {
          "color": "#ab63fa",
          "size": [
           1
          ],
          "sizemode": "area",
          "sizeref": 0.095,
          "symbol": "circle"
         },
         "mode": "markers",
         "name": "DoraHacks",
         "orientation": "v",
         "showlegend": true,
         "type": "scatter",
         "x": [
          "DoraHacks"
         ],
         "xaxis": "x",
         "y": [
          1
         ],
         "yaxis": "y"
        },
        {
         "hovertemplate": "company_name=%{x}<br>company_name_count=%{marker.size}<extra></extra>",
         "legendgroup": "Kraken Digital Asset Exchange",
         "marker": {
          "color": "#FFA15A",
          "size": [
           1
          ],
          "sizemode": "area",
          "sizeref": 0.095,
          "symbol": "circle"
         },
         "mode": "markers",
         "name": "Kraken Digital Asset Exchange",
         "orientation": "v",
         "showlegend": true,
         "type": "scatter",
         "x": [
          "Kraken Digital Asset Exchange"
         ],
         "xaxis": "x",
         "y": [
          1
         ],
         "yaxis": "y"
        },
        {
         "hovertemplate": "company_name=%{x}<br>company_name_count=%{marker.size}<extra></extra>",
         "legendgroup": "Aptos",
         "marker": {
          "color": "#19d3f3",
          "size": [
           1
          ],
          "sizemode": "area",
          "sizeref": 0.095,
          "symbol": "circle"
         },
         "mode": "markers",
         "name": "Aptos",
         "orientation": "v",
         "showlegend": true,
         "type": "scatter",
         "x": [
          "Aptos"
         ],
         "xaxis": "x",
         "y": [
          1
         ],
         "yaxis": "y"
        },
        {
         "hovertemplate": "company_name=%{x}<br>company_name_count=%{marker.size}<extra></extra>",
         "legendgroup": "DCryptoTools",
         "marker": {
          "color": "#FF6692",
          "size": [
           1
          ],
          "sizemode": "area",
          "sizeref": 0.095,
          "symbol": "circle"
         },
         "mode": "markers",
         "name": "DCryptoTools",
         "orientation": "v",
         "showlegend": true,
         "type": "scatter",
         "x": [
          "DCryptoTools"
         ],
         "xaxis": "x",
         "y": [
          1
         ],
         "yaxis": "y"
        },
        {
         "hovertemplate": "company_name=%{x}<br>company_name_count=%{marker.size}<extra></extra>",
         "legendgroup": "Fidelity Investments Careers",
         "marker": {
          "color": "#B6E880",
          "size": [
           1
          ],
          "sizemode": "area",
          "sizeref": 0.095,
          "symbol": "circle"
         },
         "mode": "markers",
         "name": "Fidelity Investments Careers",
         "orientation": "v",
         "showlegend": true,
         "type": "scatter",
         "x": [
          "Fidelity Investments Careers"
         ],
         "xaxis": "x",
         "y": [
          1
         ],
         "yaxis": "y"
        },
        {
         "hovertemplate": "company_name=%{x}<br>company_name_count=%{marker.size}<extra></extra>",
         "legendgroup": "FuseMachines",
         "marker": {
          "color": "#FF97FF",
          "size": [
           2,
           2
          ],
          "sizemode": "area",
          "sizeref": 0.095,
          "symbol": "circle"
         },
         "mode": "markers",
         "name": "FuseMachines",
         "orientation": "v",
         "showlegend": true,
         "type": "scatter",
         "x": [
          "FuseMachines",
          "FuseMachines"
         ],
         "xaxis": "x",
         "y": [
          2,
          2
         ],
         "yaxis": "y"
        },
        {
         "hovertemplate": "company_name=%{x}<br>company_name_count=%{marker.size}<extra></extra>",
         "legendgroup": "Turing Talent",
         "marker": {
          "color": "#FECB52",
          "size": [
           1
          ],
          "sizemode": "area",
          "sizeref": 0.095,
          "symbol": "circle"
         },
         "mode": "markers",
         "name": "Turing Talent",
         "orientation": "v",
         "showlegend": true,
         "type": "scatter",
         "x": [
          "Turing Talent"
         ],
         "xaxis": "x",
         "y": [
          1
         ],
         "yaxis": "y"
        },
        {
         "hovertemplate": "company_name=%{x}<br>company_name_count=%{marker.size}<extra></extra>",
         "legendgroup": "NANOTRONICS IMAGING INC",
         "marker": {
          "color": "#636efa",
          "size": [
           1
          ],
          "sizemode": "area",
          "sizeref": 0.095,
          "symbol": "circle"
         },
         "mode": "markers",
         "name": "NANOTRONICS IMAGING INC",
         "orientation": "v",
         "showlegend": true,
         "type": "scatter",
         "x": [
          "NANOTRONICS IMAGING INC"
         ],
         "xaxis": "x",
         "y": [
          1
         ],
         "yaxis": "y"
        },
        {
         "hovertemplate": "company_name=%{x}<br>company_name_count=%{marker.size}<extra></extra>",
         "legendgroup": "Toyota Research Institute",
         "marker": {
          "color": "#EF553B",
          "size": [
           1
          ],
          "sizemode": "area",
          "sizeref": 0.095,
          "symbol": "circle"
         },
         "mode": "markers",
         "name": "Toyota Research Institute",
         "orientation": "v",
         "showlegend": true,
         "type": "scatter",
         "x": [
          "Toyota Research Institute"
         ],
         "xaxis": "x",
         "y": [
          1
         ],
         "yaxis": "y"
        },
        {
         "hovertemplate": "company_name=%{x}<br>company_name_count=%{marker.size}<extra></extra>",
         "legendgroup": "Tencent Americas",
         "marker": {
          "color": "#00cc96",
          "size": [
           2,
           2
          ],
          "sizemode": "area",
          "sizeref": 0.095,
          "symbol": "circle"
         },
         "mode": "markers",
         "name": "Tencent Americas",
         "orientation": "v",
         "showlegend": true,
         "type": "scatter",
         "x": [
          "Tencent Americas",
          "Tencent Americas"
         ],
         "xaxis": "x",
         "y": [
          2,
          2
         ],
         "yaxis": "y"
        },
        {
         "hovertemplate": "company_name=%{x}<br>company_name_count=%{marker.size}<extra></extra>",
         "legendgroup": "Federal Reserve Bank (FRB)",
         "marker": {
          "color": "#ab63fa",
          "size": [
           1
          ],
          "sizemode": "area",
          "sizeref": 0.095,
          "symbol": "circle"
         },
         "mode": "markers",
         "name": "Federal Reserve Bank (FRB)",
         "orientation": "v",
         "showlegend": true,
         "type": "scatter",
         "x": [
          "Federal Reserve Bank (FRB)"
         ],
         "xaxis": "x",
         "y": [
          1
         ],
         "yaxis": "y"
        },
        {
         "hovertemplate": "company_name=%{x}<br>company_name_count=%{marker.size}<extra></extra>",
         "legendgroup": "Truist",
         "marker": {
          "color": "#FFA15A",
          "size": [
           1
          ],
          "sizemode": "area",
          "sizeref": 0.095,
          "symbol": "circle"
         },
         "mode": "markers",
         "name": "Truist",
         "orientation": "v",
         "showlegend": true,
         "type": "scatter",
         "x": [
          "Truist"
         ],
         "xaxis": "x",
         "y": [
          1
         ],
         "yaxis": "y"
        },
        {
         "hovertemplate": "company_name=%{x}<br>company_name_count=%{marker.size}<extra></extra>",
         "legendgroup": "geojam",
         "marker": {
          "color": "#19d3f3",
          "size": [
           1
          ],
          "sizemode": "area",
          "sizeref": 0.095,
          "symbol": "circle"
         },
         "mode": "markers",
         "name": "geojam",
         "orientation": "v",
         "showlegend": true,
         "type": "scatter",
         "x": [
          "geojam"
         ],
         "xaxis": "x",
         "y": [
          1
         ],
         "yaxis": "y"
        },
        {
         "hovertemplate": "company_name=%{x}<br>company_name_count=%{marker.size}<extra></extra>",
         "legendgroup": "Exodus",
         "marker": {
          "color": "#FF6692",
          "size": [
           1
          ],
          "sizemode": "area",
          "sizeref": 0.095,
          "symbol": "circle"
         },
         "mode": "markers",
         "name": "Exodus",
         "orientation": "v",
         "showlegend": true,
         "type": "scatter",
         "x": [
          "Exodus"
         ],
         "xaxis": "x",
         "y": [
          1
         ],
         "yaxis": "y"
        },
        {
         "hovertemplate": "company_name=%{x}<br>company_name_count=%{marker.size}<extra></extra>",
         "legendgroup": "EY",
         "marker": {
          "color": "#B6E880",
          "size": [
           1
          ],
          "sizemode": "area",
          "sizeref": 0.095,
          "symbol": "circle"
         },
         "mode": "markers",
         "name": "EY",
         "orientation": "v",
         "showlegend": true,
         "type": "scatter",
         "x": [
          "EY"
         ],
         "xaxis": "x",
         "y": [
          1
         ],
         "yaxis": "y"
        },
        {
         "hovertemplate": "company_name=%{x}<br>company_name_count=%{marker.size}<extra></extra>",
         "legendgroup": "Software Technology Inc.",
         "marker": {
          "color": "#FF97FF",
          "size": [
           1
          ],
          "sizemode": "area",
          "sizeref": 0.095,
          "symbol": "circle"
         },
         "mode": "markers",
         "name": "Software Technology Inc.",
         "orientation": "v",
         "showlegend": true,
         "type": "scatter",
         "x": [
          "Software Technology Inc."
         ],
         "xaxis": "x",
         "y": [
          1
         ],
         "yaxis": "y"
        },
        {
         "hovertemplate": "company_name=%{x}<br>company_name_count=%{marker.size}<extra></extra>",
         "legendgroup": "MCKESSON",
         "marker": {
          "color": "#FECB52",
          "size": [
           1
          ],
          "sizemode": "area",
          "sizeref": 0.095,
          "symbol": "circle"
         },
         "mode": "markers",
         "name": "MCKESSON",
         "orientation": "v",
         "showlegend": true,
         "type": "scatter",
         "x": [
          "MCKESSON"
         ],
         "xaxis": "x",
         "y": [
          1
         ],
         "yaxis": "y"
        },
        {
         "hovertemplate": "company_name=%{x}<br>company_name_count=%{marker.size}<extra></extra>",
         "legendgroup": "Northwestern Mutual",
         "marker": {
          "color": "#636efa",
          "size": [
           1
          ],
          "sizemode": "area",
          "sizeref": 0.095,
          "symbol": "circle"
         },
         "mode": "markers",
         "name": "Northwestern Mutual",
         "orientation": "v",
         "showlegend": true,
         "type": "scatter",
         "x": [
          "Northwestern Mutual"
         ],
         "xaxis": "x",
         "y": [
          1
         ],
         "yaxis": "y"
        },
        {
         "hovertemplate": "company_name=%{x}<br>company_name_count=%{marker.size}<extra></extra>",
         "legendgroup": "CHRISTUS Health",
         "marker": {
          "color": "#EF553B",
          "size": [
           1
          ],
          "sizemode": "area",
          "sizeref": 0.095,
          "symbol": "circle"
         },
         "mode": "markers",
         "name": "CHRISTUS Health",
         "orientation": "v",
         "showlegend": true,
         "type": "scatter",
         "x": [
          "CHRISTUS Health"
         ],
         "xaxis": "x",
         "y": [
          1
         ],
         "yaxis": "y"
        },
        {
         "hovertemplate": "company_name=%{x}<br>company_name_count=%{marker.size}<extra></extra>",
         "legendgroup": "7Z4 Pfizer, Inc.",
         "marker": {
          "color": "#00cc96",
          "size": [
           1
          ],
          "sizemode": "area",
          "sizeref": 0.095,
          "symbol": "circle"
         },
         "mode": "markers",
         "name": "7Z4 Pfizer, Inc.",
         "orientation": "v",
         "showlegend": true,
         "type": "scatter",
         "x": [
          "7Z4 Pfizer, Inc."
         ],
         "xaxis": "x",
         "y": [
          1
         ],
         "yaxis": "y"
        },
        {
         "hovertemplate": "company_name=%{x}<br>company_name_count=%{marker.size}<extra></extra>",
         "legendgroup": "John Deere",
         "marker": {
          "color": "#ab63fa",
          "size": [
           1
          ],
          "sizemode": "area",
          "sizeref": 0.095,
          "symbol": "circle"
         },
         "mode": "markers",
         "name": "John Deere",
         "orientation": "v",
         "showlegend": true,
         "type": "scatter",
         "x": [
          "John Deere"
         ],
         "xaxis": "x",
         "y": [
          1
         ],
         "yaxis": "y"
        },
        {
         "hovertemplate": "company_name=%{x}<br>company_name_count=%{marker.size}<extra></extra>",
         "legendgroup": "Trustees of University of Pennsylvania",
         "marker": {
          "color": "#FFA15A",
          "size": [
           1
          ],
          "sizemode": "area",
          "sizeref": 0.095,
          "symbol": "circle"
         },
         "mode": "markers",
         "name": "Trustees of University of Pennsylvania",
         "orientation": "v",
         "showlegend": true,
         "type": "scatter",
         "x": [
          "Trustees of University of Pennsylvania"
         ],
         "xaxis": "x",
         "y": [
          1
         ],
         "yaxis": "y"
        },
        {
         "hovertemplate": "company_name=%{x}<br>company_name_count=%{marker.size}<extra></extra>",
         "legendgroup": "Explorium",
         "marker": {
          "color": "#19d3f3",
          "size": [
           1
          ],
          "sizemode": "area",
          "sizeref": 0.095,
          "symbol": "circle"
         },
         "mode": "markers",
         "name": "Explorium",
         "orientation": "v",
         "showlegend": true,
         "type": "scatter",
         "x": [
          "Explorium"
         ],
         "xaxis": "x",
         "y": [
          1
         ],
         "yaxis": "y"
        },
        {
         "hovertemplate": "company_name=%{x}<br>company_name_count=%{marker.size}<extra></extra>",
         "legendgroup": "CBRE",
         "marker": {
          "color": "#FF6692",
          "size": [
           1
          ],
          "sizemode": "area",
          "sizeref": 0.095,
          "symbol": "circle"
         },
         "mode": "markers",
         "name": "CBRE",
         "orientation": "v",
         "showlegend": true,
         "type": "scatter",
         "x": [
          "CBRE"
         ],
         "xaxis": "x",
         "y": [
          1
         ],
         "yaxis": "y"
        },
        {
         "hovertemplate": "company_name=%{x}<br>company_name_count=%{marker.size}<extra></extra>",
         "legendgroup": "Mars",
         "marker": {
          "color": "#B6E880",
          "size": [
           1
          ],
          "sizemode": "area",
          "sizeref": 0.095,
          "symbol": "circle"
         },
         "mode": "markers",
         "name": "Mars",
         "orientation": "v",
         "showlegend": true,
         "type": "scatter",
         "x": [
          "Mars"
         ],
         "xaxis": "x",
         "y": [
          1
         ],
         "yaxis": "y"
        },
        {
         "hovertemplate": "company_name=%{x}<br>company_name_count=%{marker.size}<extra></extra>",
         "legendgroup": "Parsons Corporation",
         "marker": {
          "color": "#FF97FF",
          "size": [
           1
          ],
          "sizemode": "area",
          "sizeref": 0.095,
          "symbol": "circle"
         },
         "mode": "markers",
         "name": "Parsons Corporation",
         "orientation": "v",
         "showlegend": true,
         "type": "scatter",
         "x": [
          "Parsons Corporation"
         ],
         "xaxis": "x",
         "y": [
          1
         ],
         "yaxis": "y"
        },
        {
         "hovertemplate": "company_name=%{x}<br>company_name_count=%{marker.size}<extra></extra>",
         "legendgroup": "MIT Lincoln Laboratory",
         "marker": {
          "color": "#FECB52",
          "size": [
           1
          ],
          "sizemode": "area",
          "sizeref": 0.095,
          "symbol": "circle"
         },
         "mode": "markers",
         "name": "MIT Lincoln Laboratory",
         "orientation": "v",
         "showlegend": true,
         "type": "scatter",
         "x": [
          "MIT Lincoln Laboratory"
         ],
         "xaxis": "x",
         "y": [
          1
         ],
         "yaxis": "y"
        },
        {
         "hovertemplate": "company_name=%{x}<br>company_name_count=%{marker.size}<extra></extra>",
         "legendgroup": "Block",
         "marker": {
          "color": "#636efa",
          "size": [
           1
          ],
          "sizemode": "area",
          "sizeref": 0.095,
          "symbol": "circle"
         },
         "mode": "markers",
         "name": "Block",
         "orientation": "v",
         "showlegend": true,
         "type": "scatter",
         "x": [
          "Block"
         ],
         "xaxis": "x",
         "y": [
          1
         ],
         "yaxis": "y"
        },
        {
         "hovertemplate": "company_name=%{x}<br>company_name_count=%{marker.size}<extra></extra>",
         "legendgroup": "Staples",
         "marker": {
          "color": "#EF553B",
          "size": [
           1
          ],
          "sizemode": "area",
          "sizeref": 0.095,
          "symbol": "circle"
         },
         "mode": "markers",
         "name": "Staples",
         "orientation": "v",
         "showlegend": true,
         "type": "scatter",
         "x": [
          "Staples"
         ],
         "xaxis": "x",
         "y": [
          1
         ],
         "yaxis": "y"
        },
        {
         "hovertemplate": "company_name=%{x}<br>company_name_count=%{marker.size}<extra></extra>",
         "legendgroup": "Teradyne",
         "marker": {
          "color": "#00cc96",
          "size": [
           1
          ],
          "sizemode": "area",
          "sizeref": 0.095,
          "symbol": "circle"
         },
         "mode": "markers",
         "name": "Teradyne",
         "orientation": "v",
         "showlegend": true,
         "type": "scatter",
         "x": [
          "Teradyne"
         ],
         "xaxis": "x",
         "y": [
          1
         ],
         "yaxis": "y"
        },
        {
         "hovertemplate": "company_name=%{x}<br>company_name_count=%{marker.size}<extra></extra>",
         "legendgroup": "Got It AI",
         "marker": {
          "color": "#ab63fa",
          "size": [
           1
          ],
          "sizemode": "area",
          "sizeref": 0.095,
          "symbol": "circle"
         },
         "mode": "markers",
         "name": "Got It AI",
         "orientation": "v",
         "showlegend": true,
         "type": "scatter",
         "x": [
          "Got It AI"
         ],
         "xaxis": "x",
         "y": [
          1
         ],
         "yaxis": "y"
        },
        {
         "hovertemplate": "company_name=%{x}<br>company_name_count=%{marker.size}<extra></extra>",
         "legendgroup": "HPE1US",
         "marker": {
          "color": "#FFA15A",
          "size": [
           1
          ],
          "sizemode": "area",
          "sizeref": 0.095,
          "symbol": "circle"
         },
         "mode": "markers",
         "name": "HPE1US",
         "orientation": "v",
         "showlegend": true,
         "type": "scatter",
         "x": [
          "HPE1US"
         ],
         "xaxis": "x",
         "y": [
          1
         ],
         "yaxis": "y"
        },
        {
         "hovertemplate": "company_name=%{x}<br>company_name_count=%{marker.size}<extra></extra>",
         "legendgroup": "Hewlett Packard Enterprise",
         "marker": {
          "color": "#19d3f3",
          "size": [
           1
          ],
          "sizemode": "area",
          "sizeref": 0.095,
          "symbol": "circle"
         },
         "mode": "markers",
         "name": "Hewlett Packard Enterprise",
         "orientation": "v",
         "showlegend": true,
         "type": "scatter",
         "x": [
          "Hewlett Packard Enterprise"
         ],
         "xaxis": "x",
         "y": [
          1
         ],
         "yaxis": "y"
        },
        {
         "hovertemplate": "company_name=%{x}<br>company_name_count=%{marker.size}<extra></extra>",
         "legendgroup": "Orion Consortium",
         "marker": {
          "color": "#FF6692",
          "size": [
           1
          ],
          "sizemode": "area",
          "sizeref": 0.095,
          "symbol": "circle"
         },
         "mode": "markers",
         "name": "Orion Consortium",
         "orientation": "v",
         "showlegend": true,
         "type": "scatter",
         "x": [
          "Orion Consortium"
         ],
         "xaxis": "x",
         "y": [
          1
         ],
         "yaxis": "y"
        },
        {
         "hovertemplate": "company_name=%{x}<br>company_name_count=%{marker.size}<extra></extra>",
         "legendgroup": "SSI",
         "marker": {
          "color": "#B6E880",
          "size": [
           1
          ],
          "sizemode": "area",
          "sizeref": 0.095,
          "symbol": "circle"
         },
         "mode": "markers",
         "name": "SSI",
         "orientation": "v",
         "showlegend": true,
         "type": "scatter",
         "x": [
          "SSI"
         ],
         "xaxis": "x",
         "y": [
          1
         ],
         "yaxis": "y"
        },
        {
         "hovertemplate": "company_name=%{x}<br>company_name_count=%{marker.size}<extra></extra>",
         "legendgroup": "Snowflake Computing",
         "marker": {
          "color": "#FF97FF",
          "size": [
           1
          ],
          "sizemode": "area",
          "sizeref": 0.095,
          "symbol": "circle"
         },
         "mode": "markers",
         "name": "Snowflake Computing",
         "orientation": "v",
         "showlegend": true,
         "type": "scatter",
         "x": [
          "Snowflake Computing"
         ],
         "xaxis": "x",
         "y": [
          1
         ],
         "yaxis": "y"
        },
        {
         "hovertemplate": "company_name=%{x}<br>company_name_count=%{marker.size}<extra></extra>",
         "legendgroup": "Base-2 Solutions, LLC",
         "marker": {
          "color": "#FECB52",
          "size": [
           1
          ],
          "sizemode": "area",
          "sizeref": 0.095,
          "symbol": "circle"
         },
         "mode": "markers",
         "name": "Base-2 Solutions, LLC",
         "orientation": "v",
         "showlegend": true,
         "type": "scatter",
         "x": [
          "Base-2 Solutions, LLC"
         ],
         "xaxis": "x",
         "y": [
          1
         ],
         "yaxis": "y"
        },
        {
         "hovertemplate": "company_name=%{x}<br>company_name_count=%{marker.size}<extra></extra>",
         "legendgroup": "Cargill",
         "marker": {
          "color": "#636efa",
          "size": [
           1
          ],
          "sizemode": "area",
          "sizeref": 0.095,
          "symbol": "circle"
         },
         "mode": "markers",
         "name": "Cargill",
         "orientation": "v",
         "showlegend": true,
         "type": "scatter",
         "x": [
          "Cargill"
         ],
         "xaxis": "x",
         "y": [
          1
         ],
         "yaxis": "y"
        },
        {
         "hovertemplate": "company_name=%{x}<br>company_name_count=%{marker.size}<extra></extra>",
         "legendgroup": "Rectangle Health",
         "marker": {
          "color": "#EF553B",
          "size": [
           1
          ],
          "sizemode": "area",
          "sizeref": 0.095,
          "symbol": "circle"
         },
         "mode": "markers",
         "name": "Rectangle Health",
         "orientation": "v",
         "showlegend": true,
         "type": "scatter",
         "x": [
          "Rectangle Health"
         ],
         "xaxis": "x",
         "y": [
          1
         ],
         "yaxis": "y"
        },
        {
         "hovertemplate": "company_name=%{x}<br>company_name_count=%{marker.size}<extra></extra>",
         "legendgroup": "Tendo Systems",
         "marker": {
          "color": "#00cc96",
          "size": [
           1
          ],
          "sizemode": "area",
          "sizeref": 0.095,
          "symbol": "circle"
         },
         "mode": "markers",
         "name": "Tendo Systems",
         "orientation": "v",
         "showlegend": true,
         "type": "scatter",
         "x": [
          "Tendo Systems"
         ],
         "xaxis": "x",
         "y": [
          1
         ],
         "yaxis": "y"
        },
        {
         "hovertemplate": "company_name=%{x}<br>company_name_count=%{marker.size}<extra></extra>",
         "legendgroup": "Walmart",
         "marker": {
          "color": "#ab63fa",
          "size": [
           7,
           7,
           7,
           7,
           7,
           7,
           7
          ],
          "sizemode": "area",
          "sizeref": 0.095,
          "symbol": "circle"
         },
         "mode": "markers",
         "name": "Walmart",
         "orientation": "v",
         "showlegend": true,
         "type": "scatter",
         "x": [
          "Walmart",
          "Walmart",
          "Walmart",
          "Walmart",
          "Walmart",
          "Walmart",
          "Walmart"
         ],
         "xaxis": "x",
         "y": [
          7,
          7,
          7,
          7,
          7,
          7,
          7
         ],
         "yaxis": "y"
        },
        {
         "hovertemplate": "company_name=%{x}<br>company_name_count=%{marker.size}<extra></extra>",
         "legendgroup": "Robert Half",
         "marker": {
          "color": "#FFA15A",
          "size": [
           3,
           3,
           3
          ],
          "sizemode": "area",
          "sizeref": 0.095,
          "symbol": "circle"
         },
         "mode": "markers",
         "name": "Robert Half",
         "orientation": "v",
         "showlegend": true,
         "type": "scatter",
         "x": [
          "Robert Half",
          "Robert Half",
          "Robert Half"
         ],
         "xaxis": "x",
         "y": [
          3,
          3,
          3
         ],
         "yaxis": "y"
        },
        {
         "hovertemplate": "company_name=%{x}<br>company_name_count=%{marker.size}<extra></extra>",
         "legendgroup": "Corporate",
         "marker": {
          "color": "#19d3f3",
          "size": [
           2,
           2
          ],
          "sizemode": "area",
          "sizeref": 0.095,
          "symbol": "circle"
         },
         "mode": "markers",
         "name": "Corporate",
         "orientation": "v",
         "showlegend": true,
         "type": "scatter",
         "x": [
          "Corporate",
          "Corporate"
         ],
         "xaxis": "x",
         "y": [
          2,
          2
         ],
         "yaxis": "y"
        },
        {
         "hovertemplate": "company_name=%{x}<br>company_name_count=%{marker.size}<extra></extra>",
         "legendgroup": "Aurora Solar",
         "marker": {
          "color": "#FF6692",
          "size": [
           1
          ],
          "sizemode": "area",
          "sizeref": 0.095,
          "symbol": "circle"
         },
         "mode": "markers",
         "name": "Aurora Solar",
         "orientation": "v",
         "showlegend": true,
         "type": "scatter",
         "x": [
          "Aurora Solar"
         ],
         "xaxis": "x",
         "y": [
          1
         ],
         "yaxis": "y"
        },
        {
         "hovertemplate": "company_name=%{x}<br>company_name_count=%{marker.size}<extra></extra>",
         "legendgroup": "CareSource",
         "marker": {
          "color": "#B6E880",
          "size": [
           1
          ],
          "sizemode": "area",
          "sizeref": 0.095,
          "symbol": "circle"
         },
         "mode": "markers",
         "name": "CareSource",
         "orientation": "v",
         "showlegend": true,
         "type": "scatter",
         "x": [
          "CareSource"
         ],
         "xaxis": "x",
         "y": [
          1
         ],
         "yaxis": "y"
        },
        {
         "hovertemplate": "company_name=%{x}<br>company_name_count=%{marker.size}<extra></extra>",
         "legendgroup": "Nebraska State Government",
         "marker": {
          "color": "#FF97FF",
          "size": [
           1
          ],
          "sizemode": "area",
          "sizeref": 0.095,
          "symbol": "circle"
         },
         "mode": "markers",
         "name": "Nebraska State Government",
         "orientation": "v",
         "showlegend": true,
         "type": "scatter",
         "x": [
          "Nebraska State Government"
         ],
         "xaxis": "x",
         "y": [
          1
         ],
         "yaxis": "y"
        },
        {
         "hovertemplate": "company_name=%{x}<br>company_name_count=%{marker.size}<extra></extra>",
         "legendgroup": "Informatica",
         "marker": {
          "color": "#FECB52",
          "size": [
           2,
           2
          ],
          "sizemode": "area",
          "sizeref": 0.095,
          "symbol": "circle"
         },
         "mode": "markers",
         "name": "Informatica",
         "orientation": "v",
         "showlegend": true,
         "type": "scatter",
         "x": [
          "Informatica",
          "Informatica"
         ],
         "xaxis": "x",
         "y": [
          2,
          2
         ],
         "yaxis": "y"
        },
        {
         "hovertemplate": "company_name=%{x}<br>company_name_count=%{marker.size}<extra></extra>",
         "legendgroup": "ServiceTitan",
         "marker": {
          "color": "#636efa",
          "size": [
           1
          ],
          "sizemode": "area",
          "sizeref": 0.095,
          "symbol": "circle"
         },
         "mode": "markers",
         "name": "ServiceTitan",
         "orientation": "v",
         "showlegend": true,
         "type": "scatter",
         "x": [
          "ServiceTitan"
         ],
         "xaxis": "x",
         "y": [
          1
         ],
         "yaxis": "y"
        },
        {
         "hovertemplate": "company_name=%{x}<br>company_name_count=%{marker.size}<extra></extra>",
         "legendgroup": "Capital One - US",
         "marker": {
          "color": "#EF553B",
          "size": [
           1
          ],
          "sizemode": "area",
          "sizeref": 0.095,
          "symbol": "circle"
         },
         "mode": "markers",
         "name": "Capital One - US",
         "orientation": "v",
         "showlegend": true,
         "type": "scatter",
         "x": [
          "Capital One - US"
         ],
         "xaxis": "x",
         "y": [
          1
         ],
         "yaxis": "y"
        },
        {
         "hovertemplate": "company_name=%{x}<br>company_name_count=%{marker.size}<extra></extra>",
         "legendgroup": "Barrington James",
         "marker": {
          "color": "#00cc96",
          "size": [
           1
          ],
          "sizemode": "area",
          "sizeref": 0.095,
          "symbol": "circle"
         },
         "mode": "markers",
         "name": "Barrington James",
         "orientation": "v",
         "showlegend": true,
         "type": "scatter",
         "x": [
          "Barrington James"
         ],
         "xaxis": "x",
         "y": [
          1
         ],
         "yaxis": "y"
        },
        {
         "hovertemplate": "company_name=%{x}<br>company_name_count=%{marker.size}<extra></extra>",
         "legendgroup": "Wells Fargo",
         "marker": {
          "color": "#ab63fa",
          "size": [
           1
          ],
          "sizemode": "area",
          "sizeref": 0.095,
          "symbol": "circle"
         },
         "mode": "markers",
         "name": "Wells Fargo",
         "orientation": "v",
         "showlegend": true,
         "type": "scatter",
         "x": [
          "Wells Fargo"
         ],
         "xaxis": "x",
         "y": [
          1
         ],
         "yaxis": "y"
        },
        {
         "hovertemplate": "company_name=%{x}<br>company_name_count=%{marker.size}<extra></extra>",
         "legendgroup": "Expedia Group",
         "marker": {
          "color": "#FFA15A",
          "size": [
           1
          ],
          "sizemode": "area",
          "sizeref": 0.095,
          "symbol": "circle"
         },
         "mode": "markers",
         "name": "Expedia Group",
         "orientation": "v",
         "showlegend": true,
         "type": "scatter",
         "x": [
          "Expedia Group"
         ],
         "xaxis": "x",
         "y": [
          1
         ],
         "yaxis": "y"
        },
        {
         "hovertemplate": "company_name=%{x}<br>company_name_count=%{marker.size}<extra></extra>",
         "legendgroup": "Dropbox",
         "marker": {
          "color": "#19d3f3",
          "size": [
           1
          ],
          "sizemode": "area",
          "sizeref": 0.095,
          "symbol": "circle"
         },
         "mode": "markers",
         "name": "Dropbox",
         "orientation": "v",
         "showlegend": true,
         "type": "scatter",
         "x": [
          "Dropbox"
         ],
         "xaxis": "x",
         "y": [
          1
         ],
         "yaxis": "y"
        },
        {
         "hovertemplate": "company_name=%{x}<br>company_name_count=%{marker.size}<extra></extra>",
         "legendgroup": "Oklahoma Medical Research Foundation (OMRF)",
         "marker": {
          "color": "#FF6692",
          "size": [
           1
          ],
          "sizemode": "area",
          "sizeref": 0.095,
          "symbol": "circle"
         },
         "mode": "markers",
         "name": "Oklahoma Medical Research Foundation (OMRF)",
         "orientation": "v",
         "showlegend": true,
         "type": "scatter",
         "x": [
          "Oklahoma Medical Research Foundation (OMRF)"
         ],
         "xaxis": "x",
         "y": [
          1
         ],
         "yaxis": "y"
        },
        {
         "hovertemplate": "company_name=%{x}<br>company_name_count=%{marker.size}<extra></extra>",
         "legendgroup": "Ford Motor Company",
         "marker": {
          "color": "#B6E880",
          "size": [
           1
          ],
          "sizemode": "area",
          "sizeref": 0.095,
          "symbol": "circle"
         },
         "mode": "markers",
         "name": "Ford Motor Company",
         "orientation": "v",
         "showlegend": true,
         "type": "scatter",
         "x": [
          "Ford Motor Company"
         ],
         "xaxis": "x",
         "y": [
          1
         ],
         "yaxis": "y"
        },
        {
         "hovertemplate": "company_name=%{x}<br>company_name_count=%{marker.size}<extra></extra>",
         "legendgroup": "Cox Enterprises",
         "marker": {
          "color": "#FF97FF",
          "size": [
           1
          ],
          "sizemode": "area",
          "sizeref": 0.095,
          "symbol": "circle"
         },
         "mode": "markers",
         "name": "Cox Enterprises",
         "orientation": "v",
         "showlegend": true,
         "type": "scatter",
         "x": [
          "Cox Enterprises"
         ],
         "xaxis": "x",
         "y": [
          1
         ],
         "yaxis": "y"
        },
        {
         "hovertemplate": "company_name=%{x}<br>company_name_count=%{marker.size}<extra></extra>",
         "legendgroup": "The Rector & Visitors of the University of Virginia",
         "marker": {
          "color": "#FECB52",
          "size": [
           1
          ],
          "sizemode": "area",
          "sizeref": 0.095,
          "symbol": "circle"
         },
         "mode": "markers",
         "name": "The Rector & Visitors of the University of Virginia",
         "orientation": "v",
         "showlegend": true,
         "type": "scatter",
         "x": [
          "The Rector & Visitors of the University of Virginia"
         ],
         "xaxis": "x",
         "y": [
          1
         ],
         "yaxis": "y"
        },
        {
         "hovertemplate": "company_name=%{x}<br>company_name_count=%{marker.size}<extra></extra>",
         "legendgroup": "Airswift",
         "marker": {
          "color": "#636efa",
          "size": [
           1
          ],
          "sizemode": "area",
          "sizeref": 0.095,
          "symbol": "circle"
         },
         "mode": "markers",
         "name": "Airswift",
         "orientation": "v",
         "showlegend": true,
         "type": "scatter",
         "x": [
          "Airswift"
         ],
         "xaxis": "x",
         "y": [
          1
         ],
         "yaxis": "y"
        },
        {
         "hovertemplate": "company_name=%{x}<br>company_name_count=%{marker.size}<extra></extra>",
         "legendgroup": "American Technology Consulting - ATC",
         "marker": {
          "color": "#EF553B",
          "size": [
           1
          ],
          "sizemode": "area",
          "sizeref": 0.095,
          "symbol": "circle"
         },
         "mode": "markers",
         "name": "American Technology Consulting - ATC",
         "orientation": "v",
         "showlegend": true,
         "type": "scatter",
         "x": [
          "American Technology Consulting - ATC"
         ],
         "xaxis": "x",
         "y": [
          1
         ],
         "yaxis": "y"
        },
        {
         "hovertemplate": "company_name=%{x}<br>company_name_count=%{marker.size}<extra></extra>",
         "legendgroup": "Kanini",
         "marker": {
          "color": "#00cc96",
          "size": [
           1
          ],
          "sizemode": "area",
          "sizeref": 0.095,
          "symbol": "circle"
         },
         "mode": "markers",
         "name": "Kanini",
         "orientation": "v",
         "showlegend": true,
         "type": "scatter",
         "x": [
          "Kanini"
         ],
         "xaxis": "x",
         "y": [
          1
         ],
         "yaxis": "y"
        },
        {
         "hovertemplate": "company_name=%{x}<br>company_name_count=%{marker.size}<extra></extra>",
         "legendgroup": "Open Systems Technologies",
         "marker": {
          "color": "#ab63fa",
          "size": [
           1
          ],
          "sizemode": "area",
          "sizeref": 0.095,
          "symbol": "circle"
         },
         "mode": "markers",
         "name": "Open Systems Technologies",
         "orientation": "v",
         "showlegend": true,
         "type": "scatter",
         "x": [
          "Open Systems Technologies"
         ],
         "xaxis": "x",
         "y": [
          1
         ],
         "yaxis": "y"
        },
        {
         "hovertemplate": "company_name=%{x}<br>company_name_count=%{marker.size}<extra></extra>",
         "legendgroup": "ASK Staffing",
         "marker": {
          "color": "#FFA15A",
          "size": [
           2,
           2
          ],
          "sizemode": "area",
          "sizeref": 0.095,
          "symbol": "circle"
         },
         "mode": "markers",
         "name": "ASK Staffing",
         "orientation": "v",
         "showlegend": true,
         "type": "scatter",
         "x": [
          "ASK Staffing",
          "ASK Staffing"
         ],
         "xaxis": "x",
         "y": [
          2,
          2
         ],
         "yaxis": "y"
        },
        {
         "hovertemplate": "company_name=%{x}<br>company_name_count=%{marker.size}<extra></extra>",
         "legendgroup": "University of Michigan",
         "marker": {
          "color": "#19d3f3",
          "size": [
           1
          ],
          "sizemode": "area",
          "sizeref": 0.095,
          "symbol": "circle"
         },
         "mode": "markers",
         "name": "University of Michigan",
         "orientation": "v",
         "showlegend": true,
         "type": "scatter",
         "x": [
          "University of Michigan"
         ],
         "xaxis": "x",
         "y": [
          1
         ],
         "yaxis": "y"
        },
        {
         "hovertemplate": "company_name=%{x}<br>company_name_count=%{marker.size}<extra></extra>",
         "legendgroup": "W3Global",
         "marker": {
          "color": "#FF6692",
          "size": [
           1
          ],
          "sizemode": "area",
          "sizeref": 0.095,
          "symbol": "circle"
         },
         "mode": "markers",
         "name": "W3Global",
         "orientation": "v",
         "showlegend": true,
         "type": "scatter",
         "x": [
          "W3Global"
         ],
         "xaxis": "x",
         "y": [
          1
         ],
         "yaxis": "y"
        },
        {
         "hovertemplate": "company_name=%{x}<br>company_name_count=%{marker.size}<extra></extra>",
         "legendgroup": "Unstoppable Domains",
         "marker": {
          "color": "#B6E880",
          "size": [
           1
          ],
          "sizemode": "area",
          "sizeref": 0.095,
          "symbol": "circle"
         },
         "mode": "markers",
         "name": "Unstoppable Domains",
         "orientation": "v",
         "showlegend": true,
         "type": "scatter",
         "x": [
          "Unstoppable Domains"
         ],
         "xaxis": "x",
         "y": [
          1
         ],
         "yaxis": "y"
        },
        {
         "hovertemplate": "company_name=%{x}<br>company_name_count=%{marker.size}<extra></extra>",
         "legendgroup": "EigenLabs",
         "marker": {
          "color": "#FF97FF",
          "size": [
           1
          ],
          "sizemode": "area",
          "sizeref": 0.095,
          "symbol": "circle"
         },
         "mode": "markers",
         "name": "EigenLabs",
         "orientation": "v",
         "showlegend": true,
         "type": "scatter",
         "x": [
          "EigenLabs"
         ],
         "xaxis": "x",
         "y": [
          1
         ],
         "yaxis": "y"
        },
        {
         "hovertemplate": "company_name=%{x}<br>company_name_count=%{marker.size}<extra></extra>",
         "legendgroup": "Crypto.com",
         "marker": {
          "color": "#FECB52",
          "size": [
           1
          ],
          "sizemode": "area",
          "sizeref": 0.095,
          "symbol": "circle"
         },
         "mode": "markers",
         "name": "Crypto.com",
         "orientation": "v",
         "showlegend": true,
         "type": "scatter",
         "x": [
          "Crypto.com"
         ],
         "xaxis": "x",
         "y": [
          1
         ],
         "yaxis": "y"
        },
        {
         "hovertemplate": "company_name=%{x}<br>company_name_count=%{marker.size}<extra></extra>",
         "legendgroup": "Walmart Global Tech",
         "marker": {
          "color": "#636efa",
          "size": [
           1
          ],
          "sizemode": "area",
          "sizeref": 0.095,
          "symbol": "circle"
         },
         "mode": "markers",
         "name": "Walmart Global Tech",
         "orientation": "v",
         "showlegend": true,
         "type": "scatter",
         "x": [
          "Walmart Global Tech"
         ],
         "xaxis": "x",
         "y": [
          1
         ],
         "yaxis": "y"
        },
        {
         "hovertemplate": "company_name=%{x}<br>company_name_count=%{marker.size}<extra></extra>",
         "legendgroup": "Vertex Inc.",
         "marker": {
          "color": "#EF553B",
          "size": [
           1
          ],
          "sizemode": "area",
          "sizeref": 0.095,
          "symbol": "circle"
         },
         "mode": "markers",
         "name": "Vertex Inc.",
         "orientation": "v",
         "showlegend": true,
         "type": "scatter",
         "x": [
          "Vertex Inc."
         ],
         "xaxis": "x",
         "y": [
          1
         ],
         "yaxis": "y"
        },
        {
         "hovertemplate": "company_name=%{x}<br>company_name_count=%{marker.size}<extra></extra>",
         "legendgroup": "Nvidia Corporation",
         "marker": {
          "color": "#00cc96",
          "size": [
           1
          ],
          "sizemode": "area",
          "sizeref": 0.095,
          "symbol": "circle"
         },
         "mode": "markers",
         "name": "Nvidia Corporation",
         "orientation": "v",
         "showlegend": true,
         "type": "scatter",
         "x": [
          "Nvidia Corporation"
         ],
         "xaxis": "x",
         "y": [
          1
         ],
         "yaxis": "y"
        },
        {
         "hovertemplate": "company_name=%{x}<br>company_name_count=%{marker.size}<extra></extra>",
         "legendgroup": "Skydio",
         "marker": {
          "color": "#ab63fa",
          "size": [
           1
          ],
          "sizemode": "area",
          "sizeref": 0.095,
          "symbol": "circle"
         },
         "mode": "markers",
         "name": "Skydio",
         "orientation": "v",
         "showlegend": true,
         "type": "scatter",
         "x": [
          "Skydio"
         ],
         "xaxis": "x",
         "y": [
          1
         ],
         "yaxis": "y"
        },
        {
         "hovertemplate": "company_name=%{x}<br>company_name_count=%{marker.size}<extra></extra>",
         "legendgroup": "Imagry",
         "marker": {
          "color": "#FFA15A",
          "size": [
           2,
           2
          ],
          "sizemode": "area",
          "sizeref": 0.095,
          "symbol": "circle"
         },
         "mode": "markers",
         "name": "Imagry",
         "orientation": "v",
         "showlegend": true,
         "type": "scatter",
         "x": [
          "Imagry",
          "Imagry"
         ],
         "xaxis": "x",
         "y": [
          2,
          2
         ],
         "yaxis": "y"
        },
        {
         "hovertemplate": "company_name=%{x}<br>company_name_count=%{marker.size}<extra></extra>",
         "legendgroup": "EnsoData",
         "marker": {
          "color": "#19d3f3",
          "size": [
           1
          ],
          "sizemode": "area",
          "sizeref": 0.095,
          "symbol": "circle"
         },
         "mode": "markers",
         "name": "EnsoData",
         "orientation": "v",
         "showlegend": true,
         "type": "scatter",
         "x": [
          "EnsoData"
         ],
         "xaxis": "x",
         "y": [
          1
         ],
         "yaxis": "y"
        },
        {
         "hovertemplate": "company_name=%{x}<br>company_name_count=%{marker.size}<extra></extra>",
         "legendgroup": "MD Anderson",
         "marker": {
          "color": "#FF6692",
          "size": [
           1
          ],
          "sizemode": "area",
          "sizeref": 0.095,
          "symbol": "circle"
         },
         "mode": "markers",
         "name": "MD Anderson",
         "orientation": "v",
         "showlegend": true,
         "type": "scatter",
         "x": [
          "MD Anderson"
         ],
         "xaxis": "x",
         "y": [
          1
         ],
         "yaxis": "y"
        },
        {
         "hovertemplate": "company_name=%{x}<br>company_name_count=%{marker.size}<extra></extra>",
         "legendgroup": "SPECTRUM",
         "marker": {
          "color": "#B6E880",
          "size": [
           1
          ],
          "sizemode": "area",
          "sizeref": 0.095,
          "symbol": "circle"
         },
         "mode": "markers",
         "name": "SPECTRUM",
         "orientation": "v",
         "showlegend": true,
         "type": "scatter",
         "x": [
          "SPECTRUM"
         ],
         "xaxis": "x",
         "y": [
          1
         ],
         "yaxis": "y"
        },
        {
         "hovertemplate": "company_name=%{x}<br>company_name_count=%{marker.size}<extra></extra>",
         "legendgroup": "Cottonwood Financial",
         "marker": {
          "color": "#FF97FF",
          "size": [
           1
          ],
          "sizemode": "area",
          "sizeref": 0.095,
          "symbol": "circle"
         },
         "mode": "markers",
         "name": "Cottonwood Financial",
         "orientation": "v",
         "showlegend": true,
         "type": "scatter",
         "x": [
          "Cottonwood Financial"
         ],
         "xaxis": "x",
         "y": [
          1
         ],
         "yaxis": "y"
        },
        {
         "hovertemplate": "company_name=%{x}<br>company_name_count=%{marker.size}<extra></extra>",
         "legendgroup": "Darwin Recruitment Switzerland",
         "marker": {
          "color": "#FECB52",
          "size": [
           1
          ],
          "sizemode": "area",
          "sizeref": 0.095,
          "symbol": "circle"
         },
         "mode": "markers",
         "name": "Darwin Recruitment Switzerland",
         "orientation": "v",
         "showlegend": true,
         "type": "scatter",
         "x": [
          "Darwin Recruitment Switzerland"
         ],
         "xaxis": "x",
         "y": [
          1
         ],
         "yaxis": "y"
        },
        {
         "hovertemplate": "company_name=%{x}<br>company_name_count=%{marker.size}<extra></extra>",
         "legendgroup": "Reddit",
         "marker": {
          "color": "#636efa",
          "size": [
           1
          ],
          "sizemode": "area",
          "sizeref": 0.095,
          "symbol": "circle"
         },
         "mode": "markers",
         "name": "Reddit",
         "orientation": "v",
         "showlegend": true,
         "type": "scatter",
         "x": [
          "Reddit"
         ],
         "xaxis": "x",
         "y": [
          1
         ],
         "yaxis": "y"
        },
        {
         "hovertemplate": "company_name=%{x}<br>company_name_count=%{marker.size}<extra></extra>",
         "legendgroup": "Globe Life, Inc",
         "marker": {
          "color": "#EF553B",
          "size": [
           1
          ],
          "sizemode": "area",
          "sizeref": 0.095,
          "symbol": "circle"
         },
         "mode": "markers",
         "name": "Globe Life, Inc",
         "orientation": "v",
         "showlegend": true,
         "type": "scatter",
         "x": [
          "Globe Life, Inc"
         ],
         "xaxis": "x",
         "y": [
          1
         ],
         "yaxis": "y"
        },
        {
         "hovertemplate": "company_name=%{x}<br>company_name_count=%{marker.size}<extra></extra>",
         "legendgroup": "6sense",
         "marker": {
          "color": "#00cc96",
          "size": [
           1
          ],
          "sizemode": "area",
          "sizeref": 0.095,
          "symbol": "circle"
         },
         "mode": "markers",
         "name": "6sense",
         "orientation": "v",
         "showlegend": true,
         "type": "scatter",
         "x": [
          "6sense"
         ],
         "xaxis": "x",
         "y": [
          1
         ],
         "yaxis": "y"
        },
        {
         "hovertemplate": "company_name=%{x}<br>company_name_count=%{marker.size}<extra></extra>",
         "legendgroup": "NextEra Energy",
         "marker": {
          "color": "#ab63fa",
          "size": [
           1
          ],
          "sizemode": "area",
          "sizeref": 0.095,
          "symbol": "circle"
         },
         "mode": "markers",
         "name": "NextEra Energy",
         "orientation": "v",
         "showlegend": true,
         "type": "scatter",
         "x": [
          "NextEra Energy"
         ],
         "xaxis": "x",
         "y": [
          1
         ],
         "yaxis": "y"
        },
        {
         "hovertemplate": "company_name=%{x}<br>company_name_count=%{marker.size}<extra></extra>",
         "legendgroup": "PNC",
         "marker": {
          "color": "#FFA15A",
          "size": [
           1
          ],
          "sizemode": "area",
          "sizeref": 0.095,
          "symbol": "circle"
         },
         "mode": "markers",
         "name": "PNC",
         "orientation": "v",
         "showlegend": true,
         "type": "scatter",
         "x": [
          "PNC"
         ],
         "xaxis": "x",
         "y": [
          1
         ],
         "yaxis": "y"
        },
        {
         "hovertemplate": "company_name=%{x}<br>company_name_count=%{marker.size}<extra></extra>",
         "legendgroup": "Love's Travel Stops",
         "marker": {
          "color": "#19d3f3",
          "size": [
           1
          ],
          "sizemode": "area",
          "sizeref": 0.095,
          "symbol": "circle"
         },
         "mode": "markers",
         "name": "Love's Travel Stops",
         "orientation": "v",
         "showlegend": true,
         "type": "scatter",
         "x": [
          "Love's Travel Stops"
         ],
         "xaxis": "x",
         "y": [
          1
         ],
         "yaxis": "y"
        },
        {
         "hovertemplate": "company_name=%{x}<br>company_name_count=%{marker.size}<extra></extra>",
         "legendgroup": "Dave Inc.",
         "marker": {
          "color": "#FF6692",
          "size": [
           1
          ],
          "sizemode": "area",
          "sizeref": 0.095,
          "symbol": "circle"
         },
         "mode": "markers",
         "name": "Dave Inc.",
         "orientation": "v",
         "showlegend": true,
         "type": "scatter",
         "x": [
          "Dave Inc."
         ],
         "xaxis": "x",
         "y": [
          1
         ],
         "yaxis": "y"
        },
        {
         "hovertemplate": "company_name=%{x}<br>company_name_count=%{marker.size}<extra></extra>",
         "legendgroup": "Health Care Service Corporation",
         "marker": {
          "color": "#B6E880",
          "size": [
           1
          ],
          "sizemode": "area",
          "sizeref": 0.095,
          "symbol": "circle"
         },
         "mode": "markers",
         "name": "Health Care Service Corporation",
         "orientation": "v",
         "showlegend": true,
         "type": "scatter",
         "x": [
          "Health Care Service Corporation"
         ],
         "xaxis": "x",
         "y": [
          1
         ],
         "yaxis": "y"
        },
        {
         "hovertemplate": "company_name=%{x}<br>company_name_count=%{marker.size}<extra></extra>",
         "legendgroup": "CoreLogic",
         "marker": {
          "color": "#FF97FF",
          "size": [
           1
          ],
          "sizemode": "area",
          "sizeref": 0.095,
          "symbol": "circle"
         },
         "mode": "markers",
         "name": "CoreLogic",
         "orientation": "v",
         "showlegend": true,
         "type": "scatter",
         "x": [
          "CoreLogic"
         ],
         "xaxis": "x",
         "y": [
          1
         ],
         "yaxis": "y"
        },
        {
         "hovertemplate": "company_name=%{x}<br>company_name_count=%{marker.size}<extra></extra>",
         "legendgroup": "McKinsey & Company",
         "marker": {
          "color": "#FECB52",
          "size": [
           1
          ],
          "sizemode": "area",
          "sizeref": 0.095,
          "symbol": "circle"
         },
         "mode": "markers",
         "name": "McKinsey & Company",
         "orientation": "v",
         "showlegend": true,
         "type": "scatter",
         "x": [
          "McKinsey & Company"
         ],
         "xaxis": "x",
         "y": [
          1
         ],
         "yaxis": "y"
        },
        {
         "hovertemplate": "company_name=%{x}<br>company_name_count=%{marker.size}<extra></extra>",
         "legendgroup": "GXO Logistics",
         "marker": {
          "color": "#636efa",
          "size": [
           1
          ],
          "sizemode": "area",
          "sizeref": 0.095,
          "symbol": "circle"
         },
         "mode": "markers",
         "name": "GXO Logistics",
         "orientation": "v",
         "showlegend": true,
         "type": "scatter",
         "x": [
          "GXO Logistics"
         ],
         "xaxis": "x",
         "y": [
          1
         ],
         "yaxis": "y"
        },
        {
         "hovertemplate": "company_name=%{x}<br>company_name_count=%{marker.size}<extra></extra>",
         "legendgroup": "Curriculum Associates",
         "marker": {
          "color": "#EF553B",
          "size": [
           1
          ],
          "sizemode": "area",
          "sizeref": 0.095,
          "symbol": "circle"
         },
         "mode": "markers",
         "name": "Curriculum Associates",
         "orientation": "v",
         "showlegend": true,
         "type": "scatter",
         "x": [
          "Curriculum Associates"
         ],
         "xaxis": "x",
         "y": [
          1
         ],
         "yaxis": "y"
        },
        {
         "hovertemplate": "company_name=%{x}<br>company_name_count=%{marker.size}<extra></extra>",
         "legendgroup": "Experfy",
         "marker": {
          "color": "#00cc96",
          "size": [
           1
          ],
          "sizemode": "area",
          "sizeref": 0.095,
          "symbol": "circle"
         },
         "mode": "markers",
         "name": "Experfy",
         "orientation": "v",
         "showlegend": true,
         "type": "scatter",
         "x": [
          "Experfy"
         ],
         "xaxis": "x",
         "y": [
          1
         ],
         "yaxis": "y"
        },
        {
         "hovertemplate": "company_name=%{x}<br>company_name_count=%{marker.size}<extra></extra>",
         "legendgroup": "NASA Jet Propulsion Laboratory California Institut",
         "marker": {
          "color": "#ab63fa",
          "size": [
           1
          ],
          "sizemode": "area",
          "sizeref": 0.095,
          "symbol": "circle"
         },
         "mode": "markers",
         "name": "NASA Jet Propulsion Laboratory California Institut",
         "orientation": "v",
         "showlegend": true,
         "type": "scatter",
         "x": [
          "NASA Jet Propulsion Laboratory California Institut"
         ],
         "xaxis": "x",
         "y": [
          1
         ],
         "yaxis": "y"
        },
        {
         "hovertemplate": "company_name=%{x}<br>company_name_count=%{marker.size}<extra></extra>",
         "legendgroup": "Caterpillar, Inc",
         "marker": {
          "color": "#FFA15A",
          "size": [
           1
          ],
          "sizemode": "area",
          "sizeref": 0.095,
          "symbol": "circle"
         },
         "mode": "markers",
         "name": "Caterpillar, Inc",
         "orientation": "v",
         "showlegend": true,
         "type": "scatter",
         "x": [
          "Caterpillar, Inc"
         ],
         "xaxis": "x",
         "y": [
          1
         ],
         "yaxis": "y"
        },
        {
         "hovertemplate": "company_name=%{x}<br>company_name_count=%{marker.size}<extra></extra>",
         "legendgroup": "The Phoenix Group",
         "marker": {
          "color": "#19d3f3",
          "size": [
           1
          ],
          "sizemode": "area",
          "sizeref": 0.095,
          "symbol": "circle"
         },
         "mode": "markers",
         "name": "The Phoenix Group",
         "orientation": "v",
         "showlegend": true,
         "type": "scatter",
         "x": [
          "The Phoenix Group"
         ],
         "xaxis": "x",
         "y": [
          1
         ],
         "yaxis": "y"
        },
        {
         "hovertemplate": "company_name=%{x}<br>company_name_count=%{marker.size}<extra></extra>",
         "legendgroup": "SynergisticIT",
         "marker": {
          "color": "#FF6692",
          "size": [
           1
          ],
          "sizemode": "area",
          "sizeref": 0.095,
          "symbol": "circle"
         },
         "mode": "markers",
         "name": "SynergisticIT",
         "orientation": "v",
         "showlegend": true,
         "type": "scatter",
         "x": [
          "SynergisticIT"
         ],
         "xaxis": "x",
         "y": [
          1
         ],
         "yaxis": "y"
        },
        {
         "hovertemplate": "company_name=%{x}<br>company_name_count=%{marker.size}<extra></extra>",
         "legendgroup": "Zortech Solutions",
         "marker": {
          "color": "#B6E880",
          "size": [
           1
          ],
          "sizemode": "area",
          "sizeref": 0.095,
          "symbol": "circle"
         },
         "mode": "markers",
         "name": "Zortech Solutions",
         "orientation": "v",
         "showlegend": true,
         "type": "scatter",
         "x": [
          "Zortech Solutions"
         ],
         "xaxis": "x",
         "y": [
          1
         ],
         "yaxis": "y"
        },
        {
         "hovertemplate": "company_name=%{x}<br>company_name_count=%{marker.size}<extra></extra>",
         "legendgroup": "HexaQuest Global",
         "marker": {
          "color": "#FF97FF",
          "size": [
           1
          ],
          "sizemode": "area",
          "sizeref": 0.095,
          "symbol": "circle"
         },
         "mode": "markers",
         "name": "HexaQuest Global",
         "orientation": "v",
         "showlegend": true,
         "type": "scatter",
         "x": [
          "HexaQuest Global"
         ],
         "xaxis": "x",
         "y": [
          1
         ],
         "yaxis": "y"
        },
        {
         "hovertemplate": "company_name=%{x}<br>company_name_count=%{marker.size}<extra></extra>",
         "legendgroup": "Armorblox",
         "marker": {
          "color": "#FECB52",
          "size": [
           1
          ],
          "sizemode": "area",
          "sizeref": 0.095,
          "symbol": "circle"
         },
         "mode": "markers",
         "name": "Armorblox",
         "orientation": "v",
         "showlegend": true,
         "type": "scatter",
         "x": [
          "Armorblox"
         ],
         "xaxis": "x",
         "y": [
          1
         ],
         "yaxis": "y"
        },
        {
         "hovertemplate": "company_name=%{x}<br>company_name_count=%{marker.size}<extra></extra>",
         "legendgroup": "Shaped",
         "marker": {
          "color": "#636efa",
          "size": [
           1
          ],
          "sizemode": "area",
          "sizeref": 0.095,
          "symbol": "circle"
         },
         "mode": "markers",
         "name": "Shaped",
         "orientation": "v",
         "showlegend": true,
         "type": "scatter",
         "x": [
          "Shaped"
         ],
         "xaxis": "x",
         "y": [
          1
         ],
         "yaxis": "y"
        },
        {
         "hovertemplate": "company_name=%{x}<br>company_name_count=%{marker.size}<extra></extra>",
         "legendgroup": "Fortinet",
         "marker": {
          "color": "#EF553B",
          "size": [
           1
          ],
          "sizemode": "area",
          "sizeref": 0.095,
          "symbol": "circle"
         },
         "mode": "markers",
         "name": "Fortinet",
         "orientation": "v",
         "showlegend": true,
         "type": "scatter",
         "x": [
          "Fortinet"
         ],
         "xaxis": "x",
         "y": [
          1
         ],
         "yaxis": "y"
        },
        {
         "hovertemplate": "company_name=%{x}<br>company_name_count=%{marker.size}<extra></extra>",
         "legendgroup": "Got It",
         "marker": {
          "color": "#00cc96",
          "size": [
           1
          ],
          "sizemode": "area",
          "sizeref": 0.095,
          "symbol": "circle"
         },
         "mode": "markers",
         "name": "Got It",
         "orientation": "v",
         "showlegend": true,
         "type": "scatter",
         "x": [
          "Got It"
         ],
         "xaxis": "x",
         "y": [
          1
         ],
         "yaxis": "y"
        },
        {
         "hovertemplate": "company_name=%{x}<br>company_name_count=%{marker.size}<extra></extra>",
         "legendgroup": "Bloomberg",
         "marker": {
          "color": "#ab63fa",
          "size": [
           1
          ],
          "sizemode": "area",
          "sizeref": 0.095,
          "symbol": "circle"
         },
         "mode": "markers",
         "name": "Bloomberg",
         "orientation": "v",
         "showlegend": true,
         "type": "scatter",
         "x": [
          "Bloomberg"
         ],
         "xaxis": "x",
         "y": [
          1
         ],
         "yaxis": "y"
        },
        {
         "hovertemplate": "company_name=%{x}<br>company_name_count=%{marker.size}<extra></extra>",
         "legendgroup": "L3Harris Technologies",
         "marker": {
          "color": "#FFA15A",
          "size": [
           1
          ],
          "sizemode": "area",
          "sizeref": 0.095,
          "symbol": "circle"
         },
         "mode": "markers",
         "name": "L3Harris Technologies",
         "orientation": "v",
         "showlegend": true,
         "type": "scatter",
         "x": [
          "L3Harris Technologies"
         ],
         "xaxis": "x",
         "y": [
          1
         ],
         "yaxis": "y"
        },
        {
         "hovertemplate": "company_name=%{x}<br>company_name_count=%{marker.size}<extra></extra>",
         "legendgroup": "Harnham",
         "marker": {
          "color": "#19d3f3",
          "size": [
           1
          ],
          "sizemode": "area",
          "sizeref": 0.095,
          "symbol": "circle"
         },
         "mode": "markers",
         "name": "Harnham",
         "orientation": "v",
         "showlegend": true,
         "type": "scatter",
         "x": [
          "Harnham"
         ],
         "xaxis": "x",
         "y": [
          1
         ],
         "yaxis": "y"
        },
        {
         "hovertemplate": "company_name=%{x}<br>company_name_count=%{marker.size}<extra></extra>",
         "legendgroup": "Cision",
         "marker": {
          "color": "#FF6692",
          "size": [
           1
          ],
          "sizemode": "area",
          "sizeref": 0.095,
          "symbol": "circle"
         },
         "mode": "markers",
         "name": "Cision",
         "orientation": "v",
         "showlegend": true,
         "type": "scatter",
         "x": [
          "Cision"
         ],
         "xaxis": "x",
         "y": [
          1
         ],
         "yaxis": "y"
        },
        {
         "hovertemplate": "company_name=%{x}<br>company_name_count=%{marker.size}<extra></extra>",
         "legendgroup": "Grainger",
         "marker": {
          "color": "#B6E880",
          "size": [
           1
          ],
          "sizemode": "area",
          "sizeref": 0.095,
          "symbol": "circle"
         },
         "mode": "markers",
         "name": "Grainger",
         "orientation": "v",
         "showlegend": true,
         "type": "scatter",
         "x": [
          "Grainger"
         ],
         "xaxis": "x",
         "y": [
          1
         ],
         "yaxis": "y"
        },
        {
         "hovertemplate": "company_name=%{x}<br>company_name_count=%{marker.size}<extra></extra>",
         "legendgroup": "CO0001 The New York Times Company",
         "marker": {
          "color": "#FF97FF",
          "size": [
           1
          ],
          "sizemode": "area",
          "sizeref": 0.095,
          "symbol": "circle"
         },
         "mode": "markers",
         "name": "CO0001 The New York Times Company",
         "orientation": "v",
         "showlegend": true,
         "type": "scatter",
         "x": [
          "CO0001 The New York Times Company"
         ],
         "xaxis": "x",
         "y": [
          1
         ],
         "yaxis": "y"
        },
        {
         "hovertemplate": "company_name=%{x}<br>company_name_count=%{marker.size}<extra></extra>",
         "legendgroup": "Invitae",
         "marker": {
          "color": "#FECB52",
          "size": [
           1
          ],
          "sizemode": "area",
          "sizeref": 0.095,
          "symbol": "circle"
         },
         "mode": "markers",
         "name": "Invitae",
         "orientation": "v",
         "showlegend": true,
         "type": "scatter",
         "x": [
          "Invitae"
         ],
         "xaxis": "x",
         "y": [
          1
         ],
         "yaxis": "y"
        },
        {
         "hovertemplate": "company_name=%{x}<br>company_name_count=%{marker.size}<extra></extra>",
         "legendgroup": "Lucet (New Directions Behavioral Health)",
         "marker": {
          "color": "#636efa",
          "size": [
           1
          ],
          "sizemode": "area",
          "sizeref": 0.095,
          "symbol": "circle"
         },
         "mode": "markers",
         "name": "Lucet (New Directions Behavioral Health)",
         "orientation": "v",
         "showlegend": true,
         "type": "scatter",
         "x": [
          "Lucet (New Directions Behavioral Health)"
         ],
         "xaxis": "x",
         "y": [
          1
         ],
         "yaxis": "y"
        },
        {
         "hovertemplate": "company_name=%{x}<br>company_name_count=%{marker.size}<extra></extra>",
         "legendgroup": "Nordstrom",
         "marker": {
          "color": "#EF553B",
          "size": [
           1
          ],
          "sizemode": "area",
          "sizeref": 0.095,
          "symbol": "circle"
         },
         "mode": "markers",
         "name": "Nordstrom",
         "orientation": "v",
         "showlegend": true,
         "type": "scatter",
         "x": [
          "Nordstrom"
         ],
         "xaxis": "x",
         "y": [
          1
         ],
         "yaxis": "y"
        },
        {
         "hovertemplate": "company_name=%{x}<br>company_name_count=%{marker.size}<extra></extra>",
         "legendgroup": "Michael Page",
         "marker": {
          "color": "#00cc96",
          "size": [
           1
          ],
          "sizemode": "area",
          "sizeref": 0.095,
          "symbol": "circle"
         },
         "mode": "markers",
         "name": "Michael Page",
         "orientation": "v",
         "showlegend": true,
         "type": "scatter",
         "x": [
          "Michael Page"
         ],
         "xaxis": "x",
         "y": [
          1
         ],
         "yaxis": "y"
        },
        {
         "hovertemplate": "company_name=%{x}<br>company_name_count=%{marker.size}<extra></extra>",
         "legendgroup": "Children's Hospital Association",
         "marker": {
          "color": "#ab63fa",
          "size": [
           1
          ],
          "sizemode": "area",
          "sizeref": 0.095,
          "symbol": "circle"
         },
         "mode": "markers",
         "name": "Children's Hospital Association",
         "orientation": "v",
         "showlegend": true,
         "type": "scatter",
         "x": [
          "Children's Hospital Association"
         ],
         "xaxis": "x",
         "y": [
          1
         ],
         "yaxis": "y"
        },
        {
         "hovertemplate": "company_name=%{x}<br>company_name_count=%{marker.size}<extra></extra>",
         "legendgroup": "Scratch Financial, Inc.",
         "marker": {
          "color": "#FFA15A",
          "size": [
           1
          ],
          "sizemode": "area",
          "sizeref": 0.095,
          "symbol": "circle"
         },
         "mode": "markers",
         "name": "Scratch Financial, Inc.",
         "orientation": "v",
         "showlegend": true,
         "type": "scatter",
         "x": [
          "Scratch Financial, Inc."
         ],
         "xaxis": "x",
         "y": [
          1
         ],
         "yaxis": "y"
        },
        {
         "hovertemplate": "company_name=%{x}<br>company_name_count=%{marker.size}<extra></extra>",
         "legendgroup": "State of Oklahoma",
         "marker": {
          "color": "#19d3f3",
          "size": [
           1
          ],
          "sizemode": "area",
          "sizeref": 0.095,
          "symbol": "circle"
         },
         "mode": "markers",
         "name": "State of Oklahoma",
         "orientation": "v",
         "showlegend": true,
         "type": "scatter",
         "x": [
          "State of Oklahoma"
         ],
         "xaxis": "x",
         "y": [
          1
         ],
         "yaxis": "y"
        },
        {
         "hovertemplate": "company_name=%{x}<br>company_name_count=%{marker.size}<extra></extra>",
         "legendgroup": "MultiPlan, Inc",
         "marker": {
          "color": "#FF6692",
          "size": [
           1
          ],
          "sizemode": "area",
          "sizeref": 0.095,
          "symbol": "circle"
         },
         "mode": "markers",
         "name": "MultiPlan, Inc",
         "orientation": "v",
         "showlegend": true,
         "type": "scatter",
         "x": [
          "MultiPlan, Inc"
         ],
         "xaxis": "x",
         "y": [
          1
         ],
         "yaxis": "y"
        },
        {
         "hovertemplate": "company_name=%{x}<br>company_name_count=%{marker.size}<extra></extra>",
         "legendgroup": "Coursera Sourcing",
         "marker": {
          "color": "#B6E880",
          "size": [
           1
          ],
          "sizemode": "area",
          "sizeref": 0.095,
          "symbol": "circle"
         },
         "mode": "markers",
         "name": "Coursera Sourcing",
         "orientation": "v",
         "showlegend": true,
         "type": "scatter",
         "x": [
          "Coursera Sourcing"
         ],
         "xaxis": "x",
         "y": [
          1
         ],
         "yaxis": "y"
        },
        {
         "hovertemplate": "company_name=%{x}<br>company_name_count=%{marker.size}<extra></extra>",
         "legendgroup": "Home Depot / THD",
         "marker": {
          "color": "#FF97FF",
          "size": [
           1
          ],
          "sizemode": "area",
          "sizeref": 0.095,
          "symbol": "circle"
         },
         "mode": "markers",
         "name": "Home Depot / THD",
         "orientation": "v",
         "showlegend": true,
         "type": "scatter",
         "x": [
          "Home Depot / THD"
         ],
         "xaxis": "x",
         "y": [
          1
         ],
         "yaxis": "y"
        },
        {
         "hovertemplate": "company_name=%{x}<br>company_name_count=%{marker.size}<extra></extra>",
         "legendgroup": "University of Wisconsin-Madison",
         "marker": {
          "color": "#FECB52",
          "size": [
           1
          ],
          "sizemode": "area",
          "sizeref": 0.095,
          "symbol": "circle"
         },
         "mode": "markers",
         "name": "University of Wisconsin-Madison",
         "orientation": "v",
         "showlegend": true,
         "type": "scatter",
         "x": [
          "University of Wisconsin-Madison"
         ],
         "xaxis": "x",
         "y": [
          1
         ],
         "yaxis": "y"
        },
        {
         "hovertemplate": "company_name=%{x}<br>company_name_count=%{marker.size}<extra></extra>",
         "legendgroup": "FedEx",
         "marker": {
          "color": "#636efa",
          "size": [
           2,
           2
          ],
          "sizemode": "area",
          "sizeref": 0.095,
          "symbol": "circle"
         },
         "mode": "markers",
         "name": "FedEx",
         "orientation": "v",
         "showlegend": true,
         "type": "scatter",
         "x": [
          "FedEx",
          "FedEx"
         ],
         "xaxis": "x",
         "y": [
          2,
          2
         ],
         "yaxis": "y"
        },
        {
         "hovertemplate": "company_name=%{x}<br>company_name_count=%{marker.size}<extra></extra>",
         "legendgroup": "Colgate-Palmolive Company",
         "marker": {
          "color": "#EF553B",
          "size": [
           1
          ],
          "sizemode": "area",
          "sizeref": 0.095,
          "symbol": "circle"
         },
         "mode": "markers",
         "name": "Colgate-Palmolive Company",
         "orientation": "v",
         "showlegend": true,
         "type": "scatter",
         "x": [
          "Colgate-Palmolive Company"
         ],
         "xaxis": "x",
         "y": [
          1
         ],
         "yaxis": "y"
        },
        {
         "hovertemplate": "company_name=%{x}<br>company_name_count=%{marker.size}<extra></extra>",
         "legendgroup": "International Monetary Fund",
         "marker": {
          "color": "#00cc96",
          "size": [
           1
          ],
          "sizemode": "area",
          "sizeref": 0.095,
          "symbol": "circle"
         },
         "mode": "markers",
         "name": "International Monetary Fund",
         "orientation": "v",
         "showlegend": true,
         "type": "scatter",
         "x": [
          "International Monetary Fund"
         ],
         "xaxis": "x",
         "y": [
          1
         ],
         "yaxis": "y"
        },
        {
         "hovertemplate": "company_name=%{x}<br>company_name_count=%{marker.size}<extra></extra>",
         "legendgroup": "Caterpillar",
         "marker": {
          "color": "#ab63fa",
          "size": [
           1
          ],
          "sizemode": "area",
          "sizeref": 0.095,
          "symbol": "circle"
         },
         "mode": "markers",
         "name": "Caterpillar",
         "orientation": "v",
         "showlegend": true,
         "type": "scatter",
         "x": [
          "Caterpillar"
         ],
         "xaxis": "x",
         "y": [
          1
         ],
         "yaxis": "y"
        },
        {
         "hovertemplate": "company_name=%{x}<br>company_name_count=%{marker.size}<extra></extra>",
         "legendgroup": "Abbott Laboratories",
         "marker": {
          "color": "#FFA15A",
          "size": [
           1
          ],
          "sizemode": "area",
          "sizeref": 0.095,
          "symbol": "circle"
         },
         "mode": "markers",
         "name": "Abbott Laboratories",
         "orientation": "v",
         "showlegend": true,
         "type": "scatter",
         "x": [
          "Abbott Laboratories"
         ],
         "xaxis": "x",
         "y": [
          1
         ],
         "yaxis": "y"
        },
        {
         "hovertemplate": "company_name=%{x}<br>company_name_count=%{marker.size}<extra></extra>",
         "legendgroup": "Northwestern University",
         "marker": {
          "color": "#19d3f3",
          "size": [
           1
          ],
          "sizemode": "area",
          "sizeref": 0.095,
          "symbol": "circle"
         },
         "mode": "markers",
         "name": "Northwestern University",
         "orientation": "v",
         "showlegend": true,
         "type": "scatter",
         "x": [
          "Northwestern University"
         ],
         "xaxis": "x",
         "y": [
          1
         ],
         "yaxis": "y"
        },
        {
         "hovertemplate": "company_name=%{x}<br>company_name_count=%{marker.size}<extra></extra>",
         "legendgroup": "Walgreens",
         "marker": {
          "color": "#FF6692",
          "size": [
           1
          ],
          "sizemode": "area",
          "sizeref": 0.095,
          "symbol": "circle"
         },
         "mode": "markers",
         "name": "Walgreens",
         "orientation": "v",
         "showlegend": true,
         "type": "scatter",
         "x": [
          "Walgreens"
         ],
         "xaxis": "x",
         "y": [
          1
         ],
         "yaxis": "y"
        },
        {
         "hovertemplate": "company_name=%{x}<br>company_name_count=%{marker.size}<extra></extra>",
         "legendgroup": "Unlearn.AI",
         "marker": {
          "color": "#B6E880",
          "size": [
           1
          ],
          "sizemode": "area",
          "sizeref": 0.095,
          "symbol": "circle"
         },
         "mode": "markers",
         "name": "Unlearn.AI",
         "orientation": "v",
         "showlegend": true,
         "type": "scatter",
         "x": [
          "Unlearn.AI"
         ],
         "xaxis": "x",
         "y": [
          1
         ],
         "yaxis": "y"
        },
        {
         "hovertemplate": "company_name=%{x}<br>company_name_count=%{marker.size}<extra></extra>",
         "legendgroup": "University of Minnesota",
         "marker": {
          "color": "#FF97FF",
          "size": [
           1
          ],
          "sizemode": "area",
          "sizeref": 0.095,
          "symbol": "circle"
         },
         "mode": "markers",
         "name": "University of Minnesota",
         "orientation": "v",
         "showlegend": true,
         "type": "scatter",
         "x": [
          "University of Minnesota"
         ],
         "xaxis": "x",
         "y": [
          1
         ],
         "yaxis": "y"
        },
        {
         "hovertemplate": "company_name=%{x}<br>company_name_count=%{marker.size}<extra></extra>",
         "legendgroup": "PathAI",
         "marker": {
          "color": "#FECB52",
          "size": [
           1
          ],
          "sizemode": "area",
          "sizeref": 0.095,
          "symbol": "circle"
         },
         "mode": "markers",
         "name": "PathAI",
         "orientation": "v",
         "showlegend": true,
         "type": "scatter",
         "x": [
          "PathAI"
         ],
         "xaxis": "x",
         "y": [
          1
         ],
         "yaxis": "y"
        },
        {
         "hovertemplate": "company_name=%{x}<br>company_name_count=%{marker.size}<extra></extra>",
         "legendgroup": "Armis Industries",
         "marker": {
          "color": "#636efa",
          "size": [
           1
          ],
          "sizemode": "area",
          "sizeref": 0.095,
          "symbol": "circle"
         },
         "mode": "markers",
         "name": "Armis Industries",
         "orientation": "v",
         "showlegend": true,
         "type": "scatter",
         "x": [
          "Armis Industries"
         ],
         "xaxis": "x",
         "y": [
          1
         ],
         "yaxis": "y"
        },
        {
         "hovertemplate": "company_name=%{x}<br>company_name_count=%{marker.size}<extra></extra>",
         "legendgroup": "Adobe",
         "marker": {
          "color": "#EF553B",
          "size": [
           1
          ],
          "sizemode": "area",
          "sizeref": 0.095,
          "symbol": "circle"
         },
         "mode": "markers",
         "name": "Adobe",
         "orientation": "v",
         "showlegend": true,
         "type": "scatter",
         "x": [
          "Adobe"
         ],
         "xaxis": "x",
         "y": [
          1
         ],
         "yaxis": "y"
        },
        {
         "hovertemplate": "company_name=%{x}<br>company_name_count=%{marker.size}<extra></extra>",
         "legendgroup": "AssemblyAI",
         "marker": {
          "color": "#00cc96",
          "size": [
           2,
           2
          ],
          "sizemode": "area",
          "sizeref": 0.095,
          "symbol": "circle"
         },
         "mode": "markers",
         "name": "AssemblyAI",
         "orientation": "v",
         "showlegend": true,
         "type": "scatter",
         "x": [
          "AssemblyAI",
          "AssemblyAI"
         ],
         "xaxis": "x",
         "y": [
          2,
          2
         ],
         "yaxis": "y"
        },
        {
         "hovertemplate": "company_name=%{x}<br>company_name_count=%{marker.size}<extra></extra>",
         "legendgroup": "Absci",
         "marker": {
          "color": "#ab63fa",
          "size": [
           1
          ],
          "sizemode": "area",
          "sizeref": 0.095,
          "symbol": "circle"
         },
         "mode": "markers",
         "name": "Absci",
         "orientation": "v",
         "showlegend": true,
         "type": "scatter",
         "x": [
          "Absci"
         ],
         "xaxis": "x",
         "y": [
          1
         ],
         "yaxis": "y"
        },
        {
         "hovertemplate": "company_name=%{x}<br>company_name_count=%{marker.size}<extra></extra>",
         "legendgroup": "MoTek Technologies",
         "marker": {
          "color": "#FFA15A",
          "size": [
           2,
           2
          ],
          "sizemode": "area",
          "sizeref": 0.095,
          "symbol": "circle"
         },
         "mode": "markers",
         "name": "MoTek Technologies",
         "orientation": "v",
         "showlegend": true,
         "type": "scatter",
         "x": [
          "MoTek Technologies",
          "MoTek Technologies"
         ],
         "xaxis": "x",
         "y": [
          2,
          2
         ],
         "yaxis": "y"
        },
        {
         "hovertemplate": "company_name=%{x}<br>company_name_count=%{marker.size}<extra></extra>",
         "legendgroup": "Eightfold AI",
         "marker": {
          "color": "#19d3f3",
          "size": [
           1
          ],
          "sizemode": "area",
          "sizeref": 0.095,
          "symbol": "circle"
         },
         "mode": "markers",
         "name": "Eightfold AI",
         "orientation": "v",
         "showlegend": true,
         "type": "scatter",
         "x": [
          "Eightfold AI"
         ],
         "xaxis": "x",
         "y": [
          1
         ],
         "yaxis": "y"
        },
        {
         "hovertemplate": "company_name=%{x}<br>company_name_count=%{marker.size}<extra></extra>",
         "legendgroup": "University of California Los Angeles",
         "marker": {
          "color": "#FF6692",
          "size": [
           1
          ],
          "sizemode": "area",
          "sizeref": 0.095,
          "symbol": "circle"
         },
         "mode": "markers",
         "name": "University of California Los Angeles",
         "orientation": "v",
         "showlegend": true,
         "type": "scatter",
         "x": [
          "University of California Los Angeles"
         ],
         "xaxis": "x",
         "y": [
          1
         ],
         "yaxis": "y"
        },
        {
         "hovertemplate": "company_name=%{x}<br>company_name_count=%{marker.size}<extra></extra>",
         "legendgroup": "Binance",
         "marker": {
          "color": "#B6E880",
          "size": [
           1
          ],
          "sizemode": "area",
          "sizeref": 0.095,
          "symbol": "circle"
         },
         "mode": "markers",
         "name": "Binance",
         "orientation": "v",
         "showlegend": true,
         "type": "scatter",
         "x": [
          "Binance"
         ],
         "xaxis": "x",
         "y": [
          1
         ],
         "yaxis": "y"
        },
        {
         "hovertemplate": "company_name=%{x}<br>company_name_count=%{marker.size}<extra></extra>",
         "legendgroup": "Trac Technologies, Inc.",
         "marker": {
          "color": "#FF97FF",
          "size": [
           1
          ],
          "sizemode": "area",
          "sizeref": 0.095,
          "symbol": "circle"
         },
         "mode": "markers",
         "name": "Trac Technologies, Inc.",
         "orientation": "v",
         "showlegend": true,
         "type": "scatter",
         "x": [
          "Trac Technologies, Inc."
         ],
         "xaxis": "x",
         "y": [
          1
         ],
         "yaxis": "y"
        },
        {
         "hovertemplate": "company_name=%{x}<br>company_name_count=%{marker.size}<extra></extra>",
         "legendgroup": "Ripple",
         "marker": {
          "color": "#FECB52",
          "size": [
           1
          ],
          "sizemode": "area",
          "sizeref": 0.095,
          "symbol": "circle"
         },
         "mode": "markers",
         "name": "Ripple",
         "orientation": "v",
         "showlegend": true,
         "type": "scatter",
         "x": [
          "Ripple"
         ],
         "xaxis": "x",
         "y": [
          1
         ],
         "yaxis": "y"
        },
        {
         "hovertemplate": "company_name=%{x}<br>company_name_count=%{marker.size}<extra></extra>",
         "legendgroup": "Resource 1",
         "marker": {
          "color": "#636efa",
          "size": [
           1
          ],
          "sizemode": "area",
          "sizeref": 0.095,
          "symbol": "circle"
         },
         "mode": "markers",
         "name": "Resource 1",
         "orientation": "v",
         "showlegend": true,
         "type": "scatter",
         "x": [
          "Resource 1"
         ],
         "xaxis": "x",
         "y": [
          1
         ],
         "yaxis": "y"
        },
        {
         "hovertemplate": "company_name=%{x}<br>company_name_count=%{marker.size}<extra></extra>",
         "legendgroup": "LandOLakes",
         "marker": {
          "color": "#EF553B",
          "size": [
           1
          ],
          "sizemode": "area",
          "sizeref": 0.095,
          "symbol": "circle"
         },
         "mode": "markers",
         "name": "LandOLakes",
         "orientation": "v",
         "showlegend": true,
         "type": "scatter",
         "x": [
          "LandOLakes"
         ],
         "xaxis": "x",
         "y": [
          1
         ],
         "yaxis": "y"
        },
        {
         "hovertemplate": "company_name=%{x}<br>company_name_count=%{marker.size}<extra></extra>",
         "legendgroup": "Global IDEAS, Michigan State University",
         "marker": {
          "color": "#00cc96",
          "size": [
           1
          ],
          "sizemode": "area",
          "sizeref": 0.095,
          "symbol": "circle"
         },
         "mode": "markers",
         "name": "Global IDEAS, Michigan State University",
         "orientation": "v",
         "showlegend": true,
         "type": "scatter",
         "x": [
          "Global IDEAS, Michigan State University"
         ],
         "xaxis": "x",
         "y": [
          1
         ],
         "yaxis": "y"
        },
        {
         "hovertemplate": "company_name=%{x}<br>company_name_count=%{marker.size}<extra></extra>",
         "legendgroup": "Blue Cross Blue Shield of Minnesota",
         "marker": {
          "color": "#ab63fa",
          "size": [
           1
          ],
          "sizemode": "area",
          "sizeref": 0.095,
          "symbol": "circle"
         },
         "mode": "markers",
         "name": "Blue Cross Blue Shield of Minnesota",
         "orientation": "v",
         "showlegend": true,
         "type": "scatter",
         "x": [
          "Blue Cross Blue Shield of Minnesota"
         ],
         "xaxis": "x",
         "y": [
          1
         ],
         "yaxis": "y"
        },
        {
         "hovertemplate": "company_name=%{x}<br>company_name_count=%{marker.size}<extra></extra>",
         "legendgroup": "AbbVie",
         "marker": {
          "color": "#FFA15A",
          "size": [
           1
          ],
          "sizemode": "area",
          "sizeref": 0.095,
          "symbol": "circle"
         },
         "mode": "markers",
         "name": "AbbVie",
         "orientation": "v",
         "showlegend": true,
         "type": "scatter",
         "x": [
          "AbbVie"
         ],
         "xaxis": "x",
         "y": [
          1
         ],
         "yaxis": "y"
        },
        {
         "hovertemplate": "company_name=%{x}<br>company_name_count=%{marker.size}<extra></extra>",
         "legendgroup": "Sam's Club",
         "marker": {
          "color": "#19d3f3",
          "size": [
           1
          ],
          "sizemode": "area",
          "sizeref": 0.095,
          "symbol": "circle"
         },
         "mode": "markers",
         "name": "Sam's Club",
         "orientation": "v",
         "showlegend": true,
         "type": "scatter",
         "x": [
          "Sam's Club"
         ],
         "xaxis": "x",
         "y": [
          1
         ],
         "yaxis": "y"
        },
        {
         "hovertemplate": "company_name=%{x}<br>company_name_count=%{marker.size}<extra></extra>",
         "legendgroup": "ABBVIE",
         "marker": {
          "color": "#FF6692",
          "size": [
           1
          ],
          "sizemode": "area",
          "sizeref": 0.095,
          "symbol": "circle"
         },
         "mode": "markers",
         "name": "ABBVIE",
         "orientation": "v",
         "showlegend": true,
         "type": "scatter",
         "x": [
          "ABBVIE"
         ],
         "xaxis": "x",
         "y": [
          1
         ],
         "yaxis": "y"
        },
        {
         "hovertemplate": "company_name=%{x}<br>company_name_count=%{marker.size}<extra></extra>",
         "legendgroup": "ISSAC LLC",
         "marker": {
          "color": "#B6E880",
          "size": [
           1
          ],
          "sizemode": "area",
          "sizeref": 0.095,
          "symbol": "circle"
         },
         "mode": "markers",
         "name": "ISSAC LLC",
         "orientation": "v",
         "showlegend": true,
         "type": "scatter",
         "x": [
          "ISSAC LLC"
         ],
         "xaxis": "x",
         "y": [
          1
         ],
         "yaxis": "y"
        },
        {
         "hovertemplate": "company_name=%{x}<br>company_name_count=%{marker.size}<extra></extra>",
         "legendgroup": "Kovasys",
         "marker": {
          "color": "#FF97FF",
          "size": [
           1
          ],
          "sizemode": "area",
          "sizeref": 0.095,
          "symbol": "circle"
         },
         "mode": "markers",
         "name": "Kovasys",
         "orientation": "v",
         "showlegend": true,
         "type": "scatter",
         "x": [
          "Kovasys"
         ],
         "xaxis": "x",
         "y": [
          1
         ],
         "yaxis": "y"
        },
        {
         "hovertemplate": "company_name=%{x}<br>company_name_count=%{marker.size}<extra></extra>",
         "legendgroup": "Dana–Farber Cancer Institute",
         "marker": {
          "color": "#FECB52",
          "size": [
           1
          ],
          "sizemode": "area",
          "sizeref": 0.095,
          "symbol": "circle"
         },
         "mode": "markers",
         "name": "Dana–Farber Cancer Institute",
         "orientation": "v",
         "showlegend": true,
         "type": "scatter",
         "x": [
          "Dana–Farber Cancer Institute"
         ],
         "xaxis": "x",
         "y": [
          1
         ],
         "yaxis": "y"
        },
        {
         "hovertemplate": "company_name=%{x}<br>company_name_count=%{marker.size}<extra></extra>",
         "legendgroup": "SommerAI",
         "marker": {
          "color": "#636efa",
          "size": [
           1
          ],
          "sizemode": "area",
          "sizeref": 0.095,
          "symbol": "circle"
         },
         "mode": "markers",
         "name": "SommerAI",
         "orientation": "v",
         "showlegend": true,
         "type": "scatter",
         "x": [
          "SommerAI"
         ],
         "xaxis": "x",
         "y": [
          1
         ],
         "yaxis": "y"
        },
        {
         "hovertemplate": "company_name=%{x}<br>company_name_count=%{marker.size}<extra></extra>",
         "legendgroup": "Three Pillars Recruiting",
         "marker": {
          "color": "#EF553B",
          "size": [
           1
          ],
          "sizemode": "area",
          "sizeref": 0.095,
          "symbol": "circle"
         },
         "mode": "markers",
         "name": "Three Pillars Recruiting",
         "orientation": "v",
         "showlegend": true,
         "type": "scatter",
         "x": [
          "Three Pillars Recruiting"
         ],
         "xaxis": "x",
         "y": [
          1
         ],
         "yaxis": "y"
        },
        {
         "hovertemplate": "company_name=%{x}<br>company_name_count=%{marker.size}<extra></extra>",
         "legendgroup": "Bank of America",
         "marker": {
          "color": "#00cc96",
          "size": [
           1
          ],
          "sizemode": "area",
          "sizeref": 0.095,
          "symbol": "circle"
         },
         "mode": "markers",
         "name": "Bank of America",
         "orientation": "v",
         "showlegend": true,
         "type": "scatter",
         "x": [
          "Bank of America"
         ],
         "xaxis": "x",
         "y": [
          1
         ],
         "yaxis": "y"
        },
        {
         "hovertemplate": "company_name=%{x}<br>company_name_count=%{marker.size}<extra></extra>",
         "legendgroup": "IBM Careers",
         "marker": {
          "color": "#ab63fa",
          "size": [
           1
          ],
          "sizemode": "area",
          "sizeref": 0.095,
          "symbol": "circle"
         },
         "mode": "markers",
         "name": "IBM Careers",
         "orientation": "v",
         "showlegend": true,
         "type": "scatter",
         "x": [
          "IBM Careers"
         ],
         "xaxis": "x",
         "y": [
          1
         ],
         "yaxis": "y"
        },
        {
         "hovertemplate": "company_name=%{x}<br>company_name_count=%{marker.size}<extra></extra>",
         "legendgroup": "Westbourne Quantitative Trading, Technology & Research",
         "marker": {
          "color": "#FFA15A",
          "size": [
           1
          ],
          "sizemode": "area",
          "sizeref": 0.095,
          "symbol": "circle"
         },
         "mode": "markers",
         "name": "Westbourne Quantitative Trading, Technology & Research",
         "orientation": "v",
         "showlegend": true,
         "type": "scatter",
         "x": [
          "Westbourne Quantitative Trading, Technology & Research"
         ],
         "xaxis": "x",
         "y": [
          1
         ],
         "yaxis": "y"
        },
        {
         "hovertemplate": "company_name=%{x}<br>company_name_count=%{marker.size}<extra></extra>",
         "legendgroup": "Degreed",
         "marker": {
          "color": "#19d3f3",
          "size": [
           1
          ],
          "sizemode": "area",
          "sizeref": 0.095,
          "symbol": "circle"
         },
         "mode": "markers",
         "name": "Degreed",
         "orientation": "v",
         "showlegend": true,
         "type": "scatter",
         "x": [
          "Degreed"
         ],
         "xaxis": "x",
         "y": [
          1
         ],
         "yaxis": "y"
        },
        {
         "hovertemplate": "company_name=%{x}<br>company_name_count=%{marker.size}<extra></extra>",
         "legendgroup": "Rivian",
         "marker": {
          "color": "#FF6692",
          "size": [
           1
          ],
          "sizemode": "area",
          "sizeref": 0.095,
          "symbol": "circle"
         },
         "mode": "markers",
         "name": "Rivian",
         "orientation": "v",
         "showlegend": true,
         "type": "scatter",
         "x": [
          "Rivian"
         ],
         "xaxis": "x",
         "y": [
          1
         ],
         "yaxis": "y"
        },
        {
         "hovertemplate": "company_name=%{x}<br>company_name_count=%{marker.size}<extra></extra>",
         "legendgroup": "mozee",
         "marker": {
          "color": "#B6E880",
          "size": [
           1
          ],
          "sizemode": "area",
          "sizeref": 0.095,
          "symbol": "circle"
         },
         "mode": "markers",
         "name": "mozee",
         "orientation": "v",
         "showlegend": true,
         "type": "scatter",
         "x": [
          "mozee"
         ],
         "xaxis": "x",
         "y": [
          1
         ],
         "yaxis": "y"
        },
        {
         "hovertemplate": "company_name=%{x}<br>company_name_count=%{marker.size}<extra></extra>",
         "legendgroup": "Innopeak Tech Inc",
         "marker": {
          "color": "#FF97FF",
          "size": [
           1
          ],
          "sizemode": "area",
          "sizeref": 0.095,
          "symbol": "circle"
         },
         "mode": "markers",
         "name": "Innopeak Tech Inc",
         "orientation": "v",
         "showlegend": true,
         "type": "scatter",
         "x": [
          "Innopeak Tech Inc"
         ],
         "xaxis": "x",
         "y": [
          1
         ],
         "yaxis": "y"
        },
        {
         "hovertemplate": "company_name=%{x}<br>company_name_count=%{marker.size}<extra></extra>",
         "legendgroup": "Flagship Pioneering",
         "marker": {
          "color": "#FECB52",
          "size": [
           1
          ],
          "sizemode": "area",
          "sizeref": 0.095,
          "symbol": "circle"
         },
         "mode": "markers",
         "name": "Flagship Pioneering",
         "orientation": "v",
         "showlegend": true,
         "type": "scatter",
         "x": [
          "Flagship Pioneering"
         ],
         "xaxis": "x",
         "y": [
          1
         ],
         "yaxis": "y"
        },
        {
         "hovertemplate": "company_name=%{x}<br>company_name_count=%{marker.size}<extra></extra>",
         "legendgroup": "Premier System",
         "marker": {
          "color": "#636efa",
          "size": [
           1
          ],
          "sizemode": "area",
          "sizeref": 0.095,
          "symbol": "circle"
         },
         "mode": "markers",
         "name": "Premier System",
         "orientation": "v",
         "showlegend": true,
         "type": "scatter",
         "x": [
          "Premier System"
         ],
         "xaxis": "x",
         "y": [
          1
         ],
         "yaxis": "y"
        },
        {
         "hovertemplate": "company_name=%{x}<br>company_name_count=%{marker.size}<extra></extra>",
         "legendgroup": "Ansys",
         "marker": {
          "color": "#EF553B",
          "size": [
           1
          ],
          "sizemode": "area",
          "sizeref": 0.095,
          "symbol": "circle"
         },
         "mode": "markers",
         "name": "Ansys",
         "orientation": "v",
         "showlegend": true,
         "type": "scatter",
         "x": [
          "Ansys"
         ],
         "xaxis": "x",
         "y": [
          1
         ],
         "yaxis": "y"
        },
        {
         "hovertemplate": "company_name=%{x}<br>company_name_count=%{marker.size}<extra></extra>",
         "legendgroup": "VIMworld",
         "marker": {
          "color": "#00cc96",
          "size": [
           1
          ],
          "sizemode": "area",
          "sizeref": 0.095,
          "symbol": "circle"
         },
         "mode": "markers",
         "name": "VIMworld",
         "orientation": "v",
         "showlegend": true,
         "type": "scatter",
         "x": [
          "VIMworld"
         ],
         "xaxis": "x",
         "y": [
          1
         ],
         "yaxis": "y"
        },
        {
         "hovertemplate": "company_name=%{x}<br>company_name_count=%{marker.size}<extra></extra>",
         "legendgroup": "BloKchain Talent, LLC",
         "marker": {
          "color": "#ab63fa",
          "size": [
           1
          ],
          "sizemode": "area",
          "sizeref": 0.095,
          "symbol": "circle"
         },
         "mode": "markers",
         "name": "BloKchain Talent, LLC",
         "orientation": "v",
         "showlegend": true,
         "type": "scatter",
         "x": [
          "BloKchain Talent, LLC"
         ],
         "xaxis": "x",
         "y": [
          1
         ],
         "yaxis": "y"
        },
        {
         "hovertemplate": "company_name=%{x}<br>company_name_count=%{marker.size}<extra></extra>",
         "legendgroup": "Amazon Dev Center U.S., Inc.",
         "marker": {
          "color": "#FFA15A",
          "size": [
           1
          ],
          "sizemode": "area",
          "sizeref": 0.095,
          "symbol": "circle"
         },
         "mode": "markers",
         "name": "Amazon Dev Center U.S., Inc.",
         "orientation": "v",
         "showlegend": true,
         "type": "scatter",
         "x": [
          "Amazon Dev Center U.S., Inc."
         ],
         "xaxis": "x",
         "y": [
          1
         ],
         "yaxis": "y"
        },
        {
         "hovertemplate": "company_name=%{x}<br>company_name_count=%{marker.size}<extra></extra>",
         "legendgroup": "OAK Network",
         "marker": {
          "color": "#19d3f3",
          "size": [
           1
          ],
          "sizemode": "area",
          "sizeref": 0.095,
          "symbol": "circle"
         },
         "mode": "markers",
         "name": "OAK Network",
         "orientation": "v",
         "showlegend": true,
         "type": "scatter",
         "x": [
          "OAK Network"
         ],
         "xaxis": "x",
         "y": [
          1
         ],
         "yaxis": "y"
        },
        {
         "hovertemplate": "company_name=%{x}<br>company_name_count=%{marker.size}<extra></extra>",
         "legendgroup": "Fox Corporation",
         "marker": {
          "color": "#FF6692",
          "size": [
           1
          ],
          "sizemode": "area",
          "sizeref": 0.095,
          "symbol": "circle"
         },
         "mode": "markers",
         "name": "Fox Corporation",
         "orientation": "v",
         "showlegend": true,
         "type": "scatter",
         "x": [
          "Fox Corporation"
         ],
         "xaxis": "x",
         "y": [
          1
         ],
         "yaxis": "y"
        },
        {
         "hovertemplate": "company_name=%{x}<br>company_name_count=%{marker.size}<extra></extra>",
         "legendgroup": "Lawrence Livermore National Laboratory",
         "marker": {
          "color": "#B6E880",
          "size": [
           1
          ],
          "sizemode": "area",
          "sizeref": 0.095,
          "symbol": "circle"
         },
         "mode": "markers",
         "name": "Lawrence Livermore National Laboratory",
         "orientation": "v",
         "showlegend": true,
         "type": "scatter",
         "x": [
          "Lawrence Livermore National Laboratory"
         ],
         "xaxis": "x",
         "y": [
          1
         ],
         "yaxis": "y"
        },
        {
         "hovertemplate": "company_name=%{x}<br>company_name_count=%{marker.size}<extra></extra>",
         "legendgroup": "Saxon Global Inc",
         "marker": {
          "color": "#FF97FF",
          "size": [
           1
          ],
          "sizemode": "area",
          "sizeref": 0.095,
          "symbol": "circle"
         },
         "mode": "markers",
         "name": "Saxon Global Inc",
         "orientation": "v",
         "showlegend": true,
         "type": "scatter",
         "x": [
          "Saxon Global Inc"
         ],
         "xaxis": "x",
         "y": [
          1
         ],
         "yaxis": "y"
        },
        {
         "hovertemplate": "company_name=%{x}<br>company_name_count=%{marker.size}<extra></extra>",
         "legendgroup": "Edgetensor Technologies",
         "marker": {
          "color": "#FECB52",
          "size": [
           1
          ],
          "sizemode": "area",
          "sizeref": 0.095,
          "symbol": "circle"
         },
         "mode": "markers",
         "name": "Edgetensor Technologies",
         "orientation": "v",
         "showlegend": true,
         "type": "scatter",
         "x": [
          "Edgetensor Technologies"
         ],
         "xaxis": "x",
         "y": [
          1
         ],
         "yaxis": "y"
        },
        {
         "hovertemplate": "company_name=%{x}<br>company_name_count=%{marker.size}<extra></extra>",
         "legendgroup": "Technical Link",
         "marker": {
          "color": "#636efa",
          "size": [
           1
          ],
          "sizemode": "area",
          "sizeref": 0.095,
          "symbol": "circle"
         },
         "mode": "markers",
         "name": "Technical Link",
         "orientation": "v",
         "showlegend": true,
         "type": "scatter",
         "x": [
          "Technical Link"
         ],
         "xaxis": "x",
         "y": [
          1
         ],
         "yaxis": "y"
        },
        {
         "hovertemplate": "company_name=%{x}<br>company_name_count=%{marker.size}<extra></extra>",
         "legendgroup": "WEX",
         "marker": {
          "color": "#EF553B",
          "size": [
           1
          ],
          "sizemode": "area",
          "sizeref": 0.095,
          "symbol": "circle"
         },
         "mode": "markers",
         "name": "WEX",
         "orientation": "v",
         "showlegend": true,
         "type": "scatter",
         "x": [
          "WEX"
         ],
         "xaxis": "x",
         "y": [
          1
         ],
         "yaxis": "y"
        },
        {
         "hovertemplate": "company_name=%{x}<br>company_name_count=%{marker.size}<extra></extra>",
         "legendgroup": "InComm Payments",
         "marker": {
          "color": "#00cc96",
          "size": [
           1
          ],
          "sizemode": "area",
          "sizeref": 0.095,
          "symbol": "circle"
         },
         "mode": "markers",
         "name": "InComm Payments",
         "orientation": "v",
         "showlegend": true,
         "type": "scatter",
         "x": [
          "InComm Payments"
         ],
         "xaxis": "x",
         "y": [
          1
         ],
         "yaxis": "y"
        },
        {
         "hovertemplate": "company_name=%{x}<br>company_name_count=%{marker.size}<extra></extra>",
         "legendgroup": "Atmosfy, Inc",
         "marker": {
          "color": "#ab63fa",
          "size": [
           1
          ],
          "sizemode": "area",
          "sizeref": 0.095,
          "symbol": "circle"
         },
         "mode": "markers",
         "name": "Atmosfy, Inc",
         "orientation": "v",
         "showlegend": true,
         "type": "scatter",
         "x": [
          "Atmosfy, Inc"
         ],
         "xaxis": "x",
         "y": [
          1
         ],
         "yaxis": "y"
        },
        {
         "hovertemplate": "company_name=%{x}<br>company_name_count=%{marker.size}<extra></extra>",
         "legendgroup": "Life.Church",
         "marker": {
          "color": "#FFA15A",
          "size": [
           1
          ],
          "sizemode": "area",
          "sizeref": 0.095,
          "symbol": "circle"
         },
         "mode": "markers",
         "name": "Life.Church",
         "orientation": "v",
         "showlegend": true,
         "type": "scatter",
         "x": [
          "Life.Church"
         ],
         "xaxis": "x",
         "y": [
          1
         ],
         "yaxis": "y"
        },
        {
         "hovertemplate": "company_name=%{x}<br>company_name_count=%{marker.size}<extra></extra>",
         "legendgroup": "Lockton Companies",
         "marker": {
          "color": "#19d3f3",
          "size": [
           1
          ],
          "sizemode": "area",
          "sizeref": 0.095,
          "symbol": "circle"
         },
         "mode": "markers",
         "name": "Lockton Companies",
         "orientation": "v",
         "showlegend": true,
         "type": "scatter",
         "x": [
          "Lockton Companies"
         ],
         "xaxis": "x",
         "y": [
          1
         ],
         "yaxis": "y"
        },
        {
         "hovertemplate": "company_name=%{x}<br>company_name_count=%{marker.size}<extra></extra>",
         "legendgroup": "Elevance Health",
         "marker": {
          "color": "#FF6692",
          "size": [
           2,
           2
          ],
          "sizemode": "area",
          "sizeref": 0.095,
          "symbol": "circle"
         },
         "mode": "markers",
         "name": "Elevance Health",
         "orientation": "v",
         "showlegend": true,
         "type": "scatter",
         "x": [
          "Elevance Health",
          "Elevance Health"
         ],
         "xaxis": "x",
         "y": [
          2,
          2
         ],
         "yaxis": "y"
        },
        {
         "hovertemplate": "company_name=%{x}<br>company_name_count=%{marker.size}<extra></extra>",
         "legendgroup": "Trigyn",
         "marker": {
          "color": "#B6E880",
          "size": [
           1
          ],
          "sizemode": "area",
          "sizeref": 0.095,
          "symbol": "circle"
         },
         "mode": "markers",
         "name": "Trigyn",
         "orientation": "v",
         "showlegend": true,
         "type": "scatter",
         "x": [
          "Trigyn"
         ],
         "xaxis": "x",
         "y": [
          1
         ],
         "yaxis": "y"
        },
        {
         "hovertemplate": "company_name=%{x}<br>company_name_count=%{marker.size}<extra></extra>",
         "legendgroup": "Google Inc.",
         "marker": {
          "color": "#FF97FF",
          "size": [
           1
          ],
          "sizemode": "area",
          "sizeref": 0.095,
          "symbol": "circle"
         },
         "mode": "markers",
         "name": "Google Inc.",
         "orientation": "v",
         "showlegend": true,
         "type": "scatter",
         "x": [
          "Google Inc."
         ],
         "xaxis": "x",
         "y": [
          1
         ],
         "yaxis": "y"
        },
        {
         "hovertemplate": "company_name=%{x}<br>company_name_count=%{marker.size}<extra></extra>",
         "legendgroup": "apree health",
         "marker": {
          "color": "#FECB52",
          "size": [
           1
          ],
          "sizemode": "area",
          "sizeref": 0.095,
          "symbol": "circle"
         },
         "mode": "markers",
         "name": "apree health",
         "orientation": "v",
         "showlegend": true,
         "type": "scatter",
         "x": [
          "apree health"
         ],
         "xaxis": "x",
         "y": [
          1
         ],
         "yaxis": "y"
        },
        {
         "hovertemplate": "company_name=%{x}<br>company_name_count=%{marker.size}<extra></extra>",
         "legendgroup": "Aon",
         "marker": {
          "color": "#636efa",
          "size": [
           1
          ],
          "sizemode": "area",
          "sizeref": 0.095,
          "symbol": "circle"
         },
         "mode": "markers",
         "name": "Aon",
         "orientation": "v",
         "showlegend": true,
         "type": "scatter",
         "x": [
          "Aon"
         ],
         "xaxis": "x",
         "y": [
          1
         ],
         "yaxis": "y"
        },
        {
         "hovertemplate": "company_name=%{x}<br>company_name_count=%{marker.size}<extra></extra>",
         "legendgroup": "Superior HealthPlan",
         "marker": {
          "color": "#EF553B",
          "size": [
           1
          ],
          "sizemode": "area",
          "sizeref": 0.095,
          "symbol": "circle"
         },
         "mode": "markers",
         "name": "Superior HealthPlan",
         "orientation": "v",
         "showlegend": true,
         "type": "scatter",
         "x": [
          "Superior HealthPlan"
         ],
         "xaxis": "x",
         "y": [
          1
         ],
         "yaxis": "y"
        },
        {
         "hovertemplate": "company_name=%{x}<br>company_name_count=%{marker.size}<extra></extra>",
         "legendgroup": "Elsevier Inc. Company",
         "marker": {
          "color": "#00cc96",
          "size": [
           1
          ],
          "sizemode": "area",
          "sizeref": 0.095,
          "symbol": "circle"
         },
         "mode": "markers",
         "name": "Elsevier Inc. Company",
         "orientation": "v",
         "showlegend": true,
         "type": "scatter",
         "x": [
          "Elsevier Inc. Company"
         ],
         "xaxis": "x",
         "y": [
          1
         ],
         "yaxis": "y"
        },
        {
         "hovertemplate": "company_name=%{x}<br>company_name_count=%{marker.size}<extra></extra>",
         "legendgroup": "Cenetene Corporation",
         "marker": {
          "color": "#ab63fa",
          "size": [
           1
          ],
          "sizemode": "area",
          "sizeref": 0.095,
          "symbol": "circle"
         },
         "mode": "markers",
         "name": "Cenetene Corporation",
         "orientation": "v",
         "showlegend": true,
         "type": "scatter",
         "x": [
          "Cenetene Corporation"
         ],
         "xaxis": "x",
         "y": [
          1
         ],
         "yaxis": "y"
        },
        {
         "hovertemplate": "company_name=%{x}<br>company_name_count=%{marker.size}<extra></extra>",
         "legendgroup": "Aon Careers",
         "marker": {
          "color": "#FFA15A",
          "size": [
           1
          ],
          "sizemode": "area",
          "sizeref": 0.095,
          "symbol": "circle"
         },
         "mode": "markers",
         "name": "Aon Careers",
         "orientation": "v",
         "showlegend": true,
         "type": "scatter",
         "x": [
          "Aon Careers"
         ],
         "xaxis": "x",
         "y": [
          1
         ],
         "yaxis": "y"
        },
        {
         "hovertemplate": "company_name=%{x}<br>company_name_count=%{marker.size}<extra></extra>",
         "legendgroup": "Amerit Fleet Solutions",
         "marker": {
          "color": "#19d3f3",
          "size": [
           1
          ],
          "sizemode": "area",
          "sizeref": 0.095,
          "symbol": "circle"
         },
         "mode": "markers",
         "name": "Amerit Fleet Solutions",
         "orientation": "v",
         "showlegend": true,
         "type": "scatter",
         "x": [
          "Amerit Fleet Solutions"
         ],
         "xaxis": "x",
         "y": [
          1
         ],
         "yaxis": "y"
        },
        {
         "hovertemplate": "company_name=%{x}<br>company_name_count=%{marker.size}<extra></extra>",
         "legendgroup": "Virtue Group",
         "marker": {
          "color": "#FF6692",
          "size": [
           1
          ],
          "sizemode": "area",
          "sizeref": 0.095,
          "symbol": "circle"
         },
         "mode": "markers",
         "name": "Virtue Group",
         "orientation": "v",
         "showlegend": true,
         "type": "scatter",
         "x": [
          "Virtue Group"
         ],
         "xaxis": "x",
         "y": [
          1
         ],
         "yaxis": "y"
        },
        {
         "hovertemplate": "company_name=%{x}<br>company_name_count=%{marker.size}<extra></extra>",
         "legendgroup": "Encipher Technology",
         "marker": {
          "color": "#B6E880",
          "size": [
           1
          ],
          "sizemode": "area",
          "sizeref": 0.095,
          "symbol": "circle"
         },
         "mode": "markers",
         "name": "Encipher Technology",
         "orientation": "v",
         "showlegend": true,
         "type": "scatter",
         "x": [
          "Encipher Technology"
         ],
         "xaxis": "x",
         "y": [
          1
         ],
         "yaxis": "y"
        },
        {
         "hovertemplate": "company_name=%{x}<br>company_name_count=%{marker.size}<extra></extra>",
         "legendgroup": "Covariant",
         "marker": {
          "color": "#FF97FF",
          "size": [
           1
          ],
          "sizemode": "area",
          "sizeref": 0.095,
          "symbol": "circle"
         },
         "mode": "markers",
         "name": "Covariant",
         "orientation": "v",
         "showlegend": true,
         "type": "scatter",
         "x": [
          "Covariant"
         ],
         "xaxis": "x",
         "y": [
          1
         ],
         "yaxis": "y"
        },
        {
         "hovertemplate": "company_name=%{x}<br>company_name_count=%{marker.size}<extra></extra>",
         "legendgroup": "JR Software Solutions",
         "marker": {
          "color": "#FECB52",
          "size": [
           1
          ],
          "sizemode": "area",
          "sizeref": 0.095,
          "symbol": "circle"
         },
         "mode": "markers",
         "name": "JR Software Solutions",
         "orientation": "v",
         "showlegend": true,
         "type": "scatter",
         "x": [
          "JR Software Solutions"
         ],
         "xaxis": "x",
         "y": [
          1
         ],
         "yaxis": "y"
        },
        {
         "hovertemplate": "company_name=%{x}<br>company_name_count=%{marker.size}<extra></extra>",
         "legendgroup": "General Electric",
         "marker": {
          "color": "#636efa",
          "size": [
           1
          ],
          "sizemode": "area",
          "sizeref": 0.095,
          "symbol": "circle"
         },
         "mode": "markers",
         "name": "General Electric",
         "orientation": "v",
         "showlegend": true,
         "type": "scatter",
         "x": [
          "General Electric"
         ],
         "xaxis": "x",
         "y": [
          1
         ],
         "yaxis": "y"
        },
        {
         "hovertemplate": "company_name=%{x}<br>company_name_count=%{marker.size}<extra></extra>",
         "legendgroup": "VC-Backed Metaverse Startup",
         "marker": {
          "color": "#EF553B",
          "size": [
           1
          ],
          "sizemode": "area",
          "sizeref": 0.095,
          "symbol": "circle"
         },
         "mode": "markers",
         "name": "VC-Backed Metaverse Startup",
         "orientation": "v",
         "showlegend": true,
         "type": "scatter",
         "x": [
          "VC-Backed Metaverse Startup"
         ],
         "xaxis": "x",
         "y": [
          1
         ],
         "yaxis": "y"
        },
        {
         "hovertemplate": "company_name=%{x}<br>company_name_count=%{marker.size}<extra></extra>",
         "legendgroup": "Blockdaemon",
         "marker": {
          "color": "#00cc96",
          "size": [
           1
          ],
          "sizemode": "area",
          "sizeref": 0.095,
          "symbol": "circle"
         },
         "mode": "markers",
         "name": "Blockdaemon",
         "orientation": "v",
         "showlegend": true,
         "type": "scatter",
         "x": [
          "Blockdaemon"
         ],
         "xaxis": "x",
         "y": [
          1
         ],
         "yaxis": "y"
        },
        {
         "hovertemplate": "company_name=%{x}<br>company_name_count=%{marker.size}<extra></extra>",
         "legendgroup": "Chainlink Labs",
         "marker": {
          "color": "#ab63fa",
          "size": [
           1
          ],
          "sizemode": "area",
          "sizeref": 0.095,
          "symbol": "circle"
         },
         "mode": "markers",
         "name": "Chainlink Labs",
         "orientation": "v",
         "showlegend": true,
         "type": "scatter",
         "x": [
          "Chainlink Labs"
         ],
         "xaxis": "x",
         "y": [
          1
         ],
         "yaxis": "y"
        },
        {
         "hovertemplate": "company_name=%{x}<br>company_name_count=%{marker.size}<extra></extra>",
         "legendgroup": "Brain Technologies, Inc.",
         "marker": {
          "color": "#FFA15A",
          "size": [
           1
          ],
          "sizemode": "area",
          "sizeref": 0.095,
          "symbol": "circle"
         },
         "mode": "markers",
         "name": "Brain Technologies, Inc.",
         "orientation": "v",
         "showlegend": true,
         "type": "scatter",
         "x": [
          "Brain Technologies, Inc."
         ],
         "xaxis": "x",
         "y": [
          1
         ],
         "yaxis": "y"
        }
       ],
       "layout": {
        "legend": {
         "itemsizing": "constant",
         "title": {
          "text": "company_name"
         },
         "tracegroupgap": 0
        },
        "margin": {
         "t": 60
        },
        "template": {
         "data": {
          "bar": [
           {
            "error_x": {
             "color": "#2a3f5f"
            },
            "error_y": {
             "color": "#2a3f5f"
            },
            "marker": {
             "line": {
              "color": "#E5ECF6",
              "width": 0.5
             },
             "pattern": {
              "fillmode": "overlay",
              "size": 10,
              "solidity": 0.2
             }
            },
            "type": "bar"
           }
          ],
          "barpolar": [
           {
            "marker": {
             "line": {
              "color": "#E5ECF6",
              "width": 0.5
             },
             "pattern": {
              "fillmode": "overlay",
              "size": 10,
              "solidity": 0.2
             }
            },
            "type": "barpolar"
           }
          ],
          "carpet": [
           {
            "aaxis": {
             "endlinecolor": "#2a3f5f",
             "gridcolor": "white",
             "linecolor": "white",
             "minorgridcolor": "white",
             "startlinecolor": "#2a3f5f"
            },
            "baxis": {
             "endlinecolor": "#2a3f5f",
             "gridcolor": "white",
             "linecolor": "white",
             "minorgridcolor": "white",
             "startlinecolor": "#2a3f5f"
            },
            "type": "carpet"
           }
          ],
          "choropleth": [
           {
            "colorbar": {
             "outlinewidth": 0,
             "ticks": ""
            },
            "type": "choropleth"
           }
          ],
          "contour": [
           {
            "colorbar": {
             "outlinewidth": 0,
             "ticks": ""
            },
            "colorscale": [
             [
              0,
              "#0d0887"
             ],
             [
              0.1111111111111111,
              "#46039f"
             ],
             [
              0.2222222222222222,
              "#7201a8"
             ],
             [
              0.3333333333333333,
              "#9c179e"
             ],
             [
              0.4444444444444444,
              "#bd3786"
             ],
             [
              0.5555555555555556,
              "#d8576b"
             ],
             [
              0.6666666666666666,
              "#ed7953"
             ],
             [
              0.7777777777777778,
              "#fb9f3a"
             ],
             [
              0.8888888888888888,
              "#fdca26"
             ],
             [
              1,
              "#f0f921"
             ]
            ],
            "type": "contour"
           }
          ],
          "contourcarpet": [
           {
            "colorbar": {
             "outlinewidth": 0,
             "ticks": ""
            },
            "type": "contourcarpet"
           }
          ],
          "heatmap": [
           {
            "colorbar": {
             "outlinewidth": 0,
             "ticks": ""
            },
            "colorscale": [
             [
              0,
              "#0d0887"
             ],
             [
              0.1111111111111111,
              "#46039f"
             ],
             [
              0.2222222222222222,
              "#7201a8"
             ],
             [
              0.3333333333333333,
              "#9c179e"
             ],
             [
              0.4444444444444444,
              "#bd3786"
             ],
             [
              0.5555555555555556,
              "#d8576b"
             ],
             [
              0.6666666666666666,
              "#ed7953"
             ],
             [
              0.7777777777777778,
              "#fb9f3a"
             ],
             [
              0.8888888888888888,
              "#fdca26"
             ],
             [
              1,
              "#f0f921"
             ]
            ],
            "type": "heatmap"
           }
          ],
          "heatmapgl": [
           {
            "colorbar": {
             "outlinewidth": 0,
             "ticks": ""
            },
            "colorscale": [
             [
              0,
              "#0d0887"
             ],
             [
              0.1111111111111111,
              "#46039f"
             ],
             [
              0.2222222222222222,
              "#7201a8"
             ],
             [
              0.3333333333333333,
              "#9c179e"
             ],
             [
              0.4444444444444444,
              "#bd3786"
             ],
             [
              0.5555555555555556,
              "#d8576b"
             ],
             [
              0.6666666666666666,
              "#ed7953"
             ],
             [
              0.7777777777777778,
              "#fb9f3a"
             ],
             [
              0.8888888888888888,
              "#fdca26"
             ],
             [
              1,
              "#f0f921"
             ]
            ],
            "type": "heatmapgl"
           }
          ],
          "histogram": [
           {
            "marker": {
             "pattern": {
              "fillmode": "overlay",
              "size": 10,
              "solidity": 0.2
             }
            },
            "type": "histogram"
           }
          ],
          "histogram2d": [
           {
            "colorbar": {
             "outlinewidth": 0,
             "ticks": ""
            },
            "colorscale": [
             [
              0,
              "#0d0887"
             ],
             [
              0.1111111111111111,
              "#46039f"
             ],
             [
              0.2222222222222222,
              "#7201a8"
             ],
             [
              0.3333333333333333,
              "#9c179e"
             ],
             [
              0.4444444444444444,
              "#bd3786"
             ],
             [
              0.5555555555555556,
              "#d8576b"
             ],
             [
              0.6666666666666666,
              "#ed7953"
             ],
             [
              0.7777777777777778,
              "#fb9f3a"
             ],
             [
              0.8888888888888888,
              "#fdca26"
             ],
             [
              1,
              "#f0f921"
             ]
            ],
            "type": "histogram2d"
           }
          ],
          "histogram2dcontour": [
           {
            "colorbar": {
             "outlinewidth": 0,
             "ticks": ""
            },
            "colorscale": [
             [
              0,
              "#0d0887"
             ],
             [
              0.1111111111111111,
              "#46039f"
             ],
             [
              0.2222222222222222,
              "#7201a8"
             ],
             [
              0.3333333333333333,
              "#9c179e"
             ],
             [
              0.4444444444444444,
              "#bd3786"
             ],
             [
              0.5555555555555556,
              "#d8576b"
             ],
             [
              0.6666666666666666,
              "#ed7953"
             ],
             [
              0.7777777777777778,
              "#fb9f3a"
             ],
             [
              0.8888888888888888,
              "#fdca26"
             ],
             [
              1,
              "#f0f921"
             ]
            ],
            "type": "histogram2dcontour"
           }
          ],
          "mesh3d": [
           {
            "colorbar": {
             "outlinewidth": 0,
             "ticks": ""
            },
            "type": "mesh3d"
           }
          ],
          "parcoords": [
           {
            "line": {
             "colorbar": {
              "outlinewidth": 0,
              "ticks": ""
             }
            },
            "type": "parcoords"
           }
          ],
          "pie": [
           {
            "automargin": true,
            "type": "pie"
           }
          ],
          "scatter": [
           {
            "fillpattern": {
             "fillmode": "overlay",
             "size": 10,
             "solidity": 0.2
            },
            "type": "scatter"
           }
          ],
          "scatter3d": [
           {
            "line": {
             "colorbar": {
              "outlinewidth": 0,
              "ticks": ""
             }
            },
            "marker": {
             "colorbar": {
              "outlinewidth": 0,
              "ticks": ""
             }
            },
            "type": "scatter3d"
           }
          ],
          "scattercarpet": [
           {
            "marker": {
             "colorbar": {
              "outlinewidth": 0,
              "ticks": ""
             }
            },
            "type": "scattercarpet"
           }
          ],
          "scattergeo": [
           {
            "marker": {
             "colorbar": {
              "outlinewidth": 0,
              "ticks": ""
             }
            },
            "type": "scattergeo"
           }
          ],
          "scattergl": [
           {
            "marker": {
             "colorbar": {
              "outlinewidth": 0,
              "ticks": ""
             }
            },
            "type": "scattergl"
           }
          ],
          "scattermapbox": [
           {
            "marker": {
             "colorbar": {
              "outlinewidth": 0,
              "ticks": ""
             }
            },
            "type": "scattermapbox"
           }
          ],
          "scatterpolar": [
           {
            "marker": {
             "colorbar": {
              "outlinewidth": 0,
              "ticks": ""
             }
            },
            "type": "scatterpolar"
           }
          ],
          "scatterpolargl": [
           {
            "marker": {
             "colorbar": {
              "outlinewidth": 0,
              "ticks": ""
             }
            },
            "type": "scatterpolargl"
           }
          ],
          "scatterternary": [
           {
            "marker": {
             "colorbar": {
              "outlinewidth": 0,
              "ticks": ""
             }
            },
            "type": "scatterternary"
           }
          ],
          "surface": [
           {
            "colorbar": {
             "outlinewidth": 0,
             "ticks": ""
            },
            "colorscale": [
             [
              0,
              "#0d0887"
             ],
             [
              0.1111111111111111,
              "#46039f"
             ],
             [
              0.2222222222222222,
              "#7201a8"
             ],
             [
              0.3333333333333333,
              "#9c179e"
             ],
             [
              0.4444444444444444,
              "#bd3786"
             ],
             [
              0.5555555555555556,
              "#d8576b"
             ],
             [
              0.6666666666666666,
              "#ed7953"
             ],
             [
              0.7777777777777778,
              "#fb9f3a"
             ],
             [
              0.8888888888888888,
              "#fdca26"
             ],
             [
              1,
              "#f0f921"
             ]
            ],
            "type": "surface"
           }
          ],
          "table": [
           {
            "cells": {
             "fill": {
              "color": "#EBF0F8"
             },
             "line": {
              "color": "white"
             }
            },
            "header": {
             "fill": {
              "color": "#C8D4E3"
             },
             "line": {
              "color": "white"
             }
            },
            "type": "table"
           }
          ]
         },
         "layout": {
          "annotationdefaults": {
           "arrowcolor": "#2a3f5f",
           "arrowhead": 0,
           "arrowwidth": 1
          },
          "autotypenumbers": "strict",
          "coloraxis": {
           "colorbar": {
            "outlinewidth": 0,
            "ticks": ""
           }
          },
          "colorscale": {
           "diverging": [
            [
             0,
             "#8e0152"
            ],
            [
             0.1,
             "#c51b7d"
            ],
            [
             0.2,
             "#de77ae"
            ],
            [
             0.3,
             "#f1b6da"
            ],
            [
             0.4,
             "#fde0ef"
            ],
            [
             0.5,
             "#f7f7f7"
            ],
            [
             0.6,
             "#e6f5d0"
            ],
            [
             0.7,
             "#b8e186"
            ],
            [
             0.8,
             "#7fbc41"
            ],
            [
             0.9,
             "#4d9221"
            ],
            [
             1,
             "#276419"
            ]
           ],
           "sequential": [
            [
             0,
             "#0d0887"
            ],
            [
             0.1111111111111111,
             "#46039f"
            ],
            [
             0.2222222222222222,
             "#7201a8"
            ],
            [
             0.3333333333333333,
             "#9c179e"
            ],
            [
             0.4444444444444444,
             "#bd3786"
            ],
            [
             0.5555555555555556,
             "#d8576b"
            ],
            [
             0.6666666666666666,
             "#ed7953"
            ],
            [
             0.7777777777777778,
             "#fb9f3a"
            ],
            [
             0.8888888888888888,
             "#fdca26"
            ],
            [
             1,
             "#f0f921"
            ]
           ],
           "sequentialminus": [
            [
             0,
             "#0d0887"
            ],
            [
             0.1111111111111111,
             "#46039f"
            ],
            [
             0.2222222222222222,
             "#7201a8"
            ],
            [
             0.3333333333333333,
             "#9c179e"
            ],
            [
             0.4444444444444444,
             "#bd3786"
            ],
            [
             0.5555555555555556,
             "#d8576b"
            ],
            [
             0.6666666666666666,
             "#ed7953"
            ],
            [
             0.7777777777777778,
             "#fb9f3a"
            ],
            [
             0.8888888888888888,
             "#fdca26"
            ],
            [
             1,
             "#f0f921"
            ]
           ]
          },
          "colorway": [
           "#636efa",
           "#EF553B",
           "#00cc96",
           "#ab63fa",
           "#FFA15A",
           "#19d3f3",
           "#FF6692",
           "#B6E880",
           "#FF97FF",
           "#FECB52"
          ],
          "font": {
           "color": "#2a3f5f"
          },
          "geo": {
           "bgcolor": "white",
           "lakecolor": "white",
           "landcolor": "#E5ECF6",
           "showlakes": true,
           "showland": true,
           "subunitcolor": "white"
          },
          "hoverlabel": {
           "align": "left"
          },
          "hovermode": "closest",
          "mapbox": {
           "style": "light"
          },
          "paper_bgcolor": "white",
          "plot_bgcolor": "#E5ECF6",
          "polar": {
           "angularaxis": {
            "gridcolor": "white",
            "linecolor": "white",
            "ticks": ""
           },
           "bgcolor": "#E5ECF6",
           "radialaxis": {
            "gridcolor": "white",
            "linecolor": "white",
            "ticks": ""
           }
          },
          "scene": {
           "xaxis": {
            "backgroundcolor": "#E5ECF6",
            "gridcolor": "white",
            "gridwidth": 2,
            "linecolor": "white",
            "showbackground": true,
            "ticks": "",
            "zerolinecolor": "white"
           },
           "yaxis": {
            "backgroundcolor": "#E5ECF6",
            "gridcolor": "white",
            "gridwidth": 2,
            "linecolor": "white",
            "showbackground": true,
            "ticks": "",
            "zerolinecolor": "white"
           },
           "zaxis": {
            "backgroundcolor": "#E5ECF6",
            "gridcolor": "white",
            "gridwidth": 2,
            "linecolor": "white",
            "showbackground": true,
            "ticks": "",
            "zerolinecolor": "white"
           }
          },
          "shapedefaults": {
           "line": {
            "color": "#2a3f5f"
           }
          },
          "ternary": {
           "aaxis": {
            "gridcolor": "white",
            "linecolor": "white",
            "ticks": ""
           },
           "baxis": {
            "gridcolor": "white",
            "linecolor": "white",
            "ticks": ""
           },
           "bgcolor": "#E5ECF6",
           "caxis": {
            "gridcolor": "white",
            "linecolor": "white",
            "ticks": ""
           }
          },
          "title": {
           "x": 0.05
          },
          "xaxis": {
           "automargin": true,
           "gridcolor": "white",
           "linecolor": "white",
           "ticks": "",
           "title": {
            "standoff": 15
           },
           "zerolinecolor": "white",
           "zerolinewidth": 2
          },
          "yaxis": {
           "automargin": true,
           "gridcolor": "white",
           "linecolor": "white",
           "ticks": "",
           "title": {
            "standoff": 15
           },
           "zerolinecolor": "white",
           "zerolinewidth": 2
          }
         }
        },
        "xaxis": {
         "anchor": "y",
         "categoryarray": [
          "Ex Populus",
          "21.co",
          "Blockchain Institute of Technology",
          "Upwork",
          "Telnyx",
          "Turnblock.io",
          "Bitquery",
          "Jobot",
          "Atechstar",
          "Cryptops Exchange",
          "Johns Hopkins University",
          "Leidos",
          "CEDENT",
          "MultiPlan Inc.",
          "MetaMetrics Inc",
          "Leidos Inc",
          "Oak Ridge National Laboratory",
          "Agolo",
          "TalentBurst",
          "JPMorgan Chase",
          "Base-2 Solutions",
          "Tephra Inc.",
          "Triumph Tech",
          "Full Stack Resources",
          "Erias Ventures, LLC",
          "ARSIEM Corporation",
          "Novetta",
          "NiSUS Technologies Corporation",
          "Farfield Systems",
          "Booz Allen Hamilton",
          "Potomac Management Solutions, LLC",
          "INTECON",
          "General Dynamics Information Technology",
          "Gentis Solutions",
          "Tiber Creek Consulting",
          "Cydecor, Inc",
          "Dice",
          "Lockheed Martin",
          "Cyrad Solutions LLC",
          "Booking.com",
          "Two Six Technologies",
          "Peraton",
          "Capital One",
          "Scale AI",
          "Deloitte",
          "Comcast",
          "Accenture Federal Services",
          "Ellumen, Inc",
          "Capital One Financial Corporation",
          "Johns Hopkins Applied Physics Laboratory",
          "Amentum",
          "Expedition Technology Inc.",
          "Snap Inc.",
          "Heartland Consulting",
          "Latitude, Inc.",
          "Howard Hughes Medical Institute (HHMI)",
          "Liberty Personnel Services, Inc",
          "NTT DATA  Services",
          "CAVA",
          "Toffler Associates, Inc.",
          "Delta Solutions & Strategies",
          "Cherokee Federal",
          "Avid Technology Professionals, LLC",
          "Google",
          "BrainTrust Holdings",
          "ARSIEM",
          "Amazon Web Services, Inc.",
          "Rakuten USA, Inc.",
          "IntelliGenesis LLC",
          "Arsiem Corporation",
          "Castaway Research",
          "Government Employees Insurance Company - GEICO",
          "Morfologica",
          "TeacherOn",
          "National Library of Medicine",
          "Neuro Systems",
          "Supportiv",
          "Amazon.com, Inc",
          "Amazon.com Services LLC",
          "Swift",
          "CGI Group, Inc.",
          "Flow Blockchain",
          "Dapper Labs",
          "Axelar",
          "Content Machine",
          "Microsoft",
          "JPMC Candidate Experience page",
          "Apple",
          "Quora",
          "InstaDeep Ltd",
          "OpenAI",
          "STR",
          "Aurora Innovation",
          "Netflix",
          "Braintrust",
          "Grand Canyon University",
          "Neural Magic",
          "Harsco Corporation",
          "Owl Autonomous Imaging",
          "Riccione Resources",
          "Tesla",
          "Certified Employment Group",
          "BU_IS, Raytheon Technologies",
          "Gryphon Scientific",
          "Guidehouse",
          "ManTech International",
          "ENS Solutions",
          "cBEYONData",
          "GovCIO",
          "Blend360",
          "ICF",
          "SRI International",
          "Cogent Security Consulting",
          "SAIC",
          "ClearanceJobs",
          "INDEX ANALYTICS LLC",
          "Trident Systems Inc",
          "Trilogy Innovations Inc",
          "Curai",
          "Motional",
          "Workarise",
          "2100 NVIDIA USA",
          "Covera Health",
          "Facebook",
          "Bosch Group LLC",
          "Robinhood",
          "Keyo",
          "Forethought",
          "InstaDeep",
          "1014 United States of America, Convatec",
          "Arena AI",
          "Unify Consulting",
          "MathWorks",
          "10001252 - AI Science Specialist",
          "Anyscale",
          "jpmc/CX_1001",
          "OriGen.AI",
          "Wolfram",
          "DATA FUSION & NEURAL NETWORKS",
          "Comcast Corporation",
          "Elajika Inc",
          "Prescient Edge",
          "Planet Pharma",
          "Shelf Engine",
          "SOS International LLC",
          "Chenega Corporation",
          "USAJOBS",
          "Cross Screen Media",
          "Mathematica Policy Research",
          "Diverse Lynx",
          "Apple, Inc.",
          "Topaz Labs",
          "Bronson Technical Search",
          "OPPO US Research Center",
          "Genentech",
          "Indotronix International Corporation",
          "Abnormal Security",
          "Intel Corporation",
          "LLNL",
          "GSK",
          "Cyberjin",
          "Deeproute.ai",
          "RIOS Intelligent Machines",
          "Kitware",
          "Azimuth Corporation",
          "BitRelish Corporation",
          "Agricultural Research Service",
          "Hilton",
          "Celestar Corporation",
          "The Home Depot",
          "Primordial Labs",
          "Samson Rose",
          "MultiPlan",
          "Microsoft Corporation",
          "Generally Intelligent",
          "Matroid",
          "Cadence Design Systems",
          "UCLA Health Systems",
          "Gen Nine, Inc.",
          "Qualcomm",
          "Netra",
          "Université d'Artois / LGI2A",
          "Recruiting from Scratch",
          "Robert Bosch",
          "IBM Corporation",
          "Innova Solutions",
          "Authenticx",
          "Multiplan",
          "Fusemachines",
          "Amun Tokens",
          "BNY Mellon",
          "Jump Crypto",
          "Snickerdoodle Labs",
          "Allium",
          "Analog",
          "Fintech Recruiters",
          "ZetaChain",
          "Provenance Blockchain Foundation",
          "Tala",
          "Meetup",
          "Docugami",
          "Warner Bros. Discovery",
          "Hopper",
          "L3Harris",
          "Lafayette Federal Credit Union",
          "The Lancet",
          "Cinteot",
          "Apex Systems",
          "Bering Straits Native Corporation (BSNC)",
          "International Logic Systems, Inc.",
          "CACI",
          "Limitless Talent Solutions",
          "Raytheon Technologies",
          "The DarkStar Group",
          "360 IT Professionals",
          "Johnson Technology Systems Inc.",
          "Applied Information Sciences",
          "inforeliance",
          "WayUp",
          "PerunHR",
          "Genesis10",
          "Serco North America",
          "Datalab USA",
          "Beacon Building Products",
          "LMI",
          "ASHLIN Management Group, Inc.",
          "K12 Inc",
          "Simplebet",
          "Iterative Health",
          "Fable",
          "Chime",
          "DoorDash",
          "Protochain Research",
          "DoraHacks",
          "Kraken Digital Asset Exchange",
          "Aptos",
          "DCryptoTools",
          "Fidelity Investments Careers",
          "FuseMachines",
          "Turing Talent",
          "NANOTRONICS IMAGING INC",
          "Toyota Research Institute",
          "Tencent Americas",
          "Federal Reserve Bank (FRB)",
          "Truist",
          "geojam",
          "Exodus",
          "EY",
          "Software Technology Inc.",
          "MCKESSON",
          "Northwestern Mutual",
          "CHRISTUS Health",
          "7Z4 Pfizer, Inc.",
          "John Deere",
          "Trustees of University of Pennsylvania",
          "Explorium",
          "CBRE",
          "Mars",
          "Parsons Corporation",
          "MIT Lincoln Laboratory",
          "Block",
          "Staples",
          "Teradyne",
          "Got It AI",
          "HPE1US",
          "Hewlett Packard Enterprise",
          "Orion Consortium",
          "SSI",
          "Snowflake Computing",
          "Base-2 Solutions, LLC",
          "Cargill",
          "Rectangle Health",
          "Tendo Systems",
          "Walmart",
          "Robert Half",
          "Corporate",
          "Aurora Solar",
          "CareSource",
          "Nebraska State Government",
          "Informatica",
          "ServiceTitan",
          "Capital One - US",
          "Barrington James",
          "Wells Fargo",
          "Expedia Group",
          "Dropbox",
          "Oklahoma Medical Research Foundation (OMRF)",
          "Ford Motor Company",
          "Cox Enterprises",
          "The Rector & Visitors of the University of Virginia",
          "Airswift",
          "American Technology Consulting - ATC",
          "Kanini",
          "Open Systems Technologies",
          "ASK Staffing",
          "University of Michigan",
          "W3Global",
          "Unstoppable Domains",
          "EigenLabs",
          "Crypto.com",
          "Walmart Global Tech",
          "Vertex Inc.",
          "Nvidia Corporation",
          "Skydio",
          "Imagry",
          "EnsoData",
          "MD Anderson",
          "SPECTRUM",
          "Cottonwood Financial",
          "Darwin Recruitment Switzerland",
          "Reddit",
          "Globe Life, Inc",
          "6sense",
          "NextEra Energy",
          "PNC",
          "Love's Travel Stops",
          "Dave Inc.",
          "Health Care Service Corporation",
          "CoreLogic",
          "McKinsey & Company",
          "GXO Logistics",
          "Curriculum Associates",
          "Experfy",
          "NASA Jet Propulsion Laboratory California Institut",
          "Caterpillar, Inc",
          "The Phoenix Group",
          "SynergisticIT",
          "Zortech Solutions",
          "HexaQuest Global",
          "Armorblox",
          "Shaped",
          "Fortinet",
          "Got It",
          "Bloomberg",
          "L3Harris Technologies",
          "Harnham",
          "Cision",
          "Grainger",
          "CO0001 The New York Times Company",
          "Invitae",
          "Lucet (New Directions Behavioral Health)",
          "Nordstrom",
          "Michael Page",
          "Children's Hospital Association",
          "Scratch Financial, Inc.",
          "State of Oklahoma",
          "MultiPlan, Inc",
          "Coursera Sourcing",
          "Home Depot / THD",
          "University of Wisconsin-Madison",
          "FedEx",
          "Colgate-Palmolive Company",
          "International Monetary Fund",
          "Caterpillar",
          "Abbott Laboratories",
          "Northwestern University",
          "Walgreens",
          "Unlearn.AI",
          "University of Minnesota",
          "PathAI",
          "Armis Industries",
          "Adobe",
          "AssemblyAI",
          "Absci",
          "MoTek Technologies",
          "Eightfold AI",
          "University of California Los Angeles",
          "Binance",
          "Trac Technologies, Inc.",
          "Ripple",
          "Resource 1",
          "LandOLakes",
          "Global IDEAS, Michigan State University",
          "Blue Cross Blue Shield of Minnesota",
          "AbbVie",
          "Sam's Club",
          "ABBVIE",
          "ISSAC LLC",
          "Kovasys",
          "Dana–Farber Cancer Institute",
          "SommerAI",
          "Three Pillars Recruiting",
          "Bank of America",
          "IBM Careers",
          "Westbourne Quantitative Trading, Technology & Research",
          "Degreed",
          "Rivian",
          "mozee",
          "Innopeak Tech Inc",
          "Flagship Pioneering",
          "Premier System",
          "Ansys",
          "VIMworld",
          "BloKchain Talent, LLC",
          "Amazon Dev Center U.S., Inc.",
          "OAK Network",
          "Fox Corporation",
          "Lawrence Livermore National Laboratory",
          "Saxon Global Inc",
          "Edgetensor Technologies",
          "Technical Link",
          "WEX",
          "InComm Payments",
          "Atmosfy, Inc",
          "Life.Church",
          "Lockton Companies",
          "Elevance Health",
          "Trigyn",
          "Google Inc.",
          "apree health",
          "Aon",
          "Superior HealthPlan",
          "Elsevier Inc. Company",
          "Cenetene Corporation",
          "Aon Careers",
          "Amerit Fleet Solutions",
          "Virtue Group",
          "Encipher Technology",
          "Covariant",
          "JR Software Solutions",
          "General Electric",
          "VC-Backed Metaverse Startup",
          "Blockdaemon",
          "Chainlink Labs",
          "Brain Technologies, Inc."
         ],
         "categoryorder": "array",
         "domain": [
          0,
          1
         ],
         "title": {
          "text": "company_name"
         }
        },
        "yaxis": {
         "anchor": "x",
         "domain": [
          0,
          1
         ],
         "title": {
          "text": "company_name_count"
         }
        }
       }
      },
      "text/html": [
       "<div>                            <div id=\"927f3b5d-c581-45af-bd4a-d06088308e38\" class=\"plotly-graph-div\" style=\"height:525px; width:100%;\"></div>            <script type=\"text/javascript\">                require([\"plotly\"], function(Plotly) {                    window.PLOTLYENV=window.PLOTLYENV || {};                                    if (document.getElementById(\"927f3b5d-c581-45af-bd4a-d06088308e38\")) {                    Plotly.newPlot(                        \"927f3b5d-c581-45af-bd4a-d06088308e38\",                        [{\"hovertemplate\":\"company_name=%{x}<br>company_name_count=%{marker.size}<extra></extra>\",\"legendgroup\":\"Ex Populus\",\"marker\":{\"color\":\"#636efa\",\"size\":[1],\"sizemode\":\"area\",\"sizeref\":0.095,\"symbol\":\"circle\"},\"mode\":\"markers\",\"name\":\"Ex Populus\",\"orientation\":\"v\",\"showlegend\":true,\"x\":[\"Ex Populus\"],\"xaxis\":\"x\",\"y\":[1],\"yaxis\":\"y\",\"type\":\"scatter\"},{\"hovertemplate\":\"company_name=%{x}<br>company_name_count=%{marker.size}<extra></extra>\",\"legendgroup\":\"21.co\",\"marker\":{\"color\":\"#EF553B\",\"size\":[2,2],\"sizemode\":\"area\",\"sizeref\":0.095,\"symbol\":\"circle\"},\"mode\":\"markers\",\"name\":\"21.co\",\"orientation\":\"v\",\"showlegend\":true,\"x\":[\"21.co\",\"21.co\"],\"xaxis\":\"x\",\"y\":[2,2],\"yaxis\":\"y\",\"type\":\"scatter\"},{\"hovertemplate\":\"company_name=%{x}<br>company_name_count=%{marker.size}<extra></extra>\",\"legendgroup\":\"Blockchain Institute of Technology\",\"marker\":{\"color\":\"#00cc96\",\"size\":[2,2],\"sizemode\":\"area\",\"sizeref\":0.095,\"symbol\":\"circle\"},\"mode\":\"markers\",\"name\":\"Blockchain Institute of Technology\",\"orientation\":\"v\",\"showlegend\":true,\"x\":[\"Blockchain Institute of Technology\",\"Blockchain Institute of Technology\"],\"xaxis\":\"x\",\"y\":[2,2],\"yaxis\":\"y\",\"type\":\"scatter\"},{\"hovertemplate\":\"company_name=%{x}<br>company_name_count=%{marker.size}<extra></extra>\",\"legendgroup\":\"Upwork\",\"marker\":{\"color\":\"#ab63fa\",\"size\":[38,38,38,38,38,38,38,38,38,38,38,38,38,38,38,38,38,38,38,38,38,38,38,38,38,38,38,38,38,38,38,38,38,38,38,38,38,38],\"sizemode\":\"area\",\"sizeref\":0.095,\"symbol\":\"circle\"},\"mode\":\"markers\",\"name\":\"Upwork\",\"orientation\":\"v\",\"showlegend\":true,\"x\":[\"Upwork\",\"Upwork\",\"Upwork\",\"Upwork\",\"Upwork\",\"Upwork\",\"Upwork\",\"Upwork\",\"Upwork\",\"Upwork\",\"Upwork\",\"Upwork\",\"Upwork\",\"Upwork\",\"Upwork\",\"Upwork\",\"Upwork\",\"Upwork\",\"Upwork\",\"Upwork\",\"Upwork\",\"Upwork\",\"Upwork\",\"Upwork\",\"Upwork\",\"Upwork\",\"Upwork\",\"Upwork\",\"Upwork\",\"Upwork\",\"Upwork\",\"Upwork\",\"Upwork\",\"Upwork\",\"Upwork\",\"Upwork\",\"Upwork\",\"Upwork\"],\"xaxis\":\"x\",\"y\":[38,38,38,38,38,38,38,38,38,38,38,38,38,38,38,38,38,38,38,38,38,38,38,38,38,38,38,38,38,38,38,38,38,38,38,38,38,38],\"yaxis\":\"y\",\"type\":\"scatter\"},{\"hovertemplate\":\"company_name=%{x}<br>company_name_count=%{marker.size}<extra></extra>\",\"legendgroup\":\"Telnyx\",\"marker\":{\"color\":\"#FFA15A\",\"size\":[1],\"sizemode\":\"area\",\"sizeref\":0.095,\"symbol\":\"circle\"},\"mode\":\"markers\",\"name\":\"Telnyx\",\"orientation\":\"v\",\"showlegend\":true,\"x\":[\"Telnyx\"],\"xaxis\":\"x\",\"y\":[1],\"yaxis\":\"y\",\"type\":\"scatter\"},{\"hovertemplate\":\"company_name=%{x}<br>company_name_count=%{marker.size}<extra></extra>\",\"legendgroup\":\"Turnblock.io\",\"marker\":{\"color\":\"#19d3f3\",\"size\":[1],\"sizemode\":\"area\",\"sizeref\":0.095,\"symbol\":\"circle\"},\"mode\":\"markers\",\"name\":\"Turnblock.io\",\"orientation\":\"v\",\"showlegend\":true,\"x\":[\"Turnblock.io\"],\"xaxis\":\"x\",\"y\":[1],\"yaxis\":\"y\",\"type\":\"scatter\"},{\"hovertemplate\":\"company_name=%{x}<br>company_name_count=%{marker.size}<extra></extra>\",\"legendgroup\":\"Bitquery\",\"marker\":{\"color\":\"#FF6692\",\"size\":[1],\"sizemode\":\"area\",\"sizeref\":0.095,\"symbol\":\"circle\"},\"mode\":\"markers\",\"name\":\"Bitquery\",\"orientation\":\"v\",\"showlegend\":true,\"x\":[\"Bitquery\"],\"xaxis\":\"x\",\"y\":[1],\"yaxis\":\"y\",\"type\":\"scatter\"},{\"hovertemplate\":\"company_name=%{x}<br>company_name_count=%{marker.size}<extra></extra>\",\"legendgroup\":\"Jobot\",\"marker\":{\"color\":\"#B6E880\",\"size\":[4,4,4,4],\"sizemode\":\"area\",\"sizeref\":0.095,\"symbol\":\"circle\"},\"mode\":\"markers\",\"name\":\"Jobot\",\"orientation\":\"v\",\"showlegend\":true,\"x\":[\"Jobot\",\"Jobot\",\"Jobot\",\"Jobot\"],\"xaxis\":\"x\",\"y\":[4,4,4,4],\"yaxis\":\"y\",\"type\":\"scatter\"},{\"hovertemplate\":\"company_name=%{x}<br>company_name_count=%{marker.size}<extra></extra>\",\"legendgroup\":\"Atechstar\",\"marker\":{\"color\":\"#FF97FF\",\"size\":[1],\"sizemode\":\"area\",\"sizeref\":0.095,\"symbol\":\"circle\"},\"mode\":\"markers\",\"name\":\"Atechstar\",\"orientation\":\"v\",\"showlegend\":true,\"x\":[\"Atechstar\"],\"xaxis\":\"x\",\"y\":[1],\"yaxis\":\"y\",\"type\":\"scatter\"},{\"hovertemplate\":\"company_name=%{x}<br>company_name_count=%{marker.size}<extra></extra>\",\"legendgroup\":\"Cryptops Exchange\",\"marker\":{\"color\":\"#FECB52\",\"size\":[1],\"sizemode\":\"area\",\"sizeref\":0.095,\"symbol\":\"circle\"},\"mode\":\"markers\",\"name\":\"Cryptops Exchange\",\"orientation\":\"v\",\"showlegend\":true,\"x\":[\"Cryptops Exchange\"],\"xaxis\":\"x\",\"y\":[1],\"yaxis\":\"y\",\"type\":\"scatter\"},{\"hovertemplate\":\"company_name=%{x}<br>company_name_count=%{marker.size}<extra></extra>\",\"legendgroup\":\"Johns Hopkins University\",\"marker\":{\"color\":\"#636efa\",\"size\":[1],\"sizemode\":\"area\",\"sizeref\":0.095,\"symbol\":\"circle\"},\"mode\":\"markers\",\"name\":\"Johns Hopkins University\",\"orientation\":\"v\",\"showlegend\":true,\"x\":[\"Johns Hopkins University\"],\"xaxis\":\"x\",\"y\":[1],\"yaxis\":\"y\",\"type\":\"scatter\"},{\"hovertemplate\":\"company_name=%{x}<br>company_name_count=%{marker.size}<extra></extra>\",\"legendgroup\":\"Leidos\",\"marker\":{\"color\":\"#EF553B\",\"size\":[5,5,5,5,5],\"sizemode\":\"area\",\"sizeref\":0.095,\"symbol\":\"circle\"},\"mode\":\"markers\",\"name\":\"Leidos\",\"orientation\":\"v\",\"showlegend\":true,\"x\":[\"Leidos\",\"Leidos\",\"Leidos\",\"Leidos\",\"Leidos\"],\"xaxis\":\"x\",\"y\":[5,5,5,5,5],\"yaxis\":\"y\",\"type\":\"scatter\"},{\"hovertemplate\":\"company_name=%{x}<br>company_name_count=%{marker.size}<extra></extra>\",\"legendgroup\":\"CEDENT\",\"marker\":{\"color\":\"#00cc96\",\"size\":[1],\"sizemode\":\"area\",\"sizeref\":0.095,\"symbol\":\"circle\"},\"mode\":\"markers\",\"name\":\"CEDENT\",\"orientation\":\"v\",\"showlegend\":true,\"x\":[\"CEDENT\"],\"xaxis\":\"x\",\"y\":[1],\"yaxis\":\"y\",\"type\":\"scatter\"},{\"hovertemplate\":\"company_name=%{x}<br>company_name_count=%{marker.size}<extra></extra>\",\"legendgroup\":\"MultiPlan Inc.\",\"marker\":{\"color\":\"#ab63fa\",\"size\":[1],\"sizemode\":\"area\",\"sizeref\":0.095,\"symbol\":\"circle\"},\"mode\":\"markers\",\"name\":\"MultiPlan Inc.\",\"orientation\":\"v\",\"showlegend\":true,\"x\":[\"MultiPlan Inc.\"],\"xaxis\":\"x\",\"y\":[1],\"yaxis\":\"y\",\"type\":\"scatter\"},{\"hovertemplate\":\"company_name=%{x}<br>company_name_count=%{marker.size}<extra></extra>\",\"legendgroup\":\"MetaMetrics Inc\",\"marker\":{\"color\":\"#FFA15A\",\"size\":[1],\"sizemode\":\"area\",\"sizeref\":0.095,\"symbol\":\"circle\"},\"mode\":\"markers\",\"name\":\"MetaMetrics Inc\",\"orientation\":\"v\",\"showlegend\":true,\"x\":[\"MetaMetrics Inc\"],\"xaxis\":\"x\",\"y\":[1],\"yaxis\":\"y\",\"type\":\"scatter\"},{\"hovertemplate\":\"company_name=%{x}<br>company_name_count=%{marker.size}<extra></extra>\",\"legendgroup\":\"Leidos Inc\",\"marker\":{\"color\":\"#19d3f3\",\"size\":[1],\"sizemode\":\"area\",\"sizeref\":0.095,\"symbol\":\"circle\"},\"mode\":\"markers\",\"name\":\"Leidos Inc\",\"orientation\":\"v\",\"showlegend\":true,\"x\":[\"Leidos Inc\"],\"xaxis\":\"x\",\"y\":[1],\"yaxis\":\"y\",\"type\":\"scatter\"},{\"hovertemplate\":\"company_name=%{x}<br>company_name_count=%{marker.size}<extra></extra>\",\"legendgroup\":\"Oak Ridge National Laboratory\",\"marker\":{\"color\":\"#FF6692\",\"size\":[4,4,4,4],\"sizemode\":\"area\",\"sizeref\":0.095,\"symbol\":\"circle\"},\"mode\":\"markers\",\"name\":\"Oak Ridge National Laboratory\",\"orientation\":\"v\",\"showlegend\":true,\"x\":[\"Oak Ridge National Laboratory\",\"Oak Ridge National Laboratory\",\"Oak Ridge National Laboratory\",\"Oak Ridge National Laboratory\"],\"xaxis\":\"x\",\"y\":[4,4,4,4],\"yaxis\":\"y\",\"type\":\"scatter\"},{\"hovertemplate\":\"company_name=%{x}<br>company_name_count=%{marker.size}<extra></extra>\",\"legendgroup\":\"Agolo\",\"marker\":{\"color\":\"#B6E880\",\"size\":[1],\"sizemode\":\"area\",\"sizeref\":0.095,\"symbol\":\"circle\"},\"mode\":\"markers\",\"name\":\"Agolo\",\"orientation\":\"v\",\"showlegend\":true,\"x\":[\"Agolo\"],\"xaxis\":\"x\",\"y\":[1],\"yaxis\":\"y\",\"type\":\"scatter\"},{\"hovertemplate\":\"company_name=%{x}<br>company_name_count=%{marker.size}<extra></extra>\",\"legendgroup\":\"TalentBurst\",\"marker\":{\"color\":\"#FF97FF\",\"size\":[1],\"sizemode\":\"area\",\"sizeref\":0.095,\"symbol\":\"circle\"},\"mode\":\"markers\",\"name\":\"TalentBurst\",\"orientation\":\"v\",\"showlegend\":true,\"x\":[\"TalentBurst\"],\"xaxis\":\"x\",\"y\":[1],\"yaxis\":\"y\",\"type\":\"scatter\"},{\"hovertemplate\":\"company_name=%{x}<br>company_name_count=%{marker.size}<extra></extra>\",\"legendgroup\":\"JPMorgan Chase\",\"marker\":{\"color\":\"#FECB52\",\"size\":[3,3,3],\"sizemode\":\"area\",\"sizeref\":0.095,\"symbol\":\"circle\"},\"mode\":\"markers\",\"name\":\"JPMorgan Chase\",\"orientation\":\"v\",\"showlegend\":true,\"x\":[\"JPMorgan Chase\",\"JPMorgan Chase\",\"JPMorgan Chase\"],\"xaxis\":\"x\",\"y\":[3,3,3],\"yaxis\":\"y\",\"type\":\"scatter\"},{\"hovertemplate\":\"company_name=%{x}<br>company_name_count=%{marker.size}<extra></extra>\",\"legendgroup\":\"Base-2 Solutions\",\"marker\":{\"color\":\"#636efa\",\"size\":[2,2],\"sizemode\":\"area\",\"sizeref\":0.095,\"symbol\":\"circle\"},\"mode\":\"markers\",\"name\":\"Base-2 Solutions\",\"orientation\":\"v\",\"showlegend\":true,\"x\":[\"Base-2 Solutions\",\"Base-2 Solutions\"],\"xaxis\":\"x\",\"y\":[2,2],\"yaxis\":\"y\",\"type\":\"scatter\"},{\"hovertemplate\":\"company_name=%{x}<br>company_name_count=%{marker.size}<extra></extra>\",\"legendgroup\":\"Tephra Inc.\",\"marker\":{\"color\":\"#EF553B\",\"size\":[1],\"sizemode\":\"area\",\"sizeref\":0.095,\"symbol\":\"circle\"},\"mode\":\"markers\",\"name\":\"Tephra Inc.\",\"orientation\":\"v\",\"showlegend\":true,\"x\":[\"Tephra Inc.\"],\"xaxis\":\"x\",\"y\":[1],\"yaxis\":\"y\",\"type\":\"scatter\"},{\"hovertemplate\":\"company_name=%{x}<br>company_name_count=%{marker.size}<extra></extra>\",\"legendgroup\":\"Triumph Tech\",\"marker\":{\"color\":\"#00cc96\",\"size\":[1],\"sizemode\":\"area\",\"sizeref\":0.095,\"symbol\":\"circle\"},\"mode\":\"markers\",\"name\":\"Triumph Tech\",\"orientation\":\"v\",\"showlegend\":true,\"x\":[\"Triumph Tech\"],\"xaxis\":\"x\",\"y\":[1],\"yaxis\":\"y\",\"type\":\"scatter\"},{\"hovertemplate\":\"company_name=%{x}<br>company_name_count=%{marker.size}<extra></extra>\",\"legendgroup\":\"Full Stack Resources\",\"marker\":{\"color\":\"#ab63fa\",\"size\":[1],\"sizemode\":\"area\",\"sizeref\":0.095,\"symbol\":\"circle\"},\"mode\":\"markers\",\"name\":\"Full Stack Resources\",\"orientation\":\"v\",\"showlegend\":true,\"x\":[\"Full Stack Resources\"],\"xaxis\":\"x\",\"y\":[1],\"yaxis\":\"y\",\"type\":\"scatter\"},{\"hovertemplate\":\"company_name=%{x}<br>company_name_count=%{marker.size}<extra></extra>\",\"legendgroup\":\"Erias Ventures, LLC\",\"marker\":{\"color\":\"#FFA15A\",\"size\":[2,2],\"sizemode\":\"area\",\"sizeref\":0.095,\"symbol\":\"circle\"},\"mode\":\"markers\",\"name\":\"Erias Ventures, LLC\",\"orientation\":\"v\",\"showlegend\":true,\"x\":[\"Erias Ventures, LLC\",\"Erias Ventures, LLC\"],\"xaxis\":\"x\",\"y\":[2,2],\"yaxis\":\"y\",\"type\":\"scatter\"},{\"hovertemplate\":\"company_name=%{x}<br>company_name_count=%{marker.size}<extra></extra>\",\"legendgroup\":\"ARSIEM Corporation\",\"marker\":{\"color\":\"#19d3f3\",\"size\":[1],\"sizemode\":\"area\",\"sizeref\":0.095,\"symbol\":\"circle\"},\"mode\":\"markers\",\"name\":\"ARSIEM Corporation\",\"orientation\":\"v\",\"showlegend\":true,\"x\":[\"ARSIEM Corporation\"],\"xaxis\":\"x\",\"y\":[1],\"yaxis\":\"y\",\"type\":\"scatter\"},{\"hovertemplate\":\"company_name=%{x}<br>company_name_count=%{marker.size}<extra></extra>\",\"legendgroup\":\"Novetta\",\"marker\":{\"color\":\"#FF6692\",\"size\":[2,2],\"sizemode\":\"area\",\"sizeref\":0.095,\"symbol\":\"circle\"},\"mode\":\"markers\",\"name\":\"Novetta\",\"orientation\":\"v\",\"showlegend\":true,\"x\":[\"Novetta\",\"Novetta\"],\"xaxis\":\"x\",\"y\":[2,2],\"yaxis\":\"y\",\"type\":\"scatter\"},{\"hovertemplate\":\"company_name=%{x}<br>company_name_count=%{marker.size}<extra></extra>\",\"legendgroup\":\"NiSUS Technologies Corporation\",\"marker\":{\"color\":\"#B6E880\",\"size\":[1],\"sizemode\":\"area\",\"sizeref\":0.095,\"symbol\":\"circle\"},\"mode\":\"markers\",\"name\":\"NiSUS Technologies Corporation\",\"orientation\":\"v\",\"showlegend\":true,\"x\":[\"NiSUS Technologies Corporation\"],\"xaxis\":\"x\",\"y\":[1],\"yaxis\":\"y\",\"type\":\"scatter\"},{\"hovertemplate\":\"company_name=%{x}<br>company_name_count=%{marker.size}<extra></extra>\",\"legendgroup\":\"Farfield Systems\",\"marker\":{\"color\":\"#FF97FF\",\"size\":[1],\"sizemode\":\"area\",\"sizeref\":0.095,\"symbol\":\"circle\"},\"mode\":\"markers\",\"name\":\"Farfield Systems\",\"orientation\":\"v\",\"showlegend\":true,\"x\":[\"Farfield Systems\"],\"xaxis\":\"x\",\"y\":[1],\"yaxis\":\"y\",\"type\":\"scatter\"},{\"hovertemplate\":\"company_name=%{x}<br>company_name_count=%{marker.size}<extra></extra>\",\"legendgroup\":\"Booz Allen Hamilton\",\"marker\":{\"color\":\"#FECB52\",\"size\":[12,12,12,12,12,12,12,12,12,12,12,12],\"sizemode\":\"area\",\"sizeref\":0.095,\"symbol\":\"circle\"},\"mode\":\"markers\",\"name\":\"Booz Allen Hamilton\",\"orientation\":\"v\",\"showlegend\":true,\"x\":[\"Booz Allen Hamilton\",\"Booz Allen Hamilton\",\"Booz Allen Hamilton\",\"Booz Allen Hamilton\",\"Booz Allen Hamilton\",\"Booz Allen Hamilton\",\"Booz Allen Hamilton\",\"Booz Allen Hamilton\",\"Booz Allen Hamilton\",\"Booz Allen Hamilton\",\"Booz Allen Hamilton\",\"Booz Allen Hamilton\"],\"xaxis\":\"x\",\"y\":[12,12,12,12,12,12,12,12,12,12,12,12],\"yaxis\":\"y\",\"type\":\"scatter\"},{\"hovertemplate\":\"company_name=%{x}<br>company_name_count=%{marker.size}<extra></extra>\",\"legendgroup\":\"Potomac Management Solutions, LLC\",\"marker\":{\"color\":\"#636efa\",\"size\":[1],\"sizemode\":\"area\",\"sizeref\":0.095,\"symbol\":\"circle\"},\"mode\":\"markers\",\"name\":\"Potomac Management Solutions, LLC\",\"orientation\":\"v\",\"showlegend\":true,\"x\":[\"Potomac Management Solutions, LLC\"],\"xaxis\":\"x\",\"y\":[1],\"yaxis\":\"y\",\"type\":\"scatter\"},{\"hovertemplate\":\"company_name=%{x}<br>company_name_count=%{marker.size}<extra></extra>\",\"legendgroup\":\"INTECON\",\"marker\":{\"color\":\"#EF553B\",\"size\":[1],\"sizemode\":\"area\",\"sizeref\":0.095,\"symbol\":\"circle\"},\"mode\":\"markers\",\"name\":\"INTECON\",\"orientation\":\"v\",\"showlegend\":true,\"x\":[\"INTECON\"],\"xaxis\":\"x\",\"y\":[1],\"yaxis\":\"y\",\"type\":\"scatter\"},{\"hovertemplate\":\"company_name=%{x}<br>company_name_count=%{marker.size}<extra></extra>\",\"legendgroup\":\"General Dynamics Information Technology\",\"marker\":{\"color\":\"#00cc96\",\"size\":[5,5,5,5,5],\"sizemode\":\"area\",\"sizeref\":0.095,\"symbol\":\"circle\"},\"mode\":\"markers\",\"name\":\"General Dynamics Information Technology\",\"orientation\":\"v\",\"showlegend\":true,\"x\":[\"General Dynamics Information Technology\",\"General Dynamics Information Technology\",\"General Dynamics Information Technology\",\"General Dynamics Information Technology\",\"General Dynamics Information Technology\"],\"xaxis\":\"x\",\"y\":[5,5,5,5,5],\"yaxis\":\"y\",\"type\":\"scatter\"},{\"hovertemplate\":\"company_name=%{x}<br>company_name_count=%{marker.size}<extra></extra>\",\"legendgroup\":\"Gentis Solutions\",\"marker\":{\"color\":\"#ab63fa\",\"size\":[1],\"sizemode\":\"area\",\"sizeref\":0.095,\"symbol\":\"circle\"},\"mode\":\"markers\",\"name\":\"Gentis Solutions\",\"orientation\":\"v\",\"showlegend\":true,\"x\":[\"Gentis Solutions\"],\"xaxis\":\"x\",\"y\":[1],\"yaxis\":\"y\",\"type\":\"scatter\"},{\"hovertemplate\":\"company_name=%{x}<br>company_name_count=%{marker.size}<extra></extra>\",\"legendgroup\":\"Tiber Creek Consulting\",\"marker\":{\"color\":\"#FFA15A\",\"size\":[1],\"sizemode\":\"area\",\"sizeref\":0.095,\"symbol\":\"circle\"},\"mode\":\"markers\",\"name\":\"Tiber Creek Consulting\",\"orientation\":\"v\",\"showlegend\":true,\"x\":[\"Tiber Creek Consulting\"],\"xaxis\":\"x\",\"y\":[1],\"yaxis\":\"y\",\"type\":\"scatter\"},{\"hovertemplate\":\"company_name=%{x}<br>company_name_count=%{marker.size}<extra></extra>\",\"legendgroup\":\"Cydecor, Inc\",\"marker\":{\"color\":\"#19d3f3\",\"size\":[1],\"sizemode\":\"area\",\"sizeref\":0.095,\"symbol\":\"circle\"},\"mode\":\"markers\",\"name\":\"Cydecor, Inc\",\"orientation\":\"v\",\"showlegend\":true,\"x\":[\"Cydecor, Inc\"],\"xaxis\":\"x\",\"y\":[1],\"yaxis\":\"y\",\"type\":\"scatter\"},{\"hovertemplate\":\"company_name=%{x}<br>company_name_count=%{marker.size}<extra></extra>\",\"legendgroup\":\"Dice\",\"marker\":{\"color\":\"#FF6692\",\"size\":[1],\"sizemode\":\"area\",\"sizeref\":0.095,\"symbol\":\"circle\"},\"mode\":\"markers\",\"name\":\"Dice\",\"orientation\":\"v\",\"showlegend\":true,\"x\":[\"Dice\"],\"xaxis\":\"x\",\"y\":[1],\"yaxis\":\"y\",\"type\":\"scatter\"},{\"hovertemplate\":\"company_name=%{x}<br>company_name_count=%{marker.size}<extra></extra>\",\"legendgroup\":\"Lockheed Martin\",\"marker\":{\"color\":\"#B6E880\",\"size\":[7,7,7,7,7,7,7],\"sizemode\":\"area\",\"sizeref\":0.095,\"symbol\":\"circle\"},\"mode\":\"markers\",\"name\":\"Lockheed Martin\",\"orientation\":\"v\",\"showlegend\":true,\"x\":[\"Lockheed Martin\",\"Lockheed Martin\",\"Lockheed Martin\",\"Lockheed Martin\",\"Lockheed Martin\",\"Lockheed Martin\",\"Lockheed Martin\"],\"xaxis\":\"x\",\"y\":[7,7,7,7,7,7,7],\"yaxis\":\"y\",\"type\":\"scatter\"},{\"hovertemplate\":\"company_name=%{x}<br>company_name_count=%{marker.size}<extra></extra>\",\"legendgroup\":\"Cyrad Solutions LLC\",\"marker\":{\"color\":\"#FF97FF\",\"size\":[3,3,3],\"sizemode\":\"area\",\"sizeref\":0.095,\"symbol\":\"circle\"},\"mode\":\"markers\",\"name\":\"Cyrad Solutions LLC\",\"orientation\":\"v\",\"showlegend\":true,\"x\":[\"Cyrad Solutions LLC\",\"Cyrad Solutions LLC\",\"Cyrad Solutions LLC\"],\"xaxis\":\"x\",\"y\":[3,3,3],\"yaxis\":\"y\",\"type\":\"scatter\"},{\"hovertemplate\":\"company_name=%{x}<br>company_name_count=%{marker.size}<extra></extra>\",\"legendgroup\":\"Booking.com\",\"marker\":{\"color\":\"#FECB52\",\"size\":[2,2],\"sizemode\":\"area\",\"sizeref\":0.095,\"symbol\":\"circle\"},\"mode\":\"markers\",\"name\":\"Booking.com\",\"orientation\":\"v\",\"showlegend\":true,\"x\":[\"Booking.com\",\"Booking.com\"],\"xaxis\":\"x\",\"y\":[2,2],\"yaxis\":\"y\",\"type\":\"scatter\"},{\"hovertemplate\":\"company_name=%{x}<br>company_name_count=%{marker.size}<extra></extra>\",\"legendgroup\":\"Two Six Technologies\",\"marker\":{\"color\":\"#636efa\",\"size\":[1],\"sizemode\":\"area\",\"sizeref\":0.095,\"symbol\":\"circle\"},\"mode\":\"markers\",\"name\":\"Two Six Technologies\",\"orientation\":\"v\",\"showlegend\":true,\"x\":[\"Two Six Technologies\"],\"xaxis\":\"x\",\"y\":[1],\"yaxis\":\"y\",\"type\":\"scatter\"},{\"hovertemplate\":\"company_name=%{x}<br>company_name_count=%{marker.size}<extra></extra>\",\"legendgroup\":\"Peraton\",\"marker\":{\"color\":\"#EF553B\",\"size\":[5,5,5,5,5],\"sizemode\":\"area\",\"sizeref\":0.095,\"symbol\":\"circle\"},\"mode\":\"markers\",\"name\":\"Peraton\",\"orientation\":\"v\",\"showlegend\":true,\"x\":[\"Peraton\",\"Peraton\",\"Peraton\",\"Peraton\",\"Peraton\"],\"xaxis\":\"x\",\"y\":[5,5,5,5,5],\"yaxis\":\"y\",\"type\":\"scatter\"},{\"hovertemplate\":\"company_name=%{x}<br>company_name_count=%{marker.size}<extra></extra>\",\"legendgroup\":\"Capital One\",\"marker\":{\"color\":\"#00cc96\",\"size\":[3,3,3],\"sizemode\":\"area\",\"sizeref\":0.095,\"symbol\":\"circle\"},\"mode\":\"markers\",\"name\":\"Capital One\",\"orientation\":\"v\",\"showlegend\":true,\"x\":[\"Capital One\",\"Capital One\",\"Capital One\"],\"xaxis\":\"x\",\"y\":[3,3,3],\"yaxis\":\"y\",\"type\":\"scatter\"},{\"hovertemplate\":\"company_name=%{x}<br>company_name_count=%{marker.size}<extra></extra>\",\"legendgroup\":\"Scale AI\",\"marker\":{\"color\":\"#ab63fa\",\"size\":[3,3,3],\"sizemode\":\"area\",\"sizeref\":0.095,\"symbol\":\"circle\"},\"mode\":\"markers\",\"name\":\"Scale AI\",\"orientation\":\"v\",\"showlegend\":true,\"x\":[\"Scale AI\",\"Scale AI\",\"Scale AI\"],\"xaxis\":\"x\",\"y\":[3,3,3],\"yaxis\":\"y\",\"type\":\"scatter\"},{\"hovertemplate\":\"company_name=%{x}<br>company_name_count=%{marker.size}<extra></extra>\",\"legendgroup\":\"Deloitte\",\"marker\":{\"color\":\"#FFA15A\",\"size\":[10,10,10,10,10,10,10,10,10,10],\"sizemode\":\"area\",\"sizeref\":0.095,\"symbol\":\"circle\"},\"mode\":\"markers\",\"name\":\"Deloitte\",\"orientation\":\"v\",\"showlegend\":true,\"x\":[\"Deloitte\",\"Deloitte\",\"Deloitte\",\"Deloitte\",\"Deloitte\",\"Deloitte\",\"Deloitte\",\"Deloitte\",\"Deloitte\",\"Deloitte\"],\"xaxis\":\"x\",\"y\":[10,10,10,10,10,10,10,10,10,10],\"yaxis\":\"y\",\"type\":\"scatter\"},{\"hovertemplate\":\"company_name=%{x}<br>company_name_count=%{marker.size}<extra></extra>\",\"legendgroup\":\"Comcast\",\"marker\":{\"color\":\"#19d3f3\",\"size\":[1],\"sizemode\":\"area\",\"sizeref\":0.095,\"symbol\":\"circle\"},\"mode\":\"markers\",\"name\":\"Comcast\",\"orientation\":\"v\",\"showlegend\":true,\"x\":[\"Comcast\"],\"xaxis\":\"x\",\"y\":[1],\"yaxis\":\"y\",\"type\":\"scatter\"},{\"hovertemplate\":\"company_name=%{x}<br>company_name_count=%{marker.size}<extra></extra>\",\"legendgroup\":\"Accenture Federal Services\",\"marker\":{\"color\":\"#FF6692\",\"size\":[1],\"sizemode\":\"area\",\"sizeref\":0.095,\"symbol\":\"circle\"},\"mode\":\"markers\",\"name\":\"Accenture Federal Services\",\"orientation\":\"v\",\"showlegend\":true,\"x\":[\"Accenture Federal Services\"],\"xaxis\":\"x\",\"y\":[1],\"yaxis\":\"y\",\"type\":\"scatter\"},{\"hovertemplate\":\"company_name=%{x}<br>company_name_count=%{marker.size}<extra></extra>\",\"legendgroup\":\"Ellumen, Inc\",\"marker\":{\"color\":\"#B6E880\",\"size\":[1],\"sizemode\":\"area\",\"sizeref\":0.095,\"symbol\":\"circle\"},\"mode\":\"markers\",\"name\":\"Ellumen, Inc\",\"orientation\":\"v\",\"showlegend\":true,\"x\":[\"Ellumen, Inc\"],\"xaxis\":\"x\",\"y\":[1],\"yaxis\":\"y\",\"type\":\"scatter\"},{\"hovertemplate\":\"company_name=%{x}<br>company_name_count=%{marker.size}<extra></extra>\",\"legendgroup\":\"Capital One Financial Corporation\",\"marker\":{\"color\":\"#FF97FF\",\"size\":[1],\"sizemode\":\"area\",\"sizeref\":0.095,\"symbol\":\"circle\"},\"mode\":\"markers\",\"name\":\"Capital One Financial Corporation\",\"orientation\":\"v\",\"showlegend\":true,\"x\":[\"Capital One Financial Corporation\"],\"xaxis\":\"x\",\"y\":[1],\"yaxis\":\"y\",\"type\":\"scatter\"},{\"hovertemplate\":\"company_name=%{x}<br>company_name_count=%{marker.size}<extra></extra>\",\"legendgroup\":\"Johns Hopkins Applied Physics Laboratory\",\"marker\":{\"color\":\"#FECB52\",\"size\":[3,3,3],\"sizemode\":\"area\",\"sizeref\":0.095,\"symbol\":\"circle\"},\"mode\":\"markers\",\"name\":\"Johns Hopkins Applied Physics Laboratory\",\"orientation\":\"v\",\"showlegend\":true,\"x\":[\"Johns Hopkins Applied Physics Laboratory\",\"Johns Hopkins Applied Physics Laboratory\",\"Johns Hopkins Applied Physics Laboratory\"],\"xaxis\":\"x\",\"y\":[3,3,3],\"yaxis\":\"y\",\"type\":\"scatter\"},{\"hovertemplate\":\"company_name=%{x}<br>company_name_count=%{marker.size}<extra></extra>\",\"legendgroup\":\"Amentum\",\"marker\":{\"color\":\"#636efa\",\"size\":[1],\"sizemode\":\"area\",\"sizeref\":0.095,\"symbol\":\"circle\"},\"mode\":\"markers\",\"name\":\"Amentum\",\"orientation\":\"v\",\"showlegend\":true,\"x\":[\"Amentum\"],\"xaxis\":\"x\",\"y\":[1],\"yaxis\":\"y\",\"type\":\"scatter\"},{\"hovertemplate\":\"company_name=%{x}<br>company_name_count=%{marker.size}<extra></extra>\",\"legendgroup\":\"Expedition Technology Inc.\",\"marker\":{\"color\":\"#EF553B\",\"size\":[2,2],\"sizemode\":\"area\",\"sizeref\":0.095,\"symbol\":\"circle\"},\"mode\":\"markers\",\"name\":\"Expedition Technology Inc.\",\"orientation\":\"v\",\"showlegend\":true,\"x\":[\"Expedition Technology Inc.\",\"Expedition Technology Inc.\"],\"xaxis\":\"x\",\"y\":[2,2],\"yaxis\":\"y\",\"type\":\"scatter\"},{\"hovertemplate\":\"company_name=%{x}<br>company_name_count=%{marker.size}<extra></extra>\",\"legendgroup\":\"Snap Inc.\",\"marker\":{\"color\":\"#00cc96\",\"size\":[5,5,5,5,5],\"sizemode\":\"area\",\"sizeref\":0.095,\"symbol\":\"circle\"},\"mode\":\"markers\",\"name\":\"Snap Inc.\",\"orientation\":\"v\",\"showlegend\":true,\"x\":[\"Snap Inc.\",\"Snap Inc.\",\"Snap Inc.\",\"Snap Inc.\",\"Snap Inc.\"],\"xaxis\":\"x\",\"y\":[5,5,5,5,5],\"yaxis\":\"y\",\"type\":\"scatter\"},{\"hovertemplate\":\"company_name=%{x}<br>company_name_count=%{marker.size}<extra></extra>\",\"legendgroup\":\"Heartland Consulting\",\"marker\":{\"color\":\"#ab63fa\",\"size\":[1],\"sizemode\":\"area\",\"sizeref\":0.095,\"symbol\":\"circle\"},\"mode\":\"markers\",\"name\":\"Heartland Consulting\",\"orientation\":\"v\",\"showlegend\":true,\"x\":[\"Heartland Consulting\"],\"xaxis\":\"x\",\"y\":[1],\"yaxis\":\"y\",\"type\":\"scatter\"},{\"hovertemplate\":\"company_name=%{x}<br>company_name_count=%{marker.size}<extra></extra>\",\"legendgroup\":\"Latitude, Inc.\",\"marker\":{\"color\":\"#FFA15A\",\"size\":[1],\"sizemode\":\"area\",\"sizeref\":0.095,\"symbol\":\"circle\"},\"mode\":\"markers\",\"name\":\"Latitude, Inc.\",\"orientation\":\"v\",\"showlegend\":true,\"x\":[\"Latitude, Inc.\"],\"xaxis\":\"x\",\"y\":[1],\"yaxis\":\"y\",\"type\":\"scatter\"},{\"hovertemplate\":\"company_name=%{x}<br>company_name_count=%{marker.size}<extra></extra>\",\"legendgroup\":\"Howard Hughes Medical Institute (HHMI)\",\"marker\":{\"color\":\"#19d3f3\",\"size\":[1],\"sizemode\":\"area\",\"sizeref\":0.095,\"symbol\":\"circle\"},\"mode\":\"markers\",\"name\":\"Howard Hughes Medical Institute (HHMI)\",\"orientation\":\"v\",\"showlegend\":true,\"x\":[\"Howard Hughes Medical Institute (HHMI)\"],\"xaxis\":\"x\",\"y\":[1],\"yaxis\":\"y\",\"type\":\"scatter\"},{\"hovertemplate\":\"company_name=%{x}<br>company_name_count=%{marker.size}<extra></extra>\",\"legendgroup\":\"Liberty Personnel Services, Inc\",\"marker\":{\"color\":\"#FF6692\",\"size\":[3,3,3],\"sizemode\":\"area\",\"sizeref\":0.095,\"symbol\":\"circle\"},\"mode\":\"markers\",\"name\":\"Liberty Personnel Services, Inc\",\"orientation\":\"v\",\"showlegend\":true,\"x\":[\"Liberty Personnel Services, Inc\",\"Liberty Personnel Services, Inc\",\"Liberty Personnel Services, Inc\"],\"xaxis\":\"x\",\"y\":[3,3,3],\"yaxis\":\"y\",\"type\":\"scatter\"},{\"hovertemplate\":\"company_name=%{x}<br>company_name_count=%{marker.size}<extra></extra>\",\"legendgroup\":\"NTT DATA  Services\",\"marker\":{\"color\":\"#B6E880\",\"size\":[1],\"sizemode\":\"area\",\"sizeref\":0.095,\"symbol\":\"circle\"},\"mode\":\"markers\",\"name\":\"NTT DATA  Services\",\"orientation\":\"v\",\"showlegend\":true,\"x\":[\"NTT DATA  Services\"],\"xaxis\":\"x\",\"y\":[1],\"yaxis\":\"y\",\"type\":\"scatter\"},{\"hovertemplate\":\"company_name=%{x}<br>company_name_count=%{marker.size}<extra></extra>\",\"legendgroup\":\"CAVA\",\"marker\":{\"color\":\"#FF97FF\",\"size\":[1],\"sizemode\":\"area\",\"sizeref\":0.095,\"symbol\":\"circle\"},\"mode\":\"markers\",\"name\":\"CAVA\",\"orientation\":\"v\",\"showlegend\":true,\"x\":[\"CAVA\"],\"xaxis\":\"x\",\"y\":[1],\"yaxis\":\"y\",\"type\":\"scatter\"},{\"hovertemplate\":\"company_name=%{x}<br>company_name_count=%{marker.size}<extra></extra>\",\"legendgroup\":\"Toffler Associates, Inc.\",\"marker\":{\"color\":\"#FECB52\",\"size\":[1],\"sizemode\":\"area\",\"sizeref\":0.095,\"symbol\":\"circle\"},\"mode\":\"markers\",\"name\":\"Toffler Associates, Inc.\",\"orientation\":\"v\",\"showlegend\":true,\"x\":[\"Toffler Associates, Inc.\"],\"xaxis\":\"x\",\"y\":[1],\"yaxis\":\"y\",\"type\":\"scatter\"},{\"hovertemplate\":\"company_name=%{x}<br>company_name_count=%{marker.size}<extra></extra>\",\"legendgroup\":\"Delta Solutions & Strategies\",\"marker\":{\"color\":\"#636efa\",\"size\":[1],\"sizemode\":\"area\",\"sizeref\":0.095,\"symbol\":\"circle\"},\"mode\":\"markers\",\"name\":\"Delta Solutions & Strategies\",\"orientation\":\"v\",\"showlegend\":true,\"x\":[\"Delta Solutions & Strategies\"],\"xaxis\":\"x\",\"y\":[1],\"yaxis\":\"y\",\"type\":\"scatter\"},{\"hovertemplate\":\"company_name=%{x}<br>company_name_count=%{marker.size}<extra></extra>\",\"legendgroup\":\"Cherokee Federal\",\"marker\":{\"color\":\"#EF553B\",\"size\":[1],\"sizemode\":\"area\",\"sizeref\":0.095,\"symbol\":\"circle\"},\"mode\":\"markers\",\"name\":\"Cherokee Federal\",\"orientation\":\"v\",\"showlegend\":true,\"x\":[\"Cherokee Federal\"],\"xaxis\":\"x\",\"y\":[1],\"yaxis\":\"y\",\"type\":\"scatter\"},{\"hovertemplate\":\"company_name=%{x}<br>company_name_count=%{marker.size}<extra></extra>\",\"legendgroup\":\"Avid Technology Professionals, LLC\",\"marker\":{\"color\":\"#00cc96\",\"size\":[1],\"sizemode\":\"area\",\"sizeref\":0.095,\"symbol\":\"circle\"},\"mode\":\"markers\",\"name\":\"Avid Technology Professionals, LLC\",\"orientation\":\"v\",\"showlegend\":true,\"x\":[\"Avid Technology Professionals, LLC\"],\"xaxis\":\"x\",\"y\":[1],\"yaxis\":\"y\",\"type\":\"scatter\"},{\"hovertemplate\":\"company_name=%{x}<br>company_name_count=%{marker.size}<extra></extra>\",\"legendgroup\":\"Google\",\"marker\":{\"color\":\"#ab63fa\",\"size\":[5,5,5,5,5],\"sizemode\":\"area\",\"sizeref\":0.095,\"symbol\":\"circle\"},\"mode\":\"markers\",\"name\":\"Google\",\"orientation\":\"v\",\"showlegend\":true,\"x\":[\"Google\",\"Google\",\"Google\",\"Google\",\"Google\"],\"xaxis\":\"x\",\"y\":[5,5,5,5,5],\"yaxis\":\"y\",\"type\":\"scatter\"},{\"hovertemplate\":\"company_name=%{x}<br>company_name_count=%{marker.size}<extra></extra>\",\"legendgroup\":\"BrainTrust Holdings\",\"marker\":{\"color\":\"#FFA15A\",\"size\":[1],\"sizemode\":\"area\",\"sizeref\":0.095,\"symbol\":\"circle\"},\"mode\":\"markers\",\"name\":\"BrainTrust Holdings\",\"orientation\":\"v\",\"showlegend\":true,\"x\":[\"BrainTrust Holdings\"],\"xaxis\":\"x\",\"y\":[1],\"yaxis\":\"y\",\"type\":\"scatter\"},{\"hovertemplate\":\"company_name=%{x}<br>company_name_count=%{marker.size}<extra></extra>\",\"legendgroup\":\"ARSIEM\",\"marker\":{\"color\":\"#19d3f3\",\"size\":[2,2],\"sizemode\":\"area\",\"sizeref\":0.095,\"symbol\":\"circle\"},\"mode\":\"markers\",\"name\":\"ARSIEM\",\"orientation\":\"v\",\"showlegend\":true,\"x\":[\"ARSIEM\",\"ARSIEM\"],\"xaxis\":\"x\",\"y\":[2,2],\"yaxis\":\"y\",\"type\":\"scatter\"},{\"hovertemplate\":\"company_name=%{x}<br>company_name_count=%{marker.size}<extra></extra>\",\"legendgroup\":\"Amazon Web Services, Inc.\",\"marker\":{\"color\":\"#FF6692\",\"size\":[6,6,6,6,6,6],\"sizemode\":\"area\",\"sizeref\":0.095,\"symbol\":\"circle\"},\"mode\":\"markers\",\"name\":\"Amazon Web Services, Inc.\",\"orientation\":\"v\",\"showlegend\":true,\"x\":[\"Amazon Web Services, Inc.\",\"Amazon Web Services, Inc.\",\"Amazon Web Services, Inc.\",\"Amazon Web Services, Inc.\",\"Amazon Web Services, Inc.\",\"Amazon Web Services, Inc.\"],\"xaxis\":\"x\",\"y\":[6,6,6,6,6,6],\"yaxis\":\"y\",\"type\":\"scatter\"},{\"hovertemplate\":\"company_name=%{x}<br>company_name_count=%{marker.size}<extra></extra>\",\"legendgroup\":\"Rakuten USA, Inc.\",\"marker\":{\"color\":\"#B6E880\",\"size\":[1],\"sizemode\":\"area\",\"sizeref\":0.095,\"symbol\":\"circle\"},\"mode\":\"markers\",\"name\":\"Rakuten USA, Inc.\",\"orientation\":\"v\",\"showlegend\":true,\"x\":[\"Rakuten USA, Inc.\"],\"xaxis\":\"x\",\"y\":[1],\"yaxis\":\"y\",\"type\":\"scatter\"},{\"hovertemplate\":\"company_name=%{x}<br>company_name_count=%{marker.size}<extra></extra>\",\"legendgroup\":\"IntelliGenesis LLC\",\"marker\":{\"color\":\"#FF97FF\",\"size\":[2,2],\"sizemode\":\"area\",\"sizeref\":0.095,\"symbol\":\"circle\"},\"mode\":\"markers\",\"name\":\"IntelliGenesis LLC\",\"orientation\":\"v\",\"showlegend\":true,\"x\":[\"IntelliGenesis LLC\",\"IntelliGenesis LLC\"],\"xaxis\":\"x\",\"y\":[2,2],\"yaxis\":\"y\",\"type\":\"scatter\"},{\"hovertemplate\":\"company_name=%{x}<br>company_name_count=%{marker.size}<extra></extra>\",\"legendgroup\":\"Arsiem Corporation\",\"marker\":{\"color\":\"#FECB52\",\"size\":[3,3,3],\"sizemode\":\"area\",\"sizeref\":0.095,\"symbol\":\"circle\"},\"mode\":\"markers\",\"name\":\"Arsiem Corporation\",\"orientation\":\"v\",\"showlegend\":true,\"x\":[\"Arsiem Corporation\",\"Arsiem Corporation\",\"Arsiem Corporation\"],\"xaxis\":\"x\",\"y\":[3,3,3],\"yaxis\":\"y\",\"type\":\"scatter\"},{\"hovertemplate\":\"company_name=%{x}<br>company_name_count=%{marker.size}<extra></extra>\",\"legendgroup\":\"Castaway Research\",\"marker\":{\"color\":\"#636efa\",\"size\":[1],\"sizemode\":\"area\",\"sizeref\":0.095,\"symbol\":\"circle\"},\"mode\":\"markers\",\"name\":\"Castaway Research\",\"orientation\":\"v\",\"showlegend\":true,\"x\":[\"Castaway Research\"],\"xaxis\":\"x\",\"y\":[1],\"yaxis\":\"y\",\"type\":\"scatter\"},{\"hovertemplate\":\"company_name=%{x}<br>company_name_count=%{marker.size}<extra></extra>\",\"legendgroup\":\"Government Employees Insurance Company - GEICO\",\"marker\":{\"color\":\"#EF553B\",\"size\":[1],\"sizemode\":\"area\",\"sizeref\":0.095,\"symbol\":\"circle\"},\"mode\":\"markers\",\"name\":\"Government Employees Insurance Company - GEICO\",\"orientation\":\"v\",\"showlegend\":true,\"x\":[\"Government Employees Insurance Company - GEICO\"],\"xaxis\":\"x\",\"y\":[1],\"yaxis\":\"y\",\"type\":\"scatter\"},{\"hovertemplate\":\"company_name=%{x}<br>company_name_count=%{marker.size}<extra></extra>\",\"legendgroup\":\"Morfologica\",\"marker\":{\"color\":\"#00cc96\",\"size\":[1],\"sizemode\":\"area\",\"sizeref\":0.095,\"symbol\":\"circle\"},\"mode\":\"markers\",\"name\":\"Morfologica\",\"orientation\":\"v\",\"showlegend\":true,\"x\":[\"Morfologica\"],\"xaxis\":\"x\",\"y\":[1],\"yaxis\":\"y\",\"type\":\"scatter\"},{\"hovertemplate\":\"company_name=%{x}<br>company_name_count=%{marker.size}<extra></extra>\",\"legendgroup\":\"TeacherOn\",\"marker\":{\"color\":\"#ab63fa\",\"size\":[1],\"sizemode\":\"area\",\"sizeref\":0.095,\"symbol\":\"circle\"},\"mode\":\"markers\",\"name\":\"TeacherOn\",\"orientation\":\"v\",\"showlegend\":true,\"x\":[\"TeacherOn\"],\"xaxis\":\"x\",\"y\":[1],\"yaxis\":\"y\",\"type\":\"scatter\"},{\"hovertemplate\":\"company_name=%{x}<br>company_name_count=%{marker.size}<extra></extra>\",\"legendgroup\":\"National Library of Medicine\",\"marker\":{\"color\":\"#FFA15A\",\"size\":[1],\"sizemode\":\"area\",\"sizeref\":0.095,\"symbol\":\"circle\"},\"mode\":\"markers\",\"name\":\"National Library of Medicine\",\"orientation\":\"v\",\"showlegend\":true,\"x\":[\"National Library of Medicine\"],\"xaxis\":\"x\",\"y\":[1],\"yaxis\":\"y\",\"type\":\"scatter\"},{\"hovertemplate\":\"company_name=%{x}<br>company_name_count=%{marker.size}<extra></extra>\",\"legendgroup\":\"Neuro Systems\",\"marker\":{\"color\":\"#19d3f3\",\"size\":[1],\"sizemode\":\"area\",\"sizeref\":0.095,\"symbol\":\"circle\"},\"mode\":\"markers\",\"name\":\"Neuro Systems\",\"orientation\":\"v\",\"showlegend\":true,\"x\":[\"Neuro Systems\"],\"xaxis\":\"x\",\"y\":[1],\"yaxis\":\"y\",\"type\":\"scatter\"},{\"hovertemplate\":\"company_name=%{x}<br>company_name_count=%{marker.size}<extra></extra>\",\"legendgroup\":\"Supportiv\",\"marker\":{\"color\":\"#FF6692\",\"size\":[5,5,5,5,5],\"sizemode\":\"area\",\"sizeref\":0.095,\"symbol\":\"circle\"},\"mode\":\"markers\",\"name\":\"Supportiv\",\"orientation\":\"v\",\"showlegend\":true,\"x\":[\"Supportiv\",\"Supportiv\",\"Supportiv\",\"Supportiv\",\"Supportiv\"],\"xaxis\":\"x\",\"y\":[5,5,5,5,5],\"yaxis\":\"y\",\"type\":\"scatter\"},{\"hovertemplate\":\"company_name=%{x}<br>company_name_count=%{marker.size}<extra></extra>\",\"legendgroup\":\"Amazon.com, Inc\",\"marker\":{\"color\":\"#B6E880\",\"size\":[1],\"sizemode\":\"area\",\"sizeref\":0.095,\"symbol\":\"circle\"},\"mode\":\"markers\",\"name\":\"Amazon.com, Inc\",\"orientation\":\"v\",\"showlegend\":true,\"x\":[\"Amazon.com, Inc\"],\"xaxis\":\"x\",\"y\":[1],\"yaxis\":\"y\",\"type\":\"scatter\"},{\"hovertemplate\":\"company_name=%{x}<br>company_name_count=%{marker.size}<extra></extra>\",\"legendgroup\":\"Amazon.com Services LLC\",\"marker\":{\"color\":\"#FF97FF\",\"size\":[3,3,3],\"sizemode\":\"area\",\"sizeref\":0.095,\"symbol\":\"circle\"},\"mode\":\"markers\",\"name\":\"Amazon.com Services LLC\",\"orientation\":\"v\",\"showlegend\":true,\"x\":[\"Amazon.com Services LLC\",\"Amazon.com Services LLC\",\"Amazon.com Services LLC\"],\"xaxis\":\"x\",\"y\":[3,3,3],\"yaxis\":\"y\",\"type\":\"scatter\"},{\"hovertemplate\":\"company_name=%{x}<br>company_name_count=%{marker.size}<extra></extra>\",\"legendgroup\":\"Swift\",\"marker\":{\"color\":\"#FECB52\",\"size\":[1],\"sizemode\":\"area\",\"sizeref\":0.095,\"symbol\":\"circle\"},\"mode\":\"markers\",\"name\":\"Swift\",\"orientation\":\"v\",\"showlegend\":true,\"x\":[\"Swift\"],\"xaxis\":\"x\",\"y\":[1],\"yaxis\":\"y\",\"type\":\"scatter\"},{\"hovertemplate\":\"company_name=%{x}<br>company_name_count=%{marker.size}<extra></extra>\",\"legendgroup\":\"CGI Group, Inc.\",\"marker\":{\"color\":\"#636efa\",\"size\":[1],\"sizemode\":\"area\",\"sizeref\":0.095,\"symbol\":\"circle\"},\"mode\":\"markers\",\"name\":\"CGI Group, Inc.\",\"orientation\":\"v\",\"showlegend\":true,\"x\":[\"CGI Group, Inc.\"],\"xaxis\":\"x\",\"y\":[1],\"yaxis\":\"y\",\"type\":\"scatter\"},{\"hovertemplate\":\"company_name=%{x}<br>company_name_count=%{marker.size}<extra></extra>\",\"legendgroup\":\"Flow Blockchain\",\"marker\":{\"color\":\"#EF553B\",\"size\":[1],\"sizemode\":\"area\",\"sizeref\":0.095,\"symbol\":\"circle\"},\"mode\":\"markers\",\"name\":\"Flow Blockchain\",\"orientation\":\"v\",\"showlegend\":true,\"x\":[\"Flow Blockchain\"],\"xaxis\":\"x\",\"y\":[1],\"yaxis\":\"y\",\"type\":\"scatter\"},{\"hovertemplate\":\"company_name=%{x}<br>company_name_count=%{marker.size}<extra></extra>\",\"legendgroup\":\"Dapper Labs\",\"marker\":{\"color\":\"#00cc96\",\"size\":[1],\"sizemode\":\"area\",\"sizeref\":0.095,\"symbol\":\"circle\"},\"mode\":\"markers\",\"name\":\"Dapper Labs\",\"orientation\":\"v\",\"showlegend\":true,\"x\":[\"Dapper Labs\"],\"xaxis\":\"x\",\"y\":[1],\"yaxis\":\"y\",\"type\":\"scatter\"},{\"hovertemplate\":\"company_name=%{x}<br>company_name_count=%{marker.size}<extra></extra>\",\"legendgroup\":\"Axelar\",\"marker\":{\"color\":\"#ab63fa\",\"size\":[1],\"sizemode\":\"area\",\"sizeref\":0.095,\"symbol\":\"circle\"},\"mode\":\"markers\",\"name\":\"Axelar\",\"orientation\":\"v\",\"showlegend\":true,\"x\":[\"Axelar\"],\"xaxis\":\"x\",\"y\":[1],\"yaxis\":\"y\",\"type\":\"scatter\"},{\"hovertemplate\":\"company_name=%{x}<br>company_name_count=%{marker.size}<extra></extra>\",\"legendgroup\":\"Content Machine\",\"marker\":{\"color\":\"#FFA15A\",\"size\":[1],\"sizemode\":\"area\",\"sizeref\":0.095,\"symbol\":\"circle\"},\"mode\":\"markers\",\"name\":\"Content Machine\",\"orientation\":\"v\",\"showlegend\":true,\"x\":[\"Content Machine\"],\"xaxis\":\"x\",\"y\":[1],\"yaxis\":\"y\",\"type\":\"scatter\"},{\"hovertemplate\":\"company_name=%{x}<br>company_name_count=%{marker.size}<extra></extra>\",\"legendgroup\":\"Microsoft\",\"marker\":{\"color\":\"#19d3f3\",\"size\":[6,6,6,6,6,6],\"sizemode\":\"area\",\"sizeref\":0.095,\"symbol\":\"circle\"},\"mode\":\"markers\",\"name\":\"Microsoft\",\"orientation\":\"v\",\"showlegend\":true,\"x\":[\"Microsoft\",\"Microsoft\",\"Microsoft\",\"Microsoft\",\"Microsoft\",\"Microsoft\"],\"xaxis\":\"x\",\"y\":[6,6,6,6,6,6],\"yaxis\":\"y\",\"type\":\"scatter\"},{\"hovertemplate\":\"company_name=%{x}<br>company_name_count=%{marker.size}<extra></extra>\",\"legendgroup\":\"JPMC Candidate Experience page\",\"marker\":{\"color\":\"#FF6692\",\"size\":[1],\"sizemode\":\"area\",\"sizeref\":0.095,\"symbol\":\"circle\"},\"mode\":\"markers\",\"name\":\"JPMC Candidate Experience page\",\"orientation\":\"v\",\"showlegend\":true,\"x\":[\"JPMC Candidate Experience page\"],\"xaxis\":\"x\",\"y\":[1],\"yaxis\":\"y\",\"type\":\"scatter\"},{\"hovertemplate\":\"company_name=%{x}<br>company_name_count=%{marker.size}<extra></extra>\",\"legendgroup\":\"Apple\",\"marker\":{\"color\":\"#B6E880\",\"size\":[10,10,10,10,10,10,10,10,10,10],\"sizemode\":\"area\",\"sizeref\":0.095,\"symbol\":\"circle\"},\"mode\":\"markers\",\"name\":\"Apple\",\"orientation\":\"v\",\"showlegend\":true,\"x\":[\"Apple\",\"Apple\",\"Apple\",\"Apple\",\"Apple\",\"Apple\",\"Apple\",\"Apple\",\"Apple\",\"Apple\"],\"xaxis\":\"x\",\"y\":[10,10,10,10,10,10,10,10,10,10],\"yaxis\":\"y\",\"type\":\"scatter\"},{\"hovertemplate\":\"company_name=%{x}<br>company_name_count=%{marker.size}<extra></extra>\",\"legendgroup\":\"Quora\",\"marker\":{\"color\":\"#FF97FF\",\"size\":[1],\"sizemode\":\"area\",\"sizeref\":0.095,\"symbol\":\"circle\"},\"mode\":\"markers\",\"name\":\"Quora\",\"orientation\":\"v\",\"showlegend\":true,\"x\":[\"Quora\"],\"xaxis\":\"x\",\"y\":[1],\"yaxis\":\"y\",\"type\":\"scatter\"},{\"hovertemplate\":\"company_name=%{x}<br>company_name_count=%{marker.size}<extra></extra>\",\"legendgroup\":\"InstaDeep Ltd\",\"marker\":{\"color\":\"#FECB52\",\"size\":[1],\"sizemode\":\"area\",\"sizeref\":0.095,\"symbol\":\"circle\"},\"mode\":\"markers\",\"name\":\"InstaDeep Ltd\",\"orientation\":\"v\",\"showlegend\":true,\"x\":[\"InstaDeep Ltd\"],\"xaxis\":\"x\",\"y\":[1],\"yaxis\":\"y\",\"type\":\"scatter\"},{\"hovertemplate\":\"company_name=%{x}<br>company_name_count=%{marker.size}<extra></extra>\",\"legendgroup\":\"OpenAI\",\"marker\":{\"color\":\"#636efa\",\"size\":[2,2],\"sizemode\":\"area\",\"sizeref\":0.095,\"symbol\":\"circle\"},\"mode\":\"markers\",\"name\":\"OpenAI\",\"orientation\":\"v\",\"showlegend\":true,\"x\":[\"OpenAI\",\"OpenAI\"],\"xaxis\":\"x\",\"y\":[2,2],\"yaxis\":\"y\",\"type\":\"scatter\"},{\"hovertemplate\":\"company_name=%{x}<br>company_name_count=%{marker.size}<extra></extra>\",\"legendgroup\":\"STR\",\"marker\":{\"color\":\"#EF553B\",\"size\":[4,4,4,4],\"sizemode\":\"area\",\"sizeref\":0.095,\"symbol\":\"circle\"},\"mode\":\"markers\",\"name\":\"STR\",\"orientation\":\"v\",\"showlegend\":true,\"x\":[\"STR\",\"STR\",\"STR\",\"STR\"],\"xaxis\":\"x\",\"y\":[4,4,4,4],\"yaxis\":\"y\",\"type\":\"scatter\"},{\"hovertemplate\":\"company_name=%{x}<br>company_name_count=%{marker.size}<extra></extra>\",\"legendgroup\":\"Aurora Innovation\",\"marker\":{\"color\":\"#00cc96\",\"size\":[1],\"sizemode\":\"area\",\"sizeref\":0.095,\"symbol\":\"circle\"},\"mode\":\"markers\",\"name\":\"Aurora Innovation\",\"orientation\":\"v\",\"showlegend\":true,\"x\":[\"Aurora Innovation\"],\"xaxis\":\"x\",\"y\":[1],\"yaxis\":\"y\",\"type\":\"scatter\"},{\"hovertemplate\":\"company_name=%{x}<br>company_name_count=%{marker.size}<extra></extra>\",\"legendgroup\":\"Netflix\",\"marker\":{\"color\":\"#ab63fa\",\"size\":[2,2],\"sizemode\":\"area\",\"sizeref\":0.095,\"symbol\":\"circle\"},\"mode\":\"markers\",\"name\":\"Netflix\",\"orientation\":\"v\",\"showlegend\":true,\"x\":[\"Netflix\",\"Netflix\"],\"xaxis\":\"x\",\"y\":[2,2],\"yaxis\":\"y\",\"type\":\"scatter\"},{\"hovertemplate\":\"company_name=%{x}<br>company_name_count=%{marker.size}<extra></extra>\",\"legendgroup\":\"Braintrust\",\"marker\":{\"color\":\"#FFA15A\",\"size\":[2,2],\"sizemode\":\"area\",\"sizeref\":0.095,\"symbol\":\"circle\"},\"mode\":\"markers\",\"name\":\"Braintrust\",\"orientation\":\"v\",\"showlegend\":true,\"x\":[\"Braintrust\",\"Braintrust\"],\"xaxis\":\"x\",\"y\":[2,2],\"yaxis\":\"y\",\"type\":\"scatter\"},{\"hovertemplate\":\"company_name=%{x}<br>company_name_count=%{marker.size}<extra></extra>\",\"legendgroup\":\"Grand Canyon University\",\"marker\":{\"color\":\"#19d3f3\",\"size\":[1],\"sizemode\":\"area\",\"sizeref\":0.095,\"symbol\":\"circle\"},\"mode\":\"markers\",\"name\":\"Grand Canyon University\",\"orientation\":\"v\",\"showlegend\":true,\"x\":[\"Grand Canyon University\"],\"xaxis\":\"x\",\"y\":[1],\"yaxis\":\"y\",\"type\":\"scatter\"},{\"hovertemplate\":\"company_name=%{x}<br>company_name_count=%{marker.size}<extra></extra>\",\"legendgroup\":\"Neural Magic\",\"marker\":{\"color\":\"#FF6692\",\"size\":[3,3,3],\"sizemode\":\"area\",\"sizeref\":0.095,\"symbol\":\"circle\"},\"mode\":\"markers\",\"name\":\"Neural Magic\",\"orientation\":\"v\",\"showlegend\":true,\"x\":[\"Neural Magic\",\"Neural Magic\",\"Neural Magic\"],\"xaxis\":\"x\",\"y\":[3,3,3],\"yaxis\":\"y\",\"type\":\"scatter\"},{\"hovertemplate\":\"company_name=%{x}<br>company_name_count=%{marker.size}<extra></extra>\",\"legendgroup\":\"Harsco Corporation\",\"marker\":{\"color\":\"#B6E880\",\"size\":[1],\"sizemode\":\"area\",\"sizeref\":0.095,\"symbol\":\"circle\"},\"mode\":\"markers\",\"name\":\"Harsco Corporation\",\"orientation\":\"v\",\"showlegend\":true,\"x\":[\"Harsco Corporation\"],\"xaxis\":\"x\",\"y\":[1],\"yaxis\":\"y\",\"type\":\"scatter\"},{\"hovertemplate\":\"company_name=%{x}<br>company_name_count=%{marker.size}<extra></extra>\",\"legendgroup\":\"Owl Autonomous Imaging\",\"marker\":{\"color\":\"#FF97FF\",\"size\":[1],\"sizemode\":\"area\",\"sizeref\":0.095,\"symbol\":\"circle\"},\"mode\":\"markers\",\"name\":\"Owl Autonomous Imaging\",\"orientation\":\"v\",\"showlegend\":true,\"x\":[\"Owl Autonomous Imaging\"],\"xaxis\":\"x\",\"y\":[1],\"yaxis\":\"y\",\"type\":\"scatter\"},{\"hovertemplate\":\"company_name=%{x}<br>company_name_count=%{marker.size}<extra></extra>\",\"legendgroup\":\"Riccione Resources\",\"marker\":{\"color\":\"#FECB52\",\"size\":[1],\"sizemode\":\"area\",\"sizeref\":0.095,\"symbol\":\"circle\"},\"mode\":\"markers\",\"name\":\"Riccione Resources\",\"orientation\":\"v\",\"showlegend\":true,\"x\":[\"Riccione Resources\"],\"xaxis\":\"x\",\"y\":[1],\"yaxis\":\"y\",\"type\":\"scatter\"},{\"hovertemplate\":\"company_name=%{x}<br>company_name_count=%{marker.size}<extra></extra>\",\"legendgroup\":\"Tesla\",\"marker\":{\"color\":\"#636efa\",\"size\":[2,2],\"sizemode\":\"area\",\"sizeref\":0.095,\"symbol\":\"circle\"},\"mode\":\"markers\",\"name\":\"Tesla\",\"orientation\":\"v\",\"showlegend\":true,\"x\":[\"Tesla\",\"Tesla\"],\"xaxis\":\"x\",\"y\":[2,2],\"yaxis\":\"y\",\"type\":\"scatter\"},{\"hovertemplate\":\"company_name=%{x}<br>company_name_count=%{marker.size}<extra></extra>\",\"legendgroup\":\"Certified Employment Group\",\"marker\":{\"color\":\"#EF553B\",\"size\":[1],\"sizemode\":\"area\",\"sizeref\":0.095,\"symbol\":\"circle\"},\"mode\":\"markers\",\"name\":\"Certified Employment Group\",\"orientation\":\"v\",\"showlegend\":true,\"x\":[\"Certified Employment Group\"],\"xaxis\":\"x\",\"y\":[1],\"yaxis\":\"y\",\"type\":\"scatter\"},{\"hovertemplate\":\"company_name=%{x}<br>company_name_count=%{marker.size}<extra></extra>\",\"legendgroup\":\"BU_IS, Raytheon Technologies\",\"marker\":{\"color\":\"#00cc96\",\"size\":[1],\"sizemode\":\"area\",\"sizeref\":0.095,\"symbol\":\"circle\"},\"mode\":\"markers\",\"name\":\"BU_IS, Raytheon Technologies\",\"orientation\":\"v\",\"showlegend\":true,\"x\":[\"BU_IS, Raytheon Technologies\"],\"xaxis\":\"x\",\"y\":[1],\"yaxis\":\"y\",\"type\":\"scatter\"},{\"hovertemplate\":\"company_name=%{x}<br>company_name_count=%{marker.size}<extra></extra>\",\"legendgroup\":\"Gryphon Scientific\",\"marker\":{\"color\":\"#ab63fa\",\"size\":[1],\"sizemode\":\"area\",\"sizeref\":0.095,\"symbol\":\"circle\"},\"mode\":\"markers\",\"name\":\"Gryphon Scientific\",\"orientation\":\"v\",\"showlegend\":true,\"x\":[\"Gryphon Scientific\"],\"xaxis\":\"x\",\"y\":[1],\"yaxis\":\"y\",\"type\":\"scatter\"},{\"hovertemplate\":\"company_name=%{x}<br>company_name_count=%{marker.size}<extra></extra>\",\"legendgroup\":\"Guidehouse\",\"marker\":{\"color\":\"#FFA15A\",\"size\":[1],\"sizemode\":\"area\",\"sizeref\":0.095,\"symbol\":\"circle\"},\"mode\":\"markers\",\"name\":\"Guidehouse\",\"orientation\":\"v\",\"showlegend\":true,\"x\":[\"Guidehouse\"],\"xaxis\":\"x\",\"y\":[1],\"yaxis\":\"y\",\"type\":\"scatter\"},{\"hovertemplate\":\"company_name=%{x}<br>company_name_count=%{marker.size}<extra></extra>\",\"legendgroup\":\"ManTech International\",\"marker\":{\"color\":\"#19d3f3\",\"size\":[3,3,3],\"sizemode\":\"area\",\"sizeref\":0.095,\"symbol\":\"circle\"},\"mode\":\"markers\",\"name\":\"ManTech International\",\"orientation\":\"v\",\"showlegend\":true,\"x\":[\"ManTech International\",\"ManTech International\",\"ManTech International\"],\"xaxis\":\"x\",\"y\":[3,3,3],\"yaxis\":\"y\",\"type\":\"scatter\"},{\"hovertemplate\":\"company_name=%{x}<br>company_name_count=%{marker.size}<extra></extra>\",\"legendgroup\":\"ENS Solutions\",\"marker\":{\"color\":\"#FF6692\",\"size\":[1],\"sizemode\":\"area\",\"sizeref\":0.095,\"symbol\":\"circle\"},\"mode\":\"markers\",\"name\":\"ENS Solutions\",\"orientation\":\"v\",\"showlegend\":true,\"x\":[\"ENS Solutions\"],\"xaxis\":\"x\",\"y\":[1],\"yaxis\":\"y\",\"type\":\"scatter\"},{\"hovertemplate\":\"company_name=%{x}<br>company_name_count=%{marker.size}<extra></extra>\",\"legendgroup\":\"cBEYONData\",\"marker\":{\"color\":\"#B6E880\",\"size\":[1],\"sizemode\":\"area\",\"sizeref\":0.095,\"symbol\":\"circle\"},\"mode\":\"markers\",\"name\":\"cBEYONData\",\"orientation\":\"v\",\"showlegend\":true,\"x\":[\"cBEYONData\"],\"xaxis\":\"x\",\"y\":[1],\"yaxis\":\"y\",\"type\":\"scatter\"},{\"hovertemplate\":\"company_name=%{x}<br>company_name_count=%{marker.size}<extra></extra>\",\"legendgroup\":\"GovCIO\",\"marker\":{\"color\":\"#FF97FF\",\"size\":[1],\"sizemode\":\"area\",\"sizeref\":0.095,\"symbol\":\"circle\"},\"mode\":\"markers\",\"name\":\"GovCIO\",\"orientation\":\"v\",\"showlegend\":true,\"x\":[\"GovCIO\"],\"xaxis\":\"x\",\"y\":[1],\"yaxis\":\"y\",\"type\":\"scatter\"},{\"hovertemplate\":\"company_name=%{x}<br>company_name_count=%{marker.size}<extra></extra>\",\"legendgroup\":\"Blend360\",\"marker\":{\"color\":\"#FECB52\",\"size\":[1],\"sizemode\":\"area\",\"sizeref\":0.095,\"symbol\":\"circle\"},\"mode\":\"markers\",\"name\":\"Blend360\",\"orientation\":\"v\",\"showlegend\":true,\"x\":[\"Blend360\"],\"xaxis\":\"x\",\"y\":[1],\"yaxis\":\"y\",\"type\":\"scatter\"},{\"hovertemplate\":\"company_name=%{x}<br>company_name_count=%{marker.size}<extra></extra>\",\"legendgroup\":\"ICF\",\"marker\":{\"color\":\"#636efa\",\"size\":[2,2],\"sizemode\":\"area\",\"sizeref\":0.095,\"symbol\":\"circle\"},\"mode\":\"markers\",\"name\":\"ICF\",\"orientation\":\"v\",\"showlegend\":true,\"x\":[\"ICF\",\"ICF\"],\"xaxis\":\"x\",\"y\":[2,2],\"yaxis\":\"y\",\"type\":\"scatter\"},{\"hovertemplate\":\"company_name=%{x}<br>company_name_count=%{marker.size}<extra></extra>\",\"legendgroup\":\"SRI International\",\"marker\":{\"color\":\"#EF553B\",\"size\":[3,3,3],\"sizemode\":\"area\",\"sizeref\":0.095,\"symbol\":\"circle\"},\"mode\":\"markers\",\"name\":\"SRI International\",\"orientation\":\"v\",\"showlegend\":true,\"x\":[\"SRI International\",\"SRI International\",\"SRI International\"],\"xaxis\":\"x\",\"y\":[3,3,3],\"yaxis\":\"y\",\"type\":\"scatter\"},{\"hovertemplate\":\"company_name=%{x}<br>company_name_count=%{marker.size}<extra></extra>\",\"legendgroup\":\"Cogent Security Consulting\",\"marker\":{\"color\":\"#00cc96\",\"size\":[1],\"sizemode\":\"area\",\"sizeref\":0.095,\"symbol\":\"circle\"},\"mode\":\"markers\",\"name\":\"Cogent Security Consulting\",\"orientation\":\"v\",\"showlegend\":true,\"x\":[\"Cogent Security Consulting\"],\"xaxis\":\"x\",\"y\":[1],\"yaxis\":\"y\",\"type\":\"scatter\"},{\"hovertemplate\":\"company_name=%{x}<br>company_name_count=%{marker.size}<extra></extra>\",\"legendgroup\":\"SAIC\",\"marker\":{\"color\":\"#ab63fa\",\"size\":[1],\"sizemode\":\"area\",\"sizeref\":0.095,\"symbol\":\"circle\"},\"mode\":\"markers\",\"name\":\"SAIC\",\"orientation\":\"v\",\"showlegend\":true,\"x\":[\"SAIC\"],\"xaxis\":\"x\",\"y\":[1],\"yaxis\":\"y\",\"type\":\"scatter\"},{\"hovertemplate\":\"company_name=%{x}<br>company_name_count=%{marker.size}<extra></extra>\",\"legendgroup\":\"ClearanceJobs\",\"marker\":{\"color\":\"#FFA15A\",\"size\":[1],\"sizemode\":\"area\",\"sizeref\":0.095,\"symbol\":\"circle\"},\"mode\":\"markers\",\"name\":\"ClearanceJobs\",\"orientation\":\"v\",\"showlegend\":true,\"x\":[\"ClearanceJobs\"],\"xaxis\":\"x\",\"y\":[1],\"yaxis\":\"y\",\"type\":\"scatter\"},{\"hovertemplate\":\"company_name=%{x}<br>company_name_count=%{marker.size}<extra></extra>\",\"legendgroup\":\"INDEX ANALYTICS LLC\",\"marker\":{\"color\":\"#19d3f3\",\"size\":[1],\"sizemode\":\"area\",\"sizeref\":0.095,\"symbol\":\"circle\"},\"mode\":\"markers\",\"name\":\"INDEX ANALYTICS LLC\",\"orientation\":\"v\",\"showlegend\":true,\"x\":[\"INDEX ANALYTICS LLC\"],\"xaxis\":\"x\",\"y\":[1],\"yaxis\":\"y\",\"type\":\"scatter\"},{\"hovertemplate\":\"company_name=%{x}<br>company_name_count=%{marker.size}<extra></extra>\",\"legendgroup\":\"Trident Systems Inc\",\"marker\":{\"color\":\"#FF6692\",\"size\":[1],\"sizemode\":\"area\",\"sizeref\":0.095,\"symbol\":\"circle\"},\"mode\":\"markers\",\"name\":\"Trident Systems Inc\",\"orientation\":\"v\",\"showlegend\":true,\"x\":[\"Trident Systems Inc\"],\"xaxis\":\"x\",\"y\":[1],\"yaxis\":\"y\",\"type\":\"scatter\"},{\"hovertemplate\":\"company_name=%{x}<br>company_name_count=%{marker.size}<extra></extra>\",\"legendgroup\":\"Trilogy Innovations Inc\",\"marker\":{\"color\":\"#B6E880\",\"size\":[2,2],\"sizemode\":\"area\",\"sizeref\":0.095,\"symbol\":\"circle\"},\"mode\":\"markers\",\"name\":\"Trilogy Innovations Inc\",\"orientation\":\"v\",\"showlegend\":true,\"x\":[\"Trilogy Innovations Inc\",\"Trilogy Innovations Inc\"],\"xaxis\":\"x\",\"y\":[2,2],\"yaxis\":\"y\",\"type\":\"scatter\"},{\"hovertemplate\":\"company_name=%{x}<br>company_name_count=%{marker.size}<extra></extra>\",\"legendgroup\":\"Curai\",\"marker\":{\"color\":\"#FF97FF\",\"size\":[2,2],\"sizemode\":\"area\",\"sizeref\":0.095,\"symbol\":\"circle\"},\"mode\":\"markers\",\"name\":\"Curai\",\"orientation\":\"v\",\"showlegend\":true,\"x\":[\"Curai\",\"Curai\"],\"xaxis\":\"x\",\"y\":[2,2],\"yaxis\":\"y\",\"type\":\"scatter\"},{\"hovertemplate\":\"company_name=%{x}<br>company_name_count=%{marker.size}<extra></extra>\",\"legendgroup\":\"Motional\",\"marker\":{\"color\":\"#FECB52\",\"size\":[1],\"sizemode\":\"area\",\"sizeref\":0.095,\"symbol\":\"circle\"},\"mode\":\"markers\",\"name\":\"Motional\",\"orientation\":\"v\",\"showlegend\":true,\"x\":[\"Motional\"],\"xaxis\":\"x\",\"y\":[1],\"yaxis\":\"y\",\"type\":\"scatter\"},{\"hovertemplate\":\"company_name=%{x}<br>company_name_count=%{marker.size}<extra></extra>\",\"legendgroup\":\"Workarise\",\"marker\":{\"color\":\"#636efa\",\"size\":[1],\"sizemode\":\"area\",\"sizeref\":0.095,\"symbol\":\"circle\"},\"mode\":\"markers\",\"name\":\"Workarise\",\"orientation\":\"v\",\"showlegend\":true,\"x\":[\"Workarise\"],\"xaxis\":\"x\",\"y\":[1],\"yaxis\":\"y\",\"type\":\"scatter\"},{\"hovertemplate\":\"company_name=%{x}<br>company_name_count=%{marker.size}<extra></extra>\",\"legendgroup\":\"2100 NVIDIA USA\",\"marker\":{\"color\":\"#EF553B\",\"size\":[3,3,3],\"sizemode\":\"area\",\"sizeref\":0.095,\"symbol\":\"circle\"},\"mode\":\"markers\",\"name\":\"2100 NVIDIA USA\",\"orientation\":\"v\",\"showlegend\":true,\"x\":[\"2100 NVIDIA USA\",\"2100 NVIDIA USA\",\"2100 NVIDIA USA\"],\"xaxis\":\"x\",\"y\":[3,3,3],\"yaxis\":\"y\",\"type\":\"scatter\"},{\"hovertemplate\":\"company_name=%{x}<br>company_name_count=%{marker.size}<extra></extra>\",\"legendgroup\":\"Covera Health\",\"marker\":{\"color\":\"#00cc96\",\"size\":[2,2],\"sizemode\":\"area\",\"sizeref\":0.095,\"symbol\":\"circle\"},\"mode\":\"markers\",\"name\":\"Covera Health\",\"orientation\":\"v\",\"showlegend\":true,\"x\":[\"Covera Health\",\"Covera Health\"],\"xaxis\":\"x\",\"y\":[2,2],\"yaxis\":\"y\",\"type\":\"scatter\"},{\"hovertemplate\":\"company_name=%{x}<br>company_name_count=%{marker.size}<extra></extra>\",\"legendgroup\":\"Facebook\",\"marker\":{\"color\":\"#ab63fa\",\"size\":[3,3,3],\"sizemode\":\"area\",\"sizeref\":0.095,\"symbol\":\"circle\"},\"mode\":\"markers\",\"name\":\"Facebook\",\"orientation\":\"v\",\"showlegend\":true,\"x\":[\"Facebook\",\"Facebook\",\"Facebook\"],\"xaxis\":\"x\",\"y\":[3,3,3],\"yaxis\":\"y\",\"type\":\"scatter\"},{\"hovertemplate\":\"company_name=%{x}<br>company_name_count=%{marker.size}<extra></extra>\",\"legendgroup\":\"Bosch Group LLC\",\"marker\":{\"color\":\"#FFA15A\",\"size\":[2,2],\"sizemode\":\"area\",\"sizeref\":0.095,\"symbol\":\"circle\"},\"mode\":\"markers\",\"name\":\"Bosch Group LLC\",\"orientation\":\"v\",\"showlegend\":true,\"x\":[\"Bosch Group LLC\",\"Bosch Group LLC\"],\"xaxis\":\"x\",\"y\":[2,2],\"yaxis\":\"y\",\"type\":\"scatter\"},{\"hovertemplate\":\"company_name=%{x}<br>company_name_count=%{marker.size}<extra></extra>\",\"legendgroup\":\"Robinhood\",\"marker\":{\"color\":\"#19d3f3\",\"size\":[1],\"sizemode\":\"area\",\"sizeref\":0.095,\"symbol\":\"circle\"},\"mode\":\"markers\",\"name\":\"Robinhood\",\"orientation\":\"v\",\"showlegend\":true,\"x\":[\"Robinhood\"],\"xaxis\":\"x\",\"y\":[1],\"yaxis\":\"y\",\"type\":\"scatter\"},{\"hovertemplate\":\"company_name=%{x}<br>company_name_count=%{marker.size}<extra></extra>\",\"legendgroup\":\"Keyo\",\"marker\":{\"color\":\"#FF6692\",\"size\":[1],\"sizemode\":\"area\",\"sizeref\":0.095,\"symbol\":\"circle\"},\"mode\":\"markers\",\"name\":\"Keyo\",\"orientation\":\"v\",\"showlegend\":true,\"x\":[\"Keyo\"],\"xaxis\":\"x\",\"y\":[1],\"yaxis\":\"y\",\"type\":\"scatter\"},{\"hovertemplate\":\"company_name=%{x}<br>company_name_count=%{marker.size}<extra></extra>\",\"legendgroup\":\"Forethought\",\"marker\":{\"color\":\"#B6E880\",\"size\":[1],\"sizemode\":\"area\",\"sizeref\":0.095,\"symbol\":\"circle\"},\"mode\":\"markers\",\"name\":\"Forethought\",\"orientation\":\"v\",\"showlegend\":true,\"x\":[\"Forethought\"],\"xaxis\":\"x\",\"y\":[1],\"yaxis\":\"y\",\"type\":\"scatter\"},{\"hovertemplate\":\"company_name=%{x}<br>company_name_count=%{marker.size}<extra></extra>\",\"legendgroup\":\"InstaDeep\",\"marker\":{\"color\":\"#FF97FF\",\"size\":[1],\"sizemode\":\"area\",\"sizeref\":0.095,\"symbol\":\"circle\"},\"mode\":\"markers\",\"name\":\"InstaDeep\",\"orientation\":\"v\",\"showlegend\":true,\"x\":[\"InstaDeep\"],\"xaxis\":\"x\",\"y\":[1],\"yaxis\":\"y\",\"type\":\"scatter\"},{\"hovertemplate\":\"company_name=%{x}<br>company_name_count=%{marker.size}<extra></extra>\",\"legendgroup\":\"1014 United States of America, Convatec\",\"marker\":{\"color\":\"#FECB52\",\"size\":[1],\"sizemode\":\"area\",\"sizeref\":0.095,\"symbol\":\"circle\"},\"mode\":\"markers\",\"name\":\"1014 United States of America, Convatec\",\"orientation\":\"v\",\"showlegend\":true,\"x\":[\"1014 United States of America, Convatec\"],\"xaxis\":\"x\",\"y\":[1],\"yaxis\":\"y\",\"type\":\"scatter\"},{\"hovertemplate\":\"company_name=%{x}<br>company_name_count=%{marker.size}<extra></extra>\",\"legendgroup\":\"Arena AI\",\"marker\":{\"color\":\"#636efa\",\"size\":[1],\"sizemode\":\"area\",\"sizeref\":0.095,\"symbol\":\"circle\"},\"mode\":\"markers\",\"name\":\"Arena AI\",\"orientation\":\"v\",\"showlegend\":true,\"x\":[\"Arena AI\"],\"xaxis\":\"x\",\"y\":[1],\"yaxis\":\"y\",\"type\":\"scatter\"},{\"hovertemplate\":\"company_name=%{x}<br>company_name_count=%{marker.size}<extra></extra>\",\"legendgroup\":\"Unify Consulting\",\"marker\":{\"color\":\"#EF553B\",\"size\":[2,2],\"sizemode\":\"area\",\"sizeref\":0.095,\"symbol\":\"circle\"},\"mode\":\"markers\",\"name\":\"Unify Consulting\",\"orientation\":\"v\",\"showlegend\":true,\"x\":[\"Unify Consulting\",\"Unify Consulting\"],\"xaxis\":\"x\",\"y\":[2,2],\"yaxis\":\"y\",\"type\":\"scatter\"},{\"hovertemplate\":\"company_name=%{x}<br>company_name_count=%{marker.size}<extra></extra>\",\"legendgroup\":\"MathWorks\",\"marker\":{\"color\":\"#00cc96\",\"size\":[4,4,4,4],\"sizemode\":\"area\",\"sizeref\":0.095,\"symbol\":\"circle\"},\"mode\":\"markers\",\"name\":\"MathWorks\",\"orientation\":\"v\",\"showlegend\":true,\"x\":[\"MathWorks\",\"MathWorks\",\"MathWorks\",\"MathWorks\"],\"xaxis\":\"x\",\"y\":[4,4,4,4],\"yaxis\":\"y\",\"type\":\"scatter\"},{\"hovertemplate\":\"company_name=%{x}<br>company_name_count=%{marker.size}<extra></extra>\",\"legendgroup\":\"10001252 - AI Science Specialist\",\"marker\":{\"color\":\"#ab63fa\",\"size\":[1],\"sizemode\":\"area\",\"sizeref\":0.095,\"symbol\":\"circle\"},\"mode\":\"markers\",\"name\":\"10001252 - AI Science Specialist\",\"orientation\":\"v\",\"showlegend\":true,\"x\":[\"10001252 - AI Science Specialist\"],\"xaxis\":\"x\",\"y\":[1],\"yaxis\":\"y\",\"type\":\"scatter\"},{\"hovertemplate\":\"company_name=%{x}<br>company_name_count=%{marker.size}<extra></extra>\",\"legendgroup\":\"Anyscale\",\"marker\":{\"color\":\"#FFA15A\",\"size\":[1],\"sizemode\":\"area\",\"sizeref\":0.095,\"symbol\":\"circle\"},\"mode\":\"markers\",\"name\":\"Anyscale\",\"orientation\":\"v\",\"showlegend\":true,\"x\":[\"Anyscale\"],\"xaxis\":\"x\",\"y\":[1],\"yaxis\":\"y\",\"type\":\"scatter\"},{\"hovertemplate\":\"company_name=%{x}<br>company_name_count=%{marker.size}<extra></extra>\",\"legendgroup\":\"jpmc/CX_1001\",\"marker\":{\"color\":\"#19d3f3\",\"size\":[1],\"sizemode\":\"area\",\"sizeref\":0.095,\"symbol\":\"circle\"},\"mode\":\"markers\",\"name\":\"jpmc/CX_1001\",\"orientation\":\"v\",\"showlegend\":true,\"x\":[\"jpmc/CX_1001\"],\"xaxis\":\"x\",\"y\":[1],\"yaxis\":\"y\",\"type\":\"scatter\"},{\"hovertemplate\":\"company_name=%{x}<br>company_name_count=%{marker.size}<extra></extra>\",\"legendgroup\":\"OriGen.AI\",\"marker\":{\"color\":\"#FF6692\",\"size\":[1],\"sizemode\":\"area\",\"sizeref\":0.095,\"symbol\":\"circle\"},\"mode\":\"markers\",\"name\":\"OriGen.AI\",\"orientation\":\"v\",\"showlegend\":true,\"x\":[\"OriGen.AI\"],\"xaxis\":\"x\",\"y\":[1],\"yaxis\":\"y\",\"type\":\"scatter\"},{\"hovertemplate\":\"company_name=%{x}<br>company_name_count=%{marker.size}<extra></extra>\",\"legendgroup\":\"Wolfram\",\"marker\":{\"color\":\"#B6E880\",\"size\":[2,2],\"sizemode\":\"area\",\"sizeref\":0.095,\"symbol\":\"circle\"},\"mode\":\"markers\",\"name\":\"Wolfram\",\"orientation\":\"v\",\"showlegend\":true,\"x\":[\"Wolfram\",\"Wolfram\"],\"xaxis\":\"x\",\"y\":[2,2],\"yaxis\":\"y\",\"type\":\"scatter\"},{\"hovertemplate\":\"company_name=%{x}<br>company_name_count=%{marker.size}<extra></extra>\",\"legendgroup\":\"DATA FUSION & NEURAL NETWORKS\",\"marker\":{\"color\":\"#FF97FF\",\"size\":[1],\"sizemode\":\"area\",\"sizeref\":0.095,\"symbol\":\"circle\"},\"mode\":\"markers\",\"name\":\"DATA FUSION & NEURAL NETWORKS\",\"orientation\":\"v\",\"showlegend\":true,\"x\":[\"DATA FUSION & NEURAL NETWORKS\"],\"xaxis\":\"x\",\"y\":[1],\"yaxis\":\"y\",\"type\":\"scatter\"},{\"hovertemplate\":\"company_name=%{x}<br>company_name_count=%{marker.size}<extra></extra>\",\"legendgroup\":\"Comcast Corporation\",\"marker\":{\"color\":\"#FECB52\",\"size\":[1],\"sizemode\":\"area\",\"sizeref\":0.095,\"symbol\":\"circle\"},\"mode\":\"markers\",\"name\":\"Comcast Corporation\",\"orientation\":\"v\",\"showlegend\":true,\"x\":[\"Comcast Corporation\"],\"xaxis\":\"x\",\"y\":[1],\"yaxis\":\"y\",\"type\":\"scatter\"},{\"hovertemplate\":\"company_name=%{x}<br>company_name_count=%{marker.size}<extra></extra>\",\"legendgroup\":\"Elajika Inc\",\"marker\":{\"color\":\"#636efa\",\"size\":[1],\"sizemode\":\"area\",\"sizeref\":0.095,\"symbol\":\"circle\"},\"mode\":\"markers\",\"name\":\"Elajika Inc\",\"orientation\":\"v\",\"showlegend\":true,\"x\":[\"Elajika Inc\"],\"xaxis\":\"x\",\"y\":[1],\"yaxis\":\"y\",\"type\":\"scatter\"},{\"hovertemplate\":\"company_name=%{x}<br>company_name_count=%{marker.size}<extra></extra>\",\"legendgroup\":\"Prescient Edge\",\"marker\":{\"color\":\"#EF553B\",\"size\":[1],\"sizemode\":\"area\",\"sizeref\":0.095,\"symbol\":\"circle\"},\"mode\":\"markers\",\"name\":\"Prescient Edge\",\"orientation\":\"v\",\"showlegend\":true,\"x\":[\"Prescient Edge\"],\"xaxis\":\"x\",\"y\":[1],\"yaxis\":\"y\",\"type\":\"scatter\"},{\"hovertemplate\":\"company_name=%{x}<br>company_name_count=%{marker.size}<extra></extra>\",\"legendgroup\":\"Planet Pharma\",\"marker\":{\"color\":\"#00cc96\",\"size\":[2,2],\"sizemode\":\"area\",\"sizeref\":0.095,\"symbol\":\"circle\"},\"mode\":\"markers\",\"name\":\"Planet Pharma\",\"orientation\":\"v\",\"showlegend\":true,\"x\":[\"Planet Pharma\",\"Planet Pharma\"],\"xaxis\":\"x\",\"y\":[2,2],\"yaxis\":\"y\",\"type\":\"scatter\"},{\"hovertemplate\":\"company_name=%{x}<br>company_name_count=%{marker.size}<extra></extra>\",\"legendgroup\":\"Shelf Engine\",\"marker\":{\"color\":\"#ab63fa\",\"size\":[1],\"sizemode\":\"area\",\"sizeref\":0.095,\"symbol\":\"circle\"},\"mode\":\"markers\",\"name\":\"Shelf Engine\",\"orientation\":\"v\",\"showlegend\":true,\"x\":[\"Shelf Engine\"],\"xaxis\":\"x\",\"y\":[1],\"yaxis\":\"y\",\"type\":\"scatter\"},{\"hovertemplate\":\"company_name=%{x}<br>company_name_count=%{marker.size}<extra></extra>\",\"legendgroup\":\"SOS International LLC\",\"marker\":{\"color\":\"#FFA15A\",\"size\":[1],\"sizemode\":\"area\",\"sizeref\":0.095,\"symbol\":\"circle\"},\"mode\":\"markers\",\"name\":\"SOS International LLC\",\"orientation\":\"v\",\"showlegend\":true,\"x\":[\"SOS International LLC\"],\"xaxis\":\"x\",\"y\":[1],\"yaxis\":\"y\",\"type\":\"scatter\"},{\"hovertemplate\":\"company_name=%{x}<br>company_name_count=%{marker.size}<extra></extra>\",\"legendgroup\":\"Chenega Corporation\",\"marker\":{\"color\":\"#19d3f3\",\"size\":[1],\"sizemode\":\"area\",\"sizeref\":0.095,\"symbol\":\"circle\"},\"mode\":\"markers\",\"name\":\"Chenega Corporation\",\"orientation\":\"v\",\"showlegend\":true,\"x\":[\"Chenega Corporation\"],\"xaxis\":\"x\",\"y\":[1],\"yaxis\":\"y\",\"type\":\"scatter\"},{\"hovertemplate\":\"company_name=%{x}<br>company_name_count=%{marker.size}<extra></extra>\",\"legendgroup\":\"USAJOBS\",\"marker\":{\"color\":\"#FF6692\",\"size\":[1],\"sizemode\":\"area\",\"sizeref\":0.095,\"symbol\":\"circle\"},\"mode\":\"markers\",\"name\":\"USAJOBS\",\"orientation\":\"v\",\"showlegend\":true,\"x\":[\"USAJOBS\"],\"xaxis\":\"x\",\"y\":[1],\"yaxis\":\"y\",\"type\":\"scatter\"},{\"hovertemplate\":\"company_name=%{x}<br>company_name_count=%{marker.size}<extra></extra>\",\"legendgroup\":\"Cross Screen Media\",\"marker\":{\"color\":\"#B6E880\",\"size\":[1],\"sizemode\":\"area\",\"sizeref\":0.095,\"symbol\":\"circle\"},\"mode\":\"markers\",\"name\":\"Cross Screen Media\",\"orientation\":\"v\",\"showlegend\":true,\"x\":[\"Cross Screen Media\"],\"xaxis\":\"x\",\"y\":[1],\"yaxis\":\"y\",\"type\":\"scatter\"},{\"hovertemplate\":\"company_name=%{x}<br>company_name_count=%{marker.size}<extra></extra>\",\"legendgroup\":\"Mathematica Policy Research\",\"marker\":{\"color\":\"#FF97FF\",\"size\":[1],\"sizemode\":\"area\",\"sizeref\":0.095,\"symbol\":\"circle\"},\"mode\":\"markers\",\"name\":\"Mathematica Policy Research\",\"orientation\":\"v\",\"showlegend\":true,\"x\":[\"Mathematica Policy Research\"],\"xaxis\":\"x\",\"y\":[1],\"yaxis\":\"y\",\"type\":\"scatter\"},{\"hovertemplate\":\"company_name=%{x}<br>company_name_count=%{marker.size}<extra></extra>\",\"legendgroup\":\"Diverse Lynx\",\"marker\":{\"color\":\"#FECB52\",\"size\":[1],\"sizemode\":\"area\",\"sizeref\":0.095,\"symbol\":\"circle\"},\"mode\":\"markers\",\"name\":\"Diverse Lynx\",\"orientation\":\"v\",\"showlegend\":true,\"x\":[\"Diverse Lynx\"],\"xaxis\":\"x\",\"y\":[1],\"yaxis\":\"y\",\"type\":\"scatter\"},{\"hovertemplate\":\"company_name=%{x}<br>company_name_count=%{marker.size}<extra></extra>\",\"legendgroup\":\"Apple, Inc.\",\"marker\":{\"color\":\"#636efa\",\"size\":[1],\"sizemode\":\"area\",\"sizeref\":0.095,\"symbol\":\"circle\"},\"mode\":\"markers\",\"name\":\"Apple, Inc.\",\"orientation\":\"v\",\"showlegend\":true,\"x\":[\"Apple, Inc.\"],\"xaxis\":\"x\",\"y\":[1],\"yaxis\":\"y\",\"type\":\"scatter\"},{\"hovertemplate\":\"company_name=%{x}<br>company_name_count=%{marker.size}<extra></extra>\",\"legendgroup\":\"Topaz Labs\",\"marker\":{\"color\":\"#EF553B\",\"size\":[1],\"sizemode\":\"area\",\"sizeref\":0.095,\"symbol\":\"circle\"},\"mode\":\"markers\",\"name\":\"Topaz Labs\",\"orientation\":\"v\",\"showlegend\":true,\"x\":[\"Topaz Labs\"],\"xaxis\":\"x\",\"y\":[1],\"yaxis\":\"y\",\"type\":\"scatter\"},{\"hovertemplate\":\"company_name=%{x}<br>company_name_count=%{marker.size}<extra></extra>\",\"legendgroup\":\"Bronson Technical Search\",\"marker\":{\"color\":\"#00cc96\",\"size\":[1],\"sizemode\":\"area\",\"sizeref\":0.095,\"symbol\":\"circle\"},\"mode\":\"markers\",\"name\":\"Bronson Technical Search\",\"orientation\":\"v\",\"showlegend\":true,\"x\":[\"Bronson Technical Search\"],\"xaxis\":\"x\",\"y\":[1],\"yaxis\":\"y\",\"type\":\"scatter\"},{\"hovertemplate\":\"company_name=%{x}<br>company_name_count=%{marker.size}<extra></extra>\",\"legendgroup\":\"OPPO US Research Center\",\"marker\":{\"color\":\"#ab63fa\",\"size\":[1],\"sizemode\":\"area\",\"sizeref\":0.095,\"symbol\":\"circle\"},\"mode\":\"markers\",\"name\":\"OPPO US Research Center\",\"orientation\":\"v\",\"showlegend\":true,\"x\":[\"OPPO US Research Center\"],\"xaxis\":\"x\",\"y\":[1],\"yaxis\":\"y\",\"type\":\"scatter\"},{\"hovertemplate\":\"company_name=%{x}<br>company_name_count=%{marker.size}<extra></extra>\",\"legendgroup\":\"Genentech\",\"marker\":{\"color\":\"#FFA15A\",\"size\":[3,3,3],\"sizemode\":\"area\",\"sizeref\":0.095,\"symbol\":\"circle\"},\"mode\":\"markers\",\"name\":\"Genentech\",\"orientation\":\"v\",\"showlegend\":true,\"x\":[\"Genentech\",\"Genentech\",\"Genentech\"],\"xaxis\":\"x\",\"y\":[3,3,3],\"yaxis\":\"y\",\"type\":\"scatter\"},{\"hovertemplate\":\"company_name=%{x}<br>company_name_count=%{marker.size}<extra></extra>\",\"legendgroup\":\"Indotronix International Corporation\",\"marker\":{\"color\":\"#19d3f3\",\"size\":[1],\"sizemode\":\"area\",\"sizeref\":0.095,\"symbol\":\"circle\"},\"mode\":\"markers\",\"name\":\"Indotronix International Corporation\",\"orientation\":\"v\",\"showlegend\":true,\"x\":[\"Indotronix International Corporation\"],\"xaxis\":\"x\",\"y\":[1],\"yaxis\":\"y\",\"type\":\"scatter\"},{\"hovertemplate\":\"company_name=%{x}<br>company_name_count=%{marker.size}<extra></extra>\",\"legendgroup\":\"Abnormal Security\",\"marker\":{\"color\":\"#FF6692\",\"size\":[1],\"sizemode\":\"area\",\"sizeref\":0.095,\"symbol\":\"circle\"},\"mode\":\"markers\",\"name\":\"Abnormal Security\",\"orientation\":\"v\",\"showlegend\":true,\"x\":[\"Abnormal Security\"],\"xaxis\":\"x\",\"y\":[1],\"yaxis\":\"y\",\"type\":\"scatter\"},{\"hovertemplate\":\"company_name=%{x}<br>company_name_count=%{marker.size}<extra></extra>\",\"legendgroup\":\"Intel Corporation\",\"marker\":{\"color\":\"#B6E880\",\"size\":[1],\"sizemode\":\"area\",\"sizeref\":0.095,\"symbol\":\"circle\"},\"mode\":\"markers\",\"name\":\"Intel Corporation\",\"orientation\":\"v\",\"showlegend\":true,\"x\":[\"Intel Corporation\"],\"xaxis\":\"x\",\"y\":[1],\"yaxis\":\"y\",\"type\":\"scatter\"},{\"hovertemplate\":\"company_name=%{x}<br>company_name_count=%{marker.size}<extra></extra>\",\"legendgroup\":\"LLNL\",\"marker\":{\"color\":\"#FF97FF\",\"size\":[3,3,3],\"sizemode\":\"area\",\"sizeref\":0.095,\"symbol\":\"circle\"},\"mode\":\"markers\",\"name\":\"LLNL\",\"orientation\":\"v\",\"showlegend\":true,\"x\":[\"LLNL\",\"LLNL\",\"LLNL\"],\"xaxis\":\"x\",\"y\":[3,3,3],\"yaxis\":\"y\",\"type\":\"scatter\"},{\"hovertemplate\":\"company_name=%{x}<br>company_name_count=%{marker.size}<extra></extra>\",\"legendgroup\":\"GSK\",\"marker\":{\"color\":\"#FECB52\",\"size\":[2,2],\"sizemode\":\"area\",\"sizeref\":0.095,\"symbol\":\"circle\"},\"mode\":\"markers\",\"name\":\"GSK\",\"orientation\":\"v\",\"showlegend\":true,\"x\":[\"GSK\",\"GSK\"],\"xaxis\":\"x\",\"y\":[2,2],\"yaxis\":\"y\",\"type\":\"scatter\"},{\"hovertemplate\":\"company_name=%{x}<br>company_name_count=%{marker.size}<extra></extra>\",\"legendgroup\":\"Cyberjin\",\"marker\":{\"color\":\"#636efa\",\"size\":[1],\"sizemode\":\"area\",\"sizeref\":0.095,\"symbol\":\"circle\"},\"mode\":\"markers\",\"name\":\"Cyberjin\",\"orientation\":\"v\",\"showlegend\":true,\"x\":[\"Cyberjin\"],\"xaxis\":\"x\",\"y\":[1],\"yaxis\":\"y\",\"type\":\"scatter\"},{\"hovertemplate\":\"company_name=%{x}<br>company_name_count=%{marker.size}<extra></extra>\",\"legendgroup\":\"Deeproute.ai\",\"marker\":{\"color\":\"#EF553B\",\"size\":[1],\"sizemode\":\"area\",\"sizeref\":0.095,\"symbol\":\"circle\"},\"mode\":\"markers\",\"name\":\"Deeproute.ai\",\"orientation\":\"v\",\"showlegend\":true,\"x\":[\"Deeproute.ai\"],\"xaxis\":\"x\",\"y\":[1],\"yaxis\":\"y\",\"type\":\"scatter\"},{\"hovertemplate\":\"company_name=%{x}<br>company_name_count=%{marker.size}<extra></extra>\",\"legendgroup\":\"RIOS Intelligent Machines\",\"marker\":{\"color\":\"#00cc96\",\"size\":[2,2],\"sizemode\":\"area\",\"sizeref\":0.095,\"symbol\":\"circle\"},\"mode\":\"markers\",\"name\":\"RIOS Intelligent Machines\",\"orientation\":\"v\",\"showlegend\":true,\"x\":[\"RIOS Intelligent Machines\",\"RIOS Intelligent Machines\"],\"xaxis\":\"x\",\"y\":[2,2],\"yaxis\":\"y\",\"type\":\"scatter\"},{\"hovertemplate\":\"company_name=%{x}<br>company_name_count=%{marker.size}<extra></extra>\",\"legendgroup\":\"Kitware\",\"marker\":{\"color\":\"#ab63fa\",\"size\":[4,4,4,4],\"sizemode\":\"area\",\"sizeref\":0.095,\"symbol\":\"circle\"},\"mode\":\"markers\",\"name\":\"Kitware\",\"orientation\":\"v\",\"showlegend\":true,\"x\":[\"Kitware\",\"Kitware\",\"Kitware\",\"Kitware\"],\"xaxis\":\"x\",\"y\":[4,4,4,4],\"yaxis\":\"y\",\"type\":\"scatter\"},{\"hovertemplate\":\"company_name=%{x}<br>company_name_count=%{marker.size}<extra></extra>\",\"legendgroup\":\"Azimuth Corporation\",\"marker\":{\"color\":\"#FFA15A\",\"size\":[1],\"sizemode\":\"area\",\"sizeref\":0.095,\"symbol\":\"circle\"},\"mode\":\"markers\",\"name\":\"Azimuth Corporation\",\"orientation\":\"v\",\"showlegend\":true,\"x\":[\"Azimuth Corporation\"],\"xaxis\":\"x\",\"y\":[1],\"yaxis\":\"y\",\"type\":\"scatter\"},{\"hovertemplate\":\"company_name=%{x}<br>company_name_count=%{marker.size}<extra></extra>\",\"legendgroup\":\"BitRelish Corporation\",\"marker\":{\"color\":\"#19d3f3\",\"size\":[1],\"sizemode\":\"area\",\"sizeref\":0.095,\"symbol\":\"circle\"},\"mode\":\"markers\",\"name\":\"BitRelish Corporation\",\"orientation\":\"v\",\"showlegend\":true,\"x\":[\"BitRelish Corporation\"],\"xaxis\":\"x\",\"y\":[1],\"yaxis\":\"y\",\"type\":\"scatter\"},{\"hovertemplate\":\"company_name=%{x}<br>company_name_count=%{marker.size}<extra></extra>\",\"legendgroup\":\"Agricultural Research Service\",\"marker\":{\"color\":\"#FF6692\",\"size\":[1],\"sizemode\":\"area\",\"sizeref\":0.095,\"symbol\":\"circle\"},\"mode\":\"markers\",\"name\":\"Agricultural Research Service\",\"orientation\":\"v\",\"showlegend\":true,\"x\":[\"Agricultural Research Service\"],\"xaxis\":\"x\",\"y\":[1],\"yaxis\":\"y\",\"type\":\"scatter\"},{\"hovertemplate\":\"company_name=%{x}<br>company_name_count=%{marker.size}<extra></extra>\",\"legendgroup\":\"Hilton\",\"marker\":{\"color\":\"#B6E880\",\"size\":[1],\"sizemode\":\"area\",\"sizeref\":0.095,\"symbol\":\"circle\"},\"mode\":\"markers\",\"name\":\"Hilton\",\"orientation\":\"v\",\"showlegend\":true,\"x\":[\"Hilton\"],\"xaxis\":\"x\",\"y\":[1],\"yaxis\":\"y\",\"type\":\"scatter\"},{\"hovertemplate\":\"company_name=%{x}<br>company_name_count=%{marker.size}<extra></extra>\",\"legendgroup\":\"Celestar Corporation\",\"marker\":{\"color\":\"#FF97FF\",\"size\":[1],\"sizemode\":\"area\",\"sizeref\":0.095,\"symbol\":\"circle\"},\"mode\":\"markers\",\"name\":\"Celestar Corporation\",\"orientation\":\"v\",\"showlegend\":true,\"x\":[\"Celestar Corporation\"],\"xaxis\":\"x\",\"y\":[1],\"yaxis\":\"y\",\"type\":\"scatter\"},{\"hovertemplate\":\"company_name=%{x}<br>company_name_count=%{marker.size}<extra></extra>\",\"legendgroup\":\"The Home Depot\",\"marker\":{\"color\":\"#FECB52\",\"size\":[1],\"sizemode\":\"area\",\"sizeref\":0.095,\"symbol\":\"circle\"},\"mode\":\"markers\",\"name\":\"The Home Depot\",\"orientation\":\"v\",\"showlegend\":true,\"x\":[\"The Home Depot\"],\"xaxis\":\"x\",\"y\":[1],\"yaxis\":\"y\",\"type\":\"scatter\"},{\"hovertemplate\":\"company_name=%{x}<br>company_name_count=%{marker.size}<extra></extra>\",\"legendgroup\":\"Primordial Labs\",\"marker\":{\"color\":\"#636efa\",\"size\":[1],\"sizemode\":\"area\",\"sizeref\":0.095,\"symbol\":\"circle\"},\"mode\":\"markers\",\"name\":\"Primordial Labs\",\"orientation\":\"v\",\"showlegend\":true,\"x\":[\"Primordial Labs\"],\"xaxis\":\"x\",\"y\":[1],\"yaxis\":\"y\",\"type\":\"scatter\"},{\"hovertemplate\":\"company_name=%{x}<br>company_name_count=%{marker.size}<extra></extra>\",\"legendgroup\":\"Samson Rose\",\"marker\":{\"color\":\"#EF553B\",\"size\":[1],\"sizemode\":\"area\",\"sizeref\":0.095,\"symbol\":\"circle\"},\"mode\":\"markers\",\"name\":\"Samson Rose\",\"orientation\":\"v\",\"showlegend\":true,\"x\":[\"Samson Rose\"],\"xaxis\":\"x\",\"y\":[1],\"yaxis\":\"y\",\"type\":\"scatter\"},{\"hovertemplate\":\"company_name=%{x}<br>company_name_count=%{marker.size}<extra></extra>\",\"legendgroup\":\"MultiPlan\",\"marker\":{\"color\":\"#00cc96\",\"size\":[3,3,3],\"sizemode\":\"area\",\"sizeref\":0.095,\"symbol\":\"circle\"},\"mode\":\"markers\",\"name\":\"MultiPlan\",\"orientation\":\"v\",\"showlegend\":true,\"x\":[\"MultiPlan\",\"MultiPlan\",\"MultiPlan\"],\"xaxis\":\"x\",\"y\":[3,3,3],\"yaxis\":\"y\",\"type\":\"scatter\"},{\"hovertemplate\":\"company_name=%{x}<br>company_name_count=%{marker.size}<extra></extra>\",\"legendgroup\":\"Microsoft Corporation\",\"marker\":{\"color\":\"#ab63fa\",\"size\":[1],\"sizemode\":\"area\",\"sizeref\":0.095,\"symbol\":\"circle\"},\"mode\":\"markers\",\"name\":\"Microsoft Corporation\",\"orientation\":\"v\",\"showlegend\":true,\"x\":[\"Microsoft Corporation\"],\"xaxis\":\"x\",\"y\":[1],\"yaxis\":\"y\",\"type\":\"scatter\"},{\"hovertemplate\":\"company_name=%{x}<br>company_name_count=%{marker.size}<extra></extra>\",\"legendgroup\":\"Generally Intelligent\",\"marker\":{\"color\":\"#FFA15A\",\"size\":[1],\"sizemode\":\"area\",\"sizeref\":0.095,\"symbol\":\"circle\"},\"mode\":\"markers\",\"name\":\"Generally Intelligent\",\"orientation\":\"v\",\"showlegend\":true,\"x\":[\"Generally Intelligent\"],\"xaxis\":\"x\",\"y\":[1],\"yaxis\":\"y\",\"type\":\"scatter\"},{\"hovertemplate\":\"company_name=%{x}<br>company_name_count=%{marker.size}<extra></extra>\",\"legendgroup\":\"Matroid\",\"marker\":{\"color\":\"#19d3f3\",\"size\":[1],\"sizemode\":\"area\",\"sizeref\":0.095,\"symbol\":\"circle\"},\"mode\":\"markers\",\"name\":\"Matroid\",\"orientation\":\"v\",\"showlegend\":true,\"x\":[\"Matroid\"],\"xaxis\":\"x\",\"y\":[1],\"yaxis\":\"y\",\"type\":\"scatter\"},{\"hovertemplate\":\"company_name=%{x}<br>company_name_count=%{marker.size}<extra></extra>\",\"legendgroup\":\"Cadence Design Systems\",\"marker\":{\"color\":\"#FF6692\",\"size\":[1],\"sizemode\":\"area\",\"sizeref\":0.095,\"symbol\":\"circle\"},\"mode\":\"markers\",\"name\":\"Cadence Design Systems\",\"orientation\":\"v\",\"showlegend\":true,\"x\":[\"Cadence Design Systems\"],\"xaxis\":\"x\",\"y\":[1],\"yaxis\":\"y\",\"type\":\"scatter\"},{\"hovertemplate\":\"company_name=%{x}<br>company_name_count=%{marker.size}<extra></extra>\",\"legendgroup\":\"UCLA Health Systems\",\"marker\":{\"color\":\"#B6E880\",\"size\":[1],\"sizemode\":\"area\",\"sizeref\":0.095,\"symbol\":\"circle\"},\"mode\":\"markers\",\"name\":\"UCLA Health Systems\",\"orientation\":\"v\",\"showlegend\":true,\"x\":[\"UCLA Health Systems\"],\"xaxis\":\"x\",\"y\":[1],\"yaxis\":\"y\",\"type\":\"scatter\"},{\"hovertemplate\":\"company_name=%{x}<br>company_name_count=%{marker.size}<extra></extra>\",\"legendgroup\":\"Gen Nine, Inc.\",\"marker\":{\"color\":\"#FF97FF\",\"size\":[1],\"sizemode\":\"area\",\"sizeref\":0.095,\"symbol\":\"circle\"},\"mode\":\"markers\",\"name\":\"Gen Nine, Inc.\",\"orientation\":\"v\",\"showlegend\":true,\"x\":[\"Gen Nine, Inc.\"],\"xaxis\":\"x\",\"y\":[1],\"yaxis\":\"y\",\"type\":\"scatter\"},{\"hovertemplate\":\"company_name=%{x}<br>company_name_count=%{marker.size}<extra></extra>\",\"legendgroup\":\"Qualcomm\",\"marker\":{\"color\":\"#FECB52\",\"size\":[1],\"sizemode\":\"area\",\"sizeref\":0.095,\"symbol\":\"circle\"},\"mode\":\"markers\",\"name\":\"Qualcomm\",\"orientation\":\"v\",\"showlegend\":true,\"x\":[\"Qualcomm\"],\"xaxis\":\"x\",\"y\":[1],\"yaxis\":\"y\",\"type\":\"scatter\"},{\"hovertemplate\":\"company_name=%{x}<br>company_name_count=%{marker.size}<extra></extra>\",\"legendgroup\":\"Netra\",\"marker\":{\"color\":\"#636efa\",\"size\":[1],\"sizemode\":\"area\",\"sizeref\":0.095,\"symbol\":\"circle\"},\"mode\":\"markers\",\"name\":\"Netra\",\"orientation\":\"v\",\"showlegend\":true,\"x\":[\"Netra\"],\"xaxis\":\"x\",\"y\":[1],\"yaxis\":\"y\",\"type\":\"scatter\"},{\"hovertemplate\":\"company_name=%{x}<br>company_name_count=%{marker.size}<extra></extra>\",\"legendgroup\":\"Universit\\u00e9 d'Artois / LGI2A\",\"marker\":{\"color\":\"#EF553B\",\"size\":[1],\"sizemode\":\"area\",\"sizeref\":0.095,\"symbol\":\"circle\"},\"mode\":\"markers\",\"name\":\"Universit\\u00e9 d'Artois / LGI2A\",\"orientation\":\"v\",\"showlegend\":true,\"x\":[\"Universit\\u00e9 d'Artois / LGI2A\"],\"xaxis\":\"x\",\"y\":[1],\"yaxis\":\"y\",\"type\":\"scatter\"},{\"hovertemplate\":\"company_name=%{x}<br>company_name_count=%{marker.size}<extra></extra>\",\"legendgroup\":\"Recruiting from Scratch\",\"marker\":{\"color\":\"#00cc96\",\"size\":[1],\"sizemode\":\"area\",\"sizeref\":0.095,\"symbol\":\"circle\"},\"mode\":\"markers\",\"name\":\"Recruiting from Scratch\",\"orientation\":\"v\",\"showlegend\":true,\"x\":[\"Recruiting from Scratch\"],\"xaxis\":\"x\",\"y\":[1],\"yaxis\":\"y\",\"type\":\"scatter\"},{\"hovertemplate\":\"company_name=%{x}<br>company_name_count=%{marker.size}<extra></extra>\",\"legendgroup\":\"Robert Bosch\",\"marker\":{\"color\":\"#ab63fa\",\"size\":[1],\"sizemode\":\"area\",\"sizeref\":0.095,\"symbol\":\"circle\"},\"mode\":\"markers\",\"name\":\"Robert Bosch\",\"orientation\":\"v\",\"showlegend\":true,\"x\":[\"Robert Bosch\"],\"xaxis\":\"x\",\"y\":[1],\"yaxis\":\"y\",\"type\":\"scatter\"},{\"hovertemplate\":\"company_name=%{x}<br>company_name_count=%{marker.size}<extra></extra>\",\"legendgroup\":\"IBM Corporation\",\"marker\":{\"color\":\"#FFA15A\",\"size\":[1],\"sizemode\":\"area\",\"sizeref\":0.095,\"symbol\":\"circle\"},\"mode\":\"markers\",\"name\":\"IBM Corporation\",\"orientation\":\"v\",\"showlegend\":true,\"x\":[\"IBM Corporation\"],\"xaxis\":\"x\",\"y\":[1],\"yaxis\":\"y\",\"type\":\"scatter\"},{\"hovertemplate\":\"company_name=%{x}<br>company_name_count=%{marker.size}<extra></extra>\",\"legendgroup\":\"Innova Solutions\",\"marker\":{\"color\":\"#19d3f3\",\"size\":[1],\"sizemode\":\"area\",\"sizeref\":0.095,\"symbol\":\"circle\"},\"mode\":\"markers\",\"name\":\"Innova Solutions\",\"orientation\":\"v\",\"showlegend\":true,\"x\":[\"Innova Solutions\"],\"xaxis\":\"x\",\"y\":[1],\"yaxis\":\"y\",\"type\":\"scatter\"},{\"hovertemplate\":\"company_name=%{x}<br>company_name_count=%{marker.size}<extra></extra>\",\"legendgroup\":\"Authenticx\",\"marker\":{\"color\":\"#FF6692\",\"size\":[1],\"sizemode\":\"area\",\"sizeref\":0.095,\"symbol\":\"circle\"},\"mode\":\"markers\",\"name\":\"Authenticx\",\"orientation\":\"v\",\"showlegend\":true,\"x\":[\"Authenticx\"],\"xaxis\":\"x\",\"y\":[1],\"yaxis\":\"y\",\"type\":\"scatter\"},{\"hovertemplate\":\"company_name=%{x}<br>company_name_count=%{marker.size}<extra></extra>\",\"legendgroup\":\"Multiplan\",\"marker\":{\"color\":\"#B6E880\",\"size\":[1],\"sizemode\":\"area\",\"sizeref\":0.095,\"symbol\":\"circle\"},\"mode\":\"markers\",\"name\":\"Multiplan\",\"orientation\":\"v\",\"showlegend\":true,\"x\":[\"Multiplan\"],\"xaxis\":\"x\",\"y\":[1],\"yaxis\":\"y\",\"type\":\"scatter\"},{\"hovertemplate\":\"company_name=%{x}<br>company_name_count=%{marker.size}<extra></extra>\",\"legendgroup\":\"Fusemachines\",\"marker\":{\"color\":\"#FF97FF\",\"size\":[1],\"sizemode\":\"area\",\"sizeref\":0.095,\"symbol\":\"circle\"},\"mode\":\"markers\",\"name\":\"Fusemachines\",\"orientation\":\"v\",\"showlegend\":true,\"x\":[\"Fusemachines\"],\"xaxis\":\"x\",\"y\":[1],\"yaxis\":\"y\",\"type\":\"scatter\"},{\"hovertemplate\":\"company_name=%{x}<br>company_name_count=%{marker.size}<extra></extra>\",\"legendgroup\":\"Amun Tokens\",\"marker\":{\"color\":\"#FECB52\",\"size\":[1],\"sizemode\":\"area\",\"sizeref\":0.095,\"symbol\":\"circle\"},\"mode\":\"markers\",\"name\":\"Amun Tokens\",\"orientation\":\"v\",\"showlegend\":true,\"x\":[\"Amun Tokens\"],\"xaxis\":\"x\",\"y\":[1],\"yaxis\":\"y\",\"type\":\"scatter\"},{\"hovertemplate\":\"company_name=%{x}<br>company_name_count=%{marker.size}<extra></extra>\",\"legendgroup\":\"BNY Mellon\",\"marker\":{\"color\":\"#636efa\",\"size\":[2,2],\"sizemode\":\"area\",\"sizeref\":0.095,\"symbol\":\"circle\"},\"mode\":\"markers\",\"name\":\"BNY Mellon\",\"orientation\":\"v\",\"showlegend\":true,\"x\":[\"BNY Mellon\",\"BNY Mellon\"],\"xaxis\":\"x\",\"y\":[2,2],\"yaxis\":\"y\",\"type\":\"scatter\"},{\"hovertemplate\":\"company_name=%{x}<br>company_name_count=%{marker.size}<extra></extra>\",\"legendgroup\":\"Jump Crypto\",\"marker\":{\"color\":\"#EF553B\",\"size\":[1],\"sizemode\":\"area\",\"sizeref\":0.095,\"symbol\":\"circle\"},\"mode\":\"markers\",\"name\":\"Jump Crypto\",\"orientation\":\"v\",\"showlegend\":true,\"x\":[\"Jump Crypto\"],\"xaxis\":\"x\",\"y\":[1],\"yaxis\":\"y\",\"type\":\"scatter\"},{\"hovertemplate\":\"company_name=%{x}<br>company_name_count=%{marker.size}<extra></extra>\",\"legendgroup\":\"Snickerdoodle Labs\",\"marker\":{\"color\":\"#00cc96\",\"size\":[1],\"sizemode\":\"area\",\"sizeref\":0.095,\"symbol\":\"circle\"},\"mode\":\"markers\",\"name\":\"Snickerdoodle Labs\",\"orientation\":\"v\",\"showlegend\":true,\"x\":[\"Snickerdoodle Labs\"],\"xaxis\":\"x\",\"y\":[1],\"yaxis\":\"y\",\"type\":\"scatter\"},{\"hovertemplate\":\"company_name=%{x}<br>company_name_count=%{marker.size}<extra></extra>\",\"legendgroup\":\"Allium\",\"marker\":{\"color\":\"#ab63fa\",\"size\":[1],\"sizemode\":\"area\",\"sizeref\":0.095,\"symbol\":\"circle\"},\"mode\":\"markers\",\"name\":\"Allium\",\"orientation\":\"v\",\"showlegend\":true,\"x\":[\"Allium\"],\"xaxis\":\"x\",\"y\":[1],\"yaxis\":\"y\",\"type\":\"scatter\"},{\"hovertemplate\":\"company_name=%{x}<br>company_name_count=%{marker.size}<extra></extra>\",\"legendgroup\":\"Analog\",\"marker\":{\"color\":\"#FFA15A\",\"size\":[1],\"sizemode\":\"area\",\"sizeref\":0.095,\"symbol\":\"circle\"},\"mode\":\"markers\",\"name\":\"Analog\",\"orientation\":\"v\",\"showlegend\":true,\"x\":[\"Analog\"],\"xaxis\":\"x\",\"y\":[1],\"yaxis\":\"y\",\"type\":\"scatter\"},{\"hovertemplate\":\"company_name=%{x}<br>company_name_count=%{marker.size}<extra></extra>\",\"legendgroup\":\"Fintech Recruiters\",\"marker\":{\"color\":\"#19d3f3\",\"size\":[1],\"sizemode\":\"area\",\"sizeref\":0.095,\"symbol\":\"circle\"},\"mode\":\"markers\",\"name\":\"Fintech Recruiters\",\"orientation\":\"v\",\"showlegend\":true,\"x\":[\"Fintech Recruiters\"],\"xaxis\":\"x\",\"y\":[1],\"yaxis\":\"y\",\"type\":\"scatter\"},{\"hovertemplate\":\"company_name=%{x}<br>company_name_count=%{marker.size}<extra></extra>\",\"legendgroup\":\"ZetaChain\",\"marker\":{\"color\":\"#FF6692\",\"size\":[1],\"sizemode\":\"area\",\"sizeref\":0.095,\"symbol\":\"circle\"},\"mode\":\"markers\",\"name\":\"ZetaChain\",\"orientation\":\"v\",\"showlegend\":true,\"x\":[\"ZetaChain\"],\"xaxis\":\"x\",\"y\":[1],\"yaxis\":\"y\",\"type\":\"scatter\"},{\"hovertemplate\":\"company_name=%{x}<br>company_name_count=%{marker.size}<extra></extra>\",\"legendgroup\":\"Provenance Blockchain Foundation\",\"marker\":{\"color\":\"#B6E880\",\"size\":[1],\"sizemode\":\"area\",\"sizeref\":0.095,\"symbol\":\"circle\"},\"mode\":\"markers\",\"name\":\"Provenance Blockchain Foundation\",\"orientation\":\"v\",\"showlegend\":true,\"x\":[\"Provenance Blockchain Foundation\"],\"xaxis\":\"x\",\"y\":[1],\"yaxis\":\"y\",\"type\":\"scatter\"},{\"hovertemplate\":\"company_name=%{x}<br>company_name_count=%{marker.size}<extra></extra>\",\"legendgroup\":\"Tala\",\"marker\":{\"color\":\"#FF97FF\",\"size\":[1],\"sizemode\":\"area\",\"sizeref\":0.095,\"symbol\":\"circle\"},\"mode\":\"markers\",\"name\":\"Tala\",\"orientation\":\"v\",\"showlegend\":true,\"x\":[\"Tala\"],\"xaxis\":\"x\",\"y\":[1],\"yaxis\":\"y\",\"type\":\"scatter\"},{\"hovertemplate\":\"company_name=%{x}<br>company_name_count=%{marker.size}<extra></extra>\",\"legendgroup\":\"Meetup\",\"marker\":{\"color\":\"#FECB52\",\"size\":[1],\"sizemode\":\"area\",\"sizeref\":0.095,\"symbol\":\"circle\"},\"mode\":\"markers\",\"name\":\"Meetup\",\"orientation\":\"v\",\"showlegend\":true,\"x\":[\"Meetup\"],\"xaxis\":\"x\",\"y\":[1],\"yaxis\":\"y\",\"type\":\"scatter\"},{\"hovertemplate\":\"company_name=%{x}<br>company_name_count=%{marker.size}<extra></extra>\",\"legendgroup\":\"Docugami\",\"marker\":{\"color\":\"#636efa\",\"size\":[1],\"sizemode\":\"area\",\"sizeref\":0.095,\"symbol\":\"circle\"},\"mode\":\"markers\",\"name\":\"Docugami\",\"orientation\":\"v\",\"showlegend\":true,\"x\":[\"Docugami\"],\"xaxis\":\"x\",\"y\":[1],\"yaxis\":\"y\",\"type\":\"scatter\"},{\"hovertemplate\":\"company_name=%{x}<br>company_name_count=%{marker.size}<extra></extra>\",\"legendgroup\":\"Warner Bros. Discovery\",\"marker\":{\"color\":\"#EF553B\",\"size\":[1],\"sizemode\":\"area\",\"sizeref\":0.095,\"symbol\":\"circle\"},\"mode\":\"markers\",\"name\":\"Warner Bros. Discovery\",\"orientation\":\"v\",\"showlegend\":true,\"x\":[\"Warner Bros. Discovery\"],\"xaxis\":\"x\",\"y\":[1],\"yaxis\":\"y\",\"type\":\"scatter\"},{\"hovertemplate\":\"company_name=%{x}<br>company_name_count=%{marker.size}<extra></extra>\",\"legendgroup\":\"Hopper\",\"marker\":{\"color\":\"#00cc96\",\"size\":[1],\"sizemode\":\"area\",\"sizeref\":0.095,\"symbol\":\"circle\"},\"mode\":\"markers\",\"name\":\"Hopper\",\"orientation\":\"v\",\"showlegend\":true,\"x\":[\"Hopper\"],\"xaxis\":\"x\",\"y\":[1],\"yaxis\":\"y\",\"type\":\"scatter\"},{\"hovertemplate\":\"company_name=%{x}<br>company_name_count=%{marker.size}<extra></extra>\",\"legendgroup\":\"L3Harris\",\"marker\":{\"color\":\"#ab63fa\",\"size\":[1],\"sizemode\":\"area\",\"sizeref\":0.095,\"symbol\":\"circle\"},\"mode\":\"markers\",\"name\":\"L3Harris\",\"orientation\":\"v\",\"showlegend\":true,\"x\":[\"L3Harris\"],\"xaxis\":\"x\",\"y\":[1],\"yaxis\":\"y\",\"type\":\"scatter\"},{\"hovertemplate\":\"company_name=%{x}<br>company_name_count=%{marker.size}<extra></extra>\",\"legendgroup\":\"Lafayette Federal Credit Union\",\"marker\":{\"color\":\"#FFA15A\",\"size\":[1],\"sizemode\":\"area\",\"sizeref\":0.095,\"symbol\":\"circle\"},\"mode\":\"markers\",\"name\":\"Lafayette Federal Credit Union\",\"orientation\":\"v\",\"showlegend\":true,\"x\":[\"Lafayette Federal Credit Union\"],\"xaxis\":\"x\",\"y\":[1],\"yaxis\":\"y\",\"type\":\"scatter\"},{\"hovertemplate\":\"company_name=%{x}<br>company_name_count=%{marker.size}<extra></extra>\",\"legendgroup\":\"The Lancet\",\"marker\":{\"color\":\"#19d3f3\",\"size\":[1],\"sizemode\":\"area\",\"sizeref\":0.095,\"symbol\":\"circle\"},\"mode\":\"markers\",\"name\":\"The Lancet\",\"orientation\":\"v\",\"showlegend\":true,\"x\":[\"The Lancet\"],\"xaxis\":\"x\",\"y\":[1],\"yaxis\":\"y\",\"type\":\"scatter\"},{\"hovertemplate\":\"company_name=%{x}<br>company_name_count=%{marker.size}<extra></extra>\",\"legendgroup\":\"Cinteot\",\"marker\":{\"color\":\"#FF6692\",\"size\":[1],\"sizemode\":\"area\",\"sizeref\":0.095,\"symbol\":\"circle\"},\"mode\":\"markers\",\"name\":\"Cinteot\",\"orientation\":\"v\",\"showlegend\":true,\"x\":[\"Cinteot\"],\"xaxis\":\"x\",\"y\":[1],\"yaxis\":\"y\",\"type\":\"scatter\"},{\"hovertemplate\":\"company_name=%{x}<br>company_name_count=%{marker.size}<extra></extra>\",\"legendgroup\":\"Apex Systems\",\"marker\":{\"color\":\"#B6E880\",\"size\":[1],\"sizemode\":\"area\",\"sizeref\":0.095,\"symbol\":\"circle\"},\"mode\":\"markers\",\"name\":\"Apex Systems\",\"orientation\":\"v\",\"showlegend\":true,\"x\":[\"Apex Systems\"],\"xaxis\":\"x\",\"y\":[1],\"yaxis\":\"y\",\"type\":\"scatter\"},{\"hovertemplate\":\"company_name=%{x}<br>company_name_count=%{marker.size}<extra></extra>\",\"legendgroup\":\"Bering Straits Native Corporation (BSNC)\",\"marker\":{\"color\":\"#FF97FF\",\"size\":[1],\"sizemode\":\"area\",\"sizeref\":0.095,\"symbol\":\"circle\"},\"mode\":\"markers\",\"name\":\"Bering Straits Native Corporation (BSNC)\",\"orientation\":\"v\",\"showlegend\":true,\"x\":[\"Bering Straits Native Corporation (BSNC)\"],\"xaxis\":\"x\",\"y\":[1],\"yaxis\":\"y\",\"type\":\"scatter\"},{\"hovertemplate\":\"company_name=%{x}<br>company_name_count=%{marker.size}<extra></extra>\",\"legendgroup\":\"International Logic Systems, Inc.\",\"marker\":{\"color\":\"#FECB52\",\"size\":[1],\"sizemode\":\"area\",\"sizeref\":0.095,\"symbol\":\"circle\"},\"mode\":\"markers\",\"name\":\"International Logic Systems, Inc.\",\"orientation\":\"v\",\"showlegend\":true,\"x\":[\"International Logic Systems, Inc.\"],\"xaxis\":\"x\",\"y\":[1],\"yaxis\":\"y\",\"type\":\"scatter\"},{\"hovertemplate\":\"company_name=%{x}<br>company_name_count=%{marker.size}<extra></extra>\",\"legendgroup\":\"CACI\",\"marker\":{\"color\":\"#636efa\",\"size\":[2,2],\"sizemode\":\"area\",\"sizeref\":0.095,\"symbol\":\"circle\"},\"mode\":\"markers\",\"name\":\"CACI\",\"orientation\":\"v\",\"showlegend\":true,\"x\":[\"CACI\",\"CACI\"],\"xaxis\":\"x\",\"y\":[2,2],\"yaxis\":\"y\",\"type\":\"scatter\"},{\"hovertemplate\":\"company_name=%{x}<br>company_name_count=%{marker.size}<extra></extra>\",\"legendgroup\":\"Limitless Talent Solutions\",\"marker\":{\"color\":\"#EF553B\",\"size\":[1],\"sizemode\":\"area\",\"sizeref\":0.095,\"symbol\":\"circle\"},\"mode\":\"markers\",\"name\":\"Limitless Talent Solutions\",\"orientation\":\"v\",\"showlegend\":true,\"x\":[\"Limitless Talent Solutions\"],\"xaxis\":\"x\",\"y\":[1],\"yaxis\":\"y\",\"type\":\"scatter\"},{\"hovertemplate\":\"company_name=%{x}<br>company_name_count=%{marker.size}<extra></extra>\",\"legendgroup\":\"Raytheon Technologies\",\"marker\":{\"color\":\"#00cc96\",\"size\":[2,2],\"sizemode\":\"area\",\"sizeref\":0.095,\"symbol\":\"circle\"},\"mode\":\"markers\",\"name\":\"Raytheon Technologies\",\"orientation\":\"v\",\"showlegend\":true,\"x\":[\"Raytheon Technologies\",\"Raytheon Technologies\"],\"xaxis\":\"x\",\"y\":[2,2],\"yaxis\":\"y\",\"type\":\"scatter\"},{\"hovertemplate\":\"company_name=%{x}<br>company_name_count=%{marker.size}<extra></extra>\",\"legendgroup\":\"The DarkStar Group\",\"marker\":{\"color\":\"#ab63fa\",\"size\":[1],\"sizemode\":\"area\",\"sizeref\":0.095,\"symbol\":\"circle\"},\"mode\":\"markers\",\"name\":\"The DarkStar Group\",\"orientation\":\"v\",\"showlegend\":true,\"x\":[\"The DarkStar Group\"],\"xaxis\":\"x\",\"y\":[1],\"yaxis\":\"y\",\"type\":\"scatter\"},{\"hovertemplate\":\"company_name=%{x}<br>company_name_count=%{marker.size}<extra></extra>\",\"legendgroup\":\"360 IT Professionals\",\"marker\":{\"color\":\"#FFA15A\",\"size\":[1],\"sizemode\":\"area\",\"sizeref\":0.095,\"symbol\":\"circle\"},\"mode\":\"markers\",\"name\":\"360 IT Professionals\",\"orientation\":\"v\",\"showlegend\":true,\"x\":[\"360 IT Professionals\"],\"xaxis\":\"x\",\"y\":[1],\"yaxis\":\"y\",\"type\":\"scatter\"},{\"hovertemplate\":\"company_name=%{x}<br>company_name_count=%{marker.size}<extra></extra>\",\"legendgroup\":\"Johnson Technology Systems Inc.\",\"marker\":{\"color\":\"#19d3f3\",\"size\":[1],\"sizemode\":\"area\",\"sizeref\":0.095,\"symbol\":\"circle\"},\"mode\":\"markers\",\"name\":\"Johnson Technology Systems Inc.\",\"orientation\":\"v\",\"showlegend\":true,\"x\":[\"Johnson Technology Systems Inc.\"],\"xaxis\":\"x\",\"y\":[1],\"yaxis\":\"y\",\"type\":\"scatter\"},{\"hovertemplate\":\"company_name=%{x}<br>company_name_count=%{marker.size}<extra></extra>\",\"legendgroup\":\"Applied Information Sciences\",\"marker\":{\"color\":\"#FF6692\",\"size\":[1],\"sizemode\":\"area\",\"sizeref\":0.095,\"symbol\":\"circle\"},\"mode\":\"markers\",\"name\":\"Applied Information Sciences\",\"orientation\":\"v\",\"showlegend\":true,\"x\":[\"Applied Information Sciences\"],\"xaxis\":\"x\",\"y\":[1],\"yaxis\":\"y\",\"type\":\"scatter\"},{\"hovertemplate\":\"company_name=%{x}<br>company_name_count=%{marker.size}<extra></extra>\",\"legendgroup\":\"inforeliance\",\"marker\":{\"color\":\"#B6E880\",\"size\":[1],\"sizemode\":\"area\",\"sizeref\":0.095,\"symbol\":\"circle\"},\"mode\":\"markers\",\"name\":\"inforeliance\",\"orientation\":\"v\",\"showlegend\":true,\"x\":[\"inforeliance\"],\"xaxis\":\"x\",\"y\":[1],\"yaxis\":\"y\",\"type\":\"scatter\"},{\"hovertemplate\":\"company_name=%{x}<br>company_name_count=%{marker.size}<extra></extra>\",\"legendgroup\":\"WayUp\",\"marker\":{\"color\":\"#FF97FF\",\"size\":[2,2],\"sizemode\":\"area\",\"sizeref\":0.095,\"symbol\":\"circle\"},\"mode\":\"markers\",\"name\":\"WayUp\",\"orientation\":\"v\",\"showlegend\":true,\"x\":[\"WayUp\",\"WayUp\"],\"xaxis\":\"x\",\"y\":[2,2],\"yaxis\":\"y\",\"type\":\"scatter\"},{\"hovertemplate\":\"company_name=%{x}<br>company_name_count=%{marker.size}<extra></extra>\",\"legendgroup\":\"PerunHR\",\"marker\":{\"color\":\"#FECB52\",\"size\":[1],\"sizemode\":\"area\",\"sizeref\":0.095,\"symbol\":\"circle\"},\"mode\":\"markers\",\"name\":\"PerunHR\",\"orientation\":\"v\",\"showlegend\":true,\"x\":[\"PerunHR\"],\"xaxis\":\"x\",\"y\":[1],\"yaxis\":\"y\",\"type\":\"scatter\"},{\"hovertemplate\":\"company_name=%{x}<br>company_name_count=%{marker.size}<extra></extra>\",\"legendgroup\":\"Genesis10\",\"marker\":{\"color\":\"#636efa\",\"size\":[1],\"sizemode\":\"area\",\"sizeref\":0.095,\"symbol\":\"circle\"},\"mode\":\"markers\",\"name\":\"Genesis10\",\"orientation\":\"v\",\"showlegend\":true,\"x\":[\"Genesis10\"],\"xaxis\":\"x\",\"y\":[1],\"yaxis\":\"y\",\"type\":\"scatter\"},{\"hovertemplate\":\"company_name=%{x}<br>company_name_count=%{marker.size}<extra></extra>\",\"legendgroup\":\"Serco North America\",\"marker\":{\"color\":\"#EF553B\",\"size\":[1],\"sizemode\":\"area\",\"sizeref\":0.095,\"symbol\":\"circle\"},\"mode\":\"markers\",\"name\":\"Serco North America\",\"orientation\":\"v\",\"showlegend\":true,\"x\":[\"Serco North America\"],\"xaxis\":\"x\",\"y\":[1],\"yaxis\":\"y\",\"type\":\"scatter\"},{\"hovertemplate\":\"company_name=%{x}<br>company_name_count=%{marker.size}<extra></extra>\",\"legendgroup\":\"Datalab USA\",\"marker\":{\"color\":\"#00cc96\",\"size\":[1],\"sizemode\":\"area\",\"sizeref\":0.095,\"symbol\":\"circle\"},\"mode\":\"markers\",\"name\":\"Datalab USA\",\"orientation\":\"v\",\"showlegend\":true,\"x\":[\"Datalab USA\"],\"xaxis\":\"x\",\"y\":[1],\"yaxis\":\"y\",\"type\":\"scatter\"},{\"hovertemplate\":\"company_name=%{x}<br>company_name_count=%{marker.size}<extra></extra>\",\"legendgroup\":\"Beacon Building Products\",\"marker\":{\"color\":\"#ab63fa\",\"size\":[1],\"sizemode\":\"area\",\"sizeref\":0.095,\"symbol\":\"circle\"},\"mode\":\"markers\",\"name\":\"Beacon Building Products\",\"orientation\":\"v\",\"showlegend\":true,\"x\":[\"Beacon Building Products\"],\"xaxis\":\"x\",\"y\":[1],\"yaxis\":\"y\",\"type\":\"scatter\"},{\"hovertemplate\":\"company_name=%{x}<br>company_name_count=%{marker.size}<extra></extra>\",\"legendgroup\":\"LMI\",\"marker\":{\"color\":\"#FFA15A\",\"size\":[1],\"sizemode\":\"area\",\"sizeref\":0.095,\"symbol\":\"circle\"},\"mode\":\"markers\",\"name\":\"LMI\",\"orientation\":\"v\",\"showlegend\":true,\"x\":[\"LMI\"],\"xaxis\":\"x\",\"y\":[1],\"yaxis\":\"y\",\"type\":\"scatter\"},{\"hovertemplate\":\"company_name=%{x}<br>company_name_count=%{marker.size}<extra></extra>\",\"legendgroup\":\"ASHLIN Management Group, Inc.\",\"marker\":{\"color\":\"#19d3f3\",\"size\":[1],\"sizemode\":\"area\",\"sizeref\":0.095,\"symbol\":\"circle\"},\"mode\":\"markers\",\"name\":\"ASHLIN Management Group, Inc.\",\"orientation\":\"v\",\"showlegend\":true,\"x\":[\"ASHLIN Management Group, Inc.\"],\"xaxis\":\"x\",\"y\":[1],\"yaxis\":\"y\",\"type\":\"scatter\"},{\"hovertemplate\":\"company_name=%{x}<br>company_name_count=%{marker.size}<extra></extra>\",\"legendgroup\":\"K12 Inc\",\"marker\":{\"color\":\"#FF6692\",\"size\":[1],\"sizemode\":\"area\",\"sizeref\":0.095,\"symbol\":\"circle\"},\"mode\":\"markers\",\"name\":\"K12 Inc\",\"orientation\":\"v\",\"showlegend\":true,\"x\":[\"K12 Inc\"],\"xaxis\":\"x\",\"y\":[1],\"yaxis\":\"y\",\"type\":\"scatter\"},{\"hovertemplate\":\"company_name=%{x}<br>company_name_count=%{marker.size}<extra></extra>\",\"legendgroup\":\"Simplebet\",\"marker\":{\"color\":\"#B6E880\",\"size\":[1],\"sizemode\":\"area\",\"sizeref\":0.095,\"symbol\":\"circle\"},\"mode\":\"markers\",\"name\":\"Simplebet\",\"orientation\":\"v\",\"showlegend\":true,\"x\":[\"Simplebet\"],\"xaxis\":\"x\",\"y\":[1],\"yaxis\":\"y\",\"type\":\"scatter\"},{\"hovertemplate\":\"company_name=%{x}<br>company_name_count=%{marker.size}<extra></extra>\",\"legendgroup\":\"Iterative Health\",\"marker\":{\"color\":\"#FF97FF\",\"size\":[4,4,4,4],\"sizemode\":\"area\",\"sizeref\":0.095,\"symbol\":\"circle\"},\"mode\":\"markers\",\"name\":\"Iterative Health\",\"orientation\":\"v\",\"showlegend\":true,\"x\":[\"Iterative Health\",\"Iterative Health\",\"Iterative Health\",\"Iterative Health\"],\"xaxis\":\"x\",\"y\":[4,4,4,4],\"yaxis\":\"y\",\"type\":\"scatter\"},{\"hovertemplate\":\"company_name=%{x}<br>company_name_count=%{marker.size}<extra></extra>\",\"legendgroup\":\"Fable\",\"marker\":{\"color\":\"#FECB52\",\"size\":[1],\"sizemode\":\"area\",\"sizeref\":0.095,\"symbol\":\"circle\"},\"mode\":\"markers\",\"name\":\"Fable\",\"orientation\":\"v\",\"showlegend\":true,\"x\":[\"Fable\"],\"xaxis\":\"x\",\"y\":[1],\"yaxis\":\"y\",\"type\":\"scatter\"},{\"hovertemplate\":\"company_name=%{x}<br>company_name_count=%{marker.size}<extra></extra>\",\"legendgroup\":\"Chime\",\"marker\":{\"color\":\"#636efa\",\"size\":[1],\"sizemode\":\"area\",\"sizeref\":0.095,\"symbol\":\"circle\"},\"mode\":\"markers\",\"name\":\"Chime\",\"orientation\":\"v\",\"showlegend\":true,\"x\":[\"Chime\"],\"xaxis\":\"x\",\"y\":[1],\"yaxis\":\"y\",\"type\":\"scatter\"},{\"hovertemplate\":\"company_name=%{x}<br>company_name_count=%{marker.size}<extra></extra>\",\"legendgroup\":\"DoorDash\",\"marker\":{\"color\":\"#EF553B\",\"size\":[1],\"sizemode\":\"area\",\"sizeref\":0.095,\"symbol\":\"circle\"},\"mode\":\"markers\",\"name\":\"DoorDash\",\"orientation\":\"v\",\"showlegend\":true,\"x\":[\"DoorDash\"],\"xaxis\":\"x\",\"y\":[1],\"yaxis\":\"y\",\"type\":\"scatter\"},{\"hovertemplate\":\"company_name=%{x}<br>company_name_count=%{marker.size}<extra></extra>\",\"legendgroup\":\"Protochain Research\",\"marker\":{\"color\":\"#00cc96\",\"size\":[1],\"sizemode\":\"area\",\"sizeref\":0.095,\"symbol\":\"circle\"},\"mode\":\"markers\",\"name\":\"Protochain Research\",\"orientation\":\"v\",\"showlegend\":true,\"x\":[\"Protochain Research\"],\"xaxis\":\"x\",\"y\":[1],\"yaxis\":\"y\",\"type\":\"scatter\"},{\"hovertemplate\":\"company_name=%{x}<br>company_name_count=%{marker.size}<extra></extra>\",\"legendgroup\":\"DoraHacks\",\"marker\":{\"color\":\"#ab63fa\",\"size\":[1],\"sizemode\":\"area\",\"sizeref\":0.095,\"symbol\":\"circle\"},\"mode\":\"markers\",\"name\":\"DoraHacks\",\"orientation\":\"v\",\"showlegend\":true,\"x\":[\"DoraHacks\"],\"xaxis\":\"x\",\"y\":[1],\"yaxis\":\"y\",\"type\":\"scatter\"},{\"hovertemplate\":\"company_name=%{x}<br>company_name_count=%{marker.size}<extra></extra>\",\"legendgroup\":\"Kraken Digital Asset Exchange\",\"marker\":{\"color\":\"#FFA15A\",\"size\":[1],\"sizemode\":\"area\",\"sizeref\":0.095,\"symbol\":\"circle\"},\"mode\":\"markers\",\"name\":\"Kraken Digital Asset Exchange\",\"orientation\":\"v\",\"showlegend\":true,\"x\":[\"Kraken Digital Asset Exchange\"],\"xaxis\":\"x\",\"y\":[1],\"yaxis\":\"y\",\"type\":\"scatter\"},{\"hovertemplate\":\"company_name=%{x}<br>company_name_count=%{marker.size}<extra></extra>\",\"legendgroup\":\"Aptos\",\"marker\":{\"color\":\"#19d3f3\",\"size\":[1],\"sizemode\":\"area\",\"sizeref\":0.095,\"symbol\":\"circle\"},\"mode\":\"markers\",\"name\":\"Aptos\",\"orientation\":\"v\",\"showlegend\":true,\"x\":[\"Aptos\"],\"xaxis\":\"x\",\"y\":[1],\"yaxis\":\"y\",\"type\":\"scatter\"},{\"hovertemplate\":\"company_name=%{x}<br>company_name_count=%{marker.size}<extra></extra>\",\"legendgroup\":\"DCryptoTools\",\"marker\":{\"color\":\"#FF6692\",\"size\":[1],\"sizemode\":\"area\",\"sizeref\":0.095,\"symbol\":\"circle\"},\"mode\":\"markers\",\"name\":\"DCryptoTools\",\"orientation\":\"v\",\"showlegend\":true,\"x\":[\"DCryptoTools\"],\"xaxis\":\"x\",\"y\":[1],\"yaxis\":\"y\",\"type\":\"scatter\"},{\"hovertemplate\":\"company_name=%{x}<br>company_name_count=%{marker.size}<extra></extra>\",\"legendgroup\":\"Fidelity Investments Careers\",\"marker\":{\"color\":\"#B6E880\",\"size\":[1],\"sizemode\":\"area\",\"sizeref\":0.095,\"symbol\":\"circle\"},\"mode\":\"markers\",\"name\":\"Fidelity Investments Careers\",\"orientation\":\"v\",\"showlegend\":true,\"x\":[\"Fidelity Investments Careers\"],\"xaxis\":\"x\",\"y\":[1],\"yaxis\":\"y\",\"type\":\"scatter\"},{\"hovertemplate\":\"company_name=%{x}<br>company_name_count=%{marker.size}<extra></extra>\",\"legendgroup\":\"FuseMachines\",\"marker\":{\"color\":\"#FF97FF\",\"size\":[2,2],\"sizemode\":\"area\",\"sizeref\":0.095,\"symbol\":\"circle\"},\"mode\":\"markers\",\"name\":\"FuseMachines\",\"orientation\":\"v\",\"showlegend\":true,\"x\":[\"FuseMachines\",\"FuseMachines\"],\"xaxis\":\"x\",\"y\":[2,2],\"yaxis\":\"y\",\"type\":\"scatter\"},{\"hovertemplate\":\"company_name=%{x}<br>company_name_count=%{marker.size}<extra></extra>\",\"legendgroup\":\"Turing Talent\",\"marker\":{\"color\":\"#FECB52\",\"size\":[1],\"sizemode\":\"area\",\"sizeref\":0.095,\"symbol\":\"circle\"},\"mode\":\"markers\",\"name\":\"Turing Talent\",\"orientation\":\"v\",\"showlegend\":true,\"x\":[\"Turing Talent\"],\"xaxis\":\"x\",\"y\":[1],\"yaxis\":\"y\",\"type\":\"scatter\"},{\"hovertemplate\":\"company_name=%{x}<br>company_name_count=%{marker.size}<extra></extra>\",\"legendgroup\":\"NANOTRONICS IMAGING INC\",\"marker\":{\"color\":\"#636efa\",\"size\":[1],\"sizemode\":\"area\",\"sizeref\":0.095,\"symbol\":\"circle\"},\"mode\":\"markers\",\"name\":\"NANOTRONICS IMAGING INC\",\"orientation\":\"v\",\"showlegend\":true,\"x\":[\"NANOTRONICS IMAGING INC\"],\"xaxis\":\"x\",\"y\":[1],\"yaxis\":\"y\",\"type\":\"scatter\"},{\"hovertemplate\":\"company_name=%{x}<br>company_name_count=%{marker.size}<extra></extra>\",\"legendgroup\":\"Toyota Research Institute\",\"marker\":{\"color\":\"#EF553B\",\"size\":[1],\"sizemode\":\"area\",\"sizeref\":0.095,\"symbol\":\"circle\"},\"mode\":\"markers\",\"name\":\"Toyota Research Institute\",\"orientation\":\"v\",\"showlegend\":true,\"x\":[\"Toyota Research Institute\"],\"xaxis\":\"x\",\"y\":[1],\"yaxis\":\"y\",\"type\":\"scatter\"},{\"hovertemplate\":\"company_name=%{x}<br>company_name_count=%{marker.size}<extra></extra>\",\"legendgroup\":\"Tencent Americas\",\"marker\":{\"color\":\"#00cc96\",\"size\":[2,2],\"sizemode\":\"area\",\"sizeref\":0.095,\"symbol\":\"circle\"},\"mode\":\"markers\",\"name\":\"Tencent Americas\",\"orientation\":\"v\",\"showlegend\":true,\"x\":[\"Tencent Americas\",\"Tencent Americas\"],\"xaxis\":\"x\",\"y\":[2,2],\"yaxis\":\"y\",\"type\":\"scatter\"},{\"hovertemplate\":\"company_name=%{x}<br>company_name_count=%{marker.size}<extra></extra>\",\"legendgroup\":\"Federal Reserve Bank (FRB)\",\"marker\":{\"color\":\"#ab63fa\",\"size\":[1],\"sizemode\":\"area\",\"sizeref\":0.095,\"symbol\":\"circle\"},\"mode\":\"markers\",\"name\":\"Federal Reserve Bank (FRB)\",\"orientation\":\"v\",\"showlegend\":true,\"x\":[\"Federal Reserve Bank (FRB)\"],\"xaxis\":\"x\",\"y\":[1],\"yaxis\":\"y\",\"type\":\"scatter\"},{\"hovertemplate\":\"company_name=%{x}<br>company_name_count=%{marker.size}<extra></extra>\",\"legendgroup\":\"Truist\",\"marker\":{\"color\":\"#FFA15A\",\"size\":[1],\"sizemode\":\"area\",\"sizeref\":0.095,\"symbol\":\"circle\"},\"mode\":\"markers\",\"name\":\"Truist\",\"orientation\":\"v\",\"showlegend\":true,\"x\":[\"Truist\"],\"xaxis\":\"x\",\"y\":[1],\"yaxis\":\"y\",\"type\":\"scatter\"},{\"hovertemplate\":\"company_name=%{x}<br>company_name_count=%{marker.size}<extra></extra>\",\"legendgroup\":\"geojam\",\"marker\":{\"color\":\"#19d3f3\",\"size\":[1],\"sizemode\":\"area\",\"sizeref\":0.095,\"symbol\":\"circle\"},\"mode\":\"markers\",\"name\":\"geojam\",\"orientation\":\"v\",\"showlegend\":true,\"x\":[\"geojam\"],\"xaxis\":\"x\",\"y\":[1],\"yaxis\":\"y\",\"type\":\"scatter\"},{\"hovertemplate\":\"company_name=%{x}<br>company_name_count=%{marker.size}<extra></extra>\",\"legendgroup\":\"Exodus\",\"marker\":{\"color\":\"#FF6692\",\"size\":[1],\"sizemode\":\"area\",\"sizeref\":0.095,\"symbol\":\"circle\"},\"mode\":\"markers\",\"name\":\"Exodus\",\"orientation\":\"v\",\"showlegend\":true,\"x\":[\"Exodus\"],\"xaxis\":\"x\",\"y\":[1],\"yaxis\":\"y\",\"type\":\"scatter\"},{\"hovertemplate\":\"company_name=%{x}<br>company_name_count=%{marker.size}<extra></extra>\",\"legendgroup\":\"EY\",\"marker\":{\"color\":\"#B6E880\",\"size\":[1],\"sizemode\":\"area\",\"sizeref\":0.095,\"symbol\":\"circle\"},\"mode\":\"markers\",\"name\":\"EY\",\"orientation\":\"v\",\"showlegend\":true,\"x\":[\"EY\"],\"xaxis\":\"x\",\"y\":[1],\"yaxis\":\"y\",\"type\":\"scatter\"},{\"hovertemplate\":\"company_name=%{x}<br>company_name_count=%{marker.size}<extra></extra>\",\"legendgroup\":\"Software Technology Inc.\",\"marker\":{\"color\":\"#FF97FF\",\"size\":[1],\"sizemode\":\"area\",\"sizeref\":0.095,\"symbol\":\"circle\"},\"mode\":\"markers\",\"name\":\"Software Technology Inc.\",\"orientation\":\"v\",\"showlegend\":true,\"x\":[\"Software Technology Inc.\"],\"xaxis\":\"x\",\"y\":[1],\"yaxis\":\"y\",\"type\":\"scatter\"},{\"hovertemplate\":\"company_name=%{x}<br>company_name_count=%{marker.size}<extra></extra>\",\"legendgroup\":\"MCKESSON\",\"marker\":{\"color\":\"#FECB52\",\"size\":[1],\"sizemode\":\"area\",\"sizeref\":0.095,\"symbol\":\"circle\"},\"mode\":\"markers\",\"name\":\"MCKESSON\",\"orientation\":\"v\",\"showlegend\":true,\"x\":[\"MCKESSON\"],\"xaxis\":\"x\",\"y\":[1],\"yaxis\":\"y\",\"type\":\"scatter\"},{\"hovertemplate\":\"company_name=%{x}<br>company_name_count=%{marker.size}<extra></extra>\",\"legendgroup\":\"Northwestern Mutual\",\"marker\":{\"color\":\"#636efa\",\"size\":[1],\"sizemode\":\"area\",\"sizeref\":0.095,\"symbol\":\"circle\"},\"mode\":\"markers\",\"name\":\"Northwestern Mutual\",\"orientation\":\"v\",\"showlegend\":true,\"x\":[\"Northwestern Mutual\"],\"xaxis\":\"x\",\"y\":[1],\"yaxis\":\"y\",\"type\":\"scatter\"},{\"hovertemplate\":\"company_name=%{x}<br>company_name_count=%{marker.size}<extra></extra>\",\"legendgroup\":\"CHRISTUS Health\",\"marker\":{\"color\":\"#EF553B\",\"size\":[1],\"sizemode\":\"area\",\"sizeref\":0.095,\"symbol\":\"circle\"},\"mode\":\"markers\",\"name\":\"CHRISTUS Health\",\"orientation\":\"v\",\"showlegend\":true,\"x\":[\"CHRISTUS Health\"],\"xaxis\":\"x\",\"y\":[1],\"yaxis\":\"y\",\"type\":\"scatter\"},{\"hovertemplate\":\"company_name=%{x}<br>company_name_count=%{marker.size}<extra></extra>\",\"legendgroup\":\"7Z4 Pfizer, Inc.\",\"marker\":{\"color\":\"#00cc96\",\"size\":[1],\"sizemode\":\"area\",\"sizeref\":0.095,\"symbol\":\"circle\"},\"mode\":\"markers\",\"name\":\"7Z4 Pfizer, Inc.\",\"orientation\":\"v\",\"showlegend\":true,\"x\":[\"7Z4 Pfizer, Inc.\"],\"xaxis\":\"x\",\"y\":[1],\"yaxis\":\"y\",\"type\":\"scatter\"},{\"hovertemplate\":\"company_name=%{x}<br>company_name_count=%{marker.size}<extra></extra>\",\"legendgroup\":\"John Deere\",\"marker\":{\"color\":\"#ab63fa\",\"size\":[1],\"sizemode\":\"area\",\"sizeref\":0.095,\"symbol\":\"circle\"},\"mode\":\"markers\",\"name\":\"John Deere\",\"orientation\":\"v\",\"showlegend\":true,\"x\":[\"John Deere\"],\"xaxis\":\"x\",\"y\":[1],\"yaxis\":\"y\",\"type\":\"scatter\"},{\"hovertemplate\":\"company_name=%{x}<br>company_name_count=%{marker.size}<extra></extra>\",\"legendgroup\":\"Trustees of University of Pennsylvania\",\"marker\":{\"color\":\"#FFA15A\",\"size\":[1],\"sizemode\":\"area\",\"sizeref\":0.095,\"symbol\":\"circle\"},\"mode\":\"markers\",\"name\":\"Trustees of University of Pennsylvania\",\"orientation\":\"v\",\"showlegend\":true,\"x\":[\"Trustees of University of Pennsylvania\"],\"xaxis\":\"x\",\"y\":[1],\"yaxis\":\"y\",\"type\":\"scatter\"},{\"hovertemplate\":\"company_name=%{x}<br>company_name_count=%{marker.size}<extra></extra>\",\"legendgroup\":\"Explorium\",\"marker\":{\"color\":\"#19d3f3\",\"size\":[1],\"sizemode\":\"area\",\"sizeref\":0.095,\"symbol\":\"circle\"},\"mode\":\"markers\",\"name\":\"Explorium\",\"orientation\":\"v\",\"showlegend\":true,\"x\":[\"Explorium\"],\"xaxis\":\"x\",\"y\":[1],\"yaxis\":\"y\",\"type\":\"scatter\"},{\"hovertemplate\":\"company_name=%{x}<br>company_name_count=%{marker.size}<extra></extra>\",\"legendgroup\":\"CBRE\",\"marker\":{\"color\":\"#FF6692\",\"size\":[1],\"sizemode\":\"area\",\"sizeref\":0.095,\"symbol\":\"circle\"},\"mode\":\"markers\",\"name\":\"CBRE\",\"orientation\":\"v\",\"showlegend\":true,\"x\":[\"CBRE\"],\"xaxis\":\"x\",\"y\":[1],\"yaxis\":\"y\",\"type\":\"scatter\"},{\"hovertemplate\":\"company_name=%{x}<br>company_name_count=%{marker.size}<extra></extra>\",\"legendgroup\":\"Mars\",\"marker\":{\"color\":\"#B6E880\",\"size\":[1],\"sizemode\":\"area\",\"sizeref\":0.095,\"symbol\":\"circle\"},\"mode\":\"markers\",\"name\":\"Mars\",\"orientation\":\"v\",\"showlegend\":true,\"x\":[\"Mars\"],\"xaxis\":\"x\",\"y\":[1],\"yaxis\":\"y\",\"type\":\"scatter\"},{\"hovertemplate\":\"company_name=%{x}<br>company_name_count=%{marker.size}<extra></extra>\",\"legendgroup\":\"Parsons Corporation\",\"marker\":{\"color\":\"#FF97FF\",\"size\":[1],\"sizemode\":\"area\",\"sizeref\":0.095,\"symbol\":\"circle\"},\"mode\":\"markers\",\"name\":\"Parsons Corporation\",\"orientation\":\"v\",\"showlegend\":true,\"x\":[\"Parsons Corporation\"],\"xaxis\":\"x\",\"y\":[1],\"yaxis\":\"y\",\"type\":\"scatter\"},{\"hovertemplate\":\"company_name=%{x}<br>company_name_count=%{marker.size}<extra></extra>\",\"legendgroup\":\"MIT Lincoln Laboratory\",\"marker\":{\"color\":\"#FECB52\",\"size\":[1],\"sizemode\":\"area\",\"sizeref\":0.095,\"symbol\":\"circle\"},\"mode\":\"markers\",\"name\":\"MIT Lincoln Laboratory\",\"orientation\":\"v\",\"showlegend\":true,\"x\":[\"MIT Lincoln Laboratory\"],\"xaxis\":\"x\",\"y\":[1],\"yaxis\":\"y\",\"type\":\"scatter\"},{\"hovertemplate\":\"company_name=%{x}<br>company_name_count=%{marker.size}<extra></extra>\",\"legendgroup\":\"Block\",\"marker\":{\"color\":\"#636efa\",\"size\":[1],\"sizemode\":\"area\",\"sizeref\":0.095,\"symbol\":\"circle\"},\"mode\":\"markers\",\"name\":\"Block\",\"orientation\":\"v\",\"showlegend\":true,\"x\":[\"Block\"],\"xaxis\":\"x\",\"y\":[1],\"yaxis\":\"y\",\"type\":\"scatter\"},{\"hovertemplate\":\"company_name=%{x}<br>company_name_count=%{marker.size}<extra></extra>\",\"legendgroup\":\"Staples\",\"marker\":{\"color\":\"#EF553B\",\"size\":[1],\"sizemode\":\"area\",\"sizeref\":0.095,\"symbol\":\"circle\"},\"mode\":\"markers\",\"name\":\"Staples\",\"orientation\":\"v\",\"showlegend\":true,\"x\":[\"Staples\"],\"xaxis\":\"x\",\"y\":[1],\"yaxis\":\"y\",\"type\":\"scatter\"},{\"hovertemplate\":\"company_name=%{x}<br>company_name_count=%{marker.size}<extra></extra>\",\"legendgroup\":\"Teradyne\",\"marker\":{\"color\":\"#00cc96\",\"size\":[1],\"sizemode\":\"area\",\"sizeref\":0.095,\"symbol\":\"circle\"},\"mode\":\"markers\",\"name\":\"Teradyne\",\"orientation\":\"v\",\"showlegend\":true,\"x\":[\"Teradyne\"],\"xaxis\":\"x\",\"y\":[1],\"yaxis\":\"y\",\"type\":\"scatter\"},{\"hovertemplate\":\"company_name=%{x}<br>company_name_count=%{marker.size}<extra></extra>\",\"legendgroup\":\"Got It AI\",\"marker\":{\"color\":\"#ab63fa\",\"size\":[1],\"sizemode\":\"area\",\"sizeref\":0.095,\"symbol\":\"circle\"},\"mode\":\"markers\",\"name\":\"Got It AI\",\"orientation\":\"v\",\"showlegend\":true,\"x\":[\"Got It AI\"],\"xaxis\":\"x\",\"y\":[1],\"yaxis\":\"y\",\"type\":\"scatter\"},{\"hovertemplate\":\"company_name=%{x}<br>company_name_count=%{marker.size}<extra></extra>\",\"legendgroup\":\"HPE1US\",\"marker\":{\"color\":\"#FFA15A\",\"size\":[1],\"sizemode\":\"area\",\"sizeref\":0.095,\"symbol\":\"circle\"},\"mode\":\"markers\",\"name\":\"HPE1US\",\"orientation\":\"v\",\"showlegend\":true,\"x\":[\"HPE1US\"],\"xaxis\":\"x\",\"y\":[1],\"yaxis\":\"y\",\"type\":\"scatter\"},{\"hovertemplate\":\"company_name=%{x}<br>company_name_count=%{marker.size}<extra></extra>\",\"legendgroup\":\"Hewlett Packard Enterprise\",\"marker\":{\"color\":\"#19d3f3\",\"size\":[1],\"sizemode\":\"area\",\"sizeref\":0.095,\"symbol\":\"circle\"},\"mode\":\"markers\",\"name\":\"Hewlett Packard Enterprise\",\"orientation\":\"v\",\"showlegend\":true,\"x\":[\"Hewlett Packard Enterprise\"],\"xaxis\":\"x\",\"y\":[1],\"yaxis\":\"y\",\"type\":\"scatter\"},{\"hovertemplate\":\"company_name=%{x}<br>company_name_count=%{marker.size}<extra></extra>\",\"legendgroup\":\"Orion Consortium\",\"marker\":{\"color\":\"#FF6692\",\"size\":[1],\"sizemode\":\"area\",\"sizeref\":0.095,\"symbol\":\"circle\"},\"mode\":\"markers\",\"name\":\"Orion Consortium\",\"orientation\":\"v\",\"showlegend\":true,\"x\":[\"Orion Consortium\"],\"xaxis\":\"x\",\"y\":[1],\"yaxis\":\"y\",\"type\":\"scatter\"},{\"hovertemplate\":\"company_name=%{x}<br>company_name_count=%{marker.size}<extra></extra>\",\"legendgroup\":\"SSI\",\"marker\":{\"color\":\"#B6E880\",\"size\":[1],\"sizemode\":\"area\",\"sizeref\":0.095,\"symbol\":\"circle\"},\"mode\":\"markers\",\"name\":\"SSI\",\"orientation\":\"v\",\"showlegend\":true,\"x\":[\"SSI\"],\"xaxis\":\"x\",\"y\":[1],\"yaxis\":\"y\",\"type\":\"scatter\"},{\"hovertemplate\":\"company_name=%{x}<br>company_name_count=%{marker.size}<extra></extra>\",\"legendgroup\":\"Snowflake Computing\",\"marker\":{\"color\":\"#FF97FF\",\"size\":[1],\"sizemode\":\"area\",\"sizeref\":0.095,\"symbol\":\"circle\"},\"mode\":\"markers\",\"name\":\"Snowflake Computing\",\"orientation\":\"v\",\"showlegend\":true,\"x\":[\"Snowflake Computing\"],\"xaxis\":\"x\",\"y\":[1],\"yaxis\":\"y\",\"type\":\"scatter\"},{\"hovertemplate\":\"company_name=%{x}<br>company_name_count=%{marker.size}<extra></extra>\",\"legendgroup\":\"Base-2 Solutions, LLC\",\"marker\":{\"color\":\"#FECB52\",\"size\":[1],\"sizemode\":\"area\",\"sizeref\":0.095,\"symbol\":\"circle\"},\"mode\":\"markers\",\"name\":\"Base-2 Solutions, LLC\",\"orientation\":\"v\",\"showlegend\":true,\"x\":[\"Base-2 Solutions, LLC\"],\"xaxis\":\"x\",\"y\":[1],\"yaxis\":\"y\",\"type\":\"scatter\"},{\"hovertemplate\":\"company_name=%{x}<br>company_name_count=%{marker.size}<extra></extra>\",\"legendgroup\":\"Cargill\",\"marker\":{\"color\":\"#636efa\",\"size\":[1],\"sizemode\":\"area\",\"sizeref\":0.095,\"symbol\":\"circle\"},\"mode\":\"markers\",\"name\":\"Cargill\",\"orientation\":\"v\",\"showlegend\":true,\"x\":[\"Cargill\"],\"xaxis\":\"x\",\"y\":[1],\"yaxis\":\"y\",\"type\":\"scatter\"},{\"hovertemplate\":\"company_name=%{x}<br>company_name_count=%{marker.size}<extra></extra>\",\"legendgroup\":\"Rectangle Health\",\"marker\":{\"color\":\"#EF553B\",\"size\":[1],\"sizemode\":\"area\",\"sizeref\":0.095,\"symbol\":\"circle\"},\"mode\":\"markers\",\"name\":\"Rectangle Health\",\"orientation\":\"v\",\"showlegend\":true,\"x\":[\"Rectangle Health\"],\"xaxis\":\"x\",\"y\":[1],\"yaxis\":\"y\",\"type\":\"scatter\"},{\"hovertemplate\":\"company_name=%{x}<br>company_name_count=%{marker.size}<extra></extra>\",\"legendgroup\":\"Tendo Systems\",\"marker\":{\"color\":\"#00cc96\",\"size\":[1],\"sizemode\":\"area\",\"sizeref\":0.095,\"symbol\":\"circle\"},\"mode\":\"markers\",\"name\":\"Tendo Systems\",\"orientation\":\"v\",\"showlegend\":true,\"x\":[\"Tendo Systems\"],\"xaxis\":\"x\",\"y\":[1],\"yaxis\":\"y\",\"type\":\"scatter\"},{\"hovertemplate\":\"company_name=%{x}<br>company_name_count=%{marker.size}<extra></extra>\",\"legendgroup\":\"Walmart\",\"marker\":{\"color\":\"#ab63fa\",\"size\":[7,7,7,7,7,7,7],\"sizemode\":\"area\",\"sizeref\":0.095,\"symbol\":\"circle\"},\"mode\":\"markers\",\"name\":\"Walmart\",\"orientation\":\"v\",\"showlegend\":true,\"x\":[\"Walmart\",\"Walmart\",\"Walmart\",\"Walmart\",\"Walmart\",\"Walmart\",\"Walmart\"],\"xaxis\":\"x\",\"y\":[7,7,7,7,7,7,7],\"yaxis\":\"y\",\"type\":\"scatter\"},{\"hovertemplate\":\"company_name=%{x}<br>company_name_count=%{marker.size}<extra></extra>\",\"legendgroup\":\"Robert Half\",\"marker\":{\"color\":\"#FFA15A\",\"size\":[3,3,3],\"sizemode\":\"area\",\"sizeref\":0.095,\"symbol\":\"circle\"},\"mode\":\"markers\",\"name\":\"Robert Half\",\"orientation\":\"v\",\"showlegend\":true,\"x\":[\"Robert Half\",\"Robert Half\",\"Robert Half\"],\"xaxis\":\"x\",\"y\":[3,3,3],\"yaxis\":\"y\",\"type\":\"scatter\"},{\"hovertemplate\":\"company_name=%{x}<br>company_name_count=%{marker.size}<extra></extra>\",\"legendgroup\":\"Corporate\",\"marker\":{\"color\":\"#19d3f3\",\"size\":[2,2],\"sizemode\":\"area\",\"sizeref\":0.095,\"symbol\":\"circle\"},\"mode\":\"markers\",\"name\":\"Corporate\",\"orientation\":\"v\",\"showlegend\":true,\"x\":[\"Corporate\",\"Corporate\"],\"xaxis\":\"x\",\"y\":[2,2],\"yaxis\":\"y\",\"type\":\"scatter\"},{\"hovertemplate\":\"company_name=%{x}<br>company_name_count=%{marker.size}<extra></extra>\",\"legendgroup\":\"Aurora Solar\",\"marker\":{\"color\":\"#FF6692\",\"size\":[1],\"sizemode\":\"area\",\"sizeref\":0.095,\"symbol\":\"circle\"},\"mode\":\"markers\",\"name\":\"Aurora Solar\",\"orientation\":\"v\",\"showlegend\":true,\"x\":[\"Aurora Solar\"],\"xaxis\":\"x\",\"y\":[1],\"yaxis\":\"y\",\"type\":\"scatter\"},{\"hovertemplate\":\"company_name=%{x}<br>company_name_count=%{marker.size}<extra></extra>\",\"legendgroup\":\"CareSource\",\"marker\":{\"color\":\"#B6E880\",\"size\":[1],\"sizemode\":\"area\",\"sizeref\":0.095,\"symbol\":\"circle\"},\"mode\":\"markers\",\"name\":\"CareSource\",\"orientation\":\"v\",\"showlegend\":true,\"x\":[\"CareSource\"],\"xaxis\":\"x\",\"y\":[1],\"yaxis\":\"y\",\"type\":\"scatter\"},{\"hovertemplate\":\"company_name=%{x}<br>company_name_count=%{marker.size}<extra></extra>\",\"legendgroup\":\"Nebraska State Government\",\"marker\":{\"color\":\"#FF97FF\",\"size\":[1],\"sizemode\":\"area\",\"sizeref\":0.095,\"symbol\":\"circle\"},\"mode\":\"markers\",\"name\":\"Nebraska State Government\",\"orientation\":\"v\",\"showlegend\":true,\"x\":[\"Nebraska State Government\"],\"xaxis\":\"x\",\"y\":[1],\"yaxis\":\"y\",\"type\":\"scatter\"},{\"hovertemplate\":\"company_name=%{x}<br>company_name_count=%{marker.size}<extra></extra>\",\"legendgroup\":\"Informatica\",\"marker\":{\"color\":\"#FECB52\",\"size\":[2,2],\"sizemode\":\"area\",\"sizeref\":0.095,\"symbol\":\"circle\"},\"mode\":\"markers\",\"name\":\"Informatica\",\"orientation\":\"v\",\"showlegend\":true,\"x\":[\"Informatica\",\"Informatica\"],\"xaxis\":\"x\",\"y\":[2,2],\"yaxis\":\"y\",\"type\":\"scatter\"},{\"hovertemplate\":\"company_name=%{x}<br>company_name_count=%{marker.size}<extra></extra>\",\"legendgroup\":\"ServiceTitan\",\"marker\":{\"color\":\"#636efa\",\"size\":[1],\"sizemode\":\"area\",\"sizeref\":0.095,\"symbol\":\"circle\"},\"mode\":\"markers\",\"name\":\"ServiceTitan\",\"orientation\":\"v\",\"showlegend\":true,\"x\":[\"ServiceTitan\"],\"xaxis\":\"x\",\"y\":[1],\"yaxis\":\"y\",\"type\":\"scatter\"},{\"hovertemplate\":\"company_name=%{x}<br>company_name_count=%{marker.size}<extra></extra>\",\"legendgroup\":\"Capital One - US\",\"marker\":{\"color\":\"#EF553B\",\"size\":[1],\"sizemode\":\"area\",\"sizeref\":0.095,\"symbol\":\"circle\"},\"mode\":\"markers\",\"name\":\"Capital One - US\",\"orientation\":\"v\",\"showlegend\":true,\"x\":[\"Capital One - US\"],\"xaxis\":\"x\",\"y\":[1],\"yaxis\":\"y\",\"type\":\"scatter\"},{\"hovertemplate\":\"company_name=%{x}<br>company_name_count=%{marker.size}<extra></extra>\",\"legendgroup\":\"Barrington James\",\"marker\":{\"color\":\"#00cc96\",\"size\":[1],\"sizemode\":\"area\",\"sizeref\":0.095,\"symbol\":\"circle\"},\"mode\":\"markers\",\"name\":\"Barrington James\",\"orientation\":\"v\",\"showlegend\":true,\"x\":[\"Barrington James\"],\"xaxis\":\"x\",\"y\":[1],\"yaxis\":\"y\",\"type\":\"scatter\"},{\"hovertemplate\":\"company_name=%{x}<br>company_name_count=%{marker.size}<extra></extra>\",\"legendgroup\":\"Wells Fargo\",\"marker\":{\"color\":\"#ab63fa\",\"size\":[1],\"sizemode\":\"area\",\"sizeref\":0.095,\"symbol\":\"circle\"},\"mode\":\"markers\",\"name\":\"Wells Fargo\",\"orientation\":\"v\",\"showlegend\":true,\"x\":[\"Wells Fargo\"],\"xaxis\":\"x\",\"y\":[1],\"yaxis\":\"y\",\"type\":\"scatter\"},{\"hovertemplate\":\"company_name=%{x}<br>company_name_count=%{marker.size}<extra></extra>\",\"legendgroup\":\"Expedia Group\",\"marker\":{\"color\":\"#FFA15A\",\"size\":[1],\"sizemode\":\"area\",\"sizeref\":0.095,\"symbol\":\"circle\"},\"mode\":\"markers\",\"name\":\"Expedia Group\",\"orientation\":\"v\",\"showlegend\":true,\"x\":[\"Expedia Group\"],\"xaxis\":\"x\",\"y\":[1],\"yaxis\":\"y\",\"type\":\"scatter\"},{\"hovertemplate\":\"company_name=%{x}<br>company_name_count=%{marker.size}<extra></extra>\",\"legendgroup\":\"Dropbox\",\"marker\":{\"color\":\"#19d3f3\",\"size\":[1],\"sizemode\":\"area\",\"sizeref\":0.095,\"symbol\":\"circle\"},\"mode\":\"markers\",\"name\":\"Dropbox\",\"orientation\":\"v\",\"showlegend\":true,\"x\":[\"Dropbox\"],\"xaxis\":\"x\",\"y\":[1],\"yaxis\":\"y\",\"type\":\"scatter\"},{\"hovertemplate\":\"company_name=%{x}<br>company_name_count=%{marker.size}<extra></extra>\",\"legendgroup\":\"Oklahoma Medical Research Foundation (OMRF)\",\"marker\":{\"color\":\"#FF6692\",\"size\":[1],\"sizemode\":\"area\",\"sizeref\":0.095,\"symbol\":\"circle\"},\"mode\":\"markers\",\"name\":\"Oklahoma Medical Research Foundation (OMRF)\",\"orientation\":\"v\",\"showlegend\":true,\"x\":[\"Oklahoma Medical Research Foundation (OMRF)\"],\"xaxis\":\"x\",\"y\":[1],\"yaxis\":\"y\",\"type\":\"scatter\"},{\"hovertemplate\":\"company_name=%{x}<br>company_name_count=%{marker.size}<extra></extra>\",\"legendgroup\":\"Ford Motor Company\",\"marker\":{\"color\":\"#B6E880\",\"size\":[1],\"sizemode\":\"area\",\"sizeref\":0.095,\"symbol\":\"circle\"},\"mode\":\"markers\",\"name\":\"Ford Motor Company\",\"orientation\":\"v\",\"showlegend\":true,\"x\":[\"Ford Motor Company\"],\"xaxis\":\"x\",\"y\":[1],\"yaxis\":\"y\",\"type\":\"scatter\"},{\"hovertemplate\":\"company_name=%{x}<br>company_name_count=%{marker.size}<extra></extra>\",\"legendgroup\":\"Cox Enterprises\",\"marker\":{\"color\":\"#FF97FF\",\"size\":[1],\"sizemode\":\"area\",\"sizeref\":0.095,\"symbol\":\"circle\"},\"mode\":\"markers\",\"name\":\"Cox Enterprises\",\"orientation\":\"v\",\"showlegend\":true,\"x\":[\"Cox Enterprises\"],\"xaxis\":\"x\",\"y\":[1],\"yaxis\":\"y\",\"type\":\"scatter\"},{\"hovertemplate\":\"company_name=%{x}<br>company_name_count=%{marker.size}<extra></extra>\",\"legendgroup\":\"The Rector & Visitors of the University of Virginia\",\"marker\":{\"color\":\"#FECB52\",\"size\":[1],\"sizemode\":\"area\",\"sizeref\":0.095,\"symbol\":\"circle\"},\"mode\":\"markers\",\"name\":\"The Rector & Visitors of the University of Virginia\",\"orientation\":\"v\",\"showlegend\":true,\"x\":[\"The Rector & Visitors of the University of Virginia\"],\"xaxis\":\"x\",\"y\":[1],\"yaxis\":\"y\",\"type\":\"scatter\"},{\"hovertemplate\":\"company_name=%{x}<br>company_name_count=%{marker.size}<extra></extra>\",\"legendgroup\":\"Airswift\",\"marker\":{\"color\":\"#636efa\",\"size\":[1],\"sizemode\":\"area\",\"sizeref\":0.095,\"symbol\":\"circle\"},\"mode\":\"markers\",\"name\":\"Airswift\",\"orientation\":\"v\",\"showlegend\":true,\"x\":[\"Airswift\"],\"xaxis\":\"x\",\"y\":[1],\"yaxis\":\"y\",\"type\":\"scatter\"},{\"hovertemplate\":\"company_name=%{x}<br>company_name_count=%{marker.size}<extra></extra>\",\"legendgroup\":\"American Technology Consulting - ATC\",\"marker\":{\"color\":\"#EF553B\",\"size\":[1],\"sizemode\":\"area\",\"sizeref\":0.095,\"symbol\":\"circle\"},\"mode\":\"markers\",\"name\":\"American Technology Consulting - ATC\",\"orientation\":\"v\",\"showlegend\":true,\"x\":[\"American Technology Consulting - ATC\"],\"xaxis\":\"x\",\"y\":[1],\"yaxis\":\"y\",\"type\":\"scatter\"},{\"hovertemplate\":\"company_name=%{x}<br>company_name_count=%{marker.size}<extra></extra>\",\"legendgroup\":\"Kanini\",\"marker\":{\"color\":\"#00cc96\",\"size\":[1],\"sizemode\":\"area\",\"sizeref\":0.095,\"symbol\":\"circle\"},\"mode\":\"markers\",\"name\":\"Kanini\",\"orientation\":\"v\",\"showlegend\":true,\"x\":[\"Kanini\"],\"xaxis\":\"x\",\"y\":[1],\"yaxis\":\"y\",\"type\":\"scatter\"},{\"hovertemplate\":\"company_name=%{x}<br>company_name_count=%{marker.size}<extra></extra>\",\"legendgroup\":\"Open Systems Technologies\",\"marker\":{\"color\":\"#ab63fa\",\"size\":[1],\"sizemode\":\"area\",\"sizeref\":0.095,\"symbol\":\"circle\"},\"mode\":\"markers\",\"name\":\"Open Systems Technologies\",\"orientation\":\"v\",\"showlegend\":true,\"x\":[\"Open Systems Technologies\"],\"xaxis\":\"x\",\"y\":[1],\"yaxis\":\"y\",\"type\":\"scatter\"},{\"hovertemplate\":\"company_name=%{x}<br>company_name_count=%{marker.size}<extra></extra>\",\"legendgroup\":\"ASK Staffing\",\"marker\":{\"color\":\"#FFA15A\",\"size\":[2,2],\"sizemode\":\"area\",\"sizeref\":0.095,\"symbol\":\"circle\"},\"mode\":\"markers\",\"name\":\"ASK Staffing\",\"orientation\":\"v\",\"showlegend\":true,\"x\":[\"ASK Staffing\",\"ASK Staffing\"],\"xaxis\":\"x\",\"y\":[2,2],\"yaxis\":\"y\",\"type\":\"scatter\"},{\"hovertemplate\":\"company_name=%{x}<br>company_name_count=%{marker.size}<extra></extra>\",\"legendgroup\":\"University of Michigan\",\"marker\":{\"color\":\"#19d3f3\",\"size\":[1],\"sizemode\":\"area\",\"sizeref\":0.095,\"symbol\":\"circle\"},\"mode\":\"markers\",\"name\":\"University of Michigan\",\"orientation\":\"v\",\"showlegend\":true,\"x\":[\"University of Michigan\"],\"xaxis\":\"x\",\"y\":[1],\"yaxis\":\"y\",\"type\":\"scatter\"},{\"hovertemplate\":\"company_name=%{x}<br>company_name_count=%{marker.size}<extra></extra>\",\"legendgroup\":\"W3Global\",\"marker\":{\"color\":\"#FF6692\",\"size\":[1],\"sizemode\":\"area\",\"sizeref\":0.095,\"symbol\":\"circle\"},\"mode\":\"markers\",\"name\":\"W3Global\",\"orientation\":\"v\",\"showlegend\":true,\"x\":[\"W3Global\"],\"xaxis\":\"x\",\"y\":[1],\"yaxis\":\"y\",\"type\":\"scatter\"},{\"hovertemplate\":\"company_name=%{x}<br>company_name_count=%{marker.size}<extra></extra>\",\"legendgroup\":\"Unstoppable Domains\",\"marker\":{\"color\":\"#B6E880\",\"size\":[1],\"sizemode\":\"area\",\"sizeref\":0.095,\"symbol\":\"circle\"},\"mode\":\"markers\",\"name\":\"Unstoppable Domains\",\"orientation\":\"v\",\"showlegend\":true,\"x\":[\"Unstoppable Domains\"],\"xaxis\":\"x\",\"y\":[1],\"yaxis\":\"y\",\"type\":\"scatter\"},{\"hovertemplate\":\"company_name=%{x}<br>company_name_count=%{marker.size}<extra></extra>\",\"legendgroup\":\"EigenLabs\",\"marker\":{\"color\":\"#FF97FF\",\"size\":[1],\"sizemode\":\"area\",\"sizeref\":0.095,\"symbol\":\"circle\"},\"mode\":\"markers\",\"name\":\"EigenLabs\",\"orientation\":\"v\",\"showlegend\":true,\"x\":[\"EigenLabs\"],\"xaxis\":\"x\",\"y\":[1],\"yaxis\":\"y\",\"type\":\"scatter\"},{\"hovertemplate\":\"company_name=%{x}<br>company_name_count=%{marker.size}<extra></extra>\",\"legendgroup\":\"Crypto.com\",\"marker\":{\"color\":\"#FECB52\",\"size\":[1],\"sizemode\":\"area\",\"sizeref\":0.095,\"symbol\":\"circle\"},\"mode\":\"markers\",\"name\":\"Crypto.com\",\"orientation\":\"v\",\"showlegend\":true,\"x\":[\"Crypto.com\"],\"xaxis\":\"x\",\"y\":[1],\"yaxis\":\"y\",\"type\":\"scatter\"},{\"hovertemplate\":\"company_name=%{x}<br>company_name_count=%{marker.size}<extra></extra>\",\"legendgroup\":\"Walmart Global Tech\",\"marker\":{\"color\":\"#636efa\",\"size\":[1],\"sizemode\":\"area\",\"sizeref\":0.095,\"symbol\":\"circle\"},\"mode\":\"markers\",\"name\":\"Walmart Global Tech\",\"orientation\":\"v\",\"showlegend\":true,\"x\":[\"Walmart Global Tech\"],\"xaxis\":\"x\",\"y\":[1],\"yaxis\":\"y\",\"type\":\"scatter\"},{\"hovertemplate\":\"company_name=%{x}<br>company_name_count=%{marker.size}<extra></extra>\",\"legendgroup\":\"Vertex Inc.\",\"marker\":{\"color\":\"#EF553B\",\"size\":[1],\"sizemode\":\"area\",\"sizeref\":0.095,\"symbol\":\"circle\"},\"mode\":\"markers\",\"name\":\"Vertex Inc.\",\"orientation\":\"v\",\"showlegend\":true,\"x\":[\"Vertex Inc.\"],\"xaxis\":\"x\",\"y\":[1],\"yaxis\":\"y\",\"type\":\"scatter\"},{\"hovertemplate\":\"company_name=%{x}<br>company_name_count=%{marker.size}<extra></extra>\",\"legendgroup\":\"Nvidia Corporation\",\"marker\":{\"color\":\"#00cc96\",\"size\":[1],\"sizemode\":\"area\",\"sizeref\":0.095,\"symbol\":\"circle\"},\"mode\":\"markers\",\"name\":\"Nvidia Corporation\",\"orientation\":\"v\",\"showlegend\":true,\"x\":[\"Nvidia Corporation\"],\"xaxis\":\"x\",\"y\":[1],\"yaxis\":\"y\",\"type\":\"scatter\"},{\"hovertemplate\":\"company_name=%{x}<br>company_name_count=%{marker.size}<extra></extra>\",\"legendgroup\":\"Skydio\",\"marker\":{\"color\":\"#ab63fa\",\"size\":[1],\"sizemode\":\"area\",\"sizeref\":0.095,\"symbol\":\"circle\"},\"mode\":\"markers\",\"name\":\"Skydio\",\"orientation\":\"v\",\"showlegend\":true,\"x\":[\"Skydio\"],\"xaxis\":\"x\",\"y\":[1],\"yaxis\":\"y\",\"type\":\"scatter\"},{\"hovertemplate\":\"company_name=%{x}<br>company_name_count=%{marker.size}<extra></extra>\",\"legendgroup\":\"Imagry\",\"marker\":{\"color\":\"#FFA15A\",\"size\":[2,2],\"sizemode\":\"area\",\"sizeref\":0.095,\"symbol\":\"circle\"},\"mode\":\"markers\",\"name\":\"Imagry\",\"orientation\":\"v\",\"showlegend\":true,\"x\":[\"Imagry\",\"Imagry\"],\"xaxis\":\"x\",\"y\":[2,2],\"yaxis\":\"y\",\"type\":\"scatter\"},{\"hovertemplate\":\"company_name=%{x}<br>company_name_count=%{marker.size}<extra></extra>\",\"legendgroup\":\"EnsoData\",\"marker\":{\"color\":\"#19d3f3\",\"size\":[1],\"sizemode\":\"area\",\"sizeref\":0.095,\"symbol\":\"circle\"},\"mode\":\"markers\",\"name\":\"EnsoData\",\"orientation\":\"v\",\"showlegend\":true,\"x\":[\"EnsoData\"],\"xaxis\":\"x\",\"y\":[1],\"yaxis\":\"y\",\"type\":\"scatter\"},{\"hovertemplate\":\"company_name=%{x}<br>company_name_count=%{marker.size}<extra></extra>\",\"legendgroup\":\"MD Anderson\",\"marker\":{\"color\":\"#FF6692\",\"size\":[1],\"sizemode\":\"area\",\"sizeref\":0.095,\"symbol\":\"circle\"},\"mode\":\"markers\",\"name\":\"MD Anderson\",\"orientation\":\"v\",\"showlegend\":true,\"x\":[\"MD Anderson\"],\"xaxis\":\"x\",\"y\":[1],\"yaxis\":\"y\",\"type\":\"scatter\"},{\"hovertemplate\":\"company_name=%{x}<br>company_name_count=%{marker.size}<extra></extra>\",\"legendgroup\":\"SPECTRUM\",\"marker\":{\"color\":\"#B6E880\",\"size\":[1],\"sizemode\":\"area\",\"sizeref\":0.095,\"symbol\":\"circle\"},\"mode\":\"markers\",\"name\":\"SPECTRUM\",\"orientation\":\"v\",\"showlegend\":true,\"x\":[\"SPECTRUM\"],\"xaxis\":\"x\",\"y\":[1],\"yaxis\":\"y\",\"type\":\"scatter\"},{\"hovertemplate\":\"company_name=%{x}<br>company_name_count=%{marker.size}<extra></extra>\",\"legendgroup\":\"Cottonwood Financial\",\"marker\":{\"color\":\"#FF97FF\",\"size\":[1],\"sizemode\":\"area\",\"sizeref\":0.095,\"symbol\":\"circle\"},\"mode\":\"markers\",\"name\":\"Cottonwood Financial\",\"orientation\":\"v\",\"showlegend\":true,\"x\":[\"Cottonwood Financial\"],\"xaxis\":\"x\",\"y\":[1],\"yaxis\":\"y\",\"type\":\"scatter\"},{\"hovertemplate\":\"company_name=%{x}<br>company_name_count=%{marker.size}<extra></extra>\",\"legendgroup\":\"Darwin Recruitment Switzerland\",\"marker\":{\"color\":\"#FECB52\",\"size\":[1],\"sizemode\":\"area\",\"sizeref\":0.095,\"symbol\":\"circle\"},\"mode\":\"markers\",\"name\":\"Darwin Recruitment Switzerland\",\"orientation\":\"v\",\"showlegend\":true,\"x\":[\"Darwin Recruitment Switzerland\"],\"xaxis\":\"x\",\"y\":[1],\"yaxis\":\"y\",\"type\":\"scatter\"},{\"hovertemplate\":\"company_name=%{x}<br>company_name_count=%{marker.size}<extra></extra>\",\"legendgroup\":\"Reddit\",\"marker\":{\"color\":\"#636efa\",\"size\":[1],\"sizemode\":\"area\",\"sizeref\":0.095,\"symbol\":\"circle\"},\"mode\":\"markers\",\"name\":\"Reddit\",\"orientation\":\"v\",\"showlegend\":true,\"x\":[\"Reddit\"],\"xaxis\":\"x\",\"y\":[1],\"yaxis\":\"y\",\"type\":\"scatter\"},{\"hovertemplate\":\"company_name=%{x}<br>company_name_count=%{marker.size}<extra></extra>\",\"legendgroup\":\"Globe Life, Inc\",\"marker\":{\"color\":\"#EF553B\",\"size\":[1],\"sizemode\":\"area\",\"sizeref\":0.095,\"symbol\":\"circle\"},\"mode\":\"markers\",\"name\":\"Globe Life, Inc\",\"orientation\":\"v\",\"showlegend\":true,\"x\":[\"Globe Life, Inc\"],\"xaxis\":\"x\",\"y\":[1],\"yaxis\":\"y\",\"type\":\"scatter\"},{\"hovertemplate\":\"company_name=%{x}<br>company_name_count=%{marker.size}<extra></extra>\",\"legendgroup\":\"6sense\",\"marker\":{\"color\":\"#00cc96\",\"size\":[1],\"sizemode\":\"area\",\"sizeref\":0.095,\"symbol\":\"circle\"},\"mode\":\"markers\",\"name\":\"6sense\",\"orientation\":\"v\",\"showlegend\":true,\"x\":[\"6sense\"],\"xaxis\":\"x\",\"y\":[1],\"yaxis\":\"y\",\"type\":\"scatter\"},{\"hovertemplate\":\"company_name=%{x}<br>company_name_count=%{marker.size}<extra></extra>\",\"legendgroup\":\"NextEra Energy\",\"marker\":{\"color\":\"#ab63fa\",\"size\":[1],\"sizemode\":\"area\",\"sizeref\":0.095,\"symbol\":\"circle\"},\"mode\":\"markers\",\"name\":\"NextEra Energy\",\"orientation\":\"v\",\"showlegend\":true,\"x\":[\"NextEra Energy\"],\"xaxis\":\"x\",\"y\":[1],\"yaxis\":\"y\",\"type\":\"scatter\"},{\"hovertemplate\":\"company_name=%{x}<br>company_name_count=%{marker.size}<extra></extra>\",\"legendgroup\":\"PNC\",\"marker\":{\"color\":\"#FFA15A\",\"size\":[1],\"sizemode\":\"area\",\"sizeref\":0.095,\"symbol\":\"circle\"},\"mode\":\"markers\",\"name\":\"PNC\",\"orientation\":\"v\",\"showlegend\":true,\"x\":[\"PNC\"],\"xaxis\":\"x\",\"y\":[1],\"yaxis\":\"y\",\"type\":\"scatter\"},{\"hovertemplate\":\"company_name=%{x}<br>company_name_count=%{marker.size}<extra></extra>\",\"legendgroup\":\"Love's Travel Stops\",\"marker\":{\"color\":\"#19d3f3\",\"size\":[1],\"sizemode\":\"area\",\"sizeref\":0.095,\"symbol\":\"circle\"},\"mode\":\"markers\",\"name\":\"Love's Travel Stops\",\"orientation\":\"v\",\"showlegend\":true,\"x\":[\"Love's Travel Stops\"],\"xaxis\":\"x\",\"y\":[1],\"yaxis\":\"y\",\"type\":\"scatter\"},{\"hovertemplate\":\"company_name=%{x}<br>company_name_count=%{marker.size}<extra></extra>\",\"legendgroup\":\"Dave Inc.\",\"marker\":{\"color\":\"#FF6692\",\"size\":[1],\"sizemode\":\"area\",\"sizeref\":0.095,\"symbol\":\"circle\"},\"mode\":\"markers\",\"name\":\"Dave Inc.\",\"orientation\":\"v\",\"showlegend\":true,\"x\":[\"Dave Inc.\"],\"xaxis\":\"x\",\"y\":[1],\"yaxis\":\"y\",\"type\":\"scatter\"},{\"hovertemplate\":\"company_name=%{x}<br>company_name_count=%{marker.size}<extra></extra>\",\"legendgroup\":\"Health Care Service Corporation\",\"marker\":{\"color\":\"#B6E880\",\"size\":[1],\"sizemode\":\"area\",\"sizeref\":0.095,\"symbol\":\"circle\"},\"mode\":\"markers\",\"name\":\"Health Care Service Corporation\",\"orientation\":\"v\",\"showlegend\":true,\"x\":[\"Health Care Service Corporation\"],\"xaxis\":\"x\",\"y\":[1],\"yaxis\":\"y\",\"type\":\"scatter\"},{\"hovertemplate\":\"company_name=%{x}<br>company_name_count=%{marker.size}<extra></extra>\",\"legendgroup\":\"CoreLogic\",\"marker\":{\"color\":\"#FF97FF\",\"size\":[1],\"sizemode\":\"area\",\"sizeref\":0.095,\"symbol\":\"circle\"},\"mode\":\"markers\",\"name\":\"CoreLogic\",\"orientation\":\"v\",\"showlegend\":true,\"x\":[\"CoreLogic\"],\"xaxis\":\"x\",\"y\":[1],\"yaxis\":\"y\",\"type\":\"scatter\"},{\"hovertemplate\":\"company_name=%{x}<br>company_name_count=%{marker.size}<extra></extra>\",\"legendgroup\":\"McKinsey & Company\",\"marker\":{\"color\":\"#FECB52\",\"size\":[1],\"sizemode\":\"area\",\"sizeref\":0.095,\"symbol\":\"circle\"},\"mode\":\"markers\",\"name\":\"McKinsey & Company\",\"orientation\":\"v\",\"showlegend\":true,\"x\":[\"McKinsey & Company\"],\"xaxis\":\"x\",\"y\":[1],\"yaxis\":\"y\",\"type\":\"scatter\"},{\"hovertemplate\":\"company_name=%{x}<br>company_name_count=%{marker.size}<extra></extra>\",\"legendgroup\":\"GXO Logistics\",\"marker\":{\"color\":\"#636efa\",\"size\":[1],\"sizemode\":\"area\",\"sizeref\":0.095,\"symbol\":\"circle\"},\"mode\":\"markers\",\"name\":\"GXO Logistics\",\"orientation\":\"v\",\"showlegend\":true,\"x\":[\"GXO Logistics\"],\"xaxis\":\"x\",\"y\":[1],\"yaxis\":\"y\",\"type\":\"scatter\"},{\"hovertemplate\":\"company_name=%{x}<br>company_name_count=%{marker.size}<extra></extra>\",\"legendgroup\":\"Curriculum Associates\",\"marker\":{\"color\":\"#EF553B\",\"size\":[1],\"sizemode\":\"area\",\"sizeref\":0.095,\"symbol\":\"circle\"},\"mode\":\"markers\",\"name\":\"Curriculum Associates\",\"orientation\":\"v\",\"showlegend\":true,\"x\":[\"Curriculum Associates\"],\"xaxis\":\"x\",\"y\":[1],\"yaxis\":\"y\",\"type\":\"scatter\"},{\"hovertemplate\":\"company_name=%{x}<br>company_name_count=%{marker.size}<extra></extra>\",\"legendgroup\":\"Experfy\",\"marker\":{\"color\":\"#00cc96\",\"size\":[1],\"sizemode\":\"area\",\"sizeref\":0.095,\"symbol\":\"circle\"},\"mode\":\"markers\",\"name\":\"Experfy\",\"orientation\":\"v\",\"showlegend\":true,\"x\":[\"Experfy\"],\"xaxis\":\"x\",\"y\":[1],\"yaxis\":\"y\",\"type\":\"scatter\"},{\"hovertemplate\":\"company_name=%{x}<br>company_name_count=%{marker.size}<extra></extra>\",\"legendgroup\":\"NASA Jet Propulsion Laboratory California Institut\",\"marker\":{\"color\":\"#ab63fa\",\"size\":[1],\"sizemode\":\"area\",\"sizeref\":0.095,\"symbol\":\"circle\"},\"mode\":\"markers\",\"name\":\"NASA Jet Propulsion Laboratory California Institut\",\"orientation\":\"v\",\"showlegend\":true,\"x\":[\"NASA Jet Propulsion Laboratory California Institut\"],\"xaxis\":\"x\",\"y\":[1],\"yaxis\":\"y\",\"type\":\"scatter\"},{\"hovertemplate\":\"company_name=%{x}<br>company_name_count=%{marker.size}<extra></extra>\",\"legendgroup\":\"Caterpillar, Inc\",\"marker\":{\"color\":\"#FFA15A\",\"size\":[1],\"sizemode\":\"area\",\"sizeref\":0.095,\"symbol\":\"circle\"},\"mode\":\"markers\",\"name\":\"Caterpillar, Inc\",\"orientation\":\"v\",\"showlegend\":true,\"x\":[\"Caterpillar, Inc\"],\"xaxis\":\"x\",\"y\":[1],\"yaxis\":\"y\",\"type\":\"scatter\"},{\"hovertemplate\":\"company_name=%{x}<br>company_name_count=%{marker.size}<extra></extra>\",\"legendgroup\":\"The Phoenix Group\",\"marker\":{\"color\":\"#19d3f3\",\"size\":[1],\"sizemode\":\"area\",\"sizeref\":0.095,\"symbol\":\"circle\"},\"mode\":\"markers\",\"name\":\"The Phoenix Group\",\"orientation\":\"v\",\"showlegend\":true,\"x\":[\"The Phoenix Group\"],\"xaxis\":\"x\",\"y\":[1],\"yaxis\":\"y\",\"type\":\"scatter\"},{\"hovertemplate\":\"company_name=%{x}<br>company_name_count=%{marker.size}<extra></extra>\",\"legendgroup\":\"SynergisticIT\",\"marker\":{\"color\":\"#FF6692\",\"size\":[1],\"sizemode\":\"area\",\"sizeref\":0.095,\"symbol\":\"circle\"},\"mode\":\"markers\",\"name\":\"SynergisticIT\",\"orientation\":\"v\",\"showlegend\":true,\"x\":[\"SynergisticIT\"],\"xaxis\":\"x\",\"y\":[1],\"yaxis\":\"y\",\"type\":\"scatter\"},{\"hovertemplate\":\"company_name=%{x}<br>company_name_count=%{marker.size}<extra></extra>\",\"legendgroup\":\"Zortech Solutions\",\"marker\":{\"color\":\"#B6E880\",\"size\":[1],\"sizemode\":\"area\",\"sizeref\":0.095,\"symbol\":\"circle\"},\"mode\":\"markers\",\"name\":\"Zortech Solutions\",\"orientation\":\"v\",\"showlegend\":true,\"x\":[\"Zortech Solutions\"],\"xaxis\":\"x\",\"y\":[1],\"yaxis\":\"y\",\"type\":\"scatter\"},{\"hovertemplate\":\"company_name=%{x}<br>company_name_count=%{marker.size}<extra></extra>\",\"legendgroup\":\"HexaQuest Global\",\"marker\":{\"color\":\"#FF97FF\",\"size\":[1],\"sizemode\":\"area\",\"sizeref\":0.095,\"symbol\":\"circle\"},\"mode\":\"markers\",\"name\":\"HexaQuest Global\",\"orientation\":\"v\",\"showlegend\":true,\"x\":[\"HexaQuest Global\"],\"xaxis\":\"x\",\"y\":[1],\"yaxis\":\"y\",\"type\":\"scatter\"},{\"hovertemplate\":\"company_name=%{x}<br>company_name_count=%{marker.size}<extra></extra>\",\"legendgroup\":\"Armorblox\",\"marker\":{\"color\":\"#FECB52\",\"size\":[1],\"sizemode\":\"area\",\"sizeref\":0.095,\"symbol\":\"circle\"},\"mode\":\"markers\",\"name\":\"Armorblox\",\"orientation\":\"v\",\"showlegend\":true,\"x\":[\"Armorblox\"],\"xaxis\":\"x\",\"y\":[1],\"yaxis\":\"y\",\"type\":\"scatter\"},{\"hovertemplate\":\"company_name=%{x}<br>company_name_count=%{marker.size}<extra></extra>\",\"legendgroup\":\"Shaped\",\"marker\":{\"color\":\"#636efa\",\"size\":[1],\"sizemode\":\"area\",\"sizeref\":0.095,\"symbol\":\"circle\"},\"mode\":\"markers\",\"name\":\"Shaped\",\"orientation\":\"v\",\"showlegend\":true,\"x\":[\"Shaped\"],\"xaxis\":\"x\",\"y\":[1],\"yaxis\":\"y\",\"type\":\"scatter\"},{\"hovertemplate\":\"company_name=%{x}<br>company_name_count=%{marker.size}<extra></extra>\",\"legendgroup\":\"Fortinet\",\"marker\":{\"color\":\"#EF553B\",\"size\":[1],\"sizemode\":\"area\",\"sizeref\":0.095,\"symbol\":\"circle\"},\"mode\":\"markers\",\"name\":\"Fortinet\",\"orientation\":\"v\",\"showlegend\":true,\"x\":[\"Fortinet\"],\"xaxis\":\"x\",\"y\":[1],\"yaxis\":\"y\",\"type\":\"scatter\"},{\"hovertemplate\":\"company_name=%{x}<br>company_name_count=%{marker.size}<extra></extra>\",\"legendgroup\":\"Got It\",\"marker\":{\"color\":\"#00cc96\",\"size\":[1],\"sizemode\":\"area\",\"sizeref\":0.095,\"symbol\":\"circle\"},\"mode\":\"markers\",\"name\":\"Got It\",\"orientation\":\"v\",\"showlegend\":true,\"x\":[\"Got It\"],\"xaxis\":\"x\",\"y\":[1],\"yaxis\":\"y\",\"type\":\"scatter\"},{\"hovertemplate\":\"company_name=%{x}<br>company_name_count=%{marker.size}<extra></extra>\",\"legendgroup\":\"Bloomberg\",\"marker\":{\"color\":\"#ab63fa\",\"size\":[1],\"sizemode\":\"area\",\"sizeref\":0.095,\"symbol\":\"circle\"},\"mode\":\"markers\",\"name\":\"Bloomberg\",\"orientation\":\"v\",\"showlegend\":true,\"x\":[\"Bloomberg\"],\"xaxis\":\"x\",\"y\":[1],\"yaxis\":\"y\",\"type\":\"scatter\"},{\"hovertemplate\":\"company_name=%{x}<br>company_name_count=%{marker.size}<extra></extra>\",\"legendgroup\":\"L3Harris Technologies\",\"marker\":{\"color\":\"#FFA15A\",\"size\":[1],\"sizemode\":\"area\",\"sizeref\":0.095,\"symbol\":\"circle\"},\"mode\":\"markers\",\"name\":\"L3Harris Technologies\",\"orientation\":\"v\",\"showlegend\":true,\"x\":[\"L3Harris Technologies\"],\"xaxis\":\"x\",\"y\":[1],\"yaxis\":\"y\",\"type\":\"scatter\"},{\"hovertemplate\":\"company_name=%{x}<br>company_name_count=%{marker.size}<extra></extra>\",\"legendgroup\":\"Harnham\",\"marker\":{\"color\":\"#19d3f3\",\"size\":[1],\"sizemode\":\"area\",\"sizeref\":0.095,\"symbol\":\"circle\"},\"mode\":\"markers\",\"name\":\"Harnham\",\"orientation\":\"v\",\"showlegend\":true,\"x\":[\"Harnham\"],\"xaxis\":\"x\",\"y\":[1],\"yaxis\":\"y\",\"type\":\"scatter\"},{\"hovertemplate\":\"company_name=%{x}<br>company_name_count=%{marker.size}<extra></extra>\",\"legendgroup\":\"Cision\",\"marker\":{\"color\":\"#FF6692\",\"size\":[1],\"sizemode\":\"area\",\"sizeref\":0.095,\"symbol\":\"circle\"},\"mode\":\"markers\",\"name\":\"Cision\",\"orientation\":\"v\",\"showlegend\":true,\"x\":[\"Cision\"],\"xaxis\":\"x\",\"y\":[1],\"yaxis\":\"y\",\"type\":\"scatter\"},{\"hovertemplate\":\"company_name=%{x}<br>company_name_count=%{marker.size}<extra></extra>\",\"legendgroup\":\"Grainger\",\"marker\":{\"color\":\"#B6E880\",\"size\":[1],\"sizemode\":\"area\",\"sizeref\":0.095,\"symbol\":\"circle\"},\"mode\":\"markers\",\"name\":\"Grainger\",\"orientation\":\"v\",\"showlegend\":true,\"x\":[\"Grainger\"],\"xaxis\":\"x\",\"y\":[1],\"yaxis\":\"y\",\"type\":\"scatter\"},{\"hovertemplate\":\"company_name=%{x}<br>company_name_count=%{marker.size}<extra></extra>\",\"legendgroup\":\"CO0001 The New York Times Company\",\"marker\":{\"color\":\"#FF97FF\",\"size\":[1],\"sizemode\":\"area\",\"sizeref\":0.095,\"symbol\":\"circle\"},\"mode\":\"markers\",\"name\":\"CO0001 The New York Times Company\",\"orientation\":\"v\",\"showlegend\":true,\"x\":[\"CO0001 The New York Times Company\"],\"xaxis\":\"x\",\"y\":[1],\"yaxis\":\"y\",\"type\":\"scatter\"},{\"hovertemplate\":\"company_name=%{x}<br>company_name_count=%{marker.size}<extra></extra>\",\"legendgroup\":\"Invitae\",\"marker\":{\"color\":\"#FECB52\",\"size\":[1],\"sizemode\":\"area\",\"sizeref\":0.095,\"symbol\":\"circle\"},\"mode\":\"markers\",\"name\":\"Invitae\",\"orientation\":\"v\",\"showlegend\":true,\"x\":[\"Invitae\"],\"xaxis\":\"x\",\"y\":[1],\"yaxis\":\"y\",\"type\":\"scatter\"},{\"hovertemplate\":\"company_name=%{x}<br>company_name_count=%{marker.size}<extra></extra>\",\"legendgroup\":\"Lucet (New Directions Behavioral Health)\",\"marker\":{\"color\":\"#636efa\",\"size\":[1],\"sizemode\":\"area\",\"sizeref\":0.095,\"symbol\":\"circle\"},\"mode\":\"markers\",\"name\":\"Lucet (New Directions Behavioral Health)\",\"orientation\":\"v\",\"showlegend\":true,\"x\":[\"Lucet (New Directions Behavioral Health)\"],\"xaxis\":\"x\",\"y\":[1],\"yaxis\":\"y\",\"type\":\"scatter\"},{\"hovertemplate\":\"company_name=%{x}<br>company_name_count=%{marker.size}<extra></extra>\",\"legendgroup\":\"Nordstrom\",\"marker\":{\"color\":\"#EF553B\",\"size\":[1],\"sizemode\":\"area\",\"sizeref\":0.095,\"symbol\":\"circle\"},\"mode\":\"markers\",\"name\":\"Nordstrom\",\"orientation\":\"v\",\"showlegend\":true,\"x\":[\"Nordstrom\"],\"xaxis\":\"x\",\"y\":[1],\"yaxis\":\"y\",\"type\":\"scatter\"},{\"hovertemplate\":\"company_name=%{x}<br>company_name_count=%{marker.size}<extra></extra>\",\"legendgroup\":\"Michael Page\",\"marker\":{\"color\":\"#00cc96\",\"size\":[1],\"sizemode\":\"area\",\"sizeref\":0.095,\"symbol\":\"circle\"},\"mode\":\"markers\",\"name\":\"Michael Page\",\"orientation\":\"v\",\"showlegend\":true,\"x\":[\"Michael Page\"],\"xaxis\":\"x\",\"y\":[1],\"yaxis\":\"y\",\"type\":\"scatter\"},{\"hovertemplate\":\"company_name=%{x}<br>company_name_count=%{marker.size}<extra></extra>\",\"legendgroup\":\"Children's Hospital Association\",\"marker\":{\"color\":\"#ab63fa\",\"size\":[1],\"sizemode\":\"area\",\"sizeref\":0.095,\"symbol\":\"circle\"},\"mode\":\"markers\",\"name\":\"Children's Hospital Association\",\"orientation\":\"v\",\"showlegend\":true,\"x\":[\"Children's Hospital Association\"],\"xaxis\":\"x\",\"y\":[1],\"yaxis\":\"y\",\"type\":\"scatter\"},{\"hovertemplate\":\"company_name=%{x}<br>company_name_count=%{marker.size}<extra></extra>\",\"legendgroup\":\"Scratch Financial, Inc.\",\"marker\":{\"color\":\"#FFA15A\",\"size\":[1],\"sizemode\":\"area\",\"sizeref\":0.095,\"symbol\":\"circle\"},\"mode\":\"markers\",\"name\":\"Scratch Financial, Inc.\",\"orientation\":\"v\",\"showlegend\":true,\"x\":[\"Scratch Financial, Inc.\"],\"xaxis\":\"x\",\"y\":[1],\"yaxis\":\"y\",\"type\":\"scatter\"},{\"hovertemplate\":\"company_name=%{x}<br>company_name_count=%{marker.size}<extra></extra>\",\"legendgroup\":\"State of Oklahoma\",\"marker\":{\"color\":\"#19d3f3\",\"size\":[1],\"sizemode\":\"area\",\"sizeref\":0.095,\"symbol\":\"circle\"},\"mode\":\"markers\",\"name\":\"State of Oklahoma\",\"orientation\":\"v\",\"showlegend\":true,\"x\":[\"State of Oklahoma\"],\"xaxis\":\"x\",\"y\":[1],\"yaxis\":\"y\",\"type\":\"scatter\"},{\"hovertemplate\":\"company_name=%{x}<br>company_name_count=%{marker.size}<extra></extra>\",\"legendgroup\":\"MultiPlan, Inc\",\"marker\":{\"color\":\"#FF6692\",\"size\":[1],\"sizemode\":\"area\",\"sizeref\":0.095,\"symbol\":\"circle\"},\"mode\":\"markers\",\"name\":\"MultiPlan, Inc\",\"orientation\":\"v\",\"showlegend\":true,\"x\":[\"MultiPlan, Inc\"],\"xaxis\":\"x\",\"y\":[1],\"yaxis\":\"y\",\"type\":\"scatter\"},{\"hovertemplate\":\"company_name=%{x}<br>company_name_count=%{marker.size}<extra></extra>\",\"legendgroup\":\"Coursera Sourcing\",\"marker\":{\"color\":\"#B6E880\",\"size\":[1],\"sizemode\":\"area\",\"sizeref\":0.095,\"symbol\":\"circle\"},\"mode\":\"markers\",\"name\":\"Coursera Sourcing\",\"orientation\":\"v\",\"showlegend\":true,\"x\":[\"Coursera Sourcing\"],\"xaxis\":\"x\",\"y\":[1],\"yaxis\":\"y\",\"type\":\"scatter\"},{\"hovertemplate\":\"company_name=%{x}<br>company_name_count=%{marker.size}<extra></extra>\",\"legendgroup\":\"Home Depot / THD\",\"marker\":{\"color\":\"#FF97FF\",\"size\":[1],\"sizemode\":\"area\",\"sizeref\":0.095,\"symbol\":\"circle\"},\"mode\":\"markers\",\"name\":\"Home Depot / THD\",\"orientation\":\"v\",\"showlegend\":true,\"x\":[\"Home Depot / THD\"],\"xaxis\":\"x\",\"y\":[1],\"yaxis\":\"y\",\"type\":\"scatter\"},{\"hovertemplate\":\"company_name=%{x}<br>company_name_count=%{marker.size}<extra></extra>\",\"legendgroup\":\"University of Wisconsin-Madison\",\"marker\":{\"color\":\"#FECB52\",\"size\":[1],\"sizemode\":\"area\",\"sizeref\":0.095,\"symbol\":\"circle\"},\"mode\":\"markers\",\"name\":\"University of Wisconsin-Madison\",\"orientation\":\"v\",\"showlegend\":true,\"x\":[\"University of Wisconsin-Madison\"],\"xaxis\":\"x\",\"y\":[1],\"yaxis\":\"y\",\"type\":\"scatter\"},{\"hovertemplate\":\"company_name=%{x}<br>company_name_count=%{marker.size}<extra></extra>\",\"legendgroup\":\"FedEx\",\"marker\":{\"color\":\"#636efa\",\"size\":[2,2],\"sizemode\":\"area\",\"sizeref\":0.095,\"symbol\":\"circle\"},\"mode\":\"markers\",\"name\":\"FedEx\",\"orientation\":\"v\",\"showlegend\":true,\"x\":[\"FedEx\",\"FedEx\"],\"xaxis\":\"x\",\"y\":[2,2],\"yaxis\":\"y\",\"type\":\"scatter\"},{\"hovertemplate\":\"company_name=%{x}<br>company_name_count=%{marker.size}<extra></extra>\",\"legendgroup\":\"Colgate-Palmolive Company\",\"marker\":{\"color\":\"#EF553B\",\"size\":[1],\"sizemode\":\"area\",\"sizeref\":0.095,\"symbol\":\"circle\"},\"mode\":\"markers\",\"name\":\"Colgate-Palmolive Company\",\"orientation\":\"v\",\"showlegend\":true,\"x\":[\"Colgate-Palmolive Company\"],\"xaxis\":\"x\",\"y\":[1],\"yaxis\":\"y\",\"type\":\"scatter\"},{\"hovertemplate\":\"company_name=%{x}<br>company_name_count=%{marker.size}<extra></extra>\",\"legendgroup\":\"International Monetary Fund\",\"marker\":{\"color\":\"#00cc96\",\"size\":[1],\"sizemode\":\"area\",\"sizeref\":0.095,\"symbol\":\"circle\"},\"mode\":\"markers\",\"name\":\"International Monetary Fund\",\"orientation\":\"v\",\"showlegend\":true,\"x\":[\"International Monetary Fund\"],\"xaxis\":\"x\",\"y\":[1],\"yaxis\":\"y\",\"type\":\"scatter\"},{\"hovertemplate\":\"company_name=%{x}<br>company_name_count=%{marker.size}<extra></extra>\",\"legendgroup\":\"Caterpillar\",\"marker\":{\"color\":\"#ab63fa\",\"size\":[1],\"sizemode\":\"area\",\"sizeref\":0.095,\"symbol\":\"circle\"},\"mode\":\"markers\",\"name\":\"Caterpillar\",\"orientation\":\"v\",\"showlegend\":true,\"x\":[\"Caterpillar\"],\"xaxis\":\"x\",\"y\":[1],\"yaxis\":\"y\",\"type\":\"scatter\"},{\"hovertemplate\":\"company_name=%{x}<br>company_name_count=%{marker.size}<extra></extra>\",\"legendgroup\":\"Abbott Laboratories\",\"marker\":{\"color\":\"#FFA15A\",\"size\":[1],\"sizemode\":\"area\",\"sizeref\":0.095,\"symbol\":\"circle\"},\"mode\":\"markers\",\"name\":\"Abbott Laboratories\",\"orientation\":\"v\",\"showlegend\":true,\"x\":[\"Abbott Laboratories\"],\"xaxis\":\"x\",\"y\":[1],\"yaxis\":\"y\",\"type\":\"scatter\"},{\"hovertemplate\":\"company_name=%{x}<br>company_name_count=%{marker.size}<extra></extra>\",\"legendgroup\":\"Northwestern University\",\"marker\":{\"color\":\"#19d3f3\",\"size\":[1],\"sizemode\":\"area\",\"sizeref\":0.095,\"symbol\":\"circle\"},\"mode\":\"markers\",\"name\":\"Northwestern University\",\"orientation\":\"v\",\"showlegend\":true,\"x\":[\"Northwestern University\"],\"xaxis\":\"x\",\"y\":[1],\"yaxis\":\"y\",\"type\":\"scatter\"},{\"hovertemplate\":\"company_name=%{x}<br>company_name_count=%{marker.size}<extra></extra>\",\"legendgroup\":\"Walgreens\",\"marker\":{\"color\":\"#FF6692\",\"size\":[1],\"sizemode\":\"area\",\"sizeref\":0.095,\"symbol\":\"circle\"},\"mode\":\"markers\",\"name\":\"Walgreens\",\"orientation\":\"v\",\"showlegend\":true,\"x\":[\"Walgreens\"],\"xaxis\":\"x\",\"y\":[1],\"yaxis\":\"y\",\"type\":\"scatter\"},{\"hovertemplate\":\"company_name=%{x}<br>company_name_count=%{marker.size}<extra></extra>\",\"legendgroup\":\"Unlearn.AI\",\"marker\":{\"color\":\"#B6E880\",\"size\":[1],\"sizemode\":\"area\",\"sizeref\":0.095,\"symbol\":\"circle\"},\"mode\":\"markers\",\"name\":\"Unlearn.AI\",\"orientation\":\"v\",\"showlegend\":true,\"x\":[\"Unlearn.AI\"],\"xaxis\":\"x\",\"y\":[1],\"yaxis\":\"y\",\"type\":\"scatter\"},{\"hovertemplate\":\"company_name=%{x}<br>company_name_count=%{marker.size}<extra></extra>\",\"legendgroup\":\"University of Minnesota\",\"marker\":{\"color\":\"#FF97FF\",\"size\":[1],\"sizemode\":\"area\",\"sizeref\":0.095,\"symbol\":\"circle\"},\"mode\":\"markers\",\"name\":\"University of Minnesota\",\"orientation\":\"v\",\"showlegend\":true,\"x\":[\"University of Minnesota\"],\"xaxis\":\"x\",\"y\":[1],\"yaxis\":\"y\",\"type\":\"scatter\"},{\"hovertemplate\":\"company_name=%{x}<br>company_name_count=%{marker.size}<extra></extra>\",\"legendgroup\":\"PathAI\",\"marker\":{\"color\":\"#FECB52\",\"size\":[1],\"sizemode\":\"area\",\"sizeref\":0.095,\"symbol\":\"circle\"},\"mode\":\"markers\",\"name\":\"PathAI\",\"orientation\":\"v\",\"showlegend\":true,\"x\":[\"PathAI\"],\"xaxis\":\"x\",\"y\":[1],\"yaxis\":\"y\",\"type\":\"scatter\"},{\"hovertemplate\":\"company_name=%{x}<br>company_name_count=%{marker.size}<extra></extra>\",\"legendgroup\":\"Armis Industries\",\"marker\":{\"color\":\"#636efa\",\"size\":[1],\"sizemode\":\"area\",\"sizeref\":0.095,\"symbol\":\"circle\"},\"mode\":\"markers\",\"name\":\"Armis Industries\",\"orientation\":\"v\",\"showlegend\":true,\"x\":[\"Armis Industries\"],\"xaxis\":\"x\",\"y\":[1],\"yaxis\":\"y\",\"type\":\"scatter\"},{\"hovertemplate\":\"company_name=%{x}<br>company_name_count=%{marker.size}<extra></extra>\",\"legendgroup\":\"Adobe\",\"marker\":{\"color\":\"#EF553B\",\"size\":[1],\"sizemode\":\"area\",\"sizeref\":0.095,\"symbol\":\"circle\"},\"mode\":\"markers\",\"name\":\"Adobe\",\"orientation\":\"v\",\"showlegend\":true,\"x\":[\"Adobe\"],\"xaxis\":\"x\",\"y\":[1],\"yaxis\":\"y\",\"type\":\"scatter\"},{\"hovertemplate\":\"company_name=%{x}<br>company_name_count=%{marker.size}<extra></extra>\",\"legendgroup\":\"AssemblyAI\",\"marker\":{\"color\":\"#00cc96\",\"size\":[2,2],\"sizemode\":\"area\",\"sizeref\":0.095,\"symbol\":\"circle\"},\"mode\":\"markers\",\"name\":\"AssemblyAI\",\"orientation\":\"v\",\"showlegend\":true,\"x\":[\"AssemblyAI\",\"AssemblyAI\"],\"xaxis\":\"x\",\"y\":[2,2],\"yaxis\":\"y\",\"type\":\"scatter\"},{\"hovertemplate\":\"company_name=%{x}<br>company_name_count=%{marker.size}<extra></extra>\",\"legendgroup\":\"Absci\",\"marker\":{\"color\":\"#ab63fa\",\"size\":[1],\"sizemode\":\"area\",\"sizeref\":0.095,\"symbol\":\"circle\"},\"mode\":\"markers\",\"name\":\"Absci\",\"orientation\":\"v\",\"showlegend\":true,\"x\":[\"Absci\"],\"xaxis\":\"x\",\"y\":[1],\"yaxis\":\"y\",\"type\":\"scatter\"},{\"hovertemplate\":\"company_name=%{x}<br>company_name_count=%{marker.size}<extra></extra>\",\"legendgroup\":\"MoTek Technologies\",\"marker\":{\"color\":\"#FFA15A\",\"size\":[2,2],\"sizemode\":\"area\",\"sizeref\":0.095,\"symbol\":\"circle\"},\"mode\":\"markers\",\"name\":\"MoTek Technologies\",\"orientation\":\"v\",\"showlegend\":true,\"x\":[\"MoTek Technologies\",\"MoTek Technologies\"],\"xaxis\":\"x\",\"y\":[2,2],\"yaxis\":\"y\",\"type\":\"scatter\"},{\"hovertemplate\":\"company_name=%{x}<br>company_name_count=%{marker.size}<extra></extra>\",\"legendgroup\":\"Eightfold AI\",\"marker\":{\"color\":\"#19d3f3\",\"size\":[1],\"sizemode\":\"area\",\"sizeref\":0.095,\"symbol\":\"circle\"},\"mode\":\"markers\",\"name\":\"Eightfold AI\",\"orientation\":\"v\",\"showlegend\":true,\"x\":[\"Eightfold AI\"],\"xaxis\":\"x\",\"y\":[1],\"yaxis\":\"y\",\"type\":\"scatter\"},{\"hovertemplate\":\"company_name=%{x}<br>company_name_count=%{marker.size}<extra></extra>\",\"legendgroup\":\"University of California Los Angeles\",\"marker\":{\"color\":\"#FF6692\",\"size\":[1],\"sizemode\":\"area\",\"sizeref\":0.095,\"symbol\":\"circle\"},\"mode\":\"markers\",\"name\":\"University of California Los Angeles\",\"orientation\":\"v\",\"showlegend\":true,\"x\":[\"University of California Los Angeles\"],\"xaxis\":\"x\",\"y\":[1],\"yaxis\":\"y\",\"type\":\"scatter\"},{\"hovertemplate\":\"company_name=%{x}<br>company_name_count=%{marker.size}<extra></extra>\",\"legendgroup\":\"Binance\",\"marker\":{\"color\":\"#B6E880\",\"size\":[1],\"sizemode\":\"area\",\"sizeref\":0.095,\"symbol\":\"circle\"},\"mode\":\"markers\",\"name\":\"Binance\",\"orientation\":\"v\",\"showlegend\":true,\"x\":[\"Binance\"],\"xaxis\":\"x\",\"y\":[1],\"yaxis\":\"y\",\"type\":\"scatter\"},{\"hovertemplate\":\"company_name=%{x}<br>company_name_count=%{marker.size}<extra></extra>\",\"legendgroup\":\"Trac Technologies, Inc.\",\"marker\":{\"color\":\"#FF97FF\",\"size\":[1],\"sizemode\":\"area\",\"sizeref\":0.095,\"symbol\":\"circle\"},\"mode\":\"markers\",\"name\":\"Trac Technologies, Inc.\",\"orientation\":\"v\",\"showlegend\":true,\"x\":[\"Trac Technologies, Inc.\"],\"xaxis\":\"x\",\"y\":[1],\"yaxis\":\"y\",\"type\":\"scatter\"},{\"hovertemplate\":\"company_name=%{x}<br>company_name_count=%{marker.size}<extra></extra>\",\"legendgroup\":\"Ripple\",\"marker\":{\"color\":\"#FECB52\",\"size\":[1],\"sizemode\":\"area\",\"sizeref\":0.095,\"symbol\":\"circle\"},\"mode\":\"markers\",\"name\":\"Ripple\",\"orientation\":\"v\",\"showlegend\":true,\"x\":[\"Ripple\"],\"xaxis\":\"x\",\"y\":[1],\"yaxis\":\"y\",\"type\":\"scatter\"},{\"hovertemplate\":\"company_name=%{x}<br>company_name_count=%{marker.size}<extra></extra>\",\"legendgroup\":\"Resource 1\",\"marker\":{\"color\":\"#636efa\",\"size\":[1],\"sizemode\":\"area\",\"sizeref\":0.095,\"symbol\":\"circle\"},\"mode\":\"markers\",\"name\":\"Resource 1\",\"orientation\":\"v\",\"showlegend\":true,\"x\":[\"Resource 1\"],\"xaxis\":\"x\",\"y\":[1],\"yaxis\":\"y\",\"type\":\"scatter\"},{\"hovertemplate\":\"company_name=%{x}<br>company_name_count=%{marker.size}<extra></extra>\",\"legendgroup\":\"LandOLakes\",\"marker\":{\"color\":\"#EF553B\",\"size\":[1],\"sizemode\":\"area\",\"sizeref\":0.095,\"symbol\":\"circle\"},\"mode\":\"markers\",\"name\":\"LandOLakes\",\"orientation\":\"v\",\"showlegend\":true,\"x\":[\"LandOLakes\"],\"xaxis\":\"x\",\"y\":[1],\"yaxis\":\"y\",\"type\":\"scatter\"},{\"hovertemplate\":\"company_name=%{x}<br>company_name_count=%{marker.size}<extra></extra>\",\"legendgroup\":\"Global IDEAS, Michigan State University\",\"marker\":{\"color\":\"#00cc96\",\"size\":[1],\"sizemode\":\"area\",\"sizeref\":0.095,\"symbol\":\"circle\"},\"mode\":\"markers\",\"name\":\"Global IDEAS, Michigan State University\",\"orientation\":\"v\",\"showlegend\":true,\"x\":[\"Global IDEAS, Michigan State University\"],\"xaxis\":\"x\",\"y\":[1],\"yaxis\":\"y\",\"type\":\"scatter\"},{\"hovertemplate\":\"company_name=%{x}<br>company_name_count=%{marker.size}<extra></extra>\",\"legendgroup\":\"Blue Cross Blue Shield of Minnesota\",\"marker\":{\"color\":\"#ab63fa\",\"size\":[1],\"sizemode\":\"area\",\"sizeref\":0.095,\"symbol\":\"circle\"},\"mode\":\"markers\",\"name\":\"Blue Cross Blue Shield of Minnesota\",\"orientation\":\"v\",\"showlegend\":true,\"x\":[\"Blue Cross Blue Shield of Minnesota\"],\"xaxis\":\"x\",\"y\":[1],\"yaxis\":\"y\",\"type\":\"scatter\"},{\"hovertemplate\":\"company_name=%{x}<br>company_name_count=%{marker.size}<extra></extra>\",\"legendgroup\":\"AbbVie\",\"marker\":{\"color\":\"#FFA15A\",\"size\":[1],\"sizemode\":\"area\",\"sizeref\":0.095,\"symbol\":\"circle\"},\"mode\":\"markers\",\"name\":\"AbbVie\",\"orientation\":\"v\",\"showlegend\":true,\"x\":[\"AbbVie\"],\"xaxis\":\"x\",\"y\":[1],\"yaxis\":\"y\",\"type\":\"scatter\"},{\"hovertemplate\":\"company_name=%{x}<br>company_name_count=%{marker.size}<extra></extra>\",\"legendgroup\":\"Sam's Club\",\"marker\":{\"color\":\"#19d3f3\",\"size\":[1],\"sizemode\":\"area\",\"sizeref\":0.095,\"symbol\":\"circle\"},\"mode\":\"markers\",\"name\":\"Sam's Club\",\"orientation\":\"v\",\"showlegend\":true,\"x\":[\"Sam's Club\"],\"xaxis\":\"x\",\"y\":[1],\"yaxis\":\"y\",\"type\":\"scatter\"},{\"hovertemplate\":\"company_name=%{x}<br>company_name_count=%{marker.size}<extra></extra>\",\"legendgroup\":\"ABBVIE\",\"marker\":{\"color\":\"#FF6692\",\"size\":[1],\"sizemode\":\"area\",\"sizeref\":0.095,\"symbol\":\"circle\"},\"mode\":\"markers\",\"name\":\"ABBVIE\",\"orientation\":\"v\",\"showlegend\":true,\"x\":[\"ABBVIE\"],\"xaxis\":\"x\",\"y\":[1],\"yaxis\":\"y\",\"type\":\"scatter\"},{\"hovertemplate\":\"company_name=%{x}<br>company_name_count=%{marker.size}<extra></extra>\",\"legendgroup\":\"ISSAC LLC\",\"marker\":{\"color\":\"#B6E880\",\"size\":[1],\"sizemode\":\"area\",\"sizeref\":0.095,\"symbol\":\"circle\"},\"mode\":\"markers\",\"name\":\"ISSAC LLC\",\"orientation\":\"v\",\"showlegend\":true,\"x\":[\"ISSAC LLC\"],\"xaxis\":\"x\",\"y\":[1],\"yaxis\":\"y\",\"type\":\"scatter\"},{\"hovertemplate\":\"company_name=%{x}<br>company_name_count=%{marker.size}<extra></extra>\",\"legendgroup\":\"Kovasys\",\"marker\":{\"color\":\"#FF97FF\",\"size\":[1],\"sizemode\":\"area\",\"sizeref\":0.095,\"symbol\":\"circle\"},\"mode\":\"markers\",\"name\":\"Kovasys\",\"orientation\":\"v\",\"showlegend\":true,\"x\":[\"Kovasys\"],\"xaxis\":\"x\",\"y\":[1],\"yaxis\":\"y\",\"type\":\"scatter\"},{\"hovertemplate\":\"company_name=%{x}<br>company_name_count=%{marker.size}<extra></extra>\",\"legendgroup\":\"Dana\\u2013Farber Cancer Institute\",\"marker\":{\"color\":\"#FECB52\",\"size\":[1],\"sizemode\":\"area\",\"sizeref\":0.095,\"symbol\":\"circle\"},\"mode\":\"markers\",\"name\":\"Dana\\u2013Farber Cancer Institute\",\"orientation\":\"v\",\"showlegend\":true,\"x\":[\"Dana\\u2013Farber Cancer Institute\"],\"xaxis\":\"x\",\"y\":[1],\"yaxis\":\"y\",\"type\":\"scatter\"},{\"hovertemplate\":\"company_name=%{x}<br>company_name_count=%{marker.size}<extra></extra>\",\"legendgroup\":\"SommerAI\",\"marker\":{\"color\":\"#636efa\",\"size\":[1],\"sizemode\":\"area\",\"sizeref\":0.095,\"symbol\":\"circle\"},\"mode\":\"markers\",\"name\":\"SommerAI\",\"orientation\":\"v\",\"showlegend\":true,\"x\":[\"SommerAI\"],\"xaxis\":\"x\",\"y\":[1],\"yaxis\":\"y\",\"type\":\"scatter\"},{\"hovertemplate\":\"company_name=%{x}<br>company_name_count=%{marker.size}<extra></extra>\",\"legendgroup\":\"Three Pillars Recruiting\",\"marker\":{\"color\":\"#EF553B\",\"size\":[1],\"sizemode\":\"area\",\"sizeref\":0.095,\"symbol\":\"circle\"},\"mode\":\"markers\",\"name\":\"Three Pillars Recruiting\",\"orientation\":\"v\",\"showlegend\":true,\"x\":[\"Three Pillars Recruiting\"],\"xaxis\":\"x\",\"y\":[1],\"yaxis\":\"y\",\"type\":\"scatter\"},{\"hovertemplate\":\"company_name=%{x}<br>company_name_count=%{marker.size}<extra></extra>\",\"legendgroup\":\"Bank of America\",\"marker\":{\"color\":\"#00cc96\",\"size\":[1],\"sizemode\":\"area\",\"sizeref\":0.095,\"symbol\":\"circle\"},\"mode\":\"markers\",\"name\":\"Bank of America\",\"orientation\":\"v\",\"showlegend\":true,\"x\":[\"Bank of America\"],\"xaxis\":\"x\",\"y\":[1],\"yaxis\":\"y\",\"type\":\"scatter\"},{\"hovertemplate\":\"company_name=%{x}<br>company_name_count=%{marker.size}<extra></extra>\",\"legendgroup\":\"IBM Careers\",\"marker\":{\"color\":\"#ab63fa\",\"size\":[1],\"sizemode\":\"area\",\"sizeref\":0.095,\"symbol\":\"circle\"},\"mode\":\"markers\",\"name\":\"IBM Careers\",\"orientation\":\"v\",\"showlegend\":true,\"x\":[\"IBM Careers\"],\"xaxis\":\"x\",\"y\":[1],\"yaxis\":\"y\",\"type\":\"scatter\"},{\"hovertemplate\":\"company_name=%{x}<br>company_name_count=%{marker.size}<extra></extra>\",\"legendgroup\":\"Westbourne Quantitative Trading, Technology & Research\",\"marker\":{\"color\":\"#FFA15A\",\"size\":[1],\"sizemode\":\"area\",\"sizeref\":0.095,\"symbol\":\"circle\"},\"mode\":\"markers\",\"name\":\"Westbourne Quantitative Trading, Technology & Research\",\"orientation\":\"v\",\"showlegend\":true,\"x\":[\"Westbourne Quantitative Trading, Technology & Research\"],\"xaxis\":\"x\",\"y\":[1],\"yaxis\":\"y\",\"type\":\"scatter\"},{\"hovertemplate\":\"company_name=%{x}<br>company_name_count=%{marker.size}<extra></extra>\",\"legendgroup\":\"Degreed\",\"marker\":{\"color\":\"#19d3f3\",\"size\":[1],\"sizemode\":\"area\",\"sizeref\":0.095,\"symbol\":\"circle\"},\"mode\":\"markers\",\"name\":\"Degreed\",\"orientation\":\"v\",\"showlegend\":true,\"x\":[\"Degreed\"],\"xaxis\":\"x\",\"y\":[1],\"yaxis\":\"y\",\"type\":\"scatter\"},{\"hovertemplate\":\"company_name=%{x}<br>company_name_count=%{marker.size}<extra></extra>\",\"legendgroup\":\"Rivian\",\"marker\":{\"color\":\"#FF6692\",\"size\":[1],\"sizemode\":\"area\",\"sizeref\":0.095,\"symbol\":\"circle\"},\"mode\":\"markers\",\"name\":\"Rivian\",\"orientation\":\"v\",\"showlegend\":true,\"x\":[\"Rivian\"],\"xaxis\":\"x\",\"y\":[1],\"yaxis\":\"y\",\"type\":\"scatter\"},{\"hovertemplate\":\"company_name=%{x}<br>company_name_count=%{marker.size}<extra></extra>\",\"legendgroup\":\"mozee\",\"marker\":{\"color\":\"#B6E880\",\"size\":[1],\"sizemode\":\"area\",\"sizeref\":0.095,\"symbol\":\"circle\"},\"mode\":\"markers\",\"name\":\"mozee\",\"orientation\":\"v\",\"showlegend\":true,\"x\":[\"mozee\"],\"xaxis\":\"x\",\"y\":[1],\"yaxis\":\"y\",\"type\":\"scatter\"},{\"hovertemplate\":\"company_name=%{x}<br>company_name_count=%{marker.size}<extra></extra>\",\"legendgroup\":\"Innopeak Tech Inc\",\"marker\":{\"color\":\"#FF97FF\",\"size\":[1],\"sizemode\":\"area\",\"sizeref\":0.095,\"symbol\":\"circle\"},\"mode\":\"markers\",\"name\":\"Innopeak Tech Inc\",\"orientation\":\"v\",\"showlegend\":true,\"x\":[\"Innopeak Tech Inc\"],\"xaxis\":\"x\",\"y\":[1],\"yaxis\":\"y\",\"type\":\"scatter\"},{\"hovertemplate\":\"company_name=%{x}<br>company_name_count=%{marker.size}<extra></extra>\",\"legendgroup\":\"Flagship Pioneering\",\"marker\":{\"color\":\"#FECB52\",\"size\":[1],\"sizemode\":\"area\",\"sizeref\":0.095,\"symbol\":\"circle\"},\"mode\":\"markers\",\"name\":\"Flagship Pioneering\",\"orientation\":\"v\",\"showlegend\":true,\"x\":[\"Flagship Pioneering\"],\"xaxis\":\"x\",\"y\":[1],\"yaxis\":\"y\",\"type\":\"scatter\"},{\"hovertemplate\":\"company_name=%{x}<br>company_name_count=%{marker.size}<extra></extra>\",\"legendgroup\":\"Premier System\",\"marker\":{\"color\":\"#636efa\",\"size\":[1],\"sizemode\":\"area\",\"sizeref\":0.095,\"symbol\":\"circle\"},\"mode\":\"markers\",\"name\":\"Premier System\",\"orientation\":\"v\",\"showlegend\":true,\"x\":[\"Premier System\"],\"xaxis\":\"x\",\"y\":[1],\"yaxis\":\"y\",\"type\":\"scatter\"},{\"hovertemplate\":\"company_name=%{x}<br>company_name_count=%{marker.size}<extra></extra>\",\"legendgroup\":\"Ansys\",\"marker\":{\"color\":\"#EF553B\",\"size\":[1],\"sizemode\":\"area\",\"sizeref\":0.095,\"symbol\":\"circle\"},\"mode\":\"markers\",\"name\":\"Ansys\",\"orientation\":\"v\",\"showlegend\":true,\"x\":[\"Ansys\"],\"xaxis\":\"x\",\"y\":[1],\"yaxis\":\"y\",\"type\":\"scatter\"},{\"hovertemplate\":\"company_name=%{x}<br>company_name_count=%{marker.size}<extra></extra>\",\"legendgroup\":\"VIMworld\",\"marker\":{\"color\":\"#00cc96\",\"size\":[1],\"sizemode\":\"area\",\"sizeref\":0.095,\"symbol\":\"circle\"},\"mode\":\"markers\",\"name\":\"VIMworld\",\"orientation\":\"v\",\"showlegend\":true,\"x\":[\"VIMworld\"],\"xaxis\":\"x\",\"y\":[1],\"yaxis\":\"y\",\"type\":\"scatter\"},{\"hovertemplate\":\"company_name=%{x}<br>company_name_count=%{marker.size}<extra></extra>\",\"legendgroup\":\"BloKchain Talent, LLC\",\"marker\":{\"color\":\"#ab63fa\",\"size\":[1],\"sizemode\":\"area\",\"sizeref\":0.095,\"symbol\":\"circle\"},\"mode\":\"markers\",\"name\":\"BloKchain Talent, LLC\",\"orientation\":\"v\",\"showlegend\":true,\"x\":[\"BloKchain Talent, LLC\"],\"xaxis\":\"x\",\"y\":[1],\"yaxis\":\"y\",\"type\":\"scatter\"},{\"hovertemplate\":\"company_name=%{x}<br>company_name_count=%{marker.size}<extra></extra>\",\"legendgroup\":\"Amazon Dev Center U.S., Inc.\",\"marker\":{\"color\":\"#FFA15A\",\"size\":[1],\"sizemode\":\"area\",\"sizeref\":0.095,\"symbol\":\"circle\"},\"mode\":\"markers\",\"name\":\"Amazon Dev Center U.S., Inc.\",\"orientation\":\"v\",\"showlegend\":true,\"x\":[\"Amazon Dev Center U.S., Inc.\"],\"xaxis\":\"x\",\"y\":[1],\"yaxis\":\"y\",\"type\":\"scatter\"},{\"hovertemplate\":\"company_name=%{x}<br>company_name_count=%{marker.size}<extra></extra>\",\"legendgroup\":\"OAK Network\",\"marker\":{\"color\":\"#19d3f3\",\"size\":[1],\"sizemode\":\"area\",\"sizeref\":0.095,\"symbol\":\"circle\"},\"mode\":\"markers\",\"name\":\"OAK Network\",\"orientation\":\"v\",\"showlegend\":true,\"x\":[\"OAK Network\"],\"xaxis\":\"x\",\"y\":[1],\"yaxis\":\"y\",\"type\":\"scatter\"},{\"hovertemplate\":\"company_name=%{x}<br>company_name_count=%{marker.size}<extra></extra>\",\"legendgroup\":\"Fox Corporation\",\"marker\":{\"color\":\"#FF6692\",\"size\":[1],\"sizemode\":\"area\",\"sizeref\":0.095,\"symbol\":\"circle\"},\"mode\":\"markers\",\"name\":\"Fox Corporation\",\"orientation\":\"v\",\"showlegend\":true,\"x\":[\"Fox Corporation\"],\"xaxis\":\"x\",\"y\":[1],\"yaxis\":\"y\",\"type\":\"scatter\"},{\"hovertemplate\":\"company_name=%{x}<br>company_name_count=%{marker.size}<extra></extra>\",\"legendgroup\":\"Lawrence Livermore National Laboratory\",\"marker\":{\"color\":\"#B6E880\",\"size\":[1],\"sizemode\":\"area\",\"sizeref\":0.095,\"symbol\":\"circle\"},\"mode\":\"markers\",\"name\":\"Lawrence Livermore National Laboratory\",\"orientation\":\"v\",\"showlegend\":true,\"x\":[\"Lawrence Livermore National Laboratory\"],\"xaxis\":\"x\",\"y\":[1],\"yaxis\":\"y\",\"type\":\"scatter\"},{\"hovertemplate\":\"company_name=%{x}<br>company_name_count=%{marker.size}<extra></extra>\",\"legendgroup\":\"Saxon Global Inc\",\"marker\":{\"color\":\"#FF97FF\",\"size\":[1],\"sizemode\":\"area\",\"sizeref\":0.095,\"symbol\":\"circle\"},\"mode\":\"markers\",\"name\":\"Saxon Global Inc\",\"orientation\":\"v\",\"showlegend\":true,\"x\":[\"Saxon Global Inc\"],\"xaxis\":\"x\",\"y\":[1],\"yaxis\":\"y\",\"type\":\"scatter\"},{\"hovertemplate\":\"company_name=%{x}<br>company_name_count=%{marker.size}<extra></extra>\",\"legendgroup\":\"Edgetensor Technologies\",\"marker\":{\"color\":\"#FECB52\",\"size\":[1],\"sizemode\":\"area\",\"sizeref\":0.095,\"symbol\":\"circle\"},\"mode\":\"markers\",\"name\":\"Edgetensor Technologies\",\"orientation\":\"v\",\"showlegend\":true,\"x\":[\"Edgetensor Technologies\"],\"xaxis\":\"x\",\"y\":[1],\"yaxis\":\"y\",\"type\":\"scatter\"},{\"hovertemplate\":\"company_name=%{x}<br>company_name_count=%{marker.size}<extra></extra>\",\"legendgroup\":\"Technical Link\",\"marker\":{\"color\":\"#636efa\",\"size\":[1],\"sizemode\":\"area\",\"sizeref\":0.095,\"symbol\":\"circle\"},\"mode\":\"markers\",\"name\":\"Technical Link\",\"orientation\":\"v\",\"showlegend\":true,\"x\":[\"Technical Link\"],\"xaxis\":\"x\",\"y\":[1],\"yaxis\":\"y\",\"type\":\"scatter\"},{\"hovertemplate\":\"company_name=%{x}<br>company_name_count=%{marker.size}<extra></extra>\",\"legendgroup\":\"WEX\",\"marker\":{\"color\":\"#EF553B\",\"size\":[1],\"sizemode\":\"area\",\"sizeref\":0.095,\"symbol\":\"circle\"},\"mode\":\"markers\",\"name\":\"WEX\",\"orientation\":\"v\",\"showlegend\":true,\"x\":[\"WEX\"],\"xaxis\":\"x\",\"y\":[1],\"yaxis\":\"y\",\"type\":\"scatter\"},{\"hovertemplate\":\"company_name=%{x}<br>company_name_count=%{marker.size}<extra></extra>\",\"legendgroup\":\"InComm Payments\",\"marker\":{\"color\":\"#00cc96\",\"size\":[1],\"sizemode\":\"area\",\"sizeref\":0.095,\"symbol\":\"circle\"},\"mode\":\"markers\",\"name\":\"InComm Payments\",\"orientation\":\"v\",\"showlegend\":true,\"x\":[\"InComm Payments\"],\"xaxis\":\"x\",\"y\":[1],\"yaxis\":\"y\",\"type\":\"scatter\"},{\"hovertemplate\":\"company_name=%{x}<br>company_name_count=%{marker.size}<extra></extra>\",\"legendgroup\":\"Atmosfy, Inc\",\"marker\":{\"color\":\"#ab63fa\",\"size\":[1],\"sizemode\":\"area\",\"sizeref\":0.095,\"symbol\":\"circle\"},\"mode\":\"markers\",\"name\":\"Atmosfy, Inc\",\"orientation\":\"v\",\"showlegend\":true,\"x\":[\"Atmosfy, Inc\"],\"xaxis\":\"x\",\"y\":[1],\"yaxis\":\"y\",\"type\":\"scatter\"},{\"hovertemplate\":\"company_name=%{x}<br>company_name_count=%{marker.size}<extra></extra>\",\"legendgroup\":\"Life.Church\",\"marker\":{\"color\":\"#FFA15A\",\"size\":[1],\"sizemode\":\"area\",\"sizeref\":0.095,\"symbol\":\"circle\"},\"mode\":\"markers\",\"name\":\"Life.Church\",\"orientation\":\"v\",\"showlegend\":true,\"x\":[\"Life.Church\"],\"xaxis\":\"x\",\"y\":[1],\"yaxis\":\"y\",\"type\":\"scatter\"},{\"hovertemplate\":\"company_name=%{x}<br>company_name_count=%{marker.size}<extra></extra>\",\"legendgroup\":\"Lockton Companies\",\"marker\":{\"color\":\"#19d3f3\",\"size\":[1],\"sizemode\":\"area\",\"sizeref\":0.095,\"symbol\":\"circle\"},\"mode\":\"markers\",\"name\":\"Lockton Companies\",\"orientation\":\"v\",\"showlegend\":true,\"x\":[\"Lockton Companies\"],\"xaxis\":\"x\",\"y\":[1],\"yaxis\":\"y\",\"type\":\"scatter\"},{\"hovertemplate\":\"company_name=%{x}<br>company_name_count=%{marker.size}<extra></extra>\",\"legendgroup\":\"Elevance Health\",\"marker\":{\"color\":\"#FF6692\",\"size\":[2,2],\"sizemode\":\"area\",\"sizeref\":0.095,\"symbol\":\"circle\"},\"mode\":\"markers\",\"name\":\"Elevance Health\",\"orientation\":\"v\",\"showlegend\":true,\"x\":[\"Elevance Health\",\"Elevance Health\"],\"xaxis\":\"x\",\"y\":[2,2],\"yaxis\":\"y\",\"type\":\"scatter\"},{\"hovertemplate\":\"company_name=%{x}<br>company_name_count=%{marker.size}<extra></extra>\",\"legendgroup\":\"Trigyn\",\"marker\":{\"color\":\"#B6E880\",\"size\":[1],\"sizemode\":\"area\",\"sizeref\":0.095,\"symbol\":\"circle\"},\"mode\":\"markers\",\"name\":\"Trigyn\",\"orientation\":\"v\",\"showlegend\":true,\"x\":[\"Trigyn\"],\"xaxis\":\"x\",\"y\":[1],\"yaxis\":\"y\",\"type\":\"scatter\"},{\"hovertemplate\":\"company_name=%{x}<br>company_name_count=%{marker.size}<extra></extra>\",\"legendgroup\":\"Google Inc.\",\"marker\":{\"color\":\"#FF97FF\",\"size\":[1],\"sizemode\":\"area\",\"sizeref\":0.095,\"symbol\":\"circle\"},\"mode\":\"markers\",\"name\":\"Google Inc.\",\"orientation\":\"v\",\"showlegend\":true,\"x\":[\"Google Inc.\"],\"xaxis\":\"x\",\"y\":[1],\"yaxis\":\"y\",\"type\":\"scatter\"},{\"hovertemplate\":\"company_name=%{x}<br>company_name_count=%{marker.size}<extra></extra>\",\"legendgroup\":\"apree health\",\"marker\":{\"color\":\"#FECB52\",\"size\":[1],\"sizemode\":\"area\",\"sizeref\":0.095,\"symbol\":\"circle\"},\"mode\":\"markers\",\"name\":\"apree health\",\"orientation\":\"v\",\"showlegend\":true,\"x\":[\"apree health\"],\"xaxis\":\"x\",\"y\":[1],\"yaxis\":\"y\",\"type\":\"scatter\"},{\"hovertemplate\":\"company_name=%{x}<br>company_name_count=%{marker.size}<extra></extra>\",\"legendgroup\":\"Aon\",\"marker\":{\"color\":\"#636efa\",\"size\":[1],\"sizemode\":\"area\",\"sizeref\":0.095,\"symbol\":\"circle\"},\"mode\":\"markers\",\"name\":\"Aon\",\"orientation\":\"v\",\"showlegend\":true,\"x\":[\"Aon\"],\"xaxis\":\"x\",\"y\":[1],\"yaxis\":\"y\",\"type\":\"scatter\"},{\"hovertemplate\":\"company_name=%{x}<br>company_name_count=%{marker.size}<extra></extra>\",\"legendgroup\":\"Superior HealthPlan\",\"marker\":{\"color\":\"#EF553B\",\"size\":[1],\"sizemode\":\"area\",\"sizeref\":0.095,\"symbol\":\"circle\"},\"mode\":\"markers\",\"name\":\"Superior HealthPlan\",\"orientation\":\"v\",\"showlegend\":true,\"x\":[\"Superior HealthPlan\"],\"xaxis\":\"x\",\"y\":[1],\"yaxis\":\"y\",\"type\":\"scatter\"},{\"hovertemplate\":\"company_name=%{x}<br>company_name_count=%{marker.size}<extra></extra>\",\"legendgroup\":\"Elsevier Inc. Company\",\"marker\":{\"color\":\"#00cc96\",\"size\":[1],\"sizemode\":\"area\",\"sizeref\":0.095,\"symbol\":\"circle\"},\"mode\":\"markers\",\"name\":\"Elsevier Inc. Company\",\"orientation\":\"v\",\"showlegend\":true,\"x\":[\"Elsevier Inc. Company\"],\"xaxis\":\"x\",\"y\":[1],\"yaxis\":\"y\",\"type\":\"scatter\"},{\"hovertemplate\":\"company_name=%{x}<br>company_name_count=%{marker.size}<extra></extra>\",\"legendgroup\":\"Cenetene Corporation\",\"marker\":{\"color\":\"#ab63fa\",\"size\":[1],\"sizemode\":\"area\",\"sizeref\":0.095,\"symbol\":\"circle\"},\"mode\":\"markers\",\"name\":\"Cenetene Corporation\",\"orientation\":\"v\",\"showlegend\":true,\"x\":[\"Cenetene Corporation\"],\"xaxis\":\"x\",\"y\":[1],\"yaxis\":\"y\",\"type\":\"scatter\"},{\"hovertemplate\":\"company_name=%{x}<br>company_name_count=%{marker.size}<extra></extra>\",\"legendgroup\":\"Aon Careers\",\"marker\":{\"color\":\"#FFA15A\",\"size\":[1],\"sizemode\":\"area\",\"sizeref\":0.095,\"symbol\":\"circle\"},\"mode\":\"markers\",\"name\":\"Aon Careers\",\"orientation\":\"v\",\"showlegend\":true,\"x\":[\"Aon Careers\"],\"xaxis\":\"x\",\"y\":[1],\"yaxis\":\"y\",\"type\":\"scatter\"},{\"hovertemplate\":\"company_name=%{x}<br>company_name_count=%{marker.size}<extra></extra>\",\"legendgroup\":\"Amerit Fleet Solutions\",\"marker\":{\"color\":\"#19d3f3\",\"size\":[1],\"sizemode\":\"area\",\"sizeref\":0.095,\"symbol\":\"circle\"},\"mode\":\"markers\",\"name\":\"Amerit Fleet Solutions\",\"orientation\":\"v\",\"showlegend\":true,\"x\":[\"Amerit Fleet Solutions\"],\"xaxis\":\"x\",\"y\":[1],\"yaxis\":\"y\",\"type\":\"scatter\"},{\"hovertemplate\":\"company_name=%{x}<br>company_name_count=%{marker.size}<extra></extra>\",\"legendgroup\":\"Virtue Group\",\"marker\":{\"color\":\"#FF6692\",\"size\":[1],\"sizemode\":\"area\",\"sizeref\":0.095,\"symbol\":\"circle\"},\"mode\":\"markers\",\"name\":\"Virtue Group\",\"orientation\":\"v\",\"showlegend\":true,\"x\":[\"Virtue Group\"],\"xaxis\":\"x\",\"y\":[1],\"yaxis\":\"y\",\"type\":\"scatter\"},{\"hovertemplate\":\"company_name=%{x}<br>company_name_count=%{marker.size}<extra></extra>\",\"legendgroup\":\"Encipher Technology\",\"marker\":{\"color\":\"#B6E880\",\"size\":[1],\"sizemode\":\"area\",\"sizeref\":0.095,\"symbol\":\"circle\"},\"mode\":\"markers\",\"name\":\"Encipher Technology\",\"orientation\":\"v\",\"showlegend\":true,\"x\":[\"Encipher Technology\"],\"xaxis\":\"x\",\"y\":[1],\"yaxis\":\"y\",\"type\":\"scatter\"},{\"hovertemplate\":\"company_name=%{x}<br>company_name_count=%{marker.size}<extra></extra>\",\"legendgroup\":\"Covariant\",\"marker\":{\"color\":\"#FF97FF\",\"size\":[1],\"sizemode\":\"area\",\"sizeref\":0.095,\"symbol\":\"circle\"},\"mode\":\"markers\",\"name\":\"Covariant\",\"orientation\":\"v\",\"showlegend\":true,\"x\":[\"Covariant\"],\"xaxis\":\"x\",\"y\":[1],\"yaxis\":\"y\",\"type\":\"scatter\"},{\"hovertemplate\":\"company_name=%{x}<br>company_name_count=%{marker.size}<extra></extra>\",\"legendgroup\":\"JR Software Solutions\",\"marker\":{\"color\":\"#FECB52\",\"size\":[1],\"sizemode\":\"area\",\"sizeref\":0.095,\"symbol\":\"circle\"},\"mode\":\"markers\",\"name\":\"JR Software Solutions\",\"orientation\":\"v\",\"showlegend\":true,\"x\":[\"JR Software Solutions\"],\"xaxis\":\"x\",\"y\":[1],\"yaxis\":\"y\",\"type\":\"scatter\"},{\"hovertemplate\":\"company_name=%{x}<br>company_name_count=%{marker.size}<extra></extra>\",\"legendgroup\":\"General Electric\",\"marker\":{\"color\":\"#636efa\",\"size\":[1],\"sizemode\":\"area\",\"sizeref\":0.095,\"symbol\":\"circle\"},\"mode\":\"markers\",\"name\":\"General Electric\",\"orientation\":\"v\",\"showlegend\":true,\"x\":[\"General Electric\"],\"xaxis\":\"x\",\"y\":[1],\"yaxis\":\"y\",\"type\":\"scatter\"},{\"hovertemplate\":\"company_name=%{x}<br>company_name_count=%{marker.size}<extra></extra>\",\"legendgroup\":\"VC-Backed Metaverse Startup\",\"marker\":{\"color\":\"#EF553B\",\"size\":[1],\"sizemode\":\"area\",\"sizeref\":0.095,\"symbol\":\"circle\"},\"mode\":\"markers\",\"name\":\"VC-Backed Metaverse Startup\",\"orientation\":\"v\",\"showlegend\":true,\"x\":[\"VC-Backed Metaverse Startup\"],\"xaxis\":\"x\",\"y\":[1],\"yaxis\":\"y\",\"type\":\"scatter\"},{\"hovertemplate\":\"company_name=%{x}<br>company_name_count=%{marker.size}<extra></extra>\",\"legendgroup\":\"Blockdaemon\",\"marker\":{\"color\":\"#00cc96\",\"size\":[1],\"sizemode\":\"area\",\"sizeref\":0.095,\"symbol\":\"circle\"},\"mode\":\"markers\",\"name\":\"Blockdaemon\",\"orientation\":\"v\",\"showlegend\":true,\"x\":[\"Blockdaemon\"],\"xaxis\":\"x\",\"y\":[1],\"yaxis\":\"y\",\"type\":\"scatter\"},{\"hovertemplate\":\"company_name=%{x}<br>company_name_count=%{marker.size}<extra></extra>\",\"legendgroup\":\"Chainlink Labs\",\"marker\":{\"color\":\"#ab63fa\",\"size\":[1],\"sizemode\":\"area\",\"sizeref\":0.095,\"symbol\":\"circle\"},\"mode\":\"markers\",\"name\":\"Chainlink Labs\",\"orientation\":\"v\",\"showlegend\":true,\"x\":[\"Chainlink Labs\"],\"xaxis\":\"x\",\"y\":[1],\"yaxis\":\"y\",\"type\":\"scatter\"},{\"hovertemplate\":\"company_name=%{x}<br>company_name_count=%{marker.size}<extra></extra>\",\"legendgroup\":\"Brain Technologies, Inc.\",\"marker\":{\"color\":\"#FFA15A\",\"size\":[1],\"sizemode\":\"area\",\"sizeref\":0.095,\"symbol\":\"circle\"},\"mode\":\"markers\",\"name\":\"Brain Technologies, Inc.\",\"orientation\":\"v\",\"showlegend\":true,\"x\":[\"Brain Technologies, Inc.\"],\"xaxis\":\"x\",\"y\":[1],\"yaxis\":\"y\",\"type\":\"scatter\"}],                        {\"template\":{\"data\":{\"histogram2dcontour\":[{\"type\":\"histogram2dcontour\",\"colorbar\":{\"outlinewidth\":0,\"ticks\":\"\"},\"colorscale\":[[0.0,\"#0d0887\"],[0.1111111111111111,\"#46039f\"],[0.2222222222222222,\"#7201a8\"],[0.3333333333333333,\"#9c179e\"],[0.4444444444444444,\"#bd3786\"],[0.5555555555555556,\"#d8576b\"],[0.6666666666666666,\"#ed7953\"],[0.7777777777777778,\"#fb9f3a\"],[0.8888888888888888,\"#fdca26\"],[1.0,\"#f0f921\"]]}],\"choropleth\":[{\"type\":\"choropleth\",\"colorbar\":{\"outlinewidth\":0,\"ticks\":\"\"}}],\"histogram2d\":[{\"type\":\"histogram2d\",\"colorbar\":{\"outlinewidth\":0,\"ticks\":\"\"},\"colorscale\":[[0.0,\"#0d0887\"],[0.1111111111111111,\"#46039f\"],[0.2222222222222222,\"#7201a8\"],[0.3333333333333333,\"#9c179e\"],[0.4444444444444444,\"#bd3786\"],[0.5555555555555556,\"#d8576b\"],[0.6666666666666666,\"#ed7953\"],[0.7777777777777778,\"#fb9f3a\"],[0.8888888888888888,\"#fdca26\"],[1.0,\"#f0f921\"]]}],\"heatmap\":[{\"type\":\"heatmap\",\"colorbar\":{\"outlinewidth\":0,\"ticks\":\"\"},\"colorscale\":[[0.0,\"#0d0887\"],[0.1111111111111111,\"#46039f\"],[0.2222222222222222,\"#7201a8\"],[0.3333333333333333,\"#9c179e\"],[0.4444444444444444,\"#bd3786\"],[0.5555555555555556,\"#d8576b\"],[0.6666666666666666,\"#ed7953\"],[0.7777777777777778,\"#fb9f3a\"],[0.8888888888888888,\"#fdca26\"],[1.0,\"#f0f921\"]]}],\"heatmapgl\":[{\"type\":\"heatmapgl\",\"colorbar\":{\"outlinewidth\":0,\"ticks\":\"\"},\"colorscale\":[[0.0,\"#0d0887\"],[0.1111111111111111,\"#46039f\"],[0.2222222222222222,\"#7201a8\"],[0.3333333333333333,\"#9c179e\"],[0.4444444444444444,\"#bd3786\"],[0.5555555555555556,\"#d8576b\"],[0.6666666666666666,\"#ed7953\"],[0.7777777777777778,\"#fb9f3a\"],[0.8888888888888888,\"#fdca26\"],[1.0,\"#f0f921\"]]}],\"contourcarpet\":[{\"type\":\"contourcarpet\",\"colorbar\":{\"outlinewidth\":0,\"ticks\":\"\"}}],\"contour\":[{\"type\":\"contour\",\"colorbar\":{\"outlinewidth\":0,\"ticks\":\"\"},\"colorscale\":[[0.0,\"#0d0887\"],[0.1111111111111111,\"#46039f\"],[0.2222222222222222,\"#7201a8\"],[0.3333333333333333,\"#9c179e\"],[0.4444444444444444,\"#bd3786\"],[0.5555555555555556,\"#d8576b\"],[0.6666666666666666,\"#ed7953\"],[0.7777777777777778,\"#fb9f3a\"],[0.8888888888888888,\"#fdca26\"],[1.0,\"#f0f921\"]]}],\"surface\":[{\"type\":\"surface\",\"colorbar\":{\"outlinewidth\":0,\"ticks\":\"\"},\"colorscale\":[[0.0,\"#0d0887\"],[0.1111111111111111,\"#46039f\"],[0.2222222222222222,\"#7201a8\"],[0.3333333333333333,\"#9c179e\"],[0.4444444444444444,\"#bd3786\"],[0.5555555555555556,\"#d8576b\"],[0.6666666666666666,\"#ed7953\"],[0.7777777777777778,\"#fb9f3a\"],[0.8888888888888888,\"#fdca26\"],[1.0,\"#f0f921\"]]}],\"mesh3d\":[{\"type\":\"mesh3d\",\"colorbar\":{\"outlinewidth\":0,\"ticks\":\"\"}}],\"scatter\":[{\"fillpattern\":{\"fillmode\":\"overlay\",\"size\":10,\"solidity\":0.2},\"type\":\"scatter\"}],\"parcoords\":[{\"type\":\"parcoords\",\"line\":{\"colorbar\":{\"outlinewidth\":0,\"ticks\":\"\"}}}],\"scatterpolargl\":[{\"type\":\"scatterpolargl\",\"marker\":{\"colorbar\":{\"outlinewidth\":0,\"ticks\":\"\"}}}],\"bar\":[{\"error_x\":{\"color\":\"#2a3f5f\"},\"error_y\":{\"color\":\"#2a3f5f\"},\"marker\":{\"line\":{\"color\":\"#E5ECF6\",\"width\":0.5},\"pattern\":{\"fillmode\":\"overlay\",\"size\":10,\"solidity\":0.2}},\"type\":\"bar\"}],\"scattergeo\":[{\"type\":\"scattergeo\",\"marker\":{\"colorbar\":{\"outlinewidth\":0,\"ticks\":\"\"}}}],\"scatterpolar\":[{\"type\":\"scatterpolar\",\"marker\":{\"colorbar\":{\"outlinewidth\":0,\"ticks\":\"\"}}}],\"histogram\":[{\"marker\":{\"pattern\":{\"fillmode\":\"overlay\",\"size\":10,\"solidity\":0.2}},\"type\":\"histogram\"}],\"scattergl\":[{\"type\":\"scattergl\",\"marker\":{\"colorbar\":{\"outlinewidth\":0,\"ticks\":\"\"}}}],\"scatter3d\":[{\"type\":\"scatter3d\",\"line\":{\"colorbar\":{\"outlinewidth\":0,\"ticks\":\"\"}},\"marker\":{\"colorbar\":{\"outlinewidth\":0,\"ticks\":\"\"}}}],\"scattermapbox\":[{\"type\":\"scattermapbox\",\"marker\":{\"colorbar\":{\"outlinewidth\":0,\"ticks\":\"\"}}}],\"scatterternary\":[{\"type\":\"scatterternary\",\"marker\":{\"colorbar\":{\"outlinewidth\":0,\"ticks\":\"\"}}}],\"scattercarpet\":[{\"type\":\"scattercarpet\",\"marker\":{\"colorbar\":{\"outlinewidth\":0,\"ticks\":\"\"}}}],\"carpet\":[{\"aaxis\":{\"endlinecolor\":\"#2a3f5f\",\"gridcolor\":\"white\",\"linecolor\":\"white\",\"minorgridcolor\":\"white\",\"startlinecolor\":\"#2a3f5f\"},\"baxis\":{\"endlinecolor\":\"#2a3f5f\",\"gridcolor\":\"white\",\"linecolor\":\"white\",\"minorgridcolor\":\"white\",\"startlinecolor\":\"#2a3f5f\"},\"type\":\"carpet\"}],\"table\":[{\"cells\":{\"fill\":{\"color\":\"#EBF0F8\"},\"line\":{\"color\":\"white\"}},\"header\":{\"fill\":{\"color\":\"#C8D4E3\"},\"line\":{\"color\":\"white\"}},\"type\":\"table\"}],\"barpolar\":[{\"marker\":{\"line\":{\"color\":\"#E5ECF6\",\"width\":0.5},\"pattern\":{\"fillmode\":\"overlay\",\"size\":10,\"solidity\":0.2}},\"type\":\"barpolar\"}],\"pie\":[{\"automargin\":true,\"type\":\"pie\"}]},\"layout\":{\"autotypenumbers\":\"strict\",\"colorway\":[\"#636efa\",\"#EF553B\",\"#00cc96\",\"#ab63fa\",\"#FFA15A\",\"#19d3f3\",\"#FF6692\",\"#B6E880\",\"#FF97FF\",\"#FECB52\"],\"font\":{\"color\":\"#2a3f5f\"},\"hovermode\":\"closest\",\"hoverlabel\":{\"align\":\"left\"},\"paper_bgcolor\":\"white\",\"plot_bgcolor\":\"#E5ECF6\",\"polar\":{\"bgcolor\":\"#E5ECF6\",\"angularaxis\":{\"gridcolor\":\"white\",\"linecolor\":\"white\",\"ticks\":\"\"},\"radialaxis\":{\"gridcolor\":\"white\",\"linecolor\":\"white\",\"ticks\":\"\"}},\"ternary\":{\"bgcolor\":\"#E5ECF6\",\"aaxis\":{\"gridcolor\":\"white\",\"linecolor\":\"white\",\"ticks\":\"\"},\"baxis\":{\"gridcolor\":\"white\",\"linecolor\":\"white\",\"ticks\":\"\"},\"caxis\":{\"gridcolor\":\"white\",\"linecolor\":\"white\",\"ticks\":\"\"}},\"coloraxis\":{\"colorbar\":{\"outlinewidth\":0,\"ticks\":\"\"}},\"colorscale\":{\"sequential\":[[0.0,\"#0d0887\"],[0.1111111111111111,\"#46039f\"],[0.2222222222222222,\"#7201a8\"],[0.3333333333333333,\"#9c179e\"],[0.4444444444444444,\"#bd3786\"],[0.5555555555555556,\"#d8576b\"],[0.6666666666666666,\"#ed7953\"],[0.7777777777777778,\"#fb9f3a\"],[0.8888888888888888,\"#fdca26\"],[1.0,\"#f0f921\"]],\"sequentialminus\":[[0.0,\"#0d0887\"],[0.1111111111111111,\"#46039f\"],[0.2222222222222222,\"#7201a8\"],[0.3333333333333333,\"#9c179e\"],[0.4444444444444444,\"#bd3786\"],[0.5555555555555556,\"#d8576b\"],[0.6666666666666666,\"#ed7953\"],[0.7777777777777778,\"#fb9f3a\"],[0.8888888888888888,\"#fdca26\"],[1.0,\"#f0f921\"]],\"diverging\":[[0,\"#8e0152\"],[0.1,\"#c51b7d\"],[0.2,\"#de77ae\"],[0.3,\"#f1b6da\"],[0.4,\"#fde0ef\"],[0.5,\"#f7f7f7\"],[0.6,\"#e6f5d0\"],[0.7,\"#b8e186\"],[0.8,\"#7fbc41\"],[0.9,\"#4d9221\"],[1,\"#276419\"]]},\"xaxis\":{\"gridcolor\":\"white\",\"linecolor\":\"white\",\"ticks\":\"\",\"title\":{\"standoff\":15},\"zerolinecolor\":\"white\",\"automargin\":true,\"zerolinewidth\":2},\"yaxis\":{\"gridcolor\":\"white\",\"linecolor\":\"white\",\"ticks\":\"\",\"title\":{\"standoff\":15},\"zerolinecolor\":\"white\",\"automargin\":true,\"zerolinewidth\":2},\"scene\":{\"xaxis\":{\"backgroundcolor\":\"#E5ECF6\",\"gridcolor\":\"white\",\"linecolor\":\"white\",\"showbackground\":true,\"ticks\":\"\",\"zerolinecolor\":\"white\",\"gridwidth\":2},\"yaxis\":{\"backgroundcolor\":\"#E5ECF6\",\"gridcolor\":\"white\",\"linecolor\":\"white\",\"showbackground\":true,\"ticks\":\"\",\"zerolinecolor\":\"white\",\"gridwidth\":2},\"zaxis\":{\"backgroundcolor\":\"#E5ECF6\",\"gridcolor\":\"white\",\"linecolor\":\"white\",\"showbackground\":true,\"ticks\":\"\",\"zerolinecolor\":\"white\",\"gridwidth\":2}},\"shapedefaults\":{\"line\":{\"color\":\"#2a3f5f\"}},\"annotationdefaults\":{\"arrowcolor\":\"#2a3f5f\",\"arrowhead\":0,\"arrowwidth\":1},\"geo\":{\"bgcolor\":\"white\",\"landcolor\":\"#E5ECF6\",\"subunitcolor\":\"white\",\"showland\":true,\"showlakes\":true,\"lakecolor\":\"white\"},\"title\":{\"x\":0.05},\"mapbox\":{\"style\":\"light\"}}},\"xaxis\":{\"anchor\":\"y\",\"domain\":[0.0,1.0],\"title\":{\"text\":\"company_name\"},\"categoryorder\":\"array\",\"categoryarray\":[\"Ex Populus\",\"21.co\",\"Blockchain Institute of Technology\",\"Upwork\",\"Telnyx\",\"Turnblock.io\",\"Bitquery\",\"Jobot\",\"Atechstar\",\"Cryptops Exchange\",\"Johns Hopkins University\",\"Leidos\",\"CEDENT\",\"MultiPlan Inc.\",\"MetaMetrics Inc\",\"Leidos Inc\",\"Oak Ridge National Laboratory\",\"Agolo\",\"TalentBurst\",\"JPMorgan Chase\",\"Base-2 Solutions\",\"Tephra Inc.\",\"Triumph Tech\",\"Full Stack Resources\",\"Erias Ventures, LLC\",\"ARSIEM Corporation\",\"Novetta\",\"NiSUS Technologies Corporation\",\"Farfield Systems\",\"Booz Allen Hamilton\",\"Potomac Management Solutions, LLC\",\"INTECON\",\"General Dynamics Information Technology\",\"Gentis Solutions\",\"Tiber Creek Consulting\",\"Cydecor, Inc\",\"Dice\",\"Lockheed Martin\",\"Cyrad Solutions LLC\",\"Booking.com\",\"Two Six Technologies\",\"Peraton\",\"Capital One\",\"Scale AI\",\"Deloitte\",\"Comcast\",\"Accenture Federal Services\",\"Ellumen, Inc\",\"Capital One Financial Corporation\",\"Johns Hopkins Applied Physics Laboratory\",\"Amentum\",\"Expedition Technology Inc.\",\"Snap Inc.\",\"Heartland Consulting\",\"Latitude, Inc.\",\"Howard Hughes Medical Institute (HHMI)\",\"Liberty Personnel Services, Inc\",\"NTT DATA  Services\",\"CAVA\",\"Toffler Associates, Inc.\",\"Delta Solutions & Strategies\",\"Cherokee Federal\",\"Avid Technology Professionals, LLC\",\"Google\",\"BrainTrust Holdings\",\"ARSIEM\",\"Amazon Web Services, Inc.\",\"Rakuten USA, Inc.\",\"IntelliGenesis LLC\",\"Arsiem Corporation\",\"Castaway Research\",\"Government Employees Insurance Company - GEICO\",\"Morfologica\",\"TeacherOn\",\"National Library of Medicine\",\"Neuro Systems\",\"Supportiv\",\"Amazon.com, Inc\",\"Amazon.com Services LLC\",\"Swift\",\"CGI Group, Inc.\",\"Flow Blockchain\",\"Dapper Labs\",\"Axelar\",\"Content Machine\",\"Microsoft\",\"JPMC Candidate Experience page\",\"Apple\",\"Quora\",\"InstaDeep Ltd\",\"OpenAI\",\"STR\",\"Aurora Innovation\",\"Netflix\",\"Braintrust\",\"Grand Canyon University\",\"Neural Magic\",\"Harsco Corporation\",\"Owl Autonomous Imaging\",\"Riccione Resources\",\"Tesla\",\"Certified Employment Group\",\"BU_IS, Raytheon Technologies\",\"Gryphon Scientific\",\"Guidehouse\",\"ManTech International\",\"ENS Solutions\",\"cBEYONData\",\"GovCIO\",\"Blend360\",\"ICF\",\"SRI International\",\"Cogent Security Consulting\",\"SAIC\",\"ClearanceJobs\",\"INDEX ANALYTICS LLC\",\"Trident Systems Inc\",\"Trilogy Innovations Inc\",\"Curai\",\"Motional\",\"Workarise\",\"2100 NVIDIA USA\",\"Covera Health\",\"Facebook\",\"Bosch Group LLC\",\"Robinhood\",\"Keyo\",\"Forethought\",\"InstaDeep\",\"1014 United States of America, Convatec\",\"Arena AI\",\"Unify Consulting\",\"MathWorks\",\"10001252 - AI Science Specialist\",\"Anyscale\",\"jpmc/CX_1001\",\"OriGen.AI\",\"Wolfram\",\"DATA FUSION & NEURAL NETWORKS\",\"Comcast Corporation\",\"Elajika Inc\",\"Prescient Edge\",\"Planet Pharma\",\"Shelf Engine\",\"SOS International LLC\",\"Chenega Corporation\",\"USAJOBS\",\"Cross Screen Media\",\"Mathematica Policy Research\",\"Diverse Lynx\",\"Apple, Inc.\",\"Topaz Labs\",\"Bronson Technical Search\",\"OPPO US Research Center\",\"Genentech\",\"Indotronix International Corporation\",\"Abnormal Security\",\"Intel Corporation\",\"LLNL\",\"GSK\",\"Cyberjin\",\"Deeproute.ai\",\"RIOS Intelligent Machines\",\"Kitware\",\"Azimuth Corporation\",\"BitRelish Corporation\",\"Agricultural Research Service\",\"Hilton\",\"Celestar Corporation\",\"The Home Depot\",\"Primordial Labs\",\"Samson Rose\",\"MultiPlan\",\"Microsoft Corporation\",\"Generally Intelligent\",\"Matroid\",\"Cadence Design Systems\",\"UCLA Health Systems\",\"Gen Nine, Inc.\",\"Qualcomm\",\"Netra\",\"Universit\\u00e9 d'Artois / LGI2A\",\"Recruiting from Scratch\",\"Robert Bosch\",\"IBM Corporation\",\"Innova Solutions\",\"Authenticx\",\"Multiplan\",\"Fusemachines\",\"Amun Tokens\",\"BNY Mellon\",\"Jump Crypto\",\"Snickerdoodle Labs\",\"Allium\",\"Analog\",\"Fintech Recruiters\",\"ZetaChain\",\"Provenance Blockchain Foundation\",\"Tala\",\"Meetup\",\"Docugami\",\"Warner Bros. Discovery\",\"Hopper\",\"L3Harris\",\"Lafayette Federal Credit Union\",\"The Lancet\",\"Cinteot\",\"Apex Systems\",\"Bering Straits Native Corporation (BSNC)\",\"International Logic Systems, Inc.\",\"CACI\",\"Limitless Talent Solutions\",\"Raytheon Technologies\",\"The DarkStar Group\",\"360 IT Professionals\",\"Johnson Technology Systems Inc.\",\"Applied Information Sciences\",\"inforeliance\",\"WayUp\",\"PerunHR\",\"Genesis10\",\"Serco North America\",\"Datalab USA\",\"Beacon Building Products\",\"LMI\",\"ASHLIN Management Group, Inc.\",\"K12 Inc\",\"Simplebet\",\"Iterative Health\",\"Fable\",\"Chime\",\"DoorDash\",\"Protochain Research\",\"DoraHacks\",\"Kraken Digital Asset Exchange\",\"Aptos\",\"DCryptoTools\",\"Fidelity Investments Careers\",\"FuseMachines\",\"Turing Talent\",\"NANOTRONICS IMAGING INC\",\"Toyota Research Institute\",\"Tencent Americas\",\"Federal Reserve Bank (FRB)\",\"Truist\",\"geojam\",\"Exodus\",\"EY\",\"Software Technology Inc.\",\"MCKESSON\",\"Northwestern Mutual\",\"CHRISTUS Health\",\"7Z4 Pfizer, Inc.\",\"John Deere\",\"Trustees of University of Pennsylvania\",\"Explorium\",\"CBRE\",\"Mars\",\"Parsons Corporation\",\"MIT Lincoln Laboratory\",\"Block\",\"Staples\",\"Teradyne\",\"Got It AI\",\"HPE1US\",\"Hewlett Packard Enterprise\",\"Orion Consortium\",\"SSI\",\"Snowflake Computing\",\"Base-2 Solutions, LLC\",\"Cargill\",\"Rectangle Health\",\"Tendo Systems\",\"Walmart\",\"Robert Half\",\"Corporate\",\"Aurora Solar\",\"CareSource\",\"Nebraska State Government\",\"Informatica\",\"ServiceTitan\",\"Capital One - US\",\"Barrington James\",\"Wells Fargo\",\"Expedia Group\",\"Dropbox\",\"Oklahoma Medical Research Foundation (OMRF)\",\"Ford Motor Company\",\"Cox Enterprises\",\"The Rector & Visitors of the University of Virginia\",\"Airswift\",\"American Technology Consulting - ATC\",\"Kanini\",\"Open Systems Technologies\",\"ASK Staffing\",\"University of Michigan\",\"W3Global\",\"Unstoppable Domains\",\"EigenLabs\",\"Crypto.com\",\"Walmart Global Tech\",\"Vertex Inc.\",\"Nvidia Corporation\",\"Skydio\",\"Imagry\",\"EnsoData\",\"MD Anderson\",\"SPECTRUM\",\"Cottonwood Financial\",\"Darwin Recruitment Switzerland\",\"Reddit\",\"Globe Life, Inc\",\"6sense\",\"NextEra Energy\",\"PNC\",\"Love's Travel Stops\",\"Dave Inc.\",\"Health Care Service Corporation\",\"CoreLogic\",\"McKinsey & Company\",\"GXO Logistics\",\"Curriculum Associates\",\"Experfy\",\"NASA Jet Propulsion Laboratory California Institut\",\"Caterpillar, Inc\",\"The Phoenix Group\",\"SynergisticIT\",\"Zortech Solutions\",\"HexaQuest Global\",\"Armorblox\",\"Shaped\",\"Fortinet\",\"Got It\",\"Bloomberg\",\"L3Harris Technologies\",\"Harnham\",\"Cision\",\"Grainger\",\"CO0001 The New York Times Company\",\"Invitae\",\"Lucet (New Directions Behavioral Health)\",\"Nordstrom\",\"Michael Page\",\"Children's Hospital Association\",\"Scratch Financial, Inc.\",\"State of Oklahoma\",\"MultiPlan, Inc\",\"Coursera Sourcing\",\"Home Depot / THD\",\"University of Wisconsin-Madison\",\"FedEx\",\"Colgate-Palmolive Company\",\"International Monetary Fund\",\"Caterpillar\",\"Abbott Laboratories\",\"Northwestern University\",\"Walgreens\",\"Unlearn.AI\",\"University of Minnesota\",\"PathAI\",\"Armis Industries\",\"Adobe\",\"AssemblyAI\",\"Absci\",\"MoTek Technologies\",\"Eightfold AI\",\"University of California Los Angeles\",\"Binance\",\"Trac Technologies, Inc.\",\"Ripple\",\"Resource 1\",\"LandOLakes\",\"Global IDEAS, Michigan State University\",\"Blue Cross Blue Shield of Minnesota\",\"AbbVie\",\"Sam's Club\",\"ABBVIE\",\"ISSAC LLC\",\"Kovasys\",\"Dana\\u2013Farber Cancer Institute\",\"SommerAI\",\"Three Pillars Recruiting\",\"Bank of America\",\"IBM Careers\",\"Westbourne Quantitative Trading, Technology & Research\",\"Degreed\",\"Rivian\",\"mozee\",\"Innopeak Tech Inc\",\"Flagship Pioneering\",\"Premier System\",\"Ansys\",\"VIMworld\",\"BloKchain Talent, LLC\",\"Amazon Dev Center U.S., Inc.\",\"OAK Network\",\"Fox Corporation\",\"Lawrence Livermore National Laboratory\",\"Saxon Global Inc\",\"Edgetensor Technologies\",\"Technical Link\",\"WEX\",\"InComm Payments\",\"Atmosfy, Inc\",\"Life.Church\",\"Lockton Companies\",\"Elevance Health\",\"Trigyn\",\"Google Inc.\",\"apree health\",\"Aon\",\"Superior HealthPlan\",\"Elsevier Inc. Company\",\"Cenetene Corporation\",\"Aon Careers\",\"Amerit Fleet Solutions\",\"Virtue Group\",\"Encipher Technology\",\"Covariant\",\"JR Software Solutions\",\"General Electric\",\"VC-Backed Metaverse Startup\",\"Blockdaemon\",\"Chainlink Labs\",\"Brain Technologies, Inc.\"]},\"yaxis\":{\"anchor\":\"x\",\"domain\":[0.0,1.0],\"title\":{\"text\":\"company_name_count\"}},\"legend\":{\"title\":{\"text\":\"company_name\"},\"tracegroupgap\":0,\"itemsizing\":\"constant\"},\"margin\":{\"t\":60}},                        {\"responsive\": true}                    ).then(function(){\n",
       "                            \n",
       "var gd = document.getElementById('927f3b5d-c581-45af-bd4a-d06088308e38');\n",
       "var x = new MutationObserver(function (mutations, observer) {{\n",
       "        var display = window.getComputedStyle(gd).display;\n",
       "        if (!display || display === 'none') {{\n",
       "            console.log([gd, 'removed!']);\n",
       "            Plotly.purge(gd);\n",
       "            observer.disconnect();\n",
       "        }}\n",
       "}});\n",
       "\n",
       "// Listen for the removal of the full notebook cells\n",
       "var notebookContainer = gd.closest('#notebook-container');\n",
       "if (notebookContainer) {{\n",
       "    x.observe(notebookContainer, {childList: true});\n",
       "}}\n",
       "\n",
       "// Listen for the clearing of the current output cell\n",
       "var outputEl = gd.closest('.output');\n",
       "if (outputEl) {{\n",
       "    x.observe(outputEl, {childList: true});\n",
       "}}\n",
       "\n",
       "                        })                };                });            </script>        </div>"
      ]
     },
     "metadata": {},
     "output_type": "display_data"
    }
   ],
   "source": [
    "# plot live bubble for company name\n",
    "fig = px.scatter(df_company, x=\"company_name\", y=\"company_name_count\", \n",
    "                 size=\"company_name_count\", color=\"company_name\",)\n",
    "fig.show()\n"
   ]
  }
 ],
 "metadata": {
  "kernelspec": {
   "display_name": "anly503",
   "language": "python",
   "name": "python3"
  },
  "language_info": {
   "codemirror_mode": {
    "name": "ipython",
    "version": 3
   },
   "file_extension": ".py",
   "mimetype": "text/x-python",
   "name": "python",
   "nbconvert_exporter": "python",
   "pygments_lexer": "ipython3",
   "version": "3.10.8"
  },
  "orig_nbformat": 4
 },
 "nbformat": 4,
 "nbformat_minor": 2
}
