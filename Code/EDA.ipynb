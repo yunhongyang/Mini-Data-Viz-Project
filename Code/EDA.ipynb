{
 "cells": [
  {
   "attachments": {},
   "cell_type": "markdown",
   "metadata": {},
   "source": [
    "# EDA to draw insights from the dataset"
   ]
  },
  {
   "cell_type": "code",
   "execution_count": 1,
   "metadata": {},
   "outputs": [
    {
     "data": {
      "text/html": [
       "<div>\n",
       "<style scoped>\n",
       "    .dataframe tbody tr th:only-of-type {\n",
       "        vertical-align: middle;\n",
       "    }\n",
       "\n",
       "    .dataframe tbody tr th {\n",
       "        vertical-align: top;\n",
       "    }\n",
       "\n",
       "    .dataframe thead th {\n",
       "        text-align: right;\n",
       "    }\n",
       "</style>\n",
       "<table border=\"1\" class=\"dataframe\">\n",
       "  <thead>\n",
       "    <tr style=\"text-align: right;\">\n",
       "      <th></th>\n",
       "      <th>title</th>\n",
       "      <th>company_name</th>\n",
       "      <th>location</th>\n",
       "      <th>via</th>\n",
       "      <th>description</th>\n",
       "      <th>detected_extensions.schedule_type</th>\n",
       "      <th>detected_extensions.work_from_home</th>\n",
       "      <th>detected_extensions.posted_at</th>\n",
       "      <th>detected_extensions.salary</th>\n",
       "      <th>search_parameters.q</th>\n",
       "      <th>Qualifications</th>\n",
       "      <th>Responsibilities</th>\n",
       "      <th>Benefits</th>\n",
       "    </tr>\n",
       "  </thead>\n",
       "  <tbody>\n",
       "    <tr>\n",
       "      <th>0</th>\n",
       "      <td>Ethereum Blockchain Developer (Remote)</td>\n",
       "      <td>Ex Populus</td>\n",
       "      <td>Anywhere</td>\n",
       "      <td>via Built In</td>\n",
       "      <td>Company Overview:\\nEx Populus is a cutting-edg...</td>\n",
       "      <td>Full-time</td>\n",
       "      <td>True</td>\n",
       "      <td>NaN</td>\n",
       "      <td>NaN</td>\n",
       "      <td>block chain</td>\n",
       "      <td>2-3 years of Software Development experience,1...</td>\n",
       "      <td>Design, maintain and deploy smart contracts fo...</td>\n",
       "      <td>NaN</td>\n",
       "    </tr>\n",
       "    <tr>\n",
       "      <th>1</th>\n",
       "      <td>Blockchain Engineer</td>\n",
       "      <td>21.co</td>\n",
       "      <td>New York, NY</td>\n",
       "      <td>via Greenhouse</td>\n",
       "      <td>We are seeking a highly motivated and skilled ...</td>\n",
       "      <td>Full-time</td>\n",
       "      <td>NaN</td>\n",
       "      <td>NaN</td>\n",
       "      <td>NaN</td>\n",
       "      <td>block chain</td>\n",
       "      <td>Bachelor's or Master's degree in Computer Scie...</td>\n",
       "      <td>As a Blockchain Engineer, you will be responsi...</td>\n",
       "      <td>(NYC only) Pursuant to Section 8-102 of title ...</td>\n",
       "    </tr>\n",
       "    <tr>\n",
       "      <th>2</th>\n",
       "      <td>Blockchain Course Instructor</td>\n",
       "      <td>Blockchain Institute of Technology</td>\n",
       "      <td>Anywhere</td>\n",
       "      <td>via LinkedIn</td>\n",
       "      <td>Are you a blockchain, cryptocurrency, NFT, Met...</td>\n",
       "      <td>Contractor</td>\n",
       "      <td>True</td>\n",
       "      <td>24 hours ago</td>\n",
       "      <td>NaN</td>\n",
       "      <td>block chain</td>\n",
       "      <td>3+ years of experience in blockchain, cryptocu...</td>\n",
       "      <td>Our expert technical team will provide the sup...</td>\n",
       "      <td>NaN</td>\n",
       "    </tr>\n",
       "    <tr>\n",
       "      <th>3</th>\n",
       "      <td>Python based - Blockchain developer to join ex...</td>\n",
       "      <td>Upwork</td>\n",
       "      <td>Anywhere</td>\n",
       "      <td>via Upwork</td>\n",
       "      <td>Need someone to join our existing team to spee...</td>\n",
       "      <td>Contractor</td>\n",
       "      <td>True</td>\n",
       "      <td>2 days ago</td>\n",
       "      <td>10–30 an hour</td>\n",
       "      <td>block chain</td>\n",
       "      <td>Candidates must be willing to sign, non-disclo...</td>\n",
       "      <td>Will discuss details with the selected candidates</td>\n",
       "      <td>NaN</td>\n",
       "    </tr>\n",
       "    <tr>\n",
       "      <th>4</th>\n",
       "      <td>Blockchain DevOps Engineer (Remote)</td>\n",
       "      <td>Telnyx</td>\n",
       "      <td>United States</td>\n",
       "      <td>via Startup Jobs</td>\n",
       "      <td>About Telnyx\\n\\nAt Telnyx, we’re architecting ...</td>\n",
       "      <td>Full-time</td>\n",
       "      <td>NaN</td>\n",
       "      <td>4 days ago</td>\n",
       "      <td>NaN</td>\n",
       "      <td>block chain</td>\n",
       "      <td>You are a highly motivated and experienced Blo...</td>\n",
       "      <td>To build a best-in-class Filecoin (FIL) Mining...</td>\n",
       "      <td>NaN</td>\n",
       "    </tr>\n",
       "  </tbody>\n",
       "</table>\n",
       "</div>"
      ],
      "text/plain": [
       "                                               title  \\\n",
       "0             Ethereum Blockchain Developer (Remote)   \n",
       "1                                Blockchain Engineer   \n",
       "2                       Blockchain Course Instructor   \n",
       "3  Python based - Blockchain developer to join ex...   \n",
       "4                Blockchain DevOps Engineer (Remote)   \n",
       "\n",
       "                         company_name            location               via  \\\n",
       "0                          Ex Populus           Anywhere       via Built In   \n",
       "1                               21.co     New York, NY       via Greenhouse   \n",
       "2  Blockchain Institute of Technology           Anywhere       via LinkedIn   \n",
       "3                              Upwork           Anywhere         via Upwork   \n",
       "4                              Telnyx    United States     via Startup Jobs   \n",
       "\n",
       "                                         description  \\\n",
       "0  Company Overview:\\nEx Populus is a cutting-edg...   \n",
       "1  We are seeking a highly motivated and skilled ...   \n",
       "2  Are you a blockchain, cryptocurrency, NFT, Met...   \n",
       "3  Need someone to join our existing team to spee...   \n",
       "4  About Telnyx\\n\\nAt Telnyx, we’re architecting ...   \n",
       "\n",
       "  detected_extensions.schedule_type detected_extensions.work_from_home  \\\n",
       "0                         Full-time                               True   \n",
       "1                         Full-time                                NaN   \n",
       "2                        Contractor                               True   \n",
       "3                        Contractor                               True   \n",
       "4                         Full-time                                NaN   \n",
       "\n",
       "  detected_extensions.posted_at detected_extensions.salary  \\\n",
       "0                           NaN                        NaN   \n",
       "1                           NaN                        NaN   \n",
       "2                  24 hours ago                        NaN   \n",
       "3                    2 days ago              10–30 an hour   \n",
       "4                    4 days ago                        NaN   \n",
       "\n",
       "  search_parameters.q                                     Qualifications  \\\n",
       "0         block chain  2-3 years of Software Development experience,1...   \n",
       "1         block chain  Bachelor's or Master's degree in Computer Scie...   \n",
       "2         block chain  3+ years of experience in blockchain, cryptocu...   \n",
       "3         block chain  Candidates must be willing to sign, non-disclo...   \n",
       "4         block chain  You are a highly motivated and experienced Blo...   \n",
       "\n",
       "                                    Responsibilities  \\\n",
       "0  Design, maintain and deploy smart contracts fo...   \n",
       "1  As a Blockchain Engineer, you will be responsi...   \n",
       "2  Our expert technical team will provide the sup...   \n",
       "3  Will discuss details with the selected candidates   \n",
       "4  To build a best-in-class Filecoin (FIL) Mining...   \n",
       "\n",
       "                                            Benefits  \n",
       "0                                                NaN  \n",
       "1  (NYC only) Pursuant to Section 8-102 of title ...  \n",
       "2                                                NaN  \n",
       "3                                                NaN  \n",
       "4                                                NaN  "
      ]
     },
     "execution_count": 1,
     "metadata": {},
     "output_type": "execute_result"
    }
   ],
   "source": [
    "# import data and libraries\n",
    "import pandas as pd\n",
    "\n",
    "# read in data\n",
    "df = pd.read_csv('../2023-04-14-job-search/Clean_Data/combined_data_final.csv')\n",
    "\n",
    "df.head()"
   ]
  },
  {
   "attachments": {},
   "cell_type": "markdown",
   "metadata": {},
   "source": [
    "## Plot bar chart for search_parameters.q"
   ]
  },
  {
   "cell_type": "code",
   "execution_count": 2,
   "metadata": {},
   "outputs": [],
   "source": [
    "import plotly.express as px\n",
    "import plotly.graph_objects as go\n",
    "import plotly.io as pio\n",
    "pio.renderers.default = \"plotly_mimetype+notebook_connected\""
   ]
  },
  {
   "cell_type": "code",
   "execution_count": 8,
   "metadata": {},
   "outputs": [
    {
     "data": {
      "application/vnd.plotly.v1+json": {
       "config": {
        "plotlyServerURL": "https://plot.ly"
       },
       "data": [
        {
         "alignmentgroup": "True",
         "hovertemplate": "Search Parameters=%{x}<br>Count=%{y}<extra></extra>",
         "legendgroup": "block chain",
         "marker": {
          "color": "rgb(102, 197, 204)",
          "pattern": {
           "shape": ""
          }
         },
         "name": "block chain",
         "offsetgroup": "block chain",
         "orientation": "v",
         "showlegend": true,
         "textposition": "auto",
         "type": "bar",
         "x": [
          "block chain",
          "block chain",
          "block chain",
          "block chain",
          "block chain",
          "block chain",
          "block chain",
          "block chain",
          "block chain",
          "block chain",
          "block chain",
          "block chain",
          "block chain",
          "block chain",
          "block chain",
          "block chain",
          "block chain",
          "block chain",
          "block chain",
          "block chain",
          "block chain",
          "block chain",
          "block chain",
          "block chain",
          "block chain",
          "block chain",
          "block chain",
          "block chain",
          "block chain",
          "block chain",
          "block chain",
          "block chain",
          "block chain",
          "block chain",
          "block chain",
          "block chain",
          "block chain",
          "block chain",
          "block chain",
          "block chain",
          "block chain",
          "block chain",
          "block chain",
          "block chain",
          "block chain",
          "block chain",
          "block chain",
          "block chain",
          "block chain",
          "block chain",
          "block chain",
          "block chain",
          "block chain",
          "block chain",
          "block chain",
          "block chain",
          "block chain",
          "block chain",
          "block chain",
          "block chain",
          "block chain",
          "block chain",
          "block chain",
          "block chain",
          "block chain"
         ],
         "xaxis": "x",
         "y": [
          1,
          1,
          1,
          1,
          1,
          1,
          1,
          1,
          1,
          1,
          1,
          1,
          1,
          1,
          1,
          1,
          1,
          1,
          1,
          1,
          1,
          1,
          1,
          1,
          1,
          1,
          1,
          1,
          1,
          1,
          1,
          1,
          1,
          1,
          1,
          1,
          1,
          1,
          1,
          1,
          1,
          1,
          1,
          1,
          1,
          1,
          1,
          1,
          1,
          1,
          1,
          1,
          1,
          1,
          1,
          1,
          1,
          1,
          1,
          1,
          1,
          1,
          1,
          1,
          1
         ],
         "yaxis": "y"
        },
        {
         "alignmentgroup": "True",
         "hovertemplate": "Search Parameters=%{x}<br>Count=%{y}<extra></extra>",
         "legendgroup": "natural language processing",
         "marker": {
          "color": "rgb(246, 207, 113)",
          "pattern": {
           "shape": ""
          }
         },
         "name": "natural language processing",
         "offsetgroup": "natural language processing",
         "orientation": "v",
         "showlegend": true,
         "textposition": "auto",
         "type": "bar",
         "x": [
          "natural language processing",
          "natural language processing",
          "natural language processing",
          "natural language processing",
          "natural language processing",
          "natural language processing",
          "natural language processing",
          "natural language processing",
          "natural language processing",
          "natural language processing",
          "natural language processing",
          "natural language processing",
          "natural language processing",
          "natural language processing",
          "natural language processing",
          "natural language processing",
          "natural language processing",
          "natural language processing",
          "natural language processing",
          "natural language processing",
          "natural language processing",
          "natural language processing",
          "natural language processing",
          "natural language processing",
          "natural language processing",
          "natural language processing",
          "natural language processing",
          "natural language processing",
          "natural language processing",
          "natural language processing",
          "natural language processing",
          "natural language processing",
          "natural language processing",
          "natural language processing",
          "natural language processing",
          "natural language processing",
          "natural language processing",
          "natural language processing",
          "natural language processing",
          "natural language processing",
          "natural language processing",
          "natural language processing",
          "natural language processing",
          "natural language processing",
          "natural language processing",
          "natural language processing",
          "natural language processing",
          "natural language processing",
          "natural language processing",
          "natural language processing",
          "natural language processing",
          "natural language processing",
          "natural language processing",
          "natural language processing",
          "natural language processing",
          "natural language processing",
          "natural language processing",
          "natural language processing",
          "natural language processing",
          "natural language processing",
          "natural language processing"
         ],
         "xaxis": "x",
         "y": [
          1,
          1,
          1,
          1,
          1,
          1,
          1,
          1,
          1,
          1,
          1,
          1,
          1,
          1,
          1,
          1,
          1,
          1,
          1,
          1,
          1,
          1,
          1,
          1,
          1,
          1,
          1,
          1,
          1,
          1,
          1,
          1,
          1,
          1,
          1,
          1,
          1,
          1,
          1,
          1,
          1,
          1,
          1,
          1,
          1,
          1,
          1,
          1,
          1,
          1,
          1,
          1,
          1,
          1,
          1,
          1,
          1,
          1,
          1,
          1,
          1
         ],
         "yaxis": "y"
        },
        {
         "alignmentgroup": "True",
         "hovertemplate": "Search Parameters=%{x}<br>Count=%{y}<extra></extra>",
         "legendgroup": "big data and cloud computing",
         "marker": {
          "color": "rgb(248, 156, 116)",
          "pattern": {
           "shape": ""
          }
         },
         "name": "big data and cloud computing",
         "offsetgroup": "big data and cloud computing",
         "orientation": "v",
         "showlegend": true,
         "textposition": "auto",
         "type": "bar",
         "x": [
          "big data and cloud computing",
          "big data and cloud computing",
          "big data and cloud computing",
          "big data and cloud computing",
          "big data and cloud computing",
          "big data and cloud computing",
          "big data and cloud computing",
          "big data and cloud computing",
          "big data and cloud computing",
          "big data and cloud computing",
          "big data and cloud computing",
          "big data and cloud computing",
          "big data and cloud computing",
          "big data and cloud computing",
          "big data and cloud computing",
          "big data and cloud computing",
          "big data and cloud computing",
          "big data and cloud computing",
          "big data and cloud computing",
          "big data and cloud computing",
          "big data and cloud computing",
          "big data and cloud computing",
          "big data and cloud computing",
          "big data and cloud computing",
          "big data and cloud computing",
          "big data and cloud computing",
          "big data and cloud computing",
          "big data and cloud computing",
          "big data and cloud computing",
          "big data and cloud computing",
          "big data and cloud computing",
          "big data and cloud computing",
          "big data and cloud computing",
          "big data and cloud computing",
          "big data and cloud computing",
          "big data and cloud computing",
          "big data and cloud computing",
          "big data and cloud computing",
          "big data and cloud computing",
          "big data and cloud computing",
          "big data and cloud computing",
          "big data and cloud computing",
          "big data and cloud computing",
          "big data and cloud computing",
          "big data and cloud computing",
          "big data and cloud computing",
          "big data and cloud computing",
          "big data and cloud computing",
          "big data and cloud computing",
          "big data and cloud computing",
          "big data and cloud computing",
          "big data and cloud computing",
          "big data and cloud computing",
          "big data and cloud computing",
          "big data and cloud computing",
          "big data and cloud computing",
          "big data and cloud computing",
          "big data and cloud computing",
          "big data and cloud computing"
         ],
         "xaxis": "x",
         "y": [
          1,
          1,
          1,
          1,
          1,
          1,
          1,
          1,
          1,
          1,
          1,
          1,
          1,
          1,
          1,
          1,
          1,
          1,
          1,
          1,
          1,
          1,
          1,
          1,
          1,
          1,
          1,
          1,
          1,
          1,
          1,
          1,
          1,
          1,
          1,
          1,
          1,
          1,
          1,
          1,
          1,
          1,
          1,
          1,
          1,
          1,
          1,
          1,
          1,
          1,
          1,
          1,
          1,
          1,
          1,
          1,
          1,
          1,
          1
         ],
         "yaxis": "y"
        },
        {
         "alignmentgroup": "True",
         "hovertemplate": "Search Parameters=%{x}<br>Count=%{y}<extra></extra>",
         "legendgroup": "data analyst",
         "marker": {
          "color": "rgb(220, 176, 242)",
          "pattern": {
           "shape": ""
          }
         },
         "name": "data analyst",
         "offsetgroup": "data analyst",
         "orientation": "v",
         "showlegend": true,
         "textposition": "auto",
         "type": "bar",
         "x": [
          "data analyst",
          "data analyst",
          "data analyst",
          "data analyst",
          "data analyst",
          "data analyst",
          "data analyst",
          "data analyst",
          "data analyst",
          "data analyst",
          "data analyst",
          "data analyst",
          "data analyst",
          "data analyst",
          "data analyst",
          "data analyst",
          "data analyst",
          "data analyst",
          "data analyst",
          "data analyst",
          "data analyst",
          "data analyst",
          "data analyst",
          "data analyst",
          "data analyst",
          "data analyst",
          "data analyst",
          "data analyst",
          "data analyst",
          "data analyst",
          "data analyst",
          "data analyst",
          "data analyst",
          "data analyst",
          "data analyst",
          "data analyst",
          "data analyst",
          "data analyst",
          "data analyst",
          "data analyst",
          "data analyst",
          "data analyst",
          "data analyst",
          "data analyst",
          "data analyst",
          "data analyst",
          "data analyst",
          "data analyst",
          "data analyst",
          "data analyst",
          "data analyst",
          "data analyst",
          "data analyst",
          "data analyst",
          "data analyst",
          "data analyst",
          "data analyst",
          "data analyst",
          "data analyst",
          "data analyst",
          "data analyst",
          "data analyst",
          "data analyst",
          "data analyst",
          "data analyst",
          "data analyst",
          "data analyst",
          "data analyst",
          "data analyst",
          "data analyst",
          "data analyst",
          "data analyst",
          "data analyst",
          "data analyst",
          "data analyst",
          "data analyst",
          "data analyst",
          "data analyst",
          "data analyst",
          "data analyst",
          "data analyst",
          "data analyst"
         ],
         "xaxis": "x",
         "y": [
          1,
          1,
          1,
          1,
          1,
          1,
          1,
          1,
          1,
          1,
          1,
          1,
          1,
          1,
          1,
          1,
          1,
          1,
          1,
          1,
          1,
          1,
          1,
          1,
          1,
          1,
          1,
          1,
          1,
          1,
          1,
          1,
          1,
          1,
          1,
          1,
          1,
          1,
          1,
          1,
          1,
          1,
          1,
          1,
          1,
          1,
          1,
          1,
          1,
          1,
          1,
          1,
          1,
          1,
          1,
          1,
          1,
          1,
          1,
          1,
          1,
          1,
          1,
          1,
          1,
          1,
          1,
          1,
          1,
          1,
          1,
          1,
          1,
          1,
          1,
          1,
          1,
          1,
          1,
          1,
          1,
          1
         ],
         "yaxis": "y"
        },
        {
         "alignmentgroup": "True",
         "hovertemplate": "Search Parameters=%{x}<br>Count=%{y}<extra></extra>",
         "legendgroup": "machine learning",
         "marker": {
          "color": "rgb(135, 197, 95)",
          "pattern": {
           "shape": ""
          }
         },
         "name": "machine learning",
         "offsetgroup": "machine learning",
         "orientation": "v",
         "showlegend": true,
         "textposition": "auto",
         "type": "bar",
         "x": [
          "machine learning",
          "machine learning",
          "machine learning",
          "machine learning",
          "machine learning",
          "machine learning",
          "machine learning",
          "machine learning",
          "machine learning",
          "machine learning",
          "machine learning",
          "machine learning",
          "machine learning",
          "machine learning",
          "machine learning",
          "machine learning",
          "machine learning",
          "machine learning",
          "machine learning",
          "machine learning",
          "machine learning",
          "machine learning",
          "machine learning",
          "machine learning",
          "machine learning",
          "machine learning",
          "machine learning",
          "machine learning",
          "machine learning",
          "machine learning",
          "machine learning",
          "machine learning",
          "machine learning",
          "machine learning",
          "machine learning",
          "machine learning",
          "machine learning",
          "machine learning",
          "machine learning",
          "machine learning",
          "machine learning",
          "machine learning",
          "machine learning",
          "machine learning",
          "machine learning",
          "machine learning",
          "machine learning",
          "machine learning",
          "machine learning",
          "machine learning",
          "machine learning",
          "machine learning",
          "machine learning",
          "machine learning",
          "machine learning",
          "machine learning",
          "machine learning",
          "machine learning",
          "machine learning",
          "machine learning",
          "machine learning",
          "machine learning",
          "machine learning",
          "machine learning",
          "machine learning",
          "machine learning",
          "machine learning",
          "machine learning",
          "machine learning",
          "machine learning",
          "machine learning",
          "machine learning",
          "machine learning",
          "machine learning",
          "machine learning",
          "machine learning"
         ],
         "xaxis": "x",
         "y": [
          1,
          1,
          1,
          1,
          1,
          1,
          1,
          1,
          1,
          1,
          1,
          1,
          1,
          1,
          1,
          1,
          1,
          1,
          1,
          1,
          1,
          1,
          1,
          1,
          1,
          1,
          1,
          1,
          1,
          1,
          1,
          1,
          1,
          1,
          1,
          1,
          1,
          1,
          1,
          1,
          1,
          1,
          1,
          1,
          1,
          1,
          1,
          1,
          1,
          1,
          1,
          1,
          1,
          1,
          1,
          1,
          1,
          1,
          1,
          1,
          1,
          1,
          1,
          1,
          1,
          1,
          1,
          1,
          1,
          1,
          1,
          1,
          1,
          1,
          1,
          1
         ],
         "yaxis": "y"
        },
        {
         "alignmentgroup": "True",
         "hovertemplate": "Search Parameters=%{x}<br>Count=%{y}<extra></extra>",
         "legendgroup": "reinforcement learning",
         "marker": {
          "color": "rgb(158, 185, 243)",
          "pattern": {
           "shape": ""
          }
         },
         "name": "reinforcement learning",
         "offsetgroup": "reinforcement learning",
         "orientation": "v",
         "showlegend": true,
         "textposition": "auto",
         "type": "bar",
         "x": [
          "reinforcement learning",
          "reinforcement learning",
          "reinforcement learning",
          "reinforcement learning",
          "reinforcement learning",
          "reinforcement learning",
          "reinforcement learning",
          "reinforcement learning",
          "reinforcement learning",
          "reinforcement learning",
          "reinforcement learning",
          "reinforcement learning",
          "reinforcement learning",
          "reinforcement learning",
          "reinforcement learning",
          "reinforcement learning",
          "reinforcement learning",
          "reinforcement learning",
          "reinforcement learning",
          "reinforcement learning",
          "reinforcement learning",
          "reinforcement learning",
          "reinforcement learning",
          "reinforcement learning",
          "reinforcement learning",
          "reinforcement learning",
          "reinforcement learning",
          "reinforcement learning",
          "reinforcement learning",
          "reinforcement learning",
          "reinforcement learning",
          "reinforcement learning",
          "reinforcement learning",
          "reinforcement learning",
          "reinforcement learning",
          "reinforcement learning",
          "reinforcement learning",
          "reinforcement learning",
          "reinforcement learning",
          "reinforcement learning",
          "reinforcement learning",
          "reinforcement learning",
          "reinforcement learning",
          "reinforcement learning",
          "reinforcement learning",
          "reinforcement learning",
          "reinforcement learning",
          "reinforcement learning",
          "reinforcement learning",
          "reinforcement learning",
          "reinforcement learning",
          "reinforcement learning",
          "reinforcement learning",
          "reinforcement learning",
          "reinforcement learning",
          "reinforcement learning",
          "reinforcement learning",
          "reinforcement learning",
          "reinforcement learning",
          "reinforcement learning",
          "reinforcement learning",
          "reinforcement learning",
          "reinforcement learning",
          "reinforcement learning"
         ],
         "xaxis": "x",
         "y": [
          1,
          1,
          1,
          1,
          1,
          1,
          1,
          1,
          1,
          1,
          1,
          1,
          1,
          1,
          1,
          1,
          1,
          1,
          1,
          1,
          1,
          1,
          1,
          1,
          1,
          1,
          1,
          1,
          1,
          1,
          1,
          1,
          1,
          1,
          1,
          1,
          1,
          1,
          1,
          1,
          1,
          1,
          1,
          1,
          1,
          1,
          1,
          1,
          1,
          1,
          1,
          1,
          1,
          1,
          1,
          1,
          1,
          1,
          1,
          1,
          1,
          1,
          1,
          1
         ],
         "yaxis": "y"
        },
        {
         "alignmentgroup": "True",
         "hovertemplate": "Search Parameters=%{x}<br>Count=%{y}<extra></extra>",
         "legendgroup": "neural networks",
         "marker": {
          "color": "rgb(254, 136, 177)",
          "pattern": {
           "shape": ""
          }
         },
         "name": "neural networks",
         "offsetgroup": "neural networks",
         "orientation": "v",
         "showlegend": true,
         "textposition": "auto",
         "type": "bar",
         "x": [
          "neural networks",
          "neural networks",
          "neural networks",
          "neural networks",
          "neural networks",
          "neural networks",
          "neural networks",
          "neural networks",
          "neural networks",
          "neural networks",
          "neural networks",
          "neural networks",
          "neural networks",
          "neural networks",
          "neural networks",
          "neural networks",
          "neural networks",
          "neural networks",
          "neural networks",
          "neural networks",
          "neural networks",
          "neural networks",
          "neural networks",
          "neural networks",
          "neural networks",
          "neural networks",
          "neural networks",
          "neural networks",
          "neural networks",
          "neural networks",
          "neural networks",
          "neural networks",
          "neural networks",
          "neural networks",
          "neural networks",
          "neural networks",
          "neural networks",
          "neural networks",
          "neural networks",
          "neural networks",
          "neural networks",
          "neural networks",
          "neural networks",
          "neural networks",
          "neural networks",
          "neural networks",
          "neural networks",
          "neural networks",
          "neural networks",
          "neural networks",
          "neural networks",
          "neural networks",
          "neural networks"
         ],
         "xaxis": "x",
         "y": [
          1,
          1,
          1,
          1,
          1,
          1,
          1,
          1,
          1,
          1,
          1,
          1,
          1,
          1,
          1,
          1,
          1,
          1,
          1,
          1,
          1,
          1,
          1,
          1,
          1,
          1,
          1,
          1,
          1,
          1,
          1,
          1,
          1,
          1,
          1,
          1,
          1,
          1,
          1,
          1,
          1,
          1,
          1,
          1,
          1,
          1,
          1,
          1,
          1,
          1,
          1,
          1,
          1
         ],
         "yaxis": "y"
        },
        {
         "alignmentgroup": "True",
         "hovertemplate": "Search Parameters=%{x}<br>Count=%{y}<extra></extra>",
         "legendgroup": "deep learning",
         "marker": {
          "color": "rgb(201, 219, 116)",
          "pattern": {
           "shape": ""
          }
         },
         "name": "deep learning",
         "offsetgroup": "deep learning",
         "orientation": "v",
         "showlegend": true,
         "textposition": "auto",
         "type": "bar",
         "x": [
          "deep learning",
          "deep learning",
          "deep learning",
          "deep learning",
          "deep learning",
          "deep learning",
          "deep learning",
          "deep learning",
          "deep learning",
          "deep learning",
          "deep learning",
          "deep learning",
          "deep learning",
          "deep learning",
          "deep learning",
          "deep learning",
          "deep learning",
          "deep learning",
          "deep learning",
          "deep learning",
          "deep learning",
          "deep learning",
          "deep learning",
          "deep learning",
          "deep learning",
          "deep learning",
          "deep learning",
          "deep learning",
          "deep learning",
          "deep learning",
          "deep learning",
          "deep learning",
          "deep learning",
          "deep learning",
          "deep learning",
          "deep learning",
          "deep learning",
          "deep learning",
          "deep learning",
          "deep learning",
          "deep learning",
          "deep learning",
          "deep learning",
          "deep learning",
          "deep learning",
          "deep learning",
          "deep learning",
          "deep learning",
          "deep learning",
          "deep learning",
          "deep learning",
          "deep learning",
          "deep learning",
          "deep learning",
          "deep learning",
          "deep learning",
          "deep learning",
          "deep learning",
          "deep learning",
          "deep learning",
          "deep learning",
          "deep learning",
          "deep learning",
          "deep learning",
          "deep learning",
          "deep learning",
          "deep learning",
          "deep learning",
          "deep learning",
          "deep learning",
          "deep learning",
          "deep learning"
         ],
         "xaxis": "x",
         "y": [
          1,
          1,
          1,
          1,
          1,
          1,
          1,
          1,
          1,
          1,
          1,
          1,
          1,
          1,
          1,
          1,
          1,
          1,
          1,
          1,
          1,
          1,
          1,
          1,
          1,
          1,
          1,
          1,
          1,
          1,
          1,
          1,
          1,
          1,
          1,
          1,
          1,
          1,
          1,
          1,
          1,
          1,
          1,
          1,
          1,
          1,
          1,
          1,
          1,
          1,
          1,
          1,
          1,
          1,
          1,
          1,
          1,
          1,
          1,
          1,
          1,
          1,
          1,
          1,
          1,
          1,
          1,
          1,
          1,
          1,
          1,
          1
         ],
         "yaxis": "y"
        },
        {
         "alignmentgroup": "True",
         "hovertemplate": "Search Parameters=%{x}<br>Count=%{y}<extra></extra>",
         "legendgroup": "data scientist",
         "marker": {
          "color": "rgb(139, 224, 164)",
          "pattern": {
           "shape": ""
          }
         },
         "name": "data scientist",
         "offsetgroup": "data scientist",
         "orientation": "v",
         "showlegend": true,
         "textposition": "auto",
         "type": "bar",
         "x": [
          "data scientist",
          "data scientist",
          "data scientist",
          "data scientist",
          "data scientist",
          "data scientist",
          "data scientist",
          "data scientist",
          "data scientist",
          "data scientist",
          "data scientist",
          "data scientist",
          "data scientist",
          "data scientist",
          "data scientist",
          "data scientist",
          "data scientist",
          "data scientist",
          "data scientist",
          "data scientist",
          "data scientist",
          "data scientist",
          "data scientist",
          "data scientist",
          "data scientist",
          "data scientist",
          "data scientist",
          "data scientist",
          "data scientist",
          "data scientist",
          "data scientist",
          "data scientist",
          "data scientist",
          "data scientist",
          "data scientist",
          "data scientist",
          "data scientist",
          "data scientist",
          "data scientist",
          "data scientist",
          "data scientist",
          "data scientist",
          "data scientist",
          "data scientist",
          "data scientist",
          "data scientist",
          "data scientist",
          "data scientist",
          "data scientist",
          "data scientist",
          "data scientist",
          "data scientist",
          "data scientist",
          "data scientist",
          "data scientist",
          "data scientist",
          "data scientist",
          "data scientist",
          "data scientist",
          "data scientist",
          "data scientist",
          "data scientist",
          "data scientist",
          "data scientist",
          "data scientist",
          "data scientist",
          "data scientist",
          "data scientist",
          "data scientist",
          "data scientist",
          "data scientist",
          "data scientist",
          "data scientist",
          "data scientist",
          "data scientist",
          "data scientist",
          "data scientist",
          "data scientist",
          "data scientist",
          "data scientist",
          "data scientist"
         ],
         "xaxis": "x",
         "y": [
          1,
          1,
          1,
          1,
          1,
          1,
          1,
          1,
          1,
          1,
          1,
          1,
          1,
          1,
          1,
          1,
          1,
          1,
          1,
          1,
          1,
          1,
          1,
          1,
          1,
          1,
          1,
          1,
          1,
          1,
          1,
          1,
          1,
          1,
          1,
          1,
          1,
          1,
          1,
          1,
          1,
          1,
          1,
          1,
          1,
          1,
          1,
          1,
          1,
          1,
          1,
          1,
          1,
          1,
          1,
          1,
          1,
          1,
          1,
          1,
          1,
          1,
          1,
          1,
          1,
          1,
          1,
          1,
          1,
          1,
          1,
          1,
          1,
          1,
          1,
          1,
          1,
          1,
          1,
          1,
          1
         ],
         "yaxis": "y"
        },
        {
         "alignmentgroup": "True",
         "hovertemplate": "Search Parameters=%{x}<br>Count=%{y}<extra></extra>",
         "legendgroup": "time series",
         "marker": {
          "color": "rgb(180, 151, 231)",
          "pattern": {
           "shape": ""
          }
         },
         "name": "time series",
         "offsetgroup": "time series",
         "orientation": "v",
         "showlegend": true,
         "textposition": "auto",
         "type": "bar",
         "x": [
          "time series",
          "time series",
          "time series",
          "time series",
          "time series",
          "time series"
         ],
         "xaxis": "x",
         "y": [
          1,
          1,
          1,
          1,
          1,
          1
         ],
         "yaxis": "y"
        },
        {
         "alignmentgroup": "True",
         "hovertemplate": "Search Parameters=%{x}<br>Count=%{y}<extra></extra>",
         "legendgroup": "time series analysis",
         "marker": {
          "color": "rgb(179, 179, 179)",
          "pattern": {
           "shape": ""
          }
         },
         "name": "time series analysis",
         "offsetgroup": "time series analysis",
         "orientation": "v",
         "showlegend": true,
         "textposition": "auto",
         "type": "bar",
         "x": [
          "time series analysis",
          "time series analysis",
          "time series analysis",
          "time series analysis",
          "time series analysis",
          "time series analysis",
          "time series analysis"
         ],
         "xaxis": "x",
         "y": [
          1,
          1,
          1,
          1,
          1,
          1,
          1
         ],
         "yaxis": "y"
        }
       ],
       "layout": {
        "barmode": "relative",
        "legend": {
         "title": {
          "text": "Search Parameters"
         },
         "tracegroupgap": 0
        },
        "template": {
         "data": {
          "bar": [
           {
            "error_x": {
             "color": "#2a3f5f"
            },
            "error_y": {
             "color": "#2a3f5f"
            },
            "marker": {
             "line": {
              "color": "#E5ECF6",
              "width": 0.5
             },
             "pattern": {
              "fillmode": "overlay",
              "size": 10,
              "solidity": 0.2
             }
            },
            "type": "bar"
           }
          ],
          "barpolar": [
           {
            "marker": {
             "line": {
              "color": "#E5ECF6",
              "width": 0.5
             },
             "pattern": {
              "fillmode": "overlay",
              "size": 10,
              "solidity": 0.2
             }
            },
            "type": "barpolar"
           }
          ],
          "carpet": [
           {
            "aaxis": {
             "endlinecolor": "#2a3f5f",
             "gridcolor": "white",
             "linecolor": "white",
             "minorgridcolor": "white",
             "startlinecolor": "#2a3f5f"
            },
            "baxis": {
             "endlinecolor": "#2a3f5f",
             "gridcolor": "white",
             "linecolor": "white",
             "minorgridcolor": "white",
             "startlinecolor": "#2a3f5f"
            },
            "type": "carpet"
           }
          ],
          "choropleth": [
           {
            "colorbar": {
             "outlinewidth": 0,
             "ticks": ""
            },
            "type": "choropleth"
           }
          ],
          "contour": [
           {
            "colorbar": {
             "outlinewidth": 0,
             "ticks": ""
            },
            "colorscale": [
             [
              0,
              "#0d0887"
             ],
             [
              0.1111111111111111,
              "#46039f"
             ],
             [
              0.2222222222222222,
              "#7201a8"
             ],
             [
              0.3333333333333333,
              "#9c179e"
             ],
             [
              0.4444444444444444,
              "#bd3786"
             ],
             [
              0.5555555555555556,
              "#d8576b"
             ],
             [
              0.6666666666666666,
              "#ed7953"
             ],
             [
              0.7777777777777778,
              "#fb9f3a"
             ],
             [
              0.8888888888888888,
              "#fdca26"
             ],
             [
              1,
              "#f0f921"
             ]
            ],
            "type": "contour"
           }
          ],
          "contourcarpet": [
           {
            "colorbar": {
             "outlinewidth": 0,
             "ticks": ""
            },
            "type": "contourcarpet"
           }
          ],
          "heatmap": [
           {
            "colorbar": {
             "outlinewidth": 0,
             "ticks": ""
            },
            "colorscale": [
             [
              0,
              "#0d0887"
             ],
             [
              0.1111111111111111,
              "#46039f"
             ],
             [
              0.2222222222222222,
              "#7201a8"
             ],
             [
              0.3333333333333333,
              "#9c179e"
             ],
             [
              0.4444444444444444,
              "#bd3786"
             ],
             [
              0.5555555555555556,
              "#d8576b"
             ],
             [
              0.6666666666666666,
              "#ed7953"
             ],
             [
              0.7777777777777778,
              "#fb9f3a"
             ],
             [
              0.8888888888888888,
              "#fdca26"
             ],
             [
              1,
              "#f0f921"
             ]
            ],
            "type": "heatmap"
           }
          ],
          "heatmapgl": [
           {
            "colorbar": {
             "outlinewidth": 0,
             "ticks": ""
            },
            "colorscale": [
             [
              0,
              "#0d0887"
             ],
             [
              0.1111111111111111,
              "#46039f"
             ],
             [
              0.2222222222222222,
              "#7201a8"
             ],
             [
              0.3333333333333333,
              "#9c179e"
             ],
             [
              0.4444444444444444,
              "#bd3786"
             ],
             [
              0.5555555555555556,
              "#d8576b"
             ],
             [
              0.6666666666666666,
              "#ed7953"
             ],
             [
              0.7777777777777778,
              "#fb9f3a"
             ],
             [
              0.8888888888888888,
              "#fdca26"
             ],
             [
              1,
              "#f0f921"
             ]
            ],
            "type": "heatmapgl"
           }
          ],
          "histogram": [
           {
            "marker": {
             "pattern": {
              "fillmode": "overlay",
              "size": 10,
              "solidity": 0.2
             }
            },
            "type": "histogram"
           }
          ],
          "histogram2d": [
           {
            "colorbar": {
             "outlinewidth": 0,
             "ticks": ""
            },
            "colorscale": [
             [
              0,
              "#0d0887"
             ],
             [
              0.1111111111111111,
              "#46039f"
             ],
             [
              0.2222222222222222,
              "#7201a8"
             ],
             [
              0.3333333333333333,
              "#9c179e"
             ],
             [
              0.4444444444444444,
              "#bd3786"
             ],
             [
              0.5555555555555556,
              "#d8576b"
             ],
             [
              0.6666666666666666,
              "#ed7953"
             ],
             [
              0.7777777777777778,
              "#fb9f3a"
             ],
             [
              0.8888888888888888,
              "#fdca26"
             ],
             [
              1,
              "#f0f921"
             ]
            ],
            "type": "histogram2d"
           }
          ],
          "histogram2dcontour": [
           {
            "colorbar": {
             "outlinewidth": 0,
             "ticks": ""
            },
            "colorscale": [
             [
              0,
              "#0d0887"
             ],
             [
              0.1111111111111111,
              "#46039f"
             ],
             [
              0.2222222222222222,
              "#7201a8"
             ],
             [
              0.3333333333333333,
              "#9c179e"
             ],
             [
              0.4444444444444444,
              "#bd3786"
             ],
             [
              0.5555555555555556,
              "#d8576b"
             ],
             [
              0.6666666666666666,
              "#ed7953"
             ],
             [
              0.7777777777777778,
              "#fb9f3a"
             ],
             [
              0.8888888888888888,
              "#fdca26"
             ],
             [
              1,
              "#f0f921"
             ]
            ],
            "type": "histogram2dcontour"
           }
          ],
          "mesh3d": [
           {
            "colorbar": {
             "outlinewidth": 0,
             "ticks": ""
            },
            "type": "mesh3d"
           }
          ],
          "parcoords": [
           {
            "line": {
             "colorbar": {
              "outlinewidth": 0,
              "ticks": ""
             }
            },
            "type": "parcoords"
           }
          ],
          "pie": [
           {
            "automargin": true,
            "type": "pie"
           }
          ],
          "scatter": [
           {
            "fillpattern": {
             "fillmode": "overlay",
             "size": 10,
             "solidity": 0.2
            },
            "type": "scatter"
           }
          ],
          "scatter3d": [
           {
            "line": {
             "colorbar": {
              "outlinewidth": 0,
              "ticks": ""
             }
            },
            "marker": {
             "colorbar": {
              "outlinewidth": 0,
              "ticks": ""
             }
            },
            "type": "scatter3d"
           }
          ],
          "scattercarpet": [
           {
            "marker": {
             "colorbar": {
              "outlinewidth": 0,
              "ticks": ""
             }
            },
            "type": "scattercarpet"
           }
          ],
          "scattergeo": [
           {
            "marker": {
             "colorbar": {
              "outlinewidth": 0,
              "ticks": ""
             }
            },
            "type": "scattergeo"
           }
          ],
          "scattergl": [
           {
            "marker": {
             "colorbar": {
              "outlinewidth": 0,
              "ticks": ""
             }
            },
            "type": "scattergl"
           }
          ],
          "scattermapbox": [
           {
            "marker": {
             "colorbar": {
              "outlinewidth": 0,
              "ticks": ""
             }
            },
            "type": "scattermapbox"
           }
          ],
          "scatterpolar": [
           {
            "marker": {
             "colorbar": {
              "outlinewidth": 0,
              "ticks": ""
             }
            },
            "type": "scatterpolar"
           }
          ],
          "scatterpolargl": [
           {
            "marker": {
             "colorbar": {
              "outlinewidth": 0,
              "ticks": ""
             }
            },
            "type": "scatterpolargl"
           }
          ],
          "scatterternary": [
           {
            "marker": {
             "colorbar": {
              "outlinewidth": 0,
              "ticks": ""
             }
            },
            "type": "scatterternary"
           }
          ],
          "surface": [
           {
            "colorbar": {
             "outlinewidth": 0,
             "ticks": ""
            },
            "colorscale": [
             [
              0,
              "#0d0887"
             ],
             [
              0.1111111111111111,
              "#46039f"
             ],
             [
              0.2222222222222222,
              "#7201a8"
             ],
             [
              0.3333333333333333,
              "#9c179e"
             ],
             [
              0.4444444444444444,
              "#bd3786"
             ],
             [
              0.5555555555555556,
              "#d8576b"
             ],
             [
              0.6666666666666666,
              "#ed7953"
             ],
             [
              0.7777777777777778,
              "#fb9f3a"
             ],
             [
              0.8888888888888888,
              "#fdca26"
             ],
             [
              1,
              "#f0f921"
             ]
            ],
            "type": "surface"
           }
          ],
          "table": [
           {
            "cells": {
             "fill": {
              "color": "#EBF0F8"
             },
             "line": {
              "color": "white"
             }
            },
            "header": {
             "fill": {
              "color": "#C8D4E3"
             },
             "line": {
              "color": "white"
             }
            },
            "type": "table"
           }
          ]
         },
         "layout": {
          "annotationdefaults": {
           "arrowcolor": "#2a3f5f",
           "arrowhead": 0,
           "arrowwidth": 1
          },
          "autotypenumbers": "strict",
          "coloraxis": {
           "colorbar": {
            "outlinewidth": 0,
            "ticks": ""
           }
          },
          "colorscale": {
           "diverging": [
            [
             0,
             "#8e0152"
            ],
            [
             0.1,
             "#c51b7d"
            ],
            [
             0.2,
             "#de77ae"
            ],
            [
             0.3,
             "#f1b6da"
            ],
            [
             0.4,
             "#fde0ef"
            ],
            [
             0.5,
             "#f7f7f7"
            ],
            [
             0.6,
             "#e6f5d0"
            ],
            [
             0.7,
             "#b8e186"
            ],
            [
             0.8,
             "#7fbc41"
            ],
            [
             0.9,
             "#4d9221"
            ],
            [
             1,
             "#276419"
            ]
           ],
           "sequential": [
            [
             0,
             "#0d0887"
            ],
            [
             0.1111111111111111,
             "#46039f"
            ],
            [
             0.2222222222222222,
             "#7201a8"
            ],
            [
             0.3333333333333333,
             "#9c179e"
            ],
            [
             0.4444444444444444,
             "#bd3786"
            ],
            [
             0.5555555555555556,
             "#d8576b"
            ],
            [
             0.6666666666666666,
             "#ed7953"
            ],
            [
             0.7777777777777778,
             "#fb9f3a"
            ],
            [
             0.8888888888888888,
             "#fdca26"
            ],
            [
             1,
             "#f0f921"
            ]
           ],
           "sequentialminus": [
            [
             0,
             "#0d0887"
            ],
            [
             0.1111111111111111,
             "#46039f"
            ],
            [
             0.2222222222222222,
             "#7201a8"
            ],
            [
             0.3333333333333333,
             "#9c179e"
            ],
            [
             0.4444444444444444,
             "#bd3786"
            ],
            [
             0.5555555555555556,
             "#d8576b"
            ],
            [
             0.6666666666666666,
             "#ed7953"
            ],
            [
             0.7777777777777778,
             "#fb9f3a"
            ],
            [
             0.8888888888888888,
             "#fdca26"
            ],
            [
             1,
             "#f0f921"
            ]
           ]
          },
          "colorway": [
           "#636efa",
           "#EF553B",
           "#00cc96",
           "#ab63fa",
           "#FFA15A",
           "#19d3f3",
           "#FF6692",
           "#B6E880",
           "#FF97FF",
           "#FECB52"
          ],
          "font": {
           "color": "#2a3f5f"
          },
          "geo": {
           "bgcolor": "white",
           "lakecolor": "white",
           "landcolor": "#E5ECF6",
           "showlakes": true,
           "showland": true,
           "subunitcolor": "white"
          },
          "hoverlabel": {
           "align": "left"
          },
          "hovermode": "closest",
          "mapbox": {
           "style": "light"
          },
          "paper_bgcolor": "white",
          "plot_bgcolor": "#E5ECF6",
          "polar": {
           "angularaxis": {
            "gridcolor": "white",
            "linecolor": "white",
            "ticks": ""
           },
           "bgcolor": "#E5ECF6",
           "radialaxis": {
            "gridcolor": "white",
            "linecolor": "white",
            "ticks": ""
           }
          },
          "scene": {
           "xaxis": {
            "backgroundcolor": "#E5ECF6",
            "gridcolor": "white",
            "gridwidth": 2,
            "linecolor": "white",
            "showbackground": true,
            "ticks": "",
            "zerolinecolor": "white"
           },
           "yaxis": {
            "backgroundcolor": "#E5ECF6",
            "gridcolor": "white",
            "gridwidth": 2,
            "linecolor": "white",
            "showbackground": true,
            "ticks": "",
            "zerolinecolor": "white"
           },
           "zaxis": {
            "backgroundcolor": "#E5ECF6",
            "gridcolor": "white",
            "gridwidth": 2,
            "linecolor": "white",
            "showbackground": true,
            "ticks": "",
            "zerolinecolor": "white"
           }
          },
          "shapedefaults": {
           "line": {
            "color": "#2a3f5f"
           }
          },
          "ternary": {
           "aaxis": {
            "gridcolor": "white",
            "linecolor": "white",
            "ticks": ""
           },
           "baxis": {
            "gridcolor": "white",
            "linecolor": "white",
            "ticks": ""
           },
           "bgcolor": "#E5ECF6",
           "caxis": {
            "gridcolor": "white",
            "linecolor": "white",
            "ticks": ""
           }
          },
          "title": {
           "x": 0.05
          },
          "xaxis": {
           "automargin": true,
           "gridcolor": "white",
           "linecolor": "white",
           "ticks": "",
           "title": {
            "standoff": 15
           },
           "zerolinecolor": "white",
           "zerolinewidth": 2
          },
          "yaxis": {
           "automargin": true,
           "gridcolor": "white",
           "linecolor": "white",
           "ticks": "",
           "title": {
            "standoff": 15
           },
           "zerolinecolor": "white",
           "zerolinewidth": 2
          }
         }
        },
        "title": {
         "text": "Search Parameters"
        },
        "xaxis": {
         "anchor": "y",
         "categoryarray": [
          "block chain",
          "natural language processing",
          "big data and cloud computing",
          "data analyst",
          "machine learning",
          "reinforcement learning",
          "neural networks",
          "deep learning",
          "data scientist",
          "time series",
          "time series analysis"
         ],
         "categoryorder": "array",
         "domain": [
          0,
          1
         ],
         "title": {
          "text": "Search Parameters"
         }
        },
        "yaxis": {
         "anchor": "x",
         "domain": [
          0,
          1
         ],
         "title": {
          "text": "Count"
         }
        }
       }
      },
      "text/html": [
       "<div>                            <div id=\"0baf87ca-8d7f-4848-a074-8b40dba63d9a\" class=\"plotly-graph-div\" style=\"height:525px; width:100%;\"></div>            <script type=\"text/javascript\">                require([\"plotly\"], function(Plotly) {                    window.PLOTLYENV=window.PLOTLYENV || {};                                    if (document.getElementById(\"0baf87ca-8d7f-4848-a074-8b40dba63d9a\")) {                    Plotly.newPlot(                        \"0baf87ca-8d7f-4848-a074-8b40dba63d9a\",                        [{\"alignmentgroup\":\"True\",\"hovertemplate\":\"Search Parameters=%{x}<br>Count=%{y}<extra></extra>\",\"legendgroup\":\"block chain\",\"marker\":{\"color\":\"rgb(102, 197, 204)\",\"pattern\":{\"shape\":\"\"}},\"name\":\"block chain\",\"offsetgroup\":\"block chain\",\"orientation\":\"v\",\"showlegend\":true,\"textposition\":\"auto\",\"x\":[\"block chain\",\"block chain\",\"block chain\",\"block chain\",\"block chain\",\"block chain\",\"block chain\",\"block chain\",\"block chain\",\"block chain\",\"block chain\",\"block chain\",\"block chain\",\"block chain\",\"block chain\",\"block chain\",\"block chain\",\"block chain\",\"block chain\",\"block chain\",\"block chain\",\"block chain\",\"block chain\",\"block chain\",\"block chain\",\"block chain\",\"block chain\",\"block chain\",\"block chain\",\"block chain\",\"block chain\",\"block chain\",\"block chain\",\"block chain\",\"block chain\",\"block chain\",\"block chain\",\"block chain\",\"block chain\",\"block chain\",\"block chain\",\"block chain\",\"block chain\",\"block chain\",\"block chain\",\"block chain\",\"block chain\",\"block chain\",\"block chain\",\"block chain\",\"block chain\",\"block chain\",\"block chain\",\"block chain\",\"block chain\",\"block chain\",\"block chain\",\"block chain\",\"block chain\",\"block chain\",\"block chain\",\"block chain\",\"block chain\",\"block chain\",\"block chain\"],\"xaxis\":\"x\",\"y\":[1,1,1,1,1,1,1,1,1,1,1,1,1,1,1,1,1,1,1,1,1,1,1,1,1,1,1,1,1,1,1,1,1,1,1,1,1,1,1,1,1,1,1,1,1,1,1,1,1,1,1,1,1,1,1,1,1,1,1,1,1,1,1,1,1],\"yaxis\":\"y\",\"type\":\"bar\"},{\"alignmentgroup\":\"True\",\"hovertemplate\":\"Search Parameters=%{x}<br>Count=%{y}<extra></extra>\",\"legendgroup\":\"natural language processing\",\"marker\":{\"color\":\"rgb(246, 207, 113)\",\"pattern\":{\"shape\":\"\"}},\"name\":\"natural language processing\",\"offsetgroup\":\"natural language processing\",\"orientation\":\"v\",\"showlegend\":true,\"textposition\":\"auto\",\"x\":[\"natural language processing\",\"natural language processing\",\"natural language processing\",\"natural language processing\",\"natural language processing\",\"natural language processing\",\"natural language processing\",\"natural language processing\",\"natural language processing\",\"natural language processing\",\"natural language processing\",\"natural language processing\",\"natural language processing\",\"natural language processing\",\"natural language processing\",\"natural language processing\",\"natural language processing\",\"natural language processing\",\"natural language processing\",\"natural language processing\",\"natural language processing\",\"natural language processing\",\"natural language processing\",\"natural language processing\",\"natural language processing\",\"natural language processing\",\"natural language processing\",\"natural language processing\",\"natural language processing\",\"natural language processing\",\"natural language processing\",\"natural language processing\",\"natural language processing\",\"natural language processing\",\"natural language processing\",\"natural language processing\",\"natural language processing\",\"natural language processing\",\"natural language processing\",\"natural language processing\",\"natural language processing\",\"natural language processing\",\"natural language processing\",\"natural language processing\",\"natural language processing\",\"natural language processing\",\"natural language processing\",\"natural language processing\",\"natural language processing\",\"natural language processing\",\"natural language processing\",\"natural language processing\",\"natural language processing\",\"natural language processing\",\"natural language processing\",\"natural language processing\",\"natural language processing\",\"natural language processing\",\"natural language processing\",\"natural language processing\",\"natural language processing\"],\"xaxis\":\"x\",\"y\":[1,1,1,1,1,1,1,1,1,1,1,1,1,1,1,1,1,1,1,1,1,1,1,1,1,1,1,1,1,1,1,1,1,1,1,1,1,1,1,1,1,1,1,1,1,1,1,1,1,1,1,1,1,1,1,1,1,1,1,1,1],\"yaxis\":\"y\",\"type\":\"bar\"},{\"alignmentgroup\":\"True\",\"hovertemplate\":\"Search Parameters=%{x}<br>Count=%{y}<extra></extra>\",\"legendgroup\":\"big data and cloud computing\",\"marker\":{\"color\":\"rgb(248, 156, 116)\",\"pattern\":{\"shape\":\"\"}},\"name\":\"big data and cloud computing\",\"offsetgroup\":\"big data and cloud computing\",\"orientation\":\"v\",\"showlegend\":true,\"textposition\":\"auto\",\"x\":[\"big data and cloud computing\",\"big data and cloud computing\",\"big data and cloud computing\",\"big data and cloud computing\",\"big data and cloud computing\",\"big data and cloud computing\",\"big data and cloud computing\",\"big data and cloud computing\",\"big data and cloud computing\",\"big data and cloud computing\",\"big data and cloud computing\",\"big data and cloud computing\",\"big data and cloud computing\",\"big data and cloud computing\",\"big data and cloud computing\",\"big data and cloud computing\",\"big data and cloud computing\",\"big data and cloud computing\",\"big data and cloud computing\",\"big data and cloud computing\",\"big data and cloud computing\",\"big data and cloud computing\",\"big data and cloud computing\",\"big data and cloud computing\",\"big data and cloud computing\",\"big data and cloud computing\",\"big data and cloud computing\",\"big data and cloud computing\",\"big data and cloud computing\",\"big data and cloud computing\",\"big data and cloud computing\",\"big data and cloud computing\",\"big data and cloud computing\",\"big data and cloud computing\",\"big data and cloud computing\",\"big data and cloud computing\",\"big data and cloud computing\",\"big data and cloud computing\",\"big data and cloud computing\",\"big data and cloud computing\",\"big data and cloud computing\",\"big data and cloud computing\",\"big data and cloud computing\",\"big data and cloud computing\",\"big data and cloud computing\",\"big data and cloud computing\",\"big data and cloud computing\",\"big data and cloud computing\",\"big data and cloud computing\",\"big data and cloud computing\",\"big data and cloud computing\",\"big data and cloud computing\",\"big data and cloud computing\",\"big data and cloud computing\",\"big data and cloud computing\",\"big data and cloud computing\",\"big data and cloud computing\",\"big data and cloud computing\",\"big data and cloud computing\"],\"xaxis\":\"x\",\"y\":[1,1,1,1,1,1,1,1,1,1,1,1,1,1,1,1,1,1,1,1,1,1,1,1,1,1,1,1,1,1,1,1,1,1,1,1,1,1,1,1,1,1,1,1,1,1,1,1,1,1,1,1,1,1,1,1,1,1,1],\"yaxis\":\"y\",\"type\":\"bar\"},{\"alignmentgroup\":\"True\",\"hovertemplate\":\"Search Parameters=%{x}<br>Count=%{y}<extra></extra>\",\"legendgroup\":\"data analyst\",\"marker\":{\"color\":\"rgb(220, 176, 242)\",\"pattern\":{\"shape\":\"\"}},\"name\":\"data analyst\",\"offsetgroup\":\"data analyst\",\"orientation\":\"v\",\"showlegend\":true,\"textposition\":\"auto\",\"x\":[\"data analyst\",\"data analyst\",\"data analyst\",\"data analyst\",\"data analyst\",\"data analyst\",\"data analyst\",\"data analyst\",\"data analyst\",\"data analyst\",\"data analyst\",\"data analyst\",\"data analyst\",\"data analyst\",\"data analyst\",\"data analyst\",\"data analyst\",\"data analyst\",\"data analyst\",\"data analyst\",\"data analyst\",\"data analyst\",\"data analyst\",\"data analyst\",\"data analyst\",\"data analyst\",\"data analyst\",\"data analyst\",\"data analyst\",\"data analyst\",\"data analyst\",\"data analyst\",\"data analyst\",\"data analyst\",\"data analyst\",\"data analyst\",\"data analyst\",\"data analyst\",\"data analyst\",\"data analyst\",\"data analyst\",\"data analyst\",\"data analyst\",\"data analyst\",\"data analyst\",\"data analyst\",\"data analyst\",\"data analyst\",\"data analyst\",\"data analyst\",\"data analyst\",\"data analyst\",\"data analyst\",\"data analyst\",\"data analyst\",\"data analyst\",\"data analyst\",\"data analyst\",\"data analyst\",\"data analyst\",\"data analyst\",\"data analyst\",\"data analyst\",\"data analyst\",\"data analyst\",\"data analyst\",\"data analyst\",\"data analyst\",\"data analyst\",\"data analyst\",\"data analyst\",\"data analyst\",\"data analyst\",\"data analyst\",\"data analyst\",\"data analyst\",\"data analyst\",\"data analyst\",\"data analyst\",\"data analyst\",\"data analyst\",\"data analyst\"],\"xaxis\":\"x\",\"y\":[1,1,1,1,1,1,1,1,1,1,1,1,1,1,1,1,1,1,1,1,1,1,1,1,1,1,1,1,1,1,1,1,1,1,1,1,1,1,1,1,1,1,1,1,1,1,1,1,1,1,1,1,1,1,1,1,1,1,1,1,1,1,1,1,1,1,1,1,1,1,1,1,1,1,1,1,1,1,1,1,1,1],\"yaxis\":\"y\",\"type\":\"bar\"},{\"alignmentgroup\":\"True\",\"hovertemplate\":\"Search Parameters=%{x}<br>Count=%{y}<extra></extra>\",\"legendgroup\":\"machine learning\",\"marker\":{\"color\":\"rgb(135, 197, 95)\",\"pattern\":{\"shape\":\"\"}},\"name\":\"machine learning\",\"offsetgroup\":\"machine learning\",\"orientation\":\"v\",\"showlegend\":true,\"textposition\":\"auto\",\"x\":[\"machine learning\",\"machine learning\",\"machine learning\",\"machine learning\",\"machine learning\",\"machine learning\",\"machine learning\",\"machine learning\",\"machine learning\",\"machine learning\",\"machine learning\",\"machine learning\",\"machine learning\",\"machine learning\",\"machine learning\",\"machine learning\",\"machine learning\",\"machine learning\",\"machine learning\",\"machine learning\",\"machine learning\",\"machine learning\",\"machine learning\",\"machine learning\",\"machine learning\",\"machine learning\",\"machine learning\",\"machine learning\",\"machine learning\",\"machine learning\",\"machine learning\",\"machine learning\",\"machine learning\",\"machine learning\",\"machine learning\",\"machine learning\",\"machine learning\",\"machine learning\",\"machine learning\",\"machine learning\",\"machine learning\",\"machine learning\",\"machine learning\",\"machine learning\",\"machine learning\",\"machine learning\",\"machine learning\",\"machine learning\",\"machine learning\",\"machine learning\",\"machine learning\",\"machine learning\",\"machine learning\",\"machine learning\",\"machine learning\",\"machine learning\",\"machine learning\",\"machine learning\",\"machine learning\",\"machine learning\",\"machine learning\",\"machine learning\",\"machine learning\",\"machine learning\",\"machine learning\",\"machine learning\",\"machine learning\",\"machine learning\",\"machine learning\",\"machine learning\",\"machine learning\",\"machine learning\",\"machine learning\",\"machine learning\",\"machine learning\",\"machine learning\"],\"xaxis\":\"x\",\"y\":[1,1,1,1,1,1,1,1,1,1,1,1,1,1,1,1,1,1,1,1,1,1,1,1,1,1,1,1,1,1,1,1,1,1,1,1,1,1,1,1,1,1,1,1,1,1,1,1,1,1,1,1,1,1,1,1,1,1,1,1,1,1,1,1,1,1,1,1,1,1,1,1,1,1,1,1],\"yaxis\":\"y\",\"type\":\"bar\"},{\"alignmentgroup\":\"True\",\"hovertemplate\":\"Search Parameters=%{x}<br>Count=%{y}<extra></extra>\",\"legendgroup\":\"reinforcement learning\",\"marker\":{\"color\":\"rgb(158, 185, 243)\",\"pattern\":{\"shape\":\"\"}},\"name\":\"reinforcement learning\",\"offsetgroup\":\"reinforcement learning\",\"orientation\":\"v\",\"showlegend\":true,\"textposition\":\"auto\",\"x\":[\"reinforcement learning\",\"reinforcement learning\",\"reinforcement learning\",\"reinforcement learning\",\"reinforcement learning\",\"reinforcement learning\",\"reinforcement learning\",\"reinforcement learning\",\"reinforcement learning\",\"reinforcement learning\",\"reinforcement learning\",\"reinforcement learning\",\"reinforcement learning\",\"reinforcement learning\",\"reinforcement learning\",\"reinforcement learning\",\"reinforcement learning\",\"reinforcement learning\",\"reinforcement learning\",\"reinforcement learning\",\"reinforcement learning\",\"reinforcement learning\",\"reinforcement learning\",\"reinforcement learning\",\"reinforcement learning\",\"reinforcement learning\",\"reinforcement learning\",\"reinforcement learning\",\"reinforcement learning\",\"reinforcement learning\",\"reinforcement learning\",\"reinforcement learning\",\"reinforcement learning\",\"reinforcement learning\",\"reinforcement learning\",\"reinforcement learning\",\"reinforcement learning\",\"reinforcement learning\",\"reinforcement learning\",\"reinforcement learning\",\"reinforcement learning\",\"reinforcement learning\",\"reinforcement learning\",\"reinforcement learning\",\"reinforcement learning\",\"reinforcement learning\",\"reinforcement learning\",\"reinforcement learning\",\"reinforcement learning\",\"reinforcement learning\",\"reinforcement learning\",\"reinforcement learning\",\"reinforcement learning\",\"reinforcement learning\",\"reinforcement learning\",\"reinforcement learning\",\"reinforcement learning\",\"reinforcement learning\",\"reinforcement learning\",\"reinforcement learning\",\"reinforcement learning\",\"reinforcement learning\",\"reinforcement learning\",\"reinforcement learning\"],\"xaxis\":\"x\",\"y\":[1,1,1,1,1,1,1,1,1,1,1,1,1,1,1,1,1,1,1,1,1,1,1,1,1,1,1,1,1,1,1,1,1,1,1,1,1,1,1,1,1,1,1,1,1,1,1,1,1,1,1,1,1,1,1,1,1,1,1,1,1,1,1,1],\"yaxis\":\"y\",\"type\":\"bar\"},{\"alignmentgroup\":\"True\",\"hovertemplate\":\"Search Parameters=%{x}<br>Count=%{y}<extra></extra>\",\"legendgroup\":\"neural networks\",\"marker\":{\"color\":\"rgb(254, 136, 177)\",\"pattern\":{\"shape\":\"\"}},\"name\":\"neural networks\",\"offsetgroup\":\"neural networks\",\"orientation\":\"v\",\"showlegend\":true,\"textposition\":\"auto\",\"x\":[\"neural networks\",\"neural networks\",\"neural networks\",\"neural networks\",\"neural networks\",\"neural networks\",\"neural networks\",\"neural networks\",\"neural networks\",\"neural networks\",\"neural networks\",\"neural networks\",\"neural networks\",\"neural networks\",\"neural networks\",\"neural networks\",\"neural networks\",\"neural networks\",\"neural networks\",\"neural networks\",\"neural networks\",\"neural networks\",\"neural networks\",\"neural networks\",\"neural networks\",\"neural networks\",\"neural networks\",\"neural networks\",\"neural networks\",\"neural networks\",\"neural networks\",\"neural networks\",\"neural networks\",\"neural networks\",\"neural networks\",\"neural networks\",\"neural networks\",\"neural networks\",\"neural networks\",\"neural networks\",\"neural networks\",\"neural networks\",\"neural networks\",\"neural networks\",\"neural networks\",\"neural networks\",\"neural networks\",\"neural networks\",\"neural networks\",\"neural networks\",\"neural networks\",\"neural networks\",\"neural networks\"],\"xaxis\":\"x\",\"y\":[1,1,1,1,1,1,1,1,1,1,1,1,1,1,1,1,1,1,1,1,1,1,1,1,1,1,1,1,1,1,1,1,1,1,1,1,1,1,1,1,1,1,1,1,1,1,1,1,1,1,1,1,1],\"yaxis\":\"y\",\"type\":\"bar\"},{\"alignmentgroup\":\"True\",\"hovertemplate\":\"Search Parameters=%{x}<br>Count=%{y}<extra></extra>\",\"legendgroup\":\"deep learning\",\"marker\":{\"color\":\"rgb(201, 219, 116)\",\"pattern\":{\"shape\":\"\"}},\"name\":\"deep learning\",\"offsetgroup\":\"deep learning\",\"orientation\":\"v\",\"showlegend\":true,\"textposition\":\"auto\",\"x\":[\"deep learning\",\"deep learning\",\"deep learning\",\"deep learning\",\"deep learning\",\"deep learning\",\"deep learning\",\"deep learning\",\"deep learning\",\"deep learning\",\"deep learning\",\"deep learning\",\"deep learning\",\"deep learning\",\"deep learning\",\"deep learning\",\"deep learning\",\"deep learning\",\"deep learning\",\"deep learning\",\"deep learning\",\"deep learning\",\"deep learning\",\"deep learning\",\"deep learning\",\"deep learning\",\"deep learning\",\"deep learning\",\"deep learning\",\"deep learning\",\"deep learning\",\"deep learning\",\"deep learning\",\"deep learning\",\"deep learning\",\"deep learning\",\"deep learning\",\"deep learning\",\"deep learning\",\"deep learning\",\"deep learning\",\"deep learning\",\"deep learning\",\"deep learning\",\"deep learning\",\"deep learning\",\"deep learning\",\"deep learning\",\"deep learning\",\"deep learning\",\"deep learning\",\"deep learning\",\"deep learning\",\"deep learning\",\"deep learning\",\"deep learning\",\"deep learning\",\"deep learning\",\"deep learning\",\"deep learning\",\"deep learning\",\"deep learning\",\"deep learning\",\"deep learning\",\"deep learning\",\"deep learning\",\"deep learning\",\"deep learning\",\"deep learning\",\"deep learning\",\"deep learning\",\"deep learning\"],\"xaxis\":\"x\",\"y\":[1,1,1,1,1,1,1,1,1,1,1,1,1,1,1,1,1,1,1,1,1,1,1,1,1,1,1,1,1,1,1,1,1,1,1,1,1,1,1,1,1,1,1,1,1,1,1,1,1,1,1,1,1,1,1,1,1,1,1,1,1,1,1,1,1,1,1,1,1,1,1,1],\"yaxis\":\"y\",\"type\":\"bar\"},{\"alignmentgroup\":\"True\",\"hovertemplate\":\"Search Parameters=%{x}<br>Count=%{y}<extra></extra>\",\"legendgroup\":\"data scientist\",\"marker\":{\"color\":\"rgb(139, 224, 164)\",\"pattern\":{\"shape\":\"\"}},\"name\":\"data scientist\",\"offsetgroup\":\"data scientist\",\"orientation\":\"v\",\"showlegend\":true,\"textposition\":\"auto\",\"x\":[\"data scientist\",\"data scientist\",\"data scientist\",\"data scientist\",\"data scientist\",\"data scientist\",\"data scientist\",\"data scientist\",\"data scientist\",\"data scientist\",\"data scientist\",\"data scientist\",\"data scientist\",\"data scientist\",\"data scientist\",\"data scientist\",\"data scientist\",\"data scientist\",\"data scientist\",\"data scientist\",\"data scientist\",\"data scientist\",\"data scientist\",\"data scientist\",\"data scientist\",\"data scientist\",\"data scientist\",\"data scientist\",\"data scientist\",\"data scientist\",\"data scientist\",\"data scientist\",\"data scientist\",\"data scientist\",\"data scientist\",\"data scientist\",\"data scientist\",\"data scientist\",\"data scientist\",\"data scientist\",\"data scientist\",\"data scientist\",\"data scientist\",\"data scientist\",\"data scientist\",\"data scientist\",\"data scientist\",\"data scientist\",\"data scientist\",\"data scientist\",\"data scientist\",\"data scientist\",\"data scientist\",\"data scientist\",\"data scientist\",\"data scientist\",\"data scientist\",\"data scientist\",\"data scientist\",\"data scientist\",\"data scientist\",\"data scientist\",\"data scientist\",\"data scientist\",\"data scientist\",\"data scientist\",\"data scientist\",\"data scientist\",\"data scientist\",\"data scientist\",\"data scientist\",\"data scientist\",\"data scientist\",\"data scientist\",\"data scientist\",\"data scientist\",\"data scientist\",\"data scientist\",\"data scientist\",\"data scientist\",\"data scientist\"],\"xaxis\":\"x\",\"y\":[1,1,1,1,1,1,1,1,1,1,1,1,1,1,1,1,1,1,1,1,1,1,1,1,1,1,1,1,1,1,1,1,1,1,1,1,1,1,1,1,1,1,1,1,1,1,1,1,1,1,1,1,1,1,1,1,1,1,1,1,1,1,1,1,1,1,1,1,1,1,1,1,1,1,1,1,1,1,1,1,1],\"yaxis\":\"y\",\"type\":\"bar\"},{\"alignmentgroup\":\"True\",\"hovertemplate\":\"Search Parameters=%{x}<br>Count=%{y}<extra></extra>\",\"legendgroup\":\"time series\",\"marker\":{\"color\":\"rgb(180, 151, 231)\",\"pattern\":{\"shape\":\"\"}},\"name\":\"time series\",\"offsetgroup\":\"time series\",\"orientation\":\"v\",\"showlegend\":true,\"textposition\":\"auto\",\"x\":[\"time series\",\"time series\",\"time series\",\"time series\",\"time series\",\"time series\"],\"xaxis\":\"x\",\"y\":[1,1,1,1,1,1],\"yaxis\":\"y\",\"type\":\"bar\"},{\"alignmentgroup\":\"True\",\"hovertemplate\":\"Search Parameters=%{x}<br>Count=%{y}<extra></extra>\",\"legendgroup\":\"time series analysis\",\"marker\":{\"color\":\"rgb(179, 179, 179)\",\"pattern\":{\"shape\":\"\"}},\"name\":\"time series analysis\",\"offsetgroup\":\"time series analysis\",\"orientation\":\"v\",\"showlegend\":true,\"textposition\":\"auto\",\"x\":[\"time series analysis\",\"time series analysis\",\"time series analysis\",\"time series analysis\",\"time series analysis\",\"time series analysis\",\"time series analysis\"],\"xaxis\":\"x\",\"y\":[1,1,1,1,1,1,1],\"yaxis\":\"y\",\"type\":\"bar\"}],                        {\"template\":{\"data\":{\"histogram2dcontour\":[{\"type\":\"histogram2dcontour\",\"colorbar\":{\"outlinewidth\":0,\"ticks\":\"\"},\"colorscale\":[[0.0,\"#0d0887\"],[0.1111111111111111,\"#46039f\"],[0.2222222222222222,\"#7201a8\"],[0.3333333333333333,\"#9c179e\"],[0.4444444444444444,\"#bd3786\"],[0.5555555555555556,\"#d8576b\"],[0.6666666666666666,\"#ed7953\"],[0.7777777777777778,\"#fb9f3a\"],[0.8888888888888888,\"#fdca26\"],[1.0,\"#f0f921\"]]}],\"choropleth\":[{\"type\":\"choropleth\",\"colorbar\":{\"outlinewidth\":0,\"ticks\":\"\"}}],\"histogram2d\":[{\"type\":\"histogram2d\",\"colorbar\":{\"outlinewidth\":0,\"ticks\":\"\"},\"colorscale\":[[0.0,\"#0d0887\"],[0.1111111111111111,\"#46039f\"],[0.2222222222222222,\"#7201a8\"],[0.3333333333333333,\"#9c179e\"],[0.4444444444444444,\"#bd3786\"],[0.5555555555555556,\"#d8576b\"],[0.6666666666666666,\"#ed7953\"],[0.7777777777777778,\"#fb9f3a\"],[0.8888888888888888,\"#fdca26\"],[1.0,\"#f0f921\"]]}],\"heatmap\":[{\"type\":\"heatmap\",\"colorbar\":{\"outlinewidth\":0,\"ticks\":\"\"},\"colorscale\":[[0.0,\"#0d0887\"],[0.1111111111111111,\"#46039f\"],[0.2222222222222222,\"#7201a8\"],[0.3333333333333333,\"#9c179e\"],[0.4444444444444444,\"#bd3786\"],[0.5555555555555556,\"#d8576b\"],[0.6666666666666666,\"#ed7953\"],[0.7777777777777778,\"#fb9f3a\"],[0.8888888888888888,\"#fdca26\"],[1.0,\"#f0f921\"]]}],\"heatmapgl\":[{\"type\":\"heatmapgl\",\"colorbar\":{\"outlinewidth\":0,\"ticks\":\"\"},\"colorscale\":[[0.0,\"#0d0887\"],[0.1111111111111111,\"#46039f\"],[0.2222222222222222,\"#7201a8\"],[0.3333333333333333,\"#9c179e\"],[0.4444444444444444,\"#bd3786\"],[0.5555555555555556,\"#d8576b\"],[0.6666666666666666,\"#ed7953\"],[0.7777777777777778,\"#fb9f3a\"],[0.8888888888888888,\"#fdca26\"],[1.0,\"#f0f921\"]]}],\"contourcarpet\":[{\"type\":\"contourcarpet\",\"colorbar\":{\"outlinewidth\":0,\"ticks\":\"\"}}],\"contour\":[{\"type\":\"contour\",\"colorbar\":{\"outlinewidth\":0,\"ticks\":\"\"},\"colorscale\":[[0.0,\"#0d0887\"],[0.1111111111111111,\"#46039f\"],[0.2222222222222222,\"#7201a8\"],[0.3333333333333333,\"#9c179e\"],[0.4444444444444444,\"#bd3786\"],[0.5555555555555556,\"#d8576b\"],[0.6666666666666666,\"#ed7953\"],[0.7777777777777778,\"#fb9f3a\"],[0.8888888888888888,\"#fdca26\"],[1.0,\"#f0f921\"]]}],\"surface\":[{\"type\":\"surface\",\"colorbar\":{\"outlinewidth\":0,\"ticks\":\"\"},\"colorscale\":[[0.0,\"#0d0887\"],[0.1111111111111111,\"#46039f\"],[0.2222222222222222,\"#7201a8\"],[0.3333333333333333,\"#9c179e\"],[0.4444444444444444,\"#bd3786\"],[0.5555555555555556,\"#d8576b\"],[0.6666666666666666,\"#ed7953\"],[0.7777777777777778,\"#fb9f3a\"],[0.8888888888888888,\"#fdca26\"],[1.0,\"#f0f921\"]]}],\"mesh3d\":[{\"type\":\"mesh3d\",\"colorbar\":{\"outlinewidth\":0,\"ticks\":\"\"}}],\"scatter\":[{\"fillpattern\":{\"fillmode\":\"overlay\",\"size\":10,\"solidity\":0.2},\"type\":\"scatter\"}],\"parcoords\":[{\"type\":\"parcoords\",\"line\":{\"colorbar\":{\"outlinewidth\":0,\"ticks\":\"\"}}}],\"scatterpolargl\":[{\"type\":\"scatterpolargl\",\"marker\":{\"colorbar\":{\"outlinewidth\":0,\"ticks\":\"\"}}}],\"bar\":[{\"error_x\":{\"color\":\"#2a3f5f\"},\"error_y\":{\"color\":\"#2a3f5f\"},\"marker\":{\"line\":{\"color\":\"#E5ECF6\",\"width\":0.5},\"pattern\":{\"fillmode\":\"overlay\",\"size\":10,\"solidity\":0.2}},\"type\":\"bar\"}],\"scattergeo\":[{\"type\":\"scattergeo\",\"marker\":{\"colorbar\":{\"outlinewidth\":0,\"ticks\":\"\"}}}],\"scatterpolar\":[{\"type\":\"scatterpolar\",\"marker\":{\"colorbar\":{\"outlinewidth\":0,\"ticks\":\"\"}}}],\"histogram\":[{\"marker\":{\"pattern\":{\"fillmode\":\"overlay\",\"size\":10,\"solidity\":0.2}},\"type\":\"histogram\"}],\"scattergl\":[{\"type\":\"scattergl\",\"marker\":{\"colorbar\":{\"outlinewidth\":0,\"ticks\":\"\"}}}],\"scatter3d\":[{\"type\":\"scatter3d\",\"line\":{\"colorbar\":{\"outlinewidth\":0,\"ticks\":\"\"}},\"marker\":{\"colorbar\":{\"outlinewidth\":0,\"ticks\":\"\"}}}],\"scattermapbox\":[{\"type\":\"scattermapbox\",\"marker\":{\"colorbar\":{\"outlinewidth\":0,\"ticks\":\"\"}}}],\"scatterternary\":[{\"type\":\"scatterternary\",\"marker\":{\"colorbar\":{\"outlinewidth\":0,\"ticks\":\"\"}}}],\"scattercarpet\":[{\"type\":\"scattercarpet\",\"marker\":{\"colorbar\":{\"outlinewidth\":0,\"ticks\":\"\"}}}],\"carpet\":[{\"aaxis\":{\"endlinecolor\":\"#2a3f5f\",\"gridcolor\":\"white\",\"linecolor\":\"white\",\"minorgridcolor\":\"white\",\"startlinecolor\":\"#2a3f5f\"},\"baxis\":{\"endlinecolor\":\"#2a3f5f\",\"gridcolor\":\"white\",\"linecolor\":\"white\",\"minorgridcolor\":\"white\",\"startlinecolor\":\"#2a3f5f\"},\"type\":\"carpet\"}],\"table\":[{\"cells\":{\"fill\":{\"color\":\"#EBF0F8\"},\"line\":{\"color\":\"white\"}},\"header\":{\"fill\":{\"color\":\"#C8D4E3\"},\"line\":{\"color\":\"white\"}},\"type\":\"table\"}],\"barpolar\":[{\"marker\":{\"line\":{\"color\":\"#E5ECF6\",\"width\":0.5},\"pattern\":{\"fillmode\":\"overlay\",\"size\":10,\"solidity\":0.2}},\"type\":\"barpolar\"}],\"pie\":[{\"automargin\":true,\"type\":\"pie\"}]},\"layout\":{\"autotypenumbers\":\"strict\",\"colorway\":[\"#636efa\",\"#EF553B\",\"#00cc96\",\"#ab63fa\",\"#FFA15A\",\"#19d3f3\",\"#FF6692\",\"#B6E880\",\"#FF97FF\",\"#FECB52\"],\"font\":{\"color\":\"#2a3f5f\"},\"hovermode\":\"closest\",\"hoverlabel\":{\"align\":\"left\"},\"paper_bgcolor\":\"white\",\"plot_bgcolor\":\"#E5ECF6\",\"polar\":{\"bgcolor\":\"#E5ECF6\",\"angularaxis\":{\"gridcolor\":\"white\",\"linecolor\":\"white\",\"ticks\":\"\"},\"radialaxis\":{\"gridcolor\":\"white\",\"linecolor\":\"white\",\"ticks\":\"\"}},\"ternary\":{\"bgcolor\":\"#E5ECF6\",\"aaxis\":{\"gridcolor\":\"white\",\"linecolor\":\"white\",\"ticks\":\"\"},\"baxis\":{\"gridcolor\":\"white\",\"linecolor\":\"white\",\"ticks\":\"\"},\"caxis\":{\"gridcolor\":\"white\",\"linecolor\":\"white\",\"ticks\":\"\"}},\"coloraxis\":{\"colorbar\":{\"outlinewidth\":0,\"ticks\":\"\"}},\"colorscale\":{\"sequential\":[[0.0,\"#0d0887\"],[0.1111111111111111,\"#46039f\"],[0.2222222222222222,\"#7201a8\"],[0.3333333333333333,\"#9c179e\"],[0.4444444444444444,\"#bd3786\"],[0.5555555555555556,\"#d8576b\"],[0.6666666666666666,\"#ed7953\"],[0.7777777777777778,\"#fb9f3a\"],[0.8888888888888888,\"#fdca26\"],[1.0,\"#f0f921\"]],\"sequentialminus\":[[0.0,\"#0d0887\"],[0.1111111111111111,\"#46039f\"],[0.2222222222222222,\"#7201a8\"],[0.3333333333333333,\"#9c179e\"],[0.4444444444444444,\"#bd3786\"],[0.5555555555555556,\"#d8576b\"],[0.6666666666666666,\"#ed7953\"],[0.7777777777777778,\"#fb9f3a\"],[0.8888888888888888,\"#fdca26\"],[1.0,\"#f0f921\"]],\"diverging\":[[0,\"#8e0152\"],[0.1,\"#c51b7d\"],[0.2,\"#de77ae\"],[0.3,\"#f1b6da\"],[0.4,\"#fde0ef\"],[0.5,\"#f7f7f7\"],[0.6,\"#e6f5d0\"],[0.7,\"#b8e186\"],[0.8,\"#7fbc41\"],[0.9,\"#4d9221\"],[1,\"#276419\"]]},\"xaxis\":{\"gridcolor\":\"white\",\"linecolor\":\"white\",\"ticks\":\"\",\"title\":{\"standoff\":15},\"zerolinecolor\":\"white\",\"automargin\":true,\"zerolinewidth\":2},\"yaxis\":{\"gridcolor\":\"white\",\"linecolor\":\"white\",\"ticks\":\"\",\"title\":{\"standoff\":15},\"zerolinecolor\":\"white\",\"automargin\":true,\"zerolinewidth\":2},\"scene\":{\"xaxis\":{\"backgroundcolor\":\"#E5ECF6\",\"gridcolor\":\"white\",\"linecolor\":\"white\",\"showbackground\":true,\"ticks\":\"\",\"zerolinecolor\":\"white\",\"gridwidth\":2},\"yaxis\":{\"backgroundcolor\":\"#E5ECF6\",\"gridcolor\":\"white\",\"linecolor\":\"white\",\"showbackground\":true,\"ticks\":\"\",\"zerolinecolor\":\"white\",\"gridwidth\":2},\"zaxis\":{\"backgroundcolor\":\"#E5ECF6\",\"gridcolor\":\"white\",\"linecolor\":\"white\",\"showbackground\":true,\"ticks\":\"\",\"zerolinecolor\":\"white\",\"gridwidth\":2}},\"shapedefaults\":{\"line\":{\"color\":\"#2a3f5f\"}},\"annotationdefaults\":{\"arrowcolor\":\"#2a3f5f\",\"arrowhead\":0,\"arrowwidth\":1},\"geo\":{\"bgcolor\":\"white\",\"landcolor\":\"#E5ECF6\",\"subunitcolor\":\"white\",\"showland\":true,\"showlakes\":true,\"lakecolor\":\"white\"},\"title\":{\"x\":0.05},\"mapbox\":{\"style\":\"light\"}}},\"xaxis\":{\"anchor\":\"y\",\"domain\":[0.0,1.0],\"title\":{\"text\":\"Search Parameters\"},\"categoryorder\":\"array\",\"categoryarray\":[\"block chain\",\"natural language processing\",\"big data and cloud computing\",\"data analyst\",\"machine learning\",\"reinforcement learning\",\"neural networks\",\"deep learning\",\"data scientist\",\"time series\",\"time series analysis\"]},\"yaxis\":{\"anchor\":\"x\",\"domain\":[0.0,1.0],\"title\":{\"text\":\"Count\"}},\"legend\":{\"title\":{\"text\":\"Search Parameters\"},\"tracegroupgap\":0},\"title\":{\"text\":\"Search Parameters\"},\"barmode\":\"relative\"},                        {\"responsive\": true}                    ).then(function(){\n",
       "                            \n",
       "var gd = document.getElementById('0baf87ca-8d7f-4848-a074-8b40dba63d9a');\n",
       "var x = new MutationObserver(function (mutations, observer) {{\n",
       "        var display = window.getComputedStyle(gd).display;\n",
       "        if (!display || display === 'none') {{\n",
       "            console.log([gd, 'removed!']);\n",
       "            Plotly.purge(gd);\n",
       "            observer.disconnect();\n",
       "        }}\n",
       "}});\n",
       "\n",
       "// Listen for the removal of the full notebook cells\n",
       "var notebookContainer = gd.closest('#notebook-container');\n",
       "if (notebookContainer) {{\n",
       "    x.observe(notebookContainer, {childList: true});\n",
       "}}\n",
       "\n",
       "// Listen for the clearing of the current output cell\n",
       "var outputEl = gd.closest('.output');\n",
       "if (outputEl) {{\n",
       "    x.observe(outputEl, {childList: true});\n",
       "}}\n",
       "\n",
       "                        })                };                });            </script>        </div>"
      ]
     },
     "metadata": {},
     "output_type": "display_data"
    }
   ],
   "source": [
    "# bar chart for search_parameters.q\n",
    "fig = px.bar(df, x='search_parameters.q', title='Search Parameters',\n",
    "             labels={'search_parameters.q':'Search Parameters', 'count':'Count'},\n",
    "             color='search_parameters.q',\n",
    "             color_discrete_sequence=px.colors.qualitative.Pastel)\n",
    "fig.show()"
   ]
  }
 ],
 "metadata": {
  "kernelspec": {
   "display_name": "anly503",
   "language": "python",
   "name": "python3"
  },
  "language_info": {
   "codemirror_mode": {
    "name": "ipython",
    "version": 3
   },
   "file_extension": ".py",
   "mimetype": "text/x-python",
   "name": "python",
   "nbconvert_exporter": "python",
   "pygments_lexer": "ipython3",
   "version": "3.10.8"
  },
  "orig_nbformat": 4
 },
 "nbformat": 4,
 "nbformat_minor": 2
}
